{
 "cells": [
  {
   "cell_type": "markdown",
   "metadata": {
    "application/vnd.databricks.v1+cell": {
     "cellMetadata": {},
     "inputWidgets": {},
     "nuid": "3ee5485f-1bb4-4fe3-b02a-a5c26fa1378a",
     "showTitle": false,
     "tableResultSettingsMap": {},
     "title": ""
    }
   },
   "source": [
    "### Objetivo:\n",
    "Este projeto visa fornecer uma visão abrangente e detalhada das operações de comércio exterior do Brasil durante o ano de 2024, analisando tanto as importações quanto as exportações.\n",
    "\n",
    "### Perguntas que o projeto busca responder:\n",
    "\n",
    "1. Qual foi o valor total de importações (em CIF US$) e volume total de exportações (em peso) do Brasil em 2024?\n",
    "\n",
    "2. Qual foi o valor total de importações (em CIF US$) e volume total de exportações (em peso) do Brasil em cada mês de 2024?\n",
    "\n",
    "3. Quais foram os 10 principais países de origem das importações brasileiras em termos de valor CIF? Quais foram os 10 principais países de destino das exportações brasileiras em termos de peso (quilogramas)?\n",
    "\n",
    "4. Quais foram os principais produtos importados e exportados pelo Brasil em 2024, identificados por código NCM e sua descrição?\n",
    "\n",
    "5. Quais foram as vias de transporte mais utilizadas para as importações (considerando o valor CIF) e para as exportações (considerando o peso) em 2024?\n",
    "\n",
    "6. Quais produtos foram exclusivamente importados pelo Brasil em 2024 (não houve exportação desses mesmos códigos NCM)?\n",
    "\n",
    "7. Quais produtos foram exclusivamente exportados pelo Brasil em 2024 (não houve importação desses mesmos códigos NCM)?\n",
    "\n",
    "8. Quais foram os 10 países com a maior balança comercial negativa e os 10 países com a maior balança comercial positiva em 2024?\n",
    "\n",
    "9. Quais os produtos importados pelo Brasil do país que tem a balança comercial mais negativa em 2024?"
   ]
  },
  {
   "cell_type": "code",
   "execution_count": 0,
   "metadata": {
    "application/vnd.databricks.v1+cell": {
     "cellMetadata": {
      "byteLimit": 2048000,
      "implicitDf": true,
      "rowLimit": 10000
     },
     "inputWidgets": {},
     "nuid": "89ebc594-bfaa-4968-b240-6cf766ba5ccb",
     "showTitle": true,
     "tableResultSettingsMap": {},
     "title": "Criar database bronze"
    }
   },
   "outputs": [
    {
     "output_type": "display_data",
     "data": {
      "text/html": [
       "<style scoped>\n",
       "  .table-result-container {\n",
       "    max-height: 300px;\n",
       "    overflow: auto;\n",
       "  }\n",
       "  table, th, td {\n",
       "    border: 1px solid black;\n",
       "    border-collapse: collapse;\n",
       "  }\n",
       "  th, td {\n",
       "    padding: 5px;\n",
       "  }\n",
       "  th {\n",
       "    text-align: left;\n",
       "  }\n",
       "</style><div class='table-result-container'><table class='table-result'><thead style='background-color: white'><tr></tr></thead><tbody></tbody></table></div>"
      ]
     },
     "metadata": {
      "application/vnd.databricks.v1+output": {
       "addedWidgets": {},
       "aggData": [],
       "aggError": "",
       "aggOverflow": false,
       "aggSchema": [],
       "aggSeriesLimitReached": false,
       "aggType": "",
       "arguments": {},
       "columnCustomDisplayInfos": {},
       "data": [],
       "datasetInfos": [],
       "dbfsResultPath": null,
       "isJsonSchema": true,
       "metadata": {},
       "overflow": false,
       "plotOptions": {
        "customPlotOptions": {},
        "displayType": "table",
        "pivotAggregation": null,
        "pivotColumns": null,
        "xColumns": null,
        "yColumns": null
       },
       "removedWidgets": [],
       "schema": [],
       "type": "table"
      }
     },
     "output_type": "display_data"
    }
   ],
   "source": [
    "%sql create database bronze;\n",
    "--Criar database bronze"
   ]
  },
  {
   "cell_type": "code",
   "execution_count": 0,
   "metadata": {
    "application/vnd.databricks.v1+cell": {
     "cellMetadata": {
      "byteLimit": 2048000,
      "rowLimit": 10000
     },
     "inputWidgets": {},
     "nuid": "f2420cd9-9e0a-482c-bb7b-8c36610c3543",
     "showTitle": true,
     "tableResultSettingsMap": {},
     "title": "Importar dados"
    }
   },
   "outputs": [],
   "source": [
    "#Importar dados\n",
    "\n",
    "from pyspark.sql.types import StructType, StructField, StringType\n",
    "\n",
    "# Lista de informações dos arquivos CSV\n",
    "arquivos = [\n",
    "    {\"location\": \"/FileStore/tables/CO_NCM.csv\", \"name\": \"CO_NCM\"},\n",
    "    {\"location\": \"/FileStore/tables/CO_PAIS.csv\", \"name\": \"CO_PAIS\"},\n",
    "    {\"location\": \"/FileStore/tables/CO_VIA.csv\", \"name\": \"CO_VIA\"},\n",
    "    {\"location\": \"/FileStore/tables/CO_URF.csv\", \"name\": \"CO_URF\"},\n",
    "    {\"location\": \"/FileStore/tables/CO_UNID.csv\", \"name\": \"CO_UNID\"},\n",
    "    {\"location\": \"/FileStore/tables/IMP_2024.csv\", \"name\": \"IMP_2024\"},\n",
    "    {\"location\": \"/FileStore/tables/EXP_2024.csv\", \"name\": \"EXP_2024\"}\n",
    "]\n",
    "\n",
    "# Loop para processar cada arquivo\n",
    "for arquivo in arquivos:\n",
    "    # Configurações do arquivo CSV\n",
    "    file_location = arquivo[\"location\"]\n",
    "    file_type = \"csv\"\n",
    "    infer_schema = \"true\"\n",
    "    first_row_is_header = \"true\"\n",
    "    delimiter = \";\"\n",
    "\n",
    "    # Ler o arquivo CSV para obter os nomes das colunas e criar o schema\n",
    "    df_temp = spark.read.format(file_type) \\\n",
    "        .option(\"header\", first_row_is_header) \\\n",
    "        .option(\"sep\", delimiter) \\\n",
    "        .option(\"inferSchema\", \"true\") \\\n",
    "        .load(file_location)\n",
    "    # Obter a lista de nomes de colunas\n",
    "    colunas = df_temp.columns\n",
    "    # Criar o esquema manualmente com todas as colunas como StringType\n",
    "    schema = StructType([StructField(coluna, StringType(), True) for coluna in colunas])\n",
    "\n",
    "    # Ler o arquivo CSV com o schema definido\n",
    "    df = spark.read.format(file_type) \\\n",
    "        .option(\"header\", first_row_is_header) \\\n",
    "        .option(\"sep\", delimiter) \\\n",
    "        .schema(schema) \\\n",
    "        .load(file_location)\n",
    "\n",
    "    # Criação da tabela gerenciada no schema bronze\n",
    "    table_name = f\"bronze.{arquivo['name']}\"\n",
    "    df.write.mode(\"overwrite\").saveAsTable(table_name)"
   ]
  },
  {
   "cell_type": "code",
   "execution_count": 0,
   "metadata": {
    "application/vnd.databricks.v1+cell": {
     "cellMetadata": {
      "byteLimit": 2048000,
      "rowLimit": 10000
     },
     "inputWidgets": {},
     "nuid": "0ccedaf3-d2d1-42bd-aa7d-92098af09fe1",
     "showTitle": false,
     "tableResultSettingsMap": {},
     "title": ""
    }
   },
   "outputs": [
    {
     "output_type": "stream",
     "name": "stdout",
     "output_type": "stream",
     "text": [
      "Out[3]: <bound method SparkSession.stop of <pyspark.sql.session.SparkSession object at 0x78a7a80e39a0>>"
     ]
    }
   ],
   "source": [
    "# Encerrar a sessão Spark\n",
    "spark.stop"
   ]
  },
  {
   "cell_type": "code",
   "execution_count": 0,
   "metadata": {
    "application/vnd.databricks.v1+cell": {
     "cellMetadata": {
      "byteLimit": 2048000,
      "rowLimit": 10000
     },
     "inputWidgets": {},
     "nuid": "a766efec-ab98-4132-999c-1e5e4256cfcf",
     "showTitle": true,
     "tableResultSettingsMap": {},
     "title": "Verificar nulos"
    }
   },
   "outputs": [
    {
     "output_type": "stream",
     "name": "stdout",
     "output_type": "stream",
     "text": [
      "Verificando valores nulos na tabela: bronze.imp_2024\n  A coluna 'CO_ANO' não contém valores nulos.\n  A coluna 'CO_MES' não contém valores nulos.\n  A coluna 'CO_NCM' não contém valores nulos.\n  A coluna 'CO_UNID' não contém valores nulos.\n  A coluna 'CO_PAIS' não contém valores nulos.\n  A coluna 'SG_UF_NCM' não contém valores nulos.\n  A coluna 'CO_VIA' não contém valores nulos.\n  A coluna 'CO_URF' não contém valores nulos.\n  A coluna 'QT_ESTAT' não contém valores nulos.\n  A coluna 'KG_LIQUIDO' não contém valores nulos.\n  A coluna 'VL_FOB' não contém valores nulos.\n  A coluna 'VL_FRETE' não contém valores nulos.\n  A coluna 'VL_SEGURO' não contém valores nulos.\n------------------------------\nVerificando valores nulos na tabela: bronze.co_ncm\n  A coluna 'CO_NCM' não contém valores nulos.\n  A coluna 'NO_NCM_POR' contém valores nulos.\n------------------------------\nVerificando valores nulos na tabela: bronze.co_pais\n  A coluna 'CO_PAIS' não contém valores nulos.\n  A coluna 'CO_PAIS_ISOA3' não contém valores nulos.\n  A coluna 'NO_PAIS' não contém valores nulos.\n------------------------------\nVerificando valores nulos na tabela: bronze.co_via\n  A coluna 'CO_VIA' não contém valores nulos.\n  A coluna 'NO_VIA' não contém valores nulos.\n------------------------------\nVerificando valores nulos na tabela: bronze.co_urf\n  A coluna 'CO_URF' não contém valores nulos.\n  A coluna 'NO_URF' não contém valores nulos.\n------------------------------\nVerificando valores nulos na tabela: bronze.co_unid\n  A coluna 'CO_UNID' não contém valores nulos.\n  A coluna 'NO_UNID' não contém valores nulos.\n  A coluna 'SG_UNID' não contém valores nulos.\n------------------------------\nVerificando valores nulos na tabela: bronze.exp_2024\n  A coluna 'CO_ANO' não contém valores nulos.\n  A coluna 'CO_MES' não contém valores nulos.\n  A coluna 'CO_NCM' não contém valores nulos.\n  A coluna 'CO_UNID' não contém valores nulos.\n  A coluna 'CO_PAIS' não contém valores nulos.\n  A coluna 'SG_UF_NCM' não contém valores nulos.\n  A coluna 'CO_VIA' não contém valores nulos.\n  A coluna 'CO_URF' não contém valores nulos.\n  A coluna 'QT_ESTAT' não contém valores nulos.\n  A coluna 'KG_LIQUIDO' não contém valores nulos.\n  A coluna 'VL_FOB' não contém valores nulos.\n------------------------------\n"
     ]
    }
   ],
   "source": [
    "#Verificar nulos\n",
    "\n",
    "from pyspark.sql import SparkSession\n",
    "from pyspark.sql.functions import col\n",
    "\n",
    "spark = SparkSession.builder.appName(\"VerificarNulosMultiplasTabelas\").getOrCreate()\n",
    "\n",
    "tabelas = [\n",
    "    \"bronze.imp_2024\",\n",
    "    \"bronze.co_ncm\",\n",
    "    \"bronze.co_pais\",\n",
    "    \"bronze.co_via\",\n",
    "    \"bronze.co_urf\",\n",
    "    \"bronze.co_unid\",\n",
    "    \"bronze.exp_2024\"\n",
    "]\n",
    "\n",
    "for tabela in tabelas:\n",
    "    print(f\"Verificando valores nulos na tabela: {tabela}\")\n",
    "    df = spark.table(tabela)\n",
    "    for coluna in df.columns:\n",
    "        existe_nulo = df.filter(col(coluna).isNull()).count() > 0\n",
    "        if existe_nulo:\n",
    "            print(f\"  A coluna '{coluna}' contém valores nulos.\")\n",
    "        else:\n",
    "            print(f\"  A coluna '{coluna}' não contém valores nulos.\")\n",
    "    print(\"-\" * 30)"
   ]
  },
  {
   "cell_type": "code",
   "execution_count": 0,
   "metadata": {
    "application/vnd.databricks.v1+cell": {
     "cellMetadata": {
      "byteLimit": 2048000,
      "rowLimit": 10000
     },
     "inputWidgets": {},
     "nuid": "f3ea2fc9-76b1-4451-ab25-4cd435c5387d",
     "showTitle": false,
     "tableResultSettingsMap": {},
     "title": ""
    }
   },
   "outputs": [
    {
     "output_type": "stream",
     "name": "stdout",
     "output_type": "stream",
     "text": [
      "Out[5]: <bound method SparkSession.stop of <pyspark.sql.session.SparkSession object at 0x78a7a80e39a0>>"
     ]
    }
   ],
   "source": [
    "# Encerrar a sessão Spark\n",
    "spark.stop"
   ]
  },
  {
   "cell_type": "code",
   "execution_count": 0,
   "metadata": {
    "application/vnd.databricks.v1+cell": {
     "cellMetadata": {
      "byteLimit": 2048000,
      "implicitDf": true,
      "rowLimit": 10000
     },
     "inputWidgets": {},
     "nuid": "7fad9297-1df3-4adb-ae56-4b82be87006e",
     "showTitle": true,
     "tableResultSettingsMap": {},
     "title": "Analisar o valor nulo encontrado em co_ncm"
    }
   },
   "outputs": [
    {
     "output_type": "display_data",
     "data": {
      "text/html": [
       "<style scoped>\n",
       "  .table-result-container {\n",
       "    max-height: 300px;\n",
       "    overflow: auto;\n",
       "  }\n",
       "  table, th, td {\n",
       "    border: 1px solid black;\n",
       "    border-collapse: collapse;\n",
       "  }\n",
       "  th, td {\n",
       "    padding: 5px;\n",
       "  }\n",
       "  th {\n",
       "    text-align: left;\n",
       "  }\n",
       "</style><div class='table-result-container'><table class='table-result'><thead style='background-color: white'><tr><th>CO_NCM</th><th>NO_NCM_POR</th></tr></thead><tbody><tr><td>Reagentes para determinação de glicose no sangue, sobre suporte em tiras, para uso direto\"</td><td>null</td></tr></tbody></table></div>"
      ]
     },
     "metadata": {
      "application/vnd.databricks.v1+output": {
       "addedWidgets": {},
       "aggData": [],
       "aggError": "",
       "aggOverflow": false,
       "aggSchema": [],
       "aggSeriesLimitReached": false,
       "aggType": "",
       "arguments": {},
       "columnCustomDisplayInfos": {},
       "data": [
        [
         "Reagentes para determinação de glicose no sangue, sobre suporte em tiras, para uso direto\"",
         null
        ]
       ],
       "datasetInfos": [],
       "dbfsResultPath": null,
       "isJsonSchema": true,
       "metadata": {},
       "overflow": false,
       "plotOptions": {
        "customPlotOptions": {},
        "displayType": "table",
        "pivotAggregation": null,
        "pivotColumns": null,
        "xColumns": null,
        "yColumns": null
       },
       "removedWidgets": [],
       "schema": [
        {
         "metadata": "{}",
         "name": "CO_NCM",
         "type": "\"string\""
        },
        {
         "metadata": "{}",
         "name": "NO_NCM_POR",
         "type": "\"string\""
        }
       ],
       "type": "table"
      }
     },
     "output_type": "display_data"
    }
   ],
   "source": [
    "%sql\n",
    "--Analisar o valor nulo encontrado em co_ncm\n",
    "\n",
    "select * from bronze.co_ncm\n",
    "where NO_NCM_POR is null"
   ]
  },
  {
   "cell_type": "code",
   "execution_count": 0,
   "metadata": {
    "application/vnd.databricks.v1+cell": {
     "cellMetadata": {
      "byteLimit": 2048000,
      "rowLimit": 10000
     },
     "inputWidgets": {},
     "nuid": "ea645ab8-1580-4149-86fd-979115ab84ab",
     "showTitle": true,
     "tableResultSettingsMap": {},
     "title": "Verificar duplicadas"
    }
   },
   "outputs": [
    {
     "output_type": "stream",
     "name": "stdout",
     "output_type": "stream",
     "text": [
      "Verificando duplicatas na tabela: bronze.imp_2024\n  Total de linhas: 2273708\n  Linhas distintas: 2273708\n  Linhas duplicadas: 0\n------------------------------\nVerificando duplicatas na tabela: bronze.co_ncm\n  Total de linhas: 13710\n  Linhas distintas: 13710\n  Linhas duplicadas: 0\n------------------------------\nVerificando duplicatas na tabela: bronze.co_pais\n  Total de linhas: 281\n  Linhas distintas: 281\n  Linhas duplicadas: 0\n------------------------------\nVerificando duplicatas na tabela: bronze.co_via\n  Total de linhas: 17\n  Linhas distintas: 17\n  Linhas duplicadas: 0\n------------------------------\nVerificando duplicatas na tabela: bronze.co_urf\n  Total de linhas: 278\n  Linhas distintas: 278\n  Linhas duplicadas: 0\n------------------------------\nVerificando duplicatas na tabela: bronze.co_unid\n  Total de linhas: 13720\n  Linhas distintas: 13\n  Linhas duplicadas: 13707\n  Exemplo de duplicatas (limitado a 5):\n+-------+--------------------+-------+-----+\n|CO_UNID|             NO_UNID|SG_UNID|count|\n+-------+--------------------+-------+-----+\n|     13|               PARES|  PARES|   75|\n|     21|TONELADA METRICA ...|  TML  |   46|\n|     15|      METRO QUADRADO|  M2   |  197|\n|     19|             QUILATE|  QUILT|    9|\n|     17|               LITRO|  LITRO|   40|\n+-------+--------------------+-------+-----+\nonly showing top 5 rows\n\n------------------------------\nVerificando duplicatas na tabela: bronze.exp_2024\n  Total de linhas: 1603796\n  Linhas distintas: 1603796\n  Linhas duplicadas: 0\n------------------------------\n"
     ]
    }
   ],
   "source": [
    "#Verificar duplicadas\n",
    "\n",
    "from pyspark.sql import SparkSession\n",
    "from pyspark.sql.functions import count\n",
    "\n",
    "spark = SparkSession.builder.appName(\"VerificarDuplicatasMultiplasTabelas\").getOrCreate()\n",
    "\n",
    "tabelas = [\n",
    "    \"bronze.imp_2024\",\n",
    "    \"bronze.co_ncm\",\n",
    "    \"bronze.co_pais\",\n",
    "    \"bronze.co_via\",\n",
    "    \"bronze.co_urf\",\n",
    "    \"bronze.co_unid\",\n",
    "    \"bronze.exp_2024\"\n",
    "]\n",
    "\n",
    "for tabela in tabelas:\n",
    "    print(f\"Verificando duplicatas na tabela: {tabela}\")\n",
    "    df = spark.table(tabela)\n",
    "    total_linhas = df.count()\n",
    "    linhas_distintas = df.distinct().count()\n",
    "    duplicadas = total_linhas - linhas_distintas\n",
    "    print(f\"  Total de linhas: {total_linhas}\")\n",
    "    print(f\"  Linhas distintas: {linhas_distintas}\")\n",
    "    print(f\"  Linhas duplicadas: {duplicadas}\")\n",
    "    if duplicadas > 0:\n",
    "        print(\"  Exemplo de duplicatas (limitado a 5):\")\n",
    "        df.groupBy(df.columns).agg(count(\"*\").alias(\"count\")).filter(\"count > 1\").show(5)\n",
    "    print(\"-\" * 30)"
   ]
  },
  {
   "cell_type": "code",
   "execution_count": 0,
   "metadata": {
    "application/vnd.databricks.v1+cell": {
     "cellMetadata": {
      "byteLimit": 2048000,
      "rowLimit": 10000
     },
     "inputWidgets": {},
     "nuid": "04e1b021-a218-4e51-85b7-6b10b8a990bc",
     "showTitle": false,
     "tableResultSettingsMap": {},
     "title": ""
    }
   },
   "outputs": [
    {
     "output_type": "stream",
     "name": "stdout",
     "output_type": "stream",
     "text": [
      "Out[8]: <bound method SparkSession.stop of <pyspark.sql.session.SparkSession object at 0x78a7a80e39a0>>"
     ]
    }
   ],
   "source": [
    "# Encerrar a sessão Spark\n",
    "spark.stop"
   ]
  },
  {
   "cell_type": "code",
   "execution_count": 0,
   "metadata": {
    "application/vnd.databricks.v1+cell": {
     "cellMetadata": {
      "byteLimit": 2048000,
      "implicitDf": true,
      "rowLimit": 10000
     },
     "inputWidgets": {},
     "nuid": "0b8184b9-c39f-4983-9c1f-fbc7ec5fb7f0",
     "showTitle": true,
     "tableResultSettingsMap": {},
     "title": "Verificar siglas dos estados em imp_2024"
    }
   },
   "outputs": [
    {
     "output_type": "display_data",
     "data": {
      "text/html": [
       "<style scoped>\n",
       "  .table-result-container {\n",
       "    max-height: 300px;\n",
       "    overflow: auto;\n",
       "  }\n",
       "  table, th, td {\n",
       "    border: 1px solid black;\n",
       "    border-collapse: collapse;\n",
       "  }\n",
       "  th, td {\n",
       "    padding: 5px;\n",
       "  }\n",
       "  th {\n",
       "    text-align: left;\n",
       "  }\n",
       "</style><div class='table-result-container'><table class='table-result'><thead style='background-color: white'><tr><th>CO_ANO</th><th>CO_MES</th><th>CO_NCM</th><th>CO_UNID</th><th>CO_PAIS</th><th>SG_UF_NCM</th><th>CO_VIA</th><th>CO_URF</th><th>QT_ESTAT</th><th>KG_LIQUIDO</th><th>VL_FOB</th><th>VL_FRETE</th><th>VL_SEGURO</th></tr></thead><tbody><tr><td>2024</td><td>10</td><td>97019100</td><td>11</td><td>386</td><td>EX</td><td>04</td><td>0817600</td><td>1</td><td>25</td><td>27315</td><td>2633</td><td>0</td></tr><tr><td>2024</td><td>02</td><td>30049079</td><td>10</td><td>249</td><td>EX</td><td>04</td><td>0817700</td><td>1</td><td>1</td><td>10249</td><td>303</td><td>0</td></tr><tr><td>2024</td><td>10</td><td>87116000</td><td>11</td><td>160</td><td>EX</td><td>04</td><td>0717700</td><td>1</td><td>41</td><td>259</td><td>1039</td><td>0</td></tr><tr><td>2024</td><td>06</td><td>70139900</td><td>10</td><td>069</td><td>EX</td><td>04</td><td>0817700</td><td>111</td><td>111</td><td>4929</td><td>1448</td><td>0</td></tr><tr><td>2024</td><td>10</td><td>94038900</td><td>11</td><td>275</td><td>EX</td><td>04</td><td>0817700</td><td>200</td><td>200</td><td>16534</td><td>5186</td><td>0</td></tr><tr><td>2024</td><td>02</td><td>30049079</td><td>10</td><td>249</td><td>EX</td><td>04</td><td>0817600</td><td>0</td><td>0</td><td>73220</td><td>205</td><td>200</td></tr><tr><td>2024</td><td>04</td><td>85044090</td><td>11</td><td>249</td><td>EX</td><td>04</td><td>0817700</td><td>8</td><td>7</td><td>222</td><td>0</td><td>0</td></tr><tr><td>2024</td><td>09</td><td>30049079</td><td>10</td><td>399</td><td>EX</td><td>04</td><td>0817600</td><td>1</td><td>1</td><td>33900</td><td>79</td><td>0</td></tr><tr><td>2024</td><td>01</td><td>84186999</td><td>11</td><td>249</td><td>EX</td><td>04</td><td>0817600</td><td>1</td><td>40</td><td>2899</td><td>1030</td><td>0</td></tr><tr><td>2024</td><td>04</td><td>84021900</td><td>11</td><td>160</td><td>EX</td><td>01</td><td>0817800</td><td>1</td><td>450</td><td>3200</td><td>100</td><td>0</td></tr><tr><td>2024</td><td>04</td><td>01012900</td><td>11</td><td>249</td><td>EX</td><td>04</td><td>0817700</td><td>1</td><td>500</td><td>10000</td><td>4670</td><td>0</td></tr><tr><td>2024</td><td>04</td><td>73242900</td><td>10</td><td>160</td><td>EX</td><td>01</td><td>0717600</td><td>222</td><td>222</td><td>2844</td><td>624</td><td>45</td></tr><tr><td>2024</td><td>04</td><td>85176259</td><td>11</td><td>249</td><td>EX</td><td>04</td><td>0817700</td><td>5</td><td>4</td><td>147</td><td>0</td><td>0</td></tr><tr><td>2024</td><td>02</td><td>87032410</td><td>11</td><td>249</td><td>EX</td><td>01</td><td>0927800</td><td>1</td><td>1795</td><td>1002</td><td>998</td><td>0</td></tr><tr><td>2024</td><td>04</td><td>84212100</td><td>11</td><td>160</td><td>EX</td><td>01</td><td>0717600</td><td>10</td><td>10</td><td>30</td><td>28</td><td>0</td></tr><tr><td>2024</td><td>04</td><td>85044090</td><td>11</td><td>741</td><td>EX</td><td>04</td><td>0817700</td><td>4</td><td>2</td><td>65</td><td>0</td><td>0</td></tr><tr><td>2024</td><td>04</td><td>30049079</td><td>10</td><td>249</td><td>EX</td><td>04</td><td>0817600</td><td>0</td><td>0</td><td>73220</td><td>290</td><td>200</td></tr><tr><td>2024</td><td>02</td><td>84831090</td><td>11</td><td>249</td><td>EX</td><td>01</td><td>0927800</td><td>2</td><td>4</td><td>42</td><td>2</td><td>0</td></tr><tr><td>2024</td><td>07</td><td>30049079</td><td>10</td><td>399</td><td>EX</td><td>04</td><td>0817600</td><td>1</td><td>1</td><td>33900</td><td>97</td><td>0</td></tr><tr><td>2024</td><td>10</td><td>70099200</td><td>10</td><td>386</td><td>EX</td><td>04</td><td>0817700</td><td>100</td><td>100</td><td>6350</td><td>2593</td><td>0</td></tr><tr><td>2024</td><td>04</td><td>84733041</td><td>11</td><td>249</td><td>EX</td><td>04</td><td>0817700</td><td>3</td><td>21</td><td>847</td><td>0</td><td>0</td></tr></tbody></table></div>"
      ]
     },
     "metadata": {
      "application/vnd.databricks.v1+output": {
       "addedWidgets": {},
       "aggData": [],
       "aggError": "",
       "aggOverflow": false,
       "aggSchema": [],
       "aggSeriesLimitReached": false,
       "aggType": "",
       "arguments": {},
       "columnCustomDisplayInfos": {},
       "data": [
        [
         "2024",
         "10",
         "97019100",
         "11",
         "386",
         "EX",
         "04",
         "0817600",
         "1",
         "25",
         "27315",
         "2633",
         "0"
        ],
        [
         "2024",
         "02",
         "30049079",
         "10",
         "249",
         "EX",
         "04",
         "0817700",
         "1",
         "1",
         "10249",
         "303",
         "0"
        ],
        [
         "2024",
         "10",
         "87116000",
         "11",
         "160",
         "EX",
         "04",
         "0717700",
         "1",
         "41",
         "259",
         "1039",
         "0"
        ],
        [
         "2024",
         "06",
         "70139900",
         "10",
         "069",
         "EX",
         "04",
         "0817700",
         "111",
         "111",
         "4929",
         "1448",
         "0"
        ],
        [
         "2024",
         "10",
         "94038900",
         "11",
         "275",
         "EX",
         "04",
         "0817700",
         "200",
         "200",
         "16534",
         "5186",
         "0"
        ],
        [
         "2024",
         "02",
         "30049079",
         "10",
         "249",
         "EX",
         "04",
         "0817600",
         "0",
         "0",
         "73220",
         "205",
         "200"
        ],
        [
         "2024",
         "04",
         "85044090",
         "11",
         "249",
         "EX",
         "04",
         "0817700",
         "8",
         "7",
         "222",
         "0",
         "0"
        ],
        [
         "2024",
         "09",
         "30049079",
         "10",
         "399",
         "EX",
         "04",
         "0817600",
         "1",
         "1",
         "33900",
         "79",
         "0"
        ],
        [
         "2024",
         "01",
         "84186999",
         "11",
         "249",
         "EX",
         "04",
         "0817600",
         "1",
         "40",
         "2899",
         "1030",
         "0"
        ],
        [
         "2024",
         "04",
         "84021900",
         "11",
         "160",
         "EX",
         "01",
         "0817800",
         "1",
         "450",
         "3200",
         "100",
         "0"
        ],
        [
         "2024",
         "04",
         "01012900",
         "11",
         "249",
         "EX",
         "04",
         "0817700",
         "1",
         "500",
         "10000",
         "4670",
         "0"
        ],
        [
         "2024",
         "04",
         "73242900",
         "10",
         "160",
         "EX",
         "01",
         "0717600",
         "222",
         "222",
         "2844",
         "624",
         "45"
        ],
        [
         "2024",
         "04",
         "85176259",
         "11",
         "249",
         "EX",
         "04",
         "0817700",
         "5",
         "4",
         "147",
         "0",
         "0"
        ],
        [
         "2024",
         "02",
         "87032410",
         "11",
         "249",
         "EX",
         "01",
         "0927800",
         "1",
         "1795",
         "1002",
         "998",
         "0"
        ],
        [
         "2024",
         "04",
         "84212100",
         "11",
         "160",
         "EX",
         "01",
         "0717600",
         "10",
         "10",
         "30",
         "28",
         "0"
        ],
        [
         "2024",
         "04",
         "85044090",
         "11",
         "741",
         "EX",
         "04",
         "0817700",
         "4",
         "2",
         "65",
         "0",
         "0"
        ],
        [
         "2024",
         "04",
         "30049079",
         "10",
         "249",
         "EX",
         "04",
         "0817600",
         "0",
         "0",
         "73220",
         "290",
         "200"
        ],
        [
         "2024",
         "02",
         "84831090",
         "11",
         "249",
         "EX",
         "01",
         "0927800",
         "2",
         "4",
         "42",
         "2",
         "0"
        ],
        [
         "2024",
         "07",
         "30049079",
         "10",
         "399",
         "EX",
         "04",
         "0817600",
         "1",
         "1",
         "33900",
         "97",
         "0"
        ],
        [
         "2024",
         "10",
         "70099200",
         "10",
         "386",
         "EX",
         "04",
         "0817700",
         "100",
         "100",
         "6350",
         "2593",
         "0"
        ],
        [
         "2024",
         "04",
         "84733041",
         "11",
         "249",
         "EX",
         "04",
         "0817700",
         "3",
         "21",
         "847",
         "0",
         "0"
        ]
       ],
       "datasetInfos": [],
       "dbfsResultPath": null,
       "isJsonSchema": true,
       "metadata": {},
       "overflow": false,
       "plotOptions": {
        "customPlotOptions": {},
        "displayType": "table",
        "pivotAggregation": null,
        "pivotColumns": null,
        "xColumns": null,
        "yColumns": null
       },
       "removedWidgets": [],
       "schema": [
        {
         "metadata": "{}",
         "name": "CO_ANO",
         "type": "\"string\""
        },
        {
         "metadata": "{}",
         "name": "CO_MES",
         "type": "\"string\""
        },
        {
         "metadata": "{}",
         "name": "CO_NCM",
         "type": "\"string\""
        },
        {
         "metadata": "{}",
         "name": "CO_UNID",
         "type": "\"string\""
        },
        {
         "metadata": "{}",
         "name": "CO_PAIS",
         "type": "\"string\""
        },
        {
         "metadata": "{}",
         "name": "SG_UF_NCM",
         "type": "\"string\""
        },
        {
         "metadata": "{}",
         "name": "CO_VIA",
         "type": "\"string\""
        },
        {
         "metadata": "{}",
         "name": "CO_URF",
         "type": "\"string\""
        },
        {
         "metadata": "{}",
         "name": "QT_ESTAT",
         "type": "\"string\""
        },
        {
         "metadata": "{}",
         "name": "KG_LIQUIDO",
         "type": "\"string\""
        },
        {
         "metadata": "{}",
         "name": "VL_FOB",
         "type": "\"string\""
        },
        {
         "metadata": "{}",
         "name": "VL_FRETE",
         "type": "\"string\""
        },
        {
         "metadata": "{}",
         "name": "VL_SEGURO",
         "type": "\"string\""
        }
       ],
       "type": "table"
      }
     },
     "output_type": "display_data"
    }
   ],
   "source": [
    "%sql\n",
    "--Verificar siglas dos estados em imp_2024\n",
    "\n",
    "SELECT * FROM bronze.imp_2024\n",
    "WHERE SG_UF_NCM NOT IN ('AC', 'AL', 'AM', 'AP', 'BA', 'CE', 'DF', 'ES', 'GO', 'MA', 'MG', 'MS', 'MT', 'PA', 'PB', 'PE', 'PI', 'PR', 'RJ', 'RN', 'RO', 'RR', 'RS', 'SC', 'SE', 'SP', 'TO')\n",
    "LIMIT 100"
   ]
  },
  {
   "cell_type": "code",
   "execution_count": 0,
   "metadata": {
    "application/vnd.databricks.v1+cell": {
     "cellMetadata": {
      "byteLimit": 2048000,
      "implicitDf": true,
      "rowLimit": 10000
     },
     "inputWidgets": {},
     "nuid": "f9359550-702e-4bb8-a033-732e7976fe00",
     "showTitle": true,
     "tableResultSettingsMap": {},
     "title": "Verificar siglas dos estados em exp_2024"
    }
   },
   "outputs": [
    {
     "output_type": "display_data",
     "data": {
      "text/html": [
       "<style scoped>\n",
       "  .table-result-container {\n",
       "    max-height: 300px;\n",
       "    overflow: auto;\n",
       "  }\n",
       "  table, th, td {\n",
       "    border: 1px solid black;\n",
       "    border-collapse: collapse;\n",
       "  }\n",
       "  th, td {\n",
       "    padding: 5px;\n",
       "  }\n",
       "  th {\n",
       "    text-align: left;\n",
       "  }\n",
       "</style><div class='table-result-container'><table class='table-result'><thead style='background-color: white'><tr><th>CO_ANO</th><th>CO_MES</th><th>CO_NCM</th><th>CO_UNID</th><th>CO_PAIS</th><th>SG_UF_NCM</th><th>CO_VIA</th><th>CO_URF</th><th>QT_ESTAT</th><th>KG_LIQUIDO</th><th>VL_FOB</th></tr></thead><tbody><tr><td>2024</td><td>08</td><td>61044900</td><td>11</td><td>053</td><td>ND</td><td>04</td><td>0817600</td><td>1</td><td>1</td><td>859</td></tr><tr><td>2024</td><td>10</td><td>84198190</td><td>11</td><td>249</td><td>ND</td><td>04</td><td>0717700</td><td>6</td><td>194</td><td>40757</td></tr><tr><td>2024</td><td>11</td><td>44152000</td><td>11</td><td>169</td><td>ND</td><td>04</td><td>0227700</td><td>1</td><td>24</td><td>2</td></tr><tr><td>2024</td><td>10</td><td>42022100</td><td>11</td><td>573</td><td>ND</td><td>04</td><td>0817700</td><td>6</td><td>4</td><td>7833</td></tr><tr><td>2024</td><td>09</td><td>61099000</td><td>11</td><td>767</td><td>ND</td><td>04</td><td>0817700</td><td>40</td><td>14</td><td>2836</td></tr><tr><td>2024</td><td>06</td><td>85044010</td><td>11</td><td>097</td><td>ND</td><td>04</td><td>0817600</td><td>1</td><td>1</td><td>180</td></tr><tr><td>2024</td><td>01</td><td>62014000</td><td>11</td><td>232</td><td>ND</td><td>04</td><td>0817600</td><td>1</td><td>1</td><td>82</td></tr><tr><td>2024</td><td>05</td><td>62044200</td><td>11</td><td>573</td><td>ND</td><td>04</td><td>0817700</td><td>13</td><td>13</td><td>17148</td></tr><tr><td>2024</td><td>12</td><td>34012010</td><td>10</td><td>249</td><td>ND</td><td>04</td><td>0817700</td><td>7</td><td>7</td><td>1364</td></tr><tr><td>2024</td><td>04</td><td>61124900</td><td>11</td><td>023</td><td>ND</td><td>04</td><td>0817700</td><td>180</td><td>20</td><td>5823</td></tr><tr><td>2024</td><td>01</td><td>85392110</td><td>11</td><td>249</td><td>ND</td><td>04</td><td>0717700</td><td>8</td><td>2</td><td>3576</td></tr><tr><td>2024</td><td>03</td><td>48191000</td><td>10</td><td>493</td><td>ND</td><td>04</td><td>0817700</td><td>31</td><td>31</td><td>197</td></tr><tr><td>2024</td><td>11</td><td>84819090</td><td>10</td><td>249</td><td>ND</td><td>04</td><td>0717700</td><td>1</td><td>1</td><td>2277</td></tr><tr><td>2024</td><td>06</td><td>48191000</td><td>10</td><td>249</td><td>ND</td><td>04</td><td>0817700</td><td>33</td><td>33</td><td>1823</td></tr><tr><td>2024</td><td>11</td><td>30065000</td><td>10</td><td>249</td><td>ND</td><td>04</td><td>0717700</td><td>27</td><td>27</td><td>645</td></tr><tr><td>2024</td><td>10</td><td>84713012</td><td>11</td><td>023</td><td>ND</td><td>04</td><td>0817700</td><td>1</td><td>20</td><td>2800</td></tr><tr><td>2024</td><td>07</td><td>42022900</td><td>11</td><td>580</td><td>ND</td><td>04</td><td>0817600</td><td>618</td><td>97</td><td>2616</td></tr><tr><td>2024</td><td>03</td><td>97019100</td><td>11</td><td>249</td><td>ND</td><td>04</td><td>0817700</td><td>1</td><td>3</td><td>1590</td></tr><tr><td>2024</td><td>06</td><td>84185090</td><td>11</td><td>249</td><td>ND</td><td>04</td><td>0717700</td><td>1</td><td>58</td><td>29315</td></tr><tr><td>2024</td><td>09</td><td>95044000</td><td>11</td><td>023</td><td>ND</td><td>04</td><td>0817700</td><td>8</td><td>8</td><td>1357</td></tr><tr><td>2024</td><td>10</td><td>71131900</td><td>10</td><td>249</td><td>ND</td><td>04</td><td>0817600</td><td>0</td><td>0</td><td>3852</td></tr><tr><td>2024</td><td>06</td><td>42022100</td><td>11</td><td>573</td><td>ND</td><td>04</td><td>0817700</td><td>13</td><td>13</td><td>18126</td></tr><tr><td>2024</td><td>11</td><td>64042000</td><td>13</td><td>249</td><td>ND</td><td>04</td><td>0817700</td><td>1</td><td>1</td><td>1968</td></tr><tr><td>2024</td><td>05</td><td>42010090</td><td>10</td><td>249</td><td>ND</td><td>04</td><td>0817700</td><td>47</td><td>47</td><td>1400</td></tr><tr><td>2024</td><td>03</td><td>84828000</td><td>11</td><td>249</td><td>ND</td><td>01</td><td>0717600</td><td>24</td><td>53</td><td>111</td></tr><tr><td>2024</td><td>10</td><td>94036000</td><td>11</td><td>245</td><td>ND</td><td>04</td><td>0717700</td><td>2</td><td>57</td><td>15000</td></tr><tr><td>2024</td><td>10</td><td>42022220</td><td>11</td><td>845</td><td>ND</td><td>04</td><td>0817600</td><td>35</td><td>7</td><td>109</td></tr><tr><td>2024</td><td>05</td><td>42022220</td><td>11</td><td>573</td><td>ND</td><td>04</td><td>0817700</td><td>2</td><td>2</td><td>2332</td></tr><tr><td>2024</td><td>11</td><td>73269090</td><td>10</td><td>087</td><td>ND</td><td>01</td><td>0817800</td><td>68</td><td>68</td><td>707</td></tr><tr><td>2024</td><td>07</td><td>39232190</td><td>10</td><td>249</td><td>ND</td><td>04</td><td>0817700</td><td>4</td><td>4</td><td>55</td></tr><tr><td>2024</td><td>12</td><td>33061000</td><td>10</td><td>249</td><td>ND</td><td>04</td><td>0817700</td><td>3</td><td>3</td><td>2250</td></tr><tr><td>2024</td><td>10</td><td>39269090</td><td>10</td><td>573</td><td>ND</td><td>04</td><td>0817700</td><td>0</td><td>0</td><td>2</td></tr><tr><td>2024</td><td>01</td><td>39264000</td><td>10</td><td>386</td><td>ND</td><td>04</td><td>0817700</td><td>68</td><td>68</td><td>10174</td></tr><tr><td>2024</td><td>02</td><td>85073090</td><td>11</td><td>764</td><td>ND</td><td>01</td><td>0917800</td><td>29</td><td>29</td><td>5360</td></tr><tr><td>2024</td><td>08</td><td>64022000</td><td>13</td><td>249</td><td>ND</td><td>04</td><td>0817700</td><td>3</td><td>3</td><td>1092</td></tr><tr><td>2024</td><td>07</td><td>62043300</td><td>11</td><td>573</td><td>ND</td><td>04</td><td>0817700</td><td>2</td><td>2</td><td>2876</td></tr><tr><td>2024</td><td>12</td><td>85249900</td><td>11</td><td>399</td><td>ND</td><td>04</td><td>0817700</td><td>80</td><td>45</td><td>2180</td></tr><tr><td>2024</td><td>10</td><td>84713012</td><td>11</td><td>628</td><td>ND</td><td>04</td><td>0817700</td><td>1</td><td>2</td><td>1098</td></tr><tr><td>2024</td><td>12</td><td>48194000</td><td>10</td><td>249</td><td>ND</td><td>04</td><td>0817700</td><td>79</td><td>79</td><td>1532</td></tr><tr><td>2024</td><td>12</td><td>42033000</td><td>10</td><td>573</td><td>ND</td><td>04</td><td>0817700</td><td>1</td><td>1</td><td>614</td></tr><tr><td>2024</td><td>10</td><td>85391090</td><td>11</td><td>573</td><td>ND</td><td>04</td><td>0817600</td><td>2</td><td>5</td><td>145</td></tr><tr><td>2024</td><td>03</td><td>84099951</td><td>11</td><td>249</td><td>ND</td><td>01</td><td>0717600</td><td>41</td><td>4312</td><td>121065</td></tr><tr><td>2024</td><td>05</td><td>63090010</td><td>10</td><td>249</td><td>ND</td><td>04</td><td>0817700</td><td>137</td><td>137</td><td>4302</td></tr><tr><td>2024</td><td>06</td><td>49019900</td><td>10</td><td>589</td><td>ND</td><td>04</td><td>0817600</td><td>1929</td><td>1929</td><td>12470</td></tr><tr><td>2024</td><td>07</td><td>97012100</td><td>11</td><td>249</td><td>ND</td><td>04</td><td>0817600</td><td>1</td><td>0</td><td>40</td></tr><tr><td>2024</td><td>05</td><td>84149039</td><td>10</td><td>249</td><td>ND</td><td>01</td><td>0717600</td><td>645</td><td>645</td><td>68773</td></tr><tr><td>2024</td><td>07</td><td>62045300</td><td>11</td><td>275</td><td>ND</td><td>04</td><td>0817700</td><td>2253</td><td>71</td><td>3186</td></tr><tr><td>2024</td><td>04</td><td>40169300</td><td>10</td><td>249</td><td>ND</td><td>04</td><td>0717700</td><td>1</td><td>1</td><td>233</td></tr><tr><td>2024</td><td>03</td><td>85371090</td><td>10</td><td>764</td><td>ND</td><td>01</td><td>0817800</td><td>11</td><td>11</td><td>28486</td></tr><tr><td>2024</td><td>07</td><td>85444200</td><td>10</td><td>249</td><td>ND</td><td>04</td><td>0817600</td><td>2</td><td>2</td><td>294</td></tr><tr><td>2024</td><td>05</td><td>85167100</td><td>11</td><td>249</td><td>ND</td><td>04</td><td>0717700</td><td>1</td><td>11</td><td>6157</td></tr><tr><td>2024</td><td>06</td><td>49011000</td><td>10</td><td>607</td><td>ND</td><td>04</td><td>0817600</td><td>24</td><td>24</td><td>907</td></tr><tr><td>2024</td><td>02</td><td>85447090</td><td>10</td><td>249</td><td>ND</td><td>04</td><td>0717700</td><td>280</td><td>280</td><td>779</td></tr><tr><td>2024</td><td>05</td><td>84713090</td><td>11</td><td>249</td><td>ND</td><td>04</td><td>0817700</td><td>2</td><td>2</td><td>3751</td></tr><tr><td>2024</td><td>08</td><td>71179000</td><td>10</td><td>245</td><td>ND</td><td>04</td><td>0817600</td><td>19</td><td>19</td><td>305</td></tr><tr><td>2024</td><td>01</td><td>88022022</td><td>11</td><td>317</td><td>ND</td><td>04</td><td>0817700</td><td>4</td><td>60</td><td>361</td></tr><tr><td>2024</td><td>01</td><td>39172900</td><td>10</td><td>249</td><td>ND</td><td>04</td><td>0817700</td><td>1</td><td>1</td><td>2000</td></tr><tr><td>2024</td><td>07</td><td>64035190</td><td>13</td><td>628</td><td>ND</td><td>04</td><td>0817700</td><td>1</td><td>1</td><td>2291</td></tr><tr><td>2024</td><td>04</td><td>44152000</td><td>11</td><td>161</td><td>ND</td><td>04</td><td>0227700</td><td>1</td><td>12</td><td>10</td></tr><tr><td>2024</td><td>10</td><td>85291090</td><td>10</td><td>538</td><td>ND</td><td>04</td><td>0817700</td><td>161</td><td>161</td><td>2000</td></tr><tr><td>2024</td><td>08</td><td>61044900</td><td>11</td><td>607</td><td>ND</td><td>04</td><td>0817700</td><td>1</td><td>1</td><td>992</td></tr><tr><td>2024</td><td>02</td><td>84238190</td><td>11</td><td>249</td><td>ND</td><td>04</td><td>0717700</td><td>1</td><td>1</td><td>50</td></tr><tr><td>2024</td><td>01</td><td>83014000</td><td>10</td><td>249</td><td>ND</td><td>04</td><td>0717700</td><td>0</td><td>0</td><td>3886</td></tr><tr><td>2024</td><td>07</td><td>84122900</td><td>11</td><td>023</td><td>ND</td><td>04</td><td>0717700</td><td>2</td><td>128</td><td>873599</td></tr><tr><td>2024</td><td>02</td><td>76169900</td><td>10</td><td>249</td><td>ND</td><td>01</td><td>0817800</td><td>0</td><td>0</td><td>2</td></tr><tr><td>2024</td><td>11</td><td>69131000</td><td>10</td><td>249</td><td>ND</td><td>04</td><td>0817700</td><td>54</td><td>54</td><td>2450</td></tr><tr><td>2024</td><td>10</td><td>44219900</td><td>10</td><td>249</td><td>ND</td><td>04</td><td>0817600</td><td>1</td><td>1</td><td>66</td></tr><tr><td>2024</td><td>05</td><td>63090010</td><td>10</td><td>767</td><td>ND</td><td>04</td><td>0817700</td><td>3</td><td>3</td><td>3329</td></tr><tr><td>2024</td><td>10</td><td>94051190</td><td>10</td><td>249</td><td>ND</td><td>04</td><td>0717700</td><td>6</td><td>6</td><td>47742</td></tr><tr><td>2024</td><td>03</td><td>85291090</td><td>10</td><td>249</td><td>ND</td><td>04</td><td>0717700</td><td>52</td><td>52</td><td>20182</td></tr><tr><td>2024</td><td>07</td><td>40091290</td><td>10</td><td>249</td><td>ND</td><td>04</td><td>0717700</td><td>4</td><td>4</td><td>1085</td></tr><tr><td>2024</td><td>08</td><td>84381000</td><td>11</td><td>628</td><td>ND</td><td>04</td><td>0817700</td><td>1</td><td>119</td><td>950</td></tr><tr><td>2024</td><td>03</td><td>44013100</td><td>10</td><td>249</td><td>ND</td><td>04</td><td>0817600</td><td>78</td><td>78</td><td>5</td></tr><tr><td>2024</td><td>11</td><td>63079090</td><td>10</td><td>580</td><td>ND</td><td>01</td><td>0817800</td><td>77</td><td>77</td><td>157</td></tr><tr><td>2024</td><td>04</td><td>62043300</td><td>11</td><td>573</td><td>ND</td><td>04</td><td>0817700</td><td>2</td><td>2</td><td>2797</td></tr><tr><td>2024</td><td>05</td><td>97019900</td><td>10</td><td>275</td><td>ND</td><td>04</td><td>0717700</td><td>9</td><td>9</td><td>9752</td></tr><tr><td>2024</td><td>09</td><td>90211010</td><td>10</td><td>245</td><td>ND</td><td>04</td><td>0817700</td><td>0</td><td>0</td><td>1083</td></tr><tr><td>2024</td><td>02</td><td>88073000</td><td>10</td><td>361</td><td>ND</td><td>01</td><td>0817800</td><td>21160</td><td>21160</td><td>33500</td></tr><tr><td>2024</td><td>06</td><td>94051990</td><td>10</td><td>249</td><td>ND</td><td>04</td><td>0717700</td><td>1</td><td>0</td><td>1056</td></tr><tr><td>2024</td><td>07</td><td>85131090</td><td>11</td><td>275</td><td>ND</td><td>04</td><td>0817700</td><td>3</td><td>0</td><td>12</td></tr><tr><td>2024</td><td>02</td><td>83014000</td><td>10</td><td>249</td><td>ND</td><td>04</td><td>0717700</td><td>5</td><td>5</td><td>11968</td></tr><tr><td>2024</td><td>05</td><td>90152090</td><td>11</td><td>249</td><td>ND</td><td>04</td><td>0717700</td><td>29</td><td>92</td><td>113690</td></tr><tr><td>2024</td><td>01</td><td>23099030</td><td>10</td><td>249</td><td>ND</td><td>04</td><td>0817600</td><td>0</td><td>0</td><td>19</td></tr><tr><td>2024</td><td>02</td><td>71179000</td><td>10</td><td>249</td><td>ND</td><td>04</td><td>0817600</td><td>1</td><td>1</td><td>38</td></tr><tr><td>2024</td><td>12</td><td>17011400</td><td>21</td><td>240</td><td>ND</td><td>01</td><td>0817800</td><td>11100</td><td>1027508</td><td>451300</td></tr><tr><td>2024</td><td>07</td><td>44152000</td><td>11</td><td>160</td><td>ND</td><td>04</td><td>0227700</td><td>14</td><td>168</td><td>250</td></tr><tr><td>2024</td><td>10</td><td>83100000</td><td>10</td><td>845</td><td>ND</td><td>04</td><td>0817600</td><td>1</td><td>1</td><td>13</td></tr><tr><td>2024</td><td>04</td><td>44212000</td><td>10</td><td>267</td><td>ND</td><td>04</td><td>0817600</td><td>1</td><td>140</td><td>195</td></tr><tr><td>2024</td><td>06</td><td>01012900</td><td>11</td><td>087</td><td>ND</td><td>04</td><td>0817700</td><td>3</td><td>1500</td><td>107800</td></tr><tr><td>2024</td><td>11</td><td>73269090</td><td>10</td><td>337</td><td>ND</td><td>04</td><td>0817600</td><td>83</td><td>83</td><td>500</td></tr><tr><td>2024</td><td>11</td><td>90219080</td><td>10</td><td>097</td><td>ND</td><td>04</td><td>0817700</td><td>1</td><td>4</td><td>5480</td></tr><tr><td>2024</td><td>01</td><td>28433090</td><td>10</td><td>249</td><td>ND</td><td>04</td><td>0817600</td><td>0</td><td>0</td><td>975</td></tr><tr><td>2024</td><td>11</td><td>87043190</td><td>11</td><td>249</td><td>ND</td><td>01</td><td>0927700</td><td>1</td><td>1700</td><td>11000</td></tr><tr><td>2024</td><td>08</td><td>64051090</td><td>13</td><td>603</td><td>ND</td><td>04</td><td>0817700</td><td>1</td><td>3</td><td>1189</td></tr><tr><td>2024</td><td>06</td><td>62044900</td><td>11</td><td>573</td><td>ND</td><td>04</td><td>0817600</td><td>1</td><td>0</td><td>1012</td></tr><tr><td>2024</td><td>07</td><td>39191090</td><td>10</td><td>275</td><td>ND</td><td>04</td><td>0817700</td><td>15</td><td>15</td><td>699</td></tr><tr><td>2024</td><td>10</td><td>44201100</td><td>10</td><td>249</td><td>ND</td><td>04</td><td>0817600</td><td>25</td><td>25</td><td>1198</td></tr><tr><td>2024</td><td>01</td><td>88073000</td><td>10</td><td>383</td><td>ND</td><td>04</td><td>0717700</td><td>4</td><td>4</td><td>15000</td></tr><tr><td>2024</td><td>10</td><td>27090010</td><td>16</td><td>573</td><td>ND</td><td>01</td><td>0710251</td><td>192054</td><td>170448556</td><td>60394484</td></tr><tr><td>2024</td><td>02</td><td>82055900</td><td>10</td><td>249</td><td>ND</td><td>04</td><td>0717700</td><td>5</td><td>5</td><td>2995</td></tr></tbody></table></div>"
      ]
     },
     "metadata": {
      "application/vnd.databricks.v1+output": {
       "addedWidgets": {},
       "aggData": [],
       "aggError": "",
       "aggOverflow": false,
       "aggSchema": [],
       "aggSeriesLimitReached": false,
       "aggType": "",
       "arguments": {},
       "columnCustomDisplayInfos": {},
       "data": [
        [
         "2024",
         "08",
         "61044900",
         "11",
         "053",
         "ND",
         "04",
         "0817600",
         "1",
         "1",
         "859"
        ],
        [
         "2024",
         "10",
         "84198190",
         "11",
         "249",
         "ND",
         "04",
         "0717700",
         "6",
         "194",
         "40757"
        ],
        [
         "2024",
         "11",
         "44152000",
         "11",
         "169",
         "ND",
         "04",
         "0227700",
         "1",
         "24",
         "2"
        ],
        [
         "2024",
         "10",
         "42022100",
         "11",
         "573",
         "ND",
         "04",
         "0817700",
         "6",
         "4",
         "7833"
        ],
        [
         "2024",
         "09",
         "61099000",
         "11",
         "767",
         "ND",
         "04",
         "0817700",
         "40",
         "14",
         "2836"
        ],
        [
         "2024",
         "06",
         "85044010",
         "11",
         "097",
         "ND",
         "04",
         "0817600",
         "1",
         "1",
         "180"
        ],
        [
         "2024",
         "01",
         "62014000",
         "11",
         "232",
         "ND",
         "04",
         "0817600",
         "1",
         "1",
         "82"
        ],
        [
         "2024",
         "05",
         "62044200",
         "11",
         "573",
         "ND",
         "04",
         "0817700",
         "13",
         "13",
         "17148"
        ],
        [
         "2024",
         "12",
         "34012010",
         "10",
         "249",
         "ND",
         "04",
         "0817700",
         "7",
         "7",
         "1364"
        ],
        [
         "2024",
         "04",
         "61124900",
         "11",
         "023",
         "ND",
         "04",
         "0817700",
         "180",
         "20",
         "5823"
        ],
        [
         "2024",
         "01",
         "85392110",
         "11",
         "249",
         "ND",
         "04",
         "0717700",
         "8",
         "2",
         "3576"
        ],
        [
         "2024",
         "03",
         "48191000",
         "10",
         "493",
         "ND",
         "04",
         "0817700",
         "31",
         "31",
         "197"
        ],
        [
         "2024",
         "11",
         "84819090",
         "10",
         "249",
         "ND",
         "04",
         "0717700",
         "1",
         "1",
         "2277"
        ],
        [
         "2024",
         "06",
         "48191000",
         "10",
         "249",
         "ND",
         "04",
         "0817700",
         "33",
         "33",
         "1823"
        ],
        [
         "2024",
         "11",
         "30065000",
         "10",
         "249",
         "ND",
         "04",
         "0717700",
         "27",
         "27",
         "645"
        ],
        [
         "2024",
         "10",
         "84713012",
         "11",
         "023",
         "ND",
         "04",
         "0817700",
         "1",
         "20",
         "2800"
        ],
        [
         "2024",
         "07",
         "42022900",
         "11",
         "580",
         "ND",
         "04",
         "0817600",
         "618",
         "97",
         "2616"
        ],
        [
         "2024",
         "03",
         "97019100",
         "11",
         "249",
         "ND",
         "04",
         "0817700",
         "1",
         "3",
         "1590"
        ],
        [
         "2024",
         "06",
         "84185090",
         "11",
         "249",
         "ND",
         "04",
         "0717700",
         "1",
         "58",
         "29315"
        ],
        [
         "2024",
         "09",
         "95044000",
         "11",
         "023",
         "ND",
         "04",
         "0817700",
         "8",
         "8",
         "1357"
        ],
        [
         "2024",
         "10",
         "71131900",
         "10",
         "249",
         "ND",
         "04",
         "0817600",
         "0",
         "0",
         "3852"
        ],
        [
         "2024",
         "06",
         "42022100",
         "11",
         "573",
         "ND",
         "04",
         "0817700",
         "13",
         "13",
         "18126"
        ],
        [
         "2024",
         "11",
         "64042000",
         "13",
         "249",
         "ND",
         "04",
         "0817700",
         "1",
         "1",
         "1968"
        ],
        [
         "2024",
         "05",
         "42010090",
         "10",
         "249",
         "ND",
         "04",
         "0817700",
         "47",
         "47",
         "1400"
        ],
        [
         "2024",
         "03",
         "84828000",
         "11",
         "249",
         "ND",
         "01",
         "0717600",
         "24",
         "53",
         "111"
        ],
        [
         "2024",
         "10",
         "94036000",
         "11",
         "245",
         "ND",
         "04",
         "0717700",
         "2",
         "57",
         "15000"
        ],
        [
         "2024",
         "10",
         "42022220",
         "11",
         "845",
         "ND",
         "04",
         "0817600",
         "35",
         "7",
         "109"
        ],
        [
         "2024",
         "05",
         "42022220",
         "11",
         "573",
         "ND",
         "04",
         "0817700",
         "2",
         "2",
         "2332"
        ],
        [
         "2024",
         "11",
         "73269090",
         "10",
         "087",
         "ND",
         "01",
         "0817800",
         "68",
         "68",
         "707"
        ],
        [
         "2024",
         "07",
         "39232190",
         "10",
         "249",
         "ND",
         "04",
         "0817700",
         "4",
         "4",
         "55"
        ],
        [
         "2024",
         "12",
         "33061000",
         "10",
         "249",
         "ND",
         "04",
         "0817700",
         "3",
         "3",
         "2250"
        ],
        [
         "2024",
         "10",
         "39269090",
         "10",
         "573",
         "ND",
         "04",
         "0817700",
         "0",
         "0",
         "2"
        ],
        [
         "2024",
         "01",
         "39264000",
         "10",
         "386",
         "ND",
         "04",
         "0817700",
         "68",
         "68",
         "10174"
        ],
        [
         "2024",
         "02",
         "85073090",
         "11",
         "764",
         "ND",
         "01",
         "0917800",
         "29",
         "29",
         "5360"
        ],
        [
         "2024",
         "08",
         "64022000",
         "13",
         "249",
         "ND",
         "04",
         "0817700",
         "3",
         "3",
         "1092"
        ],
        [
         "2024",
         "07",
         "62043300",
         "11",
         "573",
         "ND",
         "04",
         "0817700",
         "2",
         "2",
         "2876"
        ],
        [
         "2024",
         "12",
         "85249900",
         "11",
         "399",
         "ND",
         "04",
         "0817700",
         "80",
         "45",
         "2180"
        ],
        [
         "2024",
         "10",
         "84713012",
         "11",
         "628",
         "ND",
         "04",
         "0817700",
         "1",
         "2",
         "1098"
        ],
        [
         "2024",
         "12",
         "48194000",
         "10",
         "249",
         "ND",
         "04",
         "0817700",
         "79",
         "79",
         "1532"
        ],
        [
         "2024",
         "12",
         "42033000",
         "10",
         "573",
         "ND",
         "04",
         "0817700",
         "1",
         "1",
         "614"
        ],
        [
         "2024",
         "10",
         "85391090",
         "11",
         "573",
         "ND",
         "04",
         "0817600",
         "2",
         "5",
         "145"
        ],
        [
         "2024",
         "03",
         "84099951",
         "11",
         "249",
         "ND",
         "01",
         "0717600",
         "41",
         "4312",
         "121065"
        ],
        [
         "2024",
         "05",
         "63090010",
         "10",
         "249",
         "ND",
         "04",
         "0817700",
         "137",
         "137",
         "4302"
        ],
        [
         "2024",
         "06",
         "49019900",
         "10",
         "589",
         "ND",
         "04",
         "0817600",
         "1929",
         "1929",
         "12470"
        ],
        [
         "2024",
         "07",
         "97012100",
         "11",
         "249",
         "ND",
         "04",
         "0817600",
         "1",
         "0",
         "40"
        ],
        [
         "2024",
         "05",
         "84149039",
         "10",
         "249",
         "ND",
         "01",
         "0717600",
         "645",
         "645",
         "68773"
        ],
        [
         "2024",
         "07",
         "62045300",
         "11",
         "275",
         "ND",
         "04",
         "0817700",
         "2253",
         "71",
         "3186"
        ],
        [
         "2024",
         "04",
         "40169300",
         "10",
         "249",
         "ND",
         "04",
         "0717700",
         "1",
         "1",
         "233"
        ],
        [
         "2024",
         "03",
         "85371090",
         "10",
         "764",
         "ND",
         "01",
         "0817800",
         "11",
         "11",
         "28486"
        ],
        [
         "2024",
         "07",
         "85444200",
         "10",
         "249",
         "ND",
         "04",
         "0817600",
         "2",
         "2",
         "294"
        ],
        [
         "2024",
         "05",
         "85167100",
         "11",
         "249",
         "ND",
         "04",
         "0717700",
         "1",
         "11",
         "6157"
        ],
        [
         "2024",
         "06",
         "49011000",
         "10",
         "607",
         "ND",
         "04",
         "0817600",
         "24",
         "24",
         "907"
        ],
        [
         "2024",
         "02",
         "85447090",
         "10",
         "249",
         "ND",
         "04",
         "0717700",
         "280",
         "280",
         "779"
        ],
        [
         "2024",
         "05",
         "84713090",
         "11",
         "249",
         "ND",
         "04",
         "0817700",
         "2",
         "2",
         "3751"
        ],
        [
         "2024",
         "08",
         "71179000",
         "10",
         "245",
         "ND",
         "04",
         "0817600",
         "19",
         "19",
         "305"
        ],
        [
         "2024",
         "01",
         "88022022",
         "11",
         "317",
         "ND",
         "04",
         "0817700",
         "4",
         "60",
         "361"
        ],
        [
         "2024",
         "01",
         "39172900",
         "10",
         "249",
         "ND",
         "04",
         "0817700",
         "1",
         "1",
         "2000"
        ],
        [
         "2024",
         "07",
         "64035190",
         "13",
         "628",
         "ND",
         "04",
         "0817700",
         "1",
         "1",
         "2291"
        ],
        [
         "2024",
         "04",
         "44152000",
         "11",
         "161",
         "ND",
         "04",
         "0227700",
         "1",
         "12",
         "10"
        ],
        [
         "2024",
         "10",
         "85291090",
         "10",
         "538",
         "ND",
         "04",
         "0817700",
         "161",
         "161",
         "2000"
        ],
        [
         "2024",
         "08",
         "61044900",
         "11",
         "607",
         "ND",
         "04",
         "0817700",
         "1",
         "1",
         "992"
        ],
        [
         "2024",
         "02",
         "84238190",
         "11",
         "249",
         "ND",
         "04",
         "0717700",
         "1",
         "1",
         "50"
        ],
        [
         "2024",
         "01",
         "83014000",
         "10",
         "249",
         "ND",
         "04",
         "0717700",
         "0",
         "0",
         "3886"
        ],
        [
         "2024",
         "07",
         "84122900",
         "11",
         "023",
         "ND",
         "04",
         "0717700",
         "2",
         "128",
         "873599"
        ],
        [
         "2024",
         "02",
         "76169900",
         "10",
         "249",
         "ND",
         "01",
         "0817800",
         "0",
         "0",
         "2"
        ],
        [
         "2024",
         "11",
         "69131000",
         "10",
         "249",
         "ND",
         "04",
         "0817700",
         "54",
         "54",
         "2450"
        ],
        [
         "2024",
         "10",
         "44219900",
         "10",
         "249",
         "ND",
         "04",
         "0817600",
         "1",
         "1",
         "66"
        ],
        [
         "2024",
         "05",
         "63090010",
         "10",
         "767",
         "ND",
         "04",
         "0817700",
         "3",
         "3",
         "3329"
        ],
        [
         "2024",
         "10",
         "94051190",
         "10",
         "249",
         "ND",
         "04",
         "0717700",
         "6",
         "6",
         "47742"
        ],
        [
         "2024",
         "03",
         "85291090",
         "10",
         "249",
         "ND",
         "04",
         "0717700",
         "52",
         "52",
         "20182"
        ],
        [
         "2024",
         "07",
         "40091290",
         "10",
         "249",
         "ND",
         "04",
         "0717700",
         "4",
         "4",
         "1085"
        ],
        [
         "2024",
         "08",
         "84381000",
         "11",
         "628",
         "ND",
         "04",
         "0817700",
         "1",
         "119",
         "950"
        ],
        [
         "2024",
         "03",
         "44013100",
         "10",
         "249",
         "ND",
         "04",
         "0817600",
         "78",
         "78",
         "5"
        ],
        [
         "2024",
         "11",
         "63079090",
         "10",
         "580",
         "ND",
         "01",
         "0817800",
         "77",
         "77",
         "157"
        ],
        [
         "2024",
         "04",
         "62043300",
         "11",
         "573",
         "ND",
         "04",
         "0817700",
         "2",
         "2",
         "2797"
        ],
        [
         "2024",
         "05",
         "97019900",
         "10",
         "275",
         "ND",
         "04",
         "0717700",
         "9",
         "9",
         "9752"
        ],
        [
         "2024",
         "09",
         "90211010",
         "10",
         "245",
         "ND",
         "04",
         "0817700",
         "0",
         "0",
         "1083"
        ],
        [
         "2024",
         "02",
         "88073000",
         "10",
         "361",
         "ND",
         "01",
         "0817800",
         "21160",
         "21160",
         "33500"
        ],
        [
         "2024",
         "06",
         "94051990",
         "10",
         "249",
         "ND",
         "04",
         "0717700",
         "1",
         "0",
         "1056"
        ],
        [
         "2024",
         "07",
         "85131090",
         "11",
         "275",
         "ND",
         "04",
         "0817700",
         "3",
         "0",
         "12"
        ],
        [
         "2024",
         "02",
         "83014000",
         "10",
         "249",
         "ND",
         "04",
         "0717700",
         "5",
         "5",
         "11968"
        ],
        [
         "2024",
         "05",
         "90152090",
         "11",
         "249",
         "ND",
         "04",
         "0717700",
         "29",
         "92",
         "113690"
        ],
        [
         "2024",
         "01",
         "23099030",
         "10",
         "249",
         "ND",
         "04",
         "0817600",
         "0",
         "0",
         "19"
        ],
        [
         "2024",
         "02",
         "71179000",
         "10",
         "249",
         "ND",
         "04",
         "0817600",
         "1",
         "1",
         "38"
        ],
        [
         "2024",
         "12",
         "17011400",
         "21",
         "240",
         "ND",
         "01",
         "0817800",
         "11100",
         "1027508",
         "451300"
        ],
        [
         "2024",
         "07",
         "44152000",
         "11",
         "160",
         "ND",
         "04",
         "0227700",
         "14",
         "168",
         "250"
        ],
        [
         "2024",
         "10",
         "83100000",
         "10",
         "845",
         "ND",
         "04",
         "0817600",
         "1",
         "1",
         "13"
        ],
        [
         "2024",
         "04",
         "44212000",
         "10",
         "267",
         "ND",
         "04",
         "0817600",
         "1",
         "140",
         "195"
        ],
        [
         "2024",
         "06",
         "01012900",
         "11",
         "087",
         "ND",
         "04",
         "0817700",
         "3",
         "1500",
         "107800"
        ],
        [
         "2024",
         "11",
         "73269090",
         "10",
         "337",
         "ND",
         "04",
         "0817600",
         "83",
         "83",
         "500"
        ],
        [
         "2024",
         "11",
         "90219080",
         "10",
         "097",
         "ND",
         "04",
         "0817700",
         "1",
         "4",
         "5480"
        ],
        [
         "2024",
         "01",
         "28433090",
         "10",
         "249",
         "ND",
         "04",
         "0817600",
         "0",
         "0",
         "975"
        ],
        [
         "2024",
         "11",
         "87043190",
         "11",
         "249",
         "ND",
         "01",
         "0927700",
         "1",
         "1700",
         "11000"
        ],
        [
         "2024",
         "08",
         "64051090",
         "13",
         "603",
         "ND",
         "04",
         "0817700",
         "1",
         "3",
         "1189"
        ],
        [
         "2024",
         "06",
         "62044900",
         "11",
         "573",
         "ND",
         "04",
         "0817600",
         "1",
         "0",
         "1012"
        ],
        [
         "2024",
         "07",
         "39191090",
         "10",
         "275",
         "ND",
         "04",
         "0817700",
         "15",
         "15",
         "699"
        ],
        [
         "2024",
         "10",
         "44201100",
         "10",
         "249",
         "ND",
         "04",
         "0817600",
         "25",
         "25",
         "1198"
        ],
        [
         "2024",
         "01",
         "88073000",
         "10",
         "383",
         "ND",
         "04",
         "0717700",
         "4",
         "4",
         "15000"
        ],
        [
         "2024",
         "10",
         "27090010",
         "16",
         "573",
         "ND",
         "01",
         "0710251",
         "192054",
         "170448556",
         "60394484"
        ],
        [
         "2024",
         "02",
         "82055900",
         "10",
         "249",
         "ND",
         "04",
         "0717700",
         "5",
         "5",
         "2995"
        ]
       ],
       "datasetInfos": [],
       "dbfsResultPath": null,
       "isJsonSchema": true,
       "metadata": {},
       "overflow": false,
       "plotOptions": {
        "customPlotOptions": {},
        "displayType": "table",
        "pivotAggregation": null,
        "pivotColumns": null,
        "xColumns": null,
        "yColumns": null
       },
       "removedWidgets": [],
       "schema": [
        {
         "metadata": "{}",
         "name": "CO_ANO",
         "type": "\"string\""
        },
        {
         "metadata": "{}",
         "name": "CO_MES",
         "type": "\"string\""
        },
        {
         "metadata": "{}",
         "name": "CO_NCM",
         "type": "\"string\""
        },
        {
         "metadata": "{}",
         "name": "CO_UNID",
         "type": "\"string\""
        },
        {
         "metadata": "{}",
         "name": "CO_PAIS",
         "type": "\"string\""
        },
        {
         "metadata": "{}",
         "name": "SG_UF_NCM",
         "type": "\"string\""
        },
        {
         "metadata": "{}",
         "name": "CO_VIA",
         "type": "\"string\""
        },
        {
         "metadata": "{}",
         "name": "CO_URF",
         "type": "\"string\""
        },
        {
         "metadata": "{}",
         "name": "QT_ESTAT",
         "type": "\"string\""
        },
        {
         "metadata": "{}",
         "name": "KG_LIQUIDO",
         "type": "\"string\""
        },
        {
         "metadata": "{}",
         "name": "VL_FOB",
         "type": "\"string\""
        }
       ],
       "type": "table"
      }
     },
     "output_type": "display_data"
    }
   ],
   "source": [
    "%sql\n",
    "--Verificar siglas dos estados em exp_2024\n",
    "\n",
    "SELECT * FROM bronze.exp_2024\n",
    "WHERE SG_UF_NCM NOT IN ('AC', 'AL', 'AM', 'AP', 'BA', 'CE', 'DF', 'ES', 'GO', 'MA', 'MG', 'MS', 'MT', 'PA', 'PB', 'PE', 'PI', 'PR', 'RJ', 'RN', 'RO', 'RR', 'RS', 'SC', 'SE', 'SP', 'TO')\n",
    "LIMIT 100"
   ]
  },
  {
   "cell_type": "code",
   "execution_count": 0,
   "metadata": {
    "application/vnd.databricks.v1+cell": {
     "cellMetadata": {
      "byteLimit": 2048000,
      "implicitDf": true,
      "rowLimit": 10000
     },
     "inputWidgets": {},
     "nuid": "b5f66379-6f7f-42ec-8e82-d0e0926a1721",
     "showTitle": true,
     "tableResultSettingsMap": {},
     "title": "Criar database silver"
    }
   },
   "outputs": [
    {
     "output_type": "display_data",
     "data": {
      "text/html": [
       "<style scoped>\n",
       "  .table-result-container {\n",
       "    max-height: 300px;\n",
       "    overflow: auto;\n",
       "  }\n",
       "  table, th, td {\n",
       "    border: 1px solid black;\n",
       "    border-collapse: collapse;\n",
       "  }\n",
       "  th, td {\n",
       "    padding: 5px;\n",
       "  }\n",
       "  th {\n",
       "    text-align: left;\n",
       "  }\n",
       "</style><div class='table-result-container'><table class='table-result'><thead style='background-color: white'><tr></tr></thead><tbody></tbody></table></div>"
      ]
     },
     "metadata": {
      "application/vnd.databricks.v1+output": {
       "addedWidgets": {},
       "aggData": [],
       "aggError": "",
       "aggOverflow": false,
       "aggSchema": [],
       "aggSeriesLimitReached": false,
       "aggType": "",
       "arguments": {},
       "columnCustomDisplayInfos": {},
       "data": [],
       "datasetInfos": [],
       "dbfsResultPath": null,
       "isJsonSchema": true,
       "metadata": {},
       "overflow": false,
       "plotOptions": {
        "customPlotOptions": {},
        "displayType": "table",
        "pivotAggregation": null,
        "pivotColumns": null,
        "xColumns": null,
        "yColumns": null
       },
       "removedWidgets": [],
       "schema": [],
       "type": "table"
      }
     },
     "output_type": "display_data"
    }
   ],
   "source": [
    "%sql create database silver;\n",
    "--Criar database silver"
   ]
  },
  {
   "cell_type": "code",
   "execution_count": 0,
   "metadata": {
    "application/vnd.databricks.v1+cell": {
     "cellMetadata": {
      "byteLimit": 2048000,
      "rowLimit": 10000
     },
     "inputWidgets": {},
     "nuid": "abd18ab8-050f-4517-8951-b6698c3fea4f",
     "showTitle": true,
     "tableResultSettingsMap": {},
     "title": "Adicionar as tabelas ao schema silver"
    }
   },
   "outputs": [],
   "source": [
    "#Adicionar as tabelas ao schema silver\n",
    "\n",
    "from pyspark.sql import SparkSession\n",
    "\n",
    "spark = SparkSession.builder.appName(\"CopiarTabelasParaSilver\").getOrCreate()\n",
    "\n",
    "tabelas_bronze = [\n",
    "    \"bronze.imp_2024\",\n",
    "    \"bronze.exp_2024\",\n",
    "    \"bronze.co_pais\",\n",
    "    \"bronze.co_via\",\n",
    "    \"bronze.co_urf\"\n",
    "]\n",
    "\n",
    "for tabela_bronze in tabelas_bronze:\n",
    "    tabela_silver = tabela_bronze.replace(\"bronze\", \"silver\")\n",
    "    df = spark.table(tabela_bronze)\n",
    "    df.write.mode(\"overwrite\").option(\"overwriteSchema\", \"true\").saveAsTable(tabela_silver)"
   ]
  },
  {
   "cell_type": "code",
   "execution_count": 0,
   "metadata": {
    "application/vnd.databricks.v1+cell": {
     "cellMetadata": {
      "byteLimit": 2048000,
      "rowLimit": 10000
     },
     "inputWidgets": {},
     "nuid": "993edfde-f5dc-41a5-8810-a89ff9669953",
     "showTitle": false,
     "tableResultSettingsMap": {},
     "title": ""
    }
   },
   "outputs": [
    {
     "output_type": "stream",
     "name": "stdout",
     "output_type": "stream",
     "text": [
      "Out[13]: <bound method SparkSession.stop of <pyspark.sql.session.SparkSession object at 0x78a7a80e39a0>>"
     ]
    }
   ],
   "source": [
    "# Encerrar a sessão Spark\n",
    "spark.stop"
   ]
  },
  {
   "cell_type": "code",
   "execution_count": 0,
   "metadata": {
    "application/vnd.databricks.v1+cell": {
     "cellMetadata": {
      "byteLimit": 2048000,
      "rowLimit": 10000
     },
     "inputWidgets": {},
     "nuid": "5f5ab3ac-cf30-4e88-9afd-86d9c9f989fe",
     "showTitle": true,
     "tableResultSettingsMap": {},
     "title": "Ajustar tipo das colunas em imp_2024"
    }
   },
   "outputs": [],
   "source": [
    "#Ajustar tipo das colunas em imp_2024\n",
    "\n",
    "from pyspark.sql import SparkSession\n",
    "from pyspark.sql.functions import col\n",
    "from pyspark.sql.types import IntegerType\n",
    "\n",
    "spark = SparkSession.builder.appName(\"ConverterColunas\").getOrCreate()\n",
    "tabela_origem = \"silver.imp_2024\"\n",
    "colunas_para_converter = [\"VL_FRETE\", \"VL_FOB\", \"VL_SEGURO\", \"KG_LIQUIDO\", \"QT_ESTAT\"]\n",
    "\n",
    "df = spark.read.table(tabela_origem)\n",
    "\n",
    "for coluna in colunas_para_converter:\n",
    "    df = df.withColumn(coluna, col(coluna).cast(IntegerType()))\n",
    "\n",
    "df.write \\\n",
    "    .mode(\"overwrite\") \\\n",
    "    .option(\"overwriteSchema\", \"true\") \\\n",
    "    .saveAsTable(tabela_origem)"
   ]
  },
  {
   "cell_type": "code",
   "execution_count": 0,
   "metadata": {
    "application/vnd.databricks.v1+cell": {
     "cellMetadata": {
      "byteLimit": 2048000,
      "rowLimit": 10000
     },
     "inputWidgets": {},
     "nuid": "6c9d8498-ccd9-4f2f-bca6-8e7900155b23",
     "showTitle": true,
     "tableResultSettingsMap": {},
     "title": "Ajustar tipo das colunas em exp_2024"
    }
   },
   "outputs": [],
   "source": [
    "#Ajustar tipo das colunas em exp_2024\n",
    "\n",
    "from pyspark.sql import SparkSession\n",
    "from pyspark.sql.functions import col\n",
    "from pyspark.sql.types import IntegerType\n",
    "\n",
    "spark = SparkSession.builder.appName(\"ConverterColunas\").getOrCreate()\n",
    "tabela_origem = \"silver.exp_2024\"\n",
    "colunas_para_converter = [\"VL_FOB\", \"KG_LIQUIDO\", \"QT_ESTAT\"]\n",
    "\n",
    "df = spark.read.table(tabela_origem)\n",
    "\n",
    "for coluna in colunas_para_converter:\n",
    "    df = df.withColumn(coluna, col(coluna).cast(IntegerType()))\n",
    "\n",
    "df.write \\\n",
    "    .mode(\"overwrite\") \\\n",
    "    .option(\"overwriteSchema\", \"true\") \\\n",
    "    .saveAsTable(tabela_origem)"
   ]
  },
  {
   "cell_type": "code",
   "execution_count": 0,
   "metadata": {
    "application/vnd.databricks.v1+cell": {
     "cellMetadata": {
      "byteLimit": 2048000,
      "rowLimit": 10000
     },
     "inputWidgets": {},
     "nuid": "bf54d459-883a-4fa5-ba18-42940b0fe45c",
     "showTitle": false,
     "tableResultSettingsMap": {},
     "title": ""
    }
   },
   "outputs": [
    {
     "output_type": "stream",
     "name": "stdout",
     "output_type": "stream",
     "text": [
      "Out[16]: <bound method SparkSession.stop of <pyspark.sql.session.SparkSession object at 0x78a7a80e39a0>>"
     ]
    }
   ],
   "source": [
    "# Encerrar a sessão Spark\n",
    "spark.stop"
   ]
  },
  {
   "cell_type": "code",
   "execution_count": 0,
   "metadata": {
    "application/vnd.databricks.v1+cell": {
     "cellMetadata": {
      "byteLimit": 2048000,
      "rowLimit": 10000
     },
     "inputWidgets": {},
     "nuid": "e0e7e2d8-122a-4768-9835-d0f9485d50d5",
     "showTitle": true,
     "tableResultSettingsMap": {},
     "title": "Verificar se os valores da base imp_2024 são todos positivos"
    }
   },
   "outputs": [
    {
     "output_type": "stream",
     "name": "stdout",
     "output_type": "stream",
     "text": [
      "Todos os valores nas colunas ['QT_ESTAT', 'KG_LIQUIDO', 'VL_FOB', 'VL_FRETE', 'VL_SEGURO'] são positivos.\n"
     ]
    }
   ],
   "source": [
    "#Verificar se os valores da base imp_2024 são todos positivos\n",
    "\n",
    "from pyspark.sql import SparkSession\n",
    "from pyspark.sql.functions import col, min\n",
    "\n",
    "spark = SparkSession.builder.appName(\"VerificarPositivosImportacao\").getOrCreate()\n",
    "table_name = \"silver.imp_2024\"\n",
    "columns_to_check = [\"QT_ESTAT\", \"KG_LIQUIDO\", \"VL_FOB\", \"VL_FRETE\", \"VL_SEGURO\"]\n",
    "df = spark.table(table_name)\n",
    "\n",
    "# Verifique se o valor mínimo em cada coluna é >= 0\n",
    "min_values = df.select([min(col(c)).alias(c) for c in columns_to_check]).first().asDict()\n",
    "\n",
    "all_positive = all(value >= 0 for value in min_values.values())\n",
    "\n",
    "if all_positive:\n",
    "    print(f\"Todos os valores nas colunas {columns_to_check} são positivos.\")\n",
    "else:\n",
    "    negative_columns = [col_name for col_name, min_val in min_values.items() if min_val < 0]\n",
    "    print(f\"Valores negativos encontrados nas colunas: {negative_columns}\")"
   ]
  },
  {
   "cell_type": "code",
   "execution_count": 0,
   "metadata": {
    "application/vnd.databricks.v1+cell": {
     "cellMetadata": {
      "byteLimit": 2048000,
      "rowLimit": 10000
     },
     "inputWidgets": {},
     "nuid": "17e1ac50-e38e-40c8-b848-f99cf988e343",
     "showTitle": true,
     "tableResultSettingsMap": {},
     "title": "Verificar se os valores da base exp_2024 são todos positivos"
    }
   },
   "outputs": [
    {
     "output_type": "stream",
     "name": "stdout",
     "output_type": "stream",
     "text": [
      "Todos os valores nas colunas ['QT_ESTAT', 'KG_LIQUIDO', 'VL_FOB'] são positivos.\n"
     ]
    }
   ],
   "source": [
    "#Verificar se os valores da base exp_2024 são todos positivos\n",
    "\n",
    "from pyspark.sql import SparkSession\n",
    "from pyspark.sql.functions import col, min\n",
    "\n",
    "spark = SparkSession.builder.appName(\"VerificarPositivosExportacao\").getOrCreate()\n",
    "table_name = \"silver.exp_2024\"\n",
    "columns_to_check = [\"QT_ESTAT\", \"KG_LIQUIDO\", \"VL_FOB\"]\n",
    "df = spark.table(table_name)\n",
    "\n",
    "# Verifique se o valor mínimo em cada coluna é >= 0\n",
    "min_values = df.select([min(col(c)).alias(c) for c in columns_to_check]).first().asDict()\n",
    "\n",
    "all_positive = all(value >= 0 for value in min_values.values())\n",
    "\n",
    "if all_positive:\n",
    "    print(f\"Todos os valores nas colunas {columns_to_check} são positivos.\")\n",
    "else:\n",
    "    negative_columns = [col_name for col_name, min_val in min_values.items() if min_val < 0]\n",
    "    print(f\"Valores negativos encontrados nas colunas: {negative_columns}\")"
   ]
  },
  {
   "cell_type": "code",
   "execution_count": 0,
   "metadata": {
    "application/vnd.databricks.v1+cell": {
     "cellMetadata": {
      "byteLimit": 2048000,
      "rowLimit": 10000
     },
     "inputWidgets": {},
     "nuid": "cd491227-2f43-45e7-8a60-1daccce23cdb",
     "showTitle": false,
     "tableResultSettingsMap": {},
     "title": ""
    }
   },
   "outputs": [
    {
     "output_type": "stream",
     "name": "stdout",
     "output_type": "stream",
     "text": [
      "Out[19]: <bound method SparkSession.stop of <pyspark.sql.session.SparkSession object at 0x78a7a80e39a0>>"
     ]
    }
   ],
   "source": [
    "# Encerrar a sessão Spark\n",
    "spark.stop"
   ]
  },
  {
   "cell_type": "code",
   "execution_count": 0,
   "metadata": {
    "application/vnd.databricks.v1+cell": {
     "cellMetadata": {
      "byteLimit": 2048000,
      "rowLimit": 10000
     },
     "inputWidgets": {},
     "nuid": "6d9b0dd6-cf65-4bdf-bab8-192e5a2ddc99",
     "showTitle": true,
     "tableResultSettingsMap": {},
     "title": "Remover duplicadas da base co_unid"
    }
   },
   "outputs": [],
   "source": [
    "#Remover duplicadas da base co_unid\n",
    "\n",
    "from pyspark.sql import SparkSession\n",
    "\n",
    "spark = SparkSession.builder.appName(\"RemoverDuplicatasColunas\").getOrCreate()\n",
    "\n",
    "tabela_origem = \"bronze.co_unid\"\n",
    "tabela_destino = \"silver.co_unid\" # Ou a mesma tabela se quiser sobrescrever\n",
    "\n",
    "df = spark.read.table(tabela_origem)\n",
    "\n",
    "colunas_para_considerar = [\"CO_UNID\", \"NO_UNID\", \"SG_UNID\"]\n",
    "df_sem_duplicatas = df.dropDuplicates(colunas_para_considerar)\n",
    "\n",
    "df_sem_duplicatas.write \\\n",
    "    .mode(\"overwrite\") \\\n",
    "    .saveAsTable(tabela_destino)"
   ]
  },
  {
   "cell_type": "code",
   "execution_count": 0,
   "metadata": {
    "application/vnd.databricks.v1+cell": {
     "cellMetadata": {
      "byteLimit": 2048000,
      "rowLimit": 10000
     },
     "inputWidgets": {},
     "nuid": "9882e67f-887f-496a-8a57-283a37f105e8",
     "showTitle": false,
     "tableResultSettingsMap": {},
     "title": ""
    }
   },
   "outputs": [
    {
     "output_type": "stream",
     "name": "stdout",
     "output_type": "stream",
     "text": [
      "Out[21]: <bound method SparkSession.stop of <pyspark.sql.session.SparkSession object at 0x78a7a80e39a0>>"
     ]
    }
   ],
   "source": [
    "# Encerrar a sessão Spark\n",
    "spark.stop"
   ]
  },
  {
   "cell_type": "code",
   "execution_count": 0,
   "metadata": {
    "application/vnd.databricks.v1+cell": {
     "cellMetadata": {
      "byteLimit": 2048000,
      "rowLimit": 10000
     },
     "inputWidgets": {},
     "nuid": "c3287ebd-def3-4f19-944d-dd4062ef4fa8",
     "showTitle": true,
     "tableResultSettingsMap": {},
     "title": "Remover valores nulos de co_ncm"
    }
   },
   "outputs": [],
   "source": [
    "#Remover valores nulos de co_ncm\n",
    "\n",
    "from pyspark.sql import SparkSession\n",
    "\n",
    "# Inicialize a SparkSession (se ainda não estiver ativa)\n",
    "spark = SparkSession.builder.appName(\"ProcessarCO_NCM\").getOrCreate()\n",
    "\n",
    "# Carregue a tabela bronze.co_ncm como um DataFrame\n",
    "bronze_co_ncm_df = spark.table(\"bronze.co_ncm\")\n",
    "\n",
    "# Remova as linhas onde a coluna \"co_ncm_por\" é nula\n",
    "silver_co_ncm_df = bronze_co_ncm_df.filter(bronze_co_ncm_df[\"no_ncm_por\"].isNotNull())\n",
    "\n",
    "# Salve o DataFrame resultante na tabela silver.co_ncm, sobrescrevendo se já existir\n",
    "silver_co_ncm_df.write.mode(\"overwrite\").saveAsTable(\"silver.co_ncm\")"
   ]
  },
  {
   "cell_type": "code",
   "execution_count": 0,
   "metadata": {
    "application/vnd.databricks.v1+cell": {
     "cellMetadata": {
      "byteLimit": 2048000,
      "rowLimit": 10000
     },
     "inputWidgets": {},
     "nuid": "8b1cf294-52ca-4944-abe5-5776cd68c862",
     "showTitle": true,
     "tableResultSettingsMap": {},
     "title": "Criar coluna data"
    }
   },
   "outputs": [
    {
     "output_type": "stream",
     "name": "stdout",
     "output_type": "stream",
     "text": [
      "Processando tabela: silver.imp_2024\nProcessando tabela: silver.exp_2024\n"
     ]
    }
   ],
   "source": [
    "#Criar coluna data\n",
    "\n",
    "from pyspark.sql import SparkSession\n",
    "from pyspark.sql.functions import make_date, lit\n",
    "\n",
    "spark = SparkSession.builder.appName(\"UnirAnoMesParaData\").getOrCreate()\n",
    "\n",
    "tabelas_silver = [\"silver.imp_2024\", \"silver.exp_2024\"]\n",
    "\n",
    "for tabela_silver in tabelas_silver:\n",
    "    print(f\"Processando tabela: {tabela_silver}\")\n",
    "    df = spark.table(tabela_silver)\n",
    "    \n",
    "    df_com_data = df.withColumn(\"DATA\", make_date(df[\"CO_ANO\"], df[\"CO_MES\"], lit(1)))\n",
    "\n",
    "    # Excluindo as colunas CO_ANO e CO_MES\n",
    "    df_sem_ano_mes = df_com_data.drop(\"CO_ANO\", \"CO_MES\",\"DT_IMPORTACAO\",\"DATA_2\")\n",
    "\n",
    "    # Escrevendo o DataFrame de volta na tabela\n",
    "    df_sem_ano_mes.write.mode(\"overwrite\").option(\"overwriteSchema\", \"true\").saveAsTable(tabela_silver)"
   ]
  },
  {
   "cell_type": "code",
   "execution_count": 0,
   "metadata": {
    "application/vnd.databricks.v1+cell": {
     "cellMetadata": {
      "byteLimit": 2048000,
      "rowLimit": 10000
     },
     "inputWidgets": {},
     "nuid": "8febf342-472f-47dc-b3cb-0432f1fc97c9",
     "showTitle": false,
     "tableResultSettingsMap": {},
     "title": ""
    }
   },
   "outputs": [
    {
     "output_type": "stream",
     "name": "stdout",
     "output_type": "stream",
     "text": [
      "Out[24]: <bound method SparkSession.stop of <pyspark.sql.session.SparkSession object at 0x78a7a80e39a0>>"
     ]
    }
   ],
   "source": [
    "# Encerrar a sessão Spark\n",
    "spark.stop"
   ]
  },
  {
   "cell_type": "code",
   "execution_count": 0,
   "metadata": {
    "application/vnd.databricks.v1+cell": {
     "cellMetadata": {
      "byteLimit": 2048000,
      "implicitDf": true,
      "rowLimit": 10000
     },
     "inputWidgets": {},
     "nuid": "c4eb8719-7ada-450e-ae74-0b5b2f617b32",
     "showTitle": true,
     "tableResultSettingsMap": {},
     "title": "Criar database gold"
    }
   },
   "outputs": [
    {
     "output_type": "display_data",
     "data": {
      "text/html": [
       "<style scoped>\n",
       "  .table-result-container {\n",
       "    max-height: 300px;\n",
       "    overflow: auto;\n",
       "  }\n",
       "  table, th, td {\n",
       "    border: 1px solid black;\n",
       "    border-collapse: collapse;\n",
       "  }\n",
       "  th, td {\n",
       "    padding: 5px;\n",
       "  }\n",
       "  th {\n",
       "    text-align: left;\n",
       "  }\n",
       "</style><div class='table-result-container'><table class='table-result'><thead style='background-color: white'><tr></tr></thead><tbody></tbody></table></div>"
      ]
     },
     "metadata": {
      "application/vnd.databricks.v1+output": {
       "addedWidgets": {},
       "aggData": [],
       "aggError": "",
       "aggOverflow": false,
       "aggSchema": [],
       "aggSeriesLimitReached": false,
       "aggType": "",
       "arguments": {},
       "columnCustomDisplayInfos": {},
       "data": [],
       "datasetInfos": [],
       "dbfsResultPath": null,
       "isJsonSchema": true,
       "metadata": {},
       "overflow": false,
       "plotOptions": {
        "customPlotOptions": {},
        "displayType": "table",
        "pivotAggregation": null,
        "pivotColumns": null,
        "xColumns": null,
        "yColumns": null
       },
       "removedWidgets": [],
       "schema": [],
       "type": "table"
      }
     },
     "output_type": "display_data"
    }
   ],
   "source": [
    "%sql create database gold;\n",
    "--Criar database gold"
   ]
  },
  {
   "cell_type": "code",
   "execution_count": 0,
   "metadata": {
    "application/vnd.databricks.v1+cell": {
     "cellMetadata": {
      "byteLimit": 2048000,
      "implicitDf": true,
      "rowLimit": 10000
     },
     "inputWidgets": {},
     "nuid": "0e967270-d266-4f92-92f4-217fe5738bd9",
     "showTitle": true,
     "tableResultSettingsMap": {},
     "title": "Criar tabela flat de importacao"
    }
   },
   "outputs": [],
   "source": [
    "#Criar tabela flat de importacao\n",
    "\n",
    "join_sql = \"\"\"\n",
    "SELECT\n",
    "    imp.DATA,\n",
    "    imp.CO_NCM,\n",
    "    ncm.NO_NCM_POR,\n",
    "    imp.CO_PAIS,\n",
    "    pais.CO_PAIS_ISOA3,\n",
    "    pais.NO_PAIS,\n",
    "    imp.SG_UF_NCM,\n",
    "    imp.CO_UNID,\n",
    "    unid.NO_UNID,\n",
    "    unid.SG_UNID,\n",
    "    imp.CO_URF,\n",
    "    urf.NO_URF,\n",
    "    imp.CO_VIA,\n",
    "    via.NO_VIA,\n",
    "    imp.QT_ESTAT,\n",
    "    imp.KG_LIQUIDO,\n",
    "    imp.VL_FOB,\n",
    "    imp.VL_FRETE,\n",
    "    imp.VL_SEGURO,\n",
    "    imp.VL_FOB + imp.VL_FRETE + imp.VL_SEGURO AS VL_CIF\n",
    "FROM\n",
    "    silver.imp_2024 imp\n",
    "LEFT JOIN\n",
    "    silver.co_ncm ncm ON imp.CO_NCM = ncm.CO_NCM\n",
    "LEFT JOIN\n",
    "    silver.co_pais pais ON imp.CO_PAIS = pais.CO_PAIS\n",
    "LEFT JOIN\n",
    "    silver.co_via via ON imp.CO_VIA = via.CO_VIA\n",
    "LEFT JOIN\n",
    "    silver.co_urf urf ON imp.CO_URF = urf.CO_URF\n",
    "LEFT JOIN\n",
    "    silver.co_unid unid ON imp.CO_UNID = unid.CO_UNID;\n",
    "\"\"\"\n",
    "\n",
    "joined_df = spark.sql(join_sql)\n",
    "\n",
    "# Selecione explicitamente as colunas na ordem desejada para um novo DataFrame\n",
    "selected_df = joined_df.select(\n",
    "    \"DATA\",\n",
    "    \"CO_NCM\",\n",
    "    \"NO_NCM_POR\",\n",
    "    \"CO_PAIS\",\n",
    "    \"CO_PAIS_ISOA3\",\n",
    "    \"NO_PAIS\",\n",
    "    \"SG_UF_NCM\",\n",
    "    \"CO_UNID\",\n",
    "    \"NO_UNID\",\n",
    "    \"SG_UNID\",\n",
    "    \"CO_URF\",\n",
    "    \"NO_URF\",\n",
    "    \"CO_VIA\",\n",
    "    \"NO_VIA\",\n",
    "    \"QT_ESTAT\",\n",
    "    \"KG_LIQUIDO\",\n",
    "    \"VL_FOB\",\n",
    "    \"VL_FRETE\",\n",
    "    \"VL_SEGURO\",\n",
    "    \"VL_CIF\"\n",
    ")\n",
    "\n",
    "# Salve o DataFrame selecionado\n",
    "selected_df.write.mode(\"overwrite\").option(\"overwriteSchema\", \"true\").saveAsTable(\"gold.BD_importacao\")"
   ]
  },
  {
   "cell_type": "code",
   "execution_count": 0,
   "metadata": {
    "application/vnd.databricks.v1+cell": {
     "cellMetadata": {
      "byteLimit": 2048000,
      "rowLimit": 10000
     },
     "inputWidgets": {},
     "nuid": "f67279e3-093d-4ce4-b6b7-4ab0e4932681",
     "showTitle": false,
     "tableResultSettingsMap": {},
     "title": ""
    }
   },
   "outputs": [
    {
     "output_type": "stream",
     "name": "stdout",
     "output_type": "stream",
     "text": [
      "Out[28]: <bound method SparkSession.stop of <pyspark.sql.session.SparkSession object at 0x78a7a80e39a0>>"
     ]
    }
   ],
   "source": [
    "# Encerrar a sessão Spark\n",
    "spark.stop"
   ]
  },
  {
   "cell_type": "code",
   "execution_count": 0,
   "metadata": {
    "application/vnd.databricks.v1+cell": {
     "cellMetadata": {
      "byteLimit": 2048000,
      "rowLimit": 10000
     },
     "inputWidgets": {},
     "nuid": "3add4efe-d4ae-412b-8eaf-5128b8b0d9f2",
     "showTitle": true,
     "tableResultSettingsMap": {},
     "title": "Criar tabela fla de exportação"
    }
   },
   "outputs": [],
   "source": [
    "#Criar tabela fla de exportação\n",
    "\n",
    "join_sql = \"\"\"\n",
    "SELECT\n",
    "    exp.DATA,\n",
    "    exp.CO_NCM,\n",
    "    ncm.NO_NCM_POR,\n",
    "    exp.CO_PAIS,\n",
    "    pais.CO_PAIS_ISOA3,\n",
    "    pais.NO_PAIS,\n",
    "    exp.SG_UF_NCM,\n",
    "    exp.CO_URF,\n",
    "    urf.NO_URF,\n",
    "    exp.CO_VIA,\n",
    "    via.NO_VIA,\n",
    "    exp.QT_ESTAT,\n",
    "    exp.KG_LIQUIDO,\n",
    "    exp.VL_FOB\n",
    "FROM\n",
    "    silver.exp_2024 exp\n",
    "LEFT JOIN\n",
    "    silver.co_ncm ncm ON exp.CO_NCM = ncm.CO_NCM\n",
    "LEFT JOIN\n",
    "    silver.co_pais pais ON exp.CO_PAIS = pais.CO_PAIS\n",
    "LEFT JOIN\n",
    "    silver.co_via via ON exp.CO_VIA = via.CO_VIA\n",
    "LEFT JOIN\n",
    "    silver.co_urf urf ON exp.CO_URF = urf.CO_URF\n",
    "LEFT JOIN\n",
    "    silver.co_unid unid ON exp.CO_UNID = unid.CO_UNID;\n",
    "\"\"\"\n",
    "\n",
    "joined_df = spark.sql(join_sql)\n",
    "\n",
    "# Selecione explicitamente as colunas na ordem desejada para um novo DataFrame\n",
    "selected_df = joined_df.select(\n",
    "    \"DATA\",\n",
    "    \"CO_NCM\",\n",
    "    \"NO_NCM_POR\",\n",
    "    \"CO_PAIS\",\n",
    "    \"CO_PAIS_ISOA3\",\n",
    "    \"NO_PAIS\",\n",
    "    \"SG_UF_NCM\",\n",
    "    \"CO_URF\",\n",
    "    \"NO_URF\",\n",
    "    \"CO_VIA\",\n",
    "    \"NO_VIA\",\n",
    "    \"QT_ESTAT\",\n",
    "    \"KG_LIQUIDO\",\n",
    "    \"VL_FOB\"\n",
    ")\n",
    "\n",
    "# Salve o DataFrame selecionado\n",
    "selected_df.write.mode(\"overwrite\").option(\"overwriteSchema\", \"true\").saveAsTable(\"gold.BD_exportacao\")"
   ]
  },
  {
   "cell_type": "code",
   "execution_count": 0,
   "metadata": {
    "application/vnd.databricks.v1+cell": {
     "cellMetadata": {
      "byteLimit": 2048000,
      "implicitDf": true,
      "rowLimit": 10000
     },
     "inputWidgets": {},
     "nuid": "968c2b8d-50c0-4568-bbbe-9f72889458f8",
     "showTitle": true,
     "tableResultSettingsMap": {},
     "title": "Verificar se tem nulos nas tabelas flat"
    }
   },
   "outputs": [
    {
     "output_type": "stream",
     "name": "stdout",
     "output_type": "stream",
     "text": [
      "Verificando valores nulos na tabela: gold.bd_importacao\n  A coluna 'DATA' não contém valores nulos.\n  A coluna 'CO_NCM' não contém valores nulos.\n  A coluna 'NO_NCM_POR' contém valores nulos.\n  A coluna 'CO_PAIS' não contém valores nulos.\n  A coluna 'CO_PAIS_ISOA3' não contém valores nulos.\n  A coluna 'NO_PAIS' não contém valores nulos.\n  A coluna 'SG_UF_NCM' não contém valores nulos.\n  A coluna 'CO_UNID' não contém valores nulos.\n  A coluna 'NO_UNID' não contém valores nulos.\n  A coluna 'SG_UNID' não contém valores nulos.\n  A coluna 'CO_URF' não contém valores nulos.\n  A coluna 'NO_URF' não contém valores nulos.\n  A coluna 'CO_VIA' não contém valores nulos.\n  A coluna 'NO_VIA' não contém valores nulos.\n  A coluna 'QT_ESTAT' não contém valores nulos.\n  A coluna 'KG_LIQUIDO' não contém valores nulos.\n  A coluna 'VL_FOB' não contém valores nulos.\n  A coluna 'VL_FRETE' não contém valores nulos.\n  A coluna 'VL_SEGURO' não contém valores nulos.\n  A coluna 'VL_CIF' não contém valores nulos.\n------------------------------\nVerificando valores nulos na tabela: gold.bd_exportacao\n  A coluna 'DATA' não contém valores nulos.\n  A coluna 'CO_NCM' não contém valores nulos.\n  A coluna 'NO_NCM_POR' contém valores nulos.\n  A coluna 'CO_PAIS' não contém valores nulos.\n  A coluna 'CO_PAIS_ISOA3' não contém valores nulos.\n  A coluna 'NO_PAIS' não contém valores nulos.\n  A coluna 'SG_UF_NCM' não contém valores nulos.\n  A coluna 'CO_URF' não contém valores nulos.\n  A coluna 'NO_URF' não contém valores nulos.\n  A coluna 'CO_VIA' não contém valores nulos.\n  A coluna 'NO_VIA' não contém valores nulos.\n  A coluna 'QT_ESTAT' contém valores nulos.\n  A coluna 'KG_LIQUIDO' contém valores nulos.\n  A coluna 'VL_FOB' não contém valores nulos.\n------------------------------\n"
     ]
    }
   ],
   "source": [
    "#Verificar se tem nulos nas tabelas flat\n",
    "\n",
    "from pyspark.sql import SparkSession\n",
    "from pyspark.sql.functions import col\n",
    "\n",
    "spark = SparkSession.builder.appName(\"VerificarNulosMultiplasTabelas\").getOrCreate()\n",
    "\n",
    "tabelas = [\n",
    "    \"gold.bd_importacao\",\n",
    "    \"gold.bd_exportacao\"\n",
    "]\n",
    "\n",
    "for tabela in tabelas:\n",
    "    print(f\"Verificando valores nulos na tabela: {tabela}\")\n",
    "    df = spark.table(tabela)\n",
    "    for coluna in df.columns:\n",
    "        existe_nulo = df.filter(col(coluna).isNull()).count() > 0\n",
    "        if existe_nulo:\n",
    "            print(f\"  A coluna '{coluna}' contém valores nulos.\")\n",
    "        else:\n",
    "            print(f\"  A coluna '{coluna}' não contém valores nulos.\")\n",
    "    print(\"-\" * 30)"
   ]
  },
  {
   "cell_type": "code",
   "execution_count": 0,
   "metadata": {
    "application/vnd.databricks.v1+cell": {
     "cellMetadata": {
      "byteLimit": 2048000,
      "implicitDf": true,
      "rowLimit": 10000
     },
     "inputWidgets": {},
     "nuid": "a3f403d0-3439-43ae-b495-b6aa46da660e",
     "showTitle": true,
     "tableResultSettingsMap": {},
     "title": "Valor total de importações"
    }
   },
   "outputs": [
    {
     "output_type": "display_data",
     "data": {
      "text/html": [
       "<style scoped>\n",
       "  .table-result-container {\n",
       "    max-height: 300px;\n",
       "    overflow: auto;\n",
       "  }\n",
       "  table, th, td {\n",
       "    border: 1px solid black;\n",
       "    border-collapse: collapse;\n",
       "  }\n",
       "  th, td {\n",
       "    padding: 5px;\n",
       "  }\n",
       "  th {\n",
       "    text-align: left;\n",
       "  }\n",
       "</style><div class='table-result-container'><table class='table-result'><thead style='background-color: white'><tr><th>valor_total_importado</th><th>kg_total_importado</th></tr></thead><tbody><tr><td>277954083297</td><td>185124462140</td></tr></tbody></table></div>"
      ]
     },
     "metadata": {
      "application/vnd.databricks.v1+output": {
       "addedWidgets": {},
       "aggData": [],
       "aggError": "",
       "aggOverflow": false,
       "aggSchema": [],
       "aggSeriesLimitReached": false,
       "aggType": "",
       "arguments": {},
       "columnCustomDisplayInfos": {},
       "data": [
        [
         277954083297,
         185124462140
        ]
       ],
       "datasetInfos": [],
       "dbfsResultPath": null,
       "isJsonSchema": true,
       "metadata": {},
       "overflow": false,
       "plotOptions": {
        "customPlotOptions": {},
        "displayType": "table",
        "pivotAggregation": null,
        "pivotColumns": null,
        "xColumns": null,
        "yColumns": null
       },
       "removedWidgets": [],
       "schema": [
        {
         "metadata": "{}",
         "name": "valor_total_importado",
         "type": "\"long\""
        },
        {
         "metadata": "{}",
         "name": "kg_total_importado",
         "type": "\"long\""
        }
       ],
       "type": "table"
      }
     },
     "output_type": "display_data"
    }
   ],
   "source": [
    "%sql\n",
    "--Valor total de importações\n",
    "\n",
    "SELECT\n",
    "    SUM(VL_CIF) AS valor_total_importado,\n",
    "    SUM(KG_LIQUIDO) AS kg_total_importado\n",
    "FROM gold.BD_importacao\n",
    "GROUP BY ALL;"
   ]
  },
  {
   "cell_type": "code",
   "execution_count": 0,
   "metadata": {
    "application/vnd.databricks.v1+cell": {
     "cellMetadata": {
      "byteLimit": 2048000,
      "implicitDf": true,
      "rowLimit": 10000
     },
     "inputWidgets": {},
     "nuid": "4c8e14b7-df62-4072-bc6c-bb41eb7245c5",
     "showTitle": true,
     "tableResultSettingsMap": {},
     "title": "Valor total de exportações"
    }
   },
   "outputs": [
    {
     "output_type": "display_data",
     "data": {
      "text/html": [
       "<style scoped>\n",
       "  .table-result-container {\n",
       "    max-height: 300px;\n",
       "    overflow: auto;\n",
       "  }\n",
       "  table, th, td {\n",
       "    border: 1px solid black;\n",
       "    border-collapse: collapse;\n",
       "  }\n",
       "  th, td {\n",
       "    padding: 5px;\n",
       "  }\n",
       "  th {\n",
       "    text-align: left;\n",
       "  }\n",
       "</style><div class='table-result-container'><table class='table-result'><thead style='background-color: white'><tr><th>kg_total_exportado</th><th>valor_total_exportado</th></tr></thead><tbody><tr><td>558962051049</td><td>337046161710</td></tr></tbody></table></div>"
      ]
     },
     "metadata": {
      "application/vnd.databricks.v1+output": {
       "addedWidgets": {},
       "aggData": [],
       "aggError": "",
       "aggOverflow": false,
       "aggSchema": [],
       "aggSeriesLimitReached": false,
       "aggType": "",
       "arguments": {},
       "columnCustomDisplayInfos": {},
       "data": [
        [
         558962051049,
         337046161710
        ]
       ],
       "datasetInfos": [],
       "dbfsResultPath": null,
       "isJsonSchema": true,
       "metadata": {},
       "overflow": false,
       "plotOptions": {
        "customPlotOptions": {},
        "displayType": "table",
        "pivotAggregation": null,
        "pivotColumns": null,
        "xColumns": null,
        "yColumns": null
       },
       "removedWidgets": [],
       "schema": [
        {
         "metadata": "{}",
         "name": "kg_total_exportado",
         "type": "\"long\""
        },
        {
         "metadata": "{}",
         "name": "valor_total_exportado",
         "type": "\"long\""
        }
       ],
       "type": "table"
      }
     },
     "output_type": "display_data"
    }
   ],
   "source": [
    "%sql\n",
    "--Valor total de exportações\n",
    "\n",
    "SELECT\n",
    "    SUM(KG_LIQUIDO) AS kg_total_exportado,\n",
    "    SUM(VL_FOB) AS valor_total_exportado\n",
    "FROM gold.BD_exportacao\n",
    "GROUP BY ALL;"
   ]
  },
  {
   "cell_type": "code",
   "execution_count": 0,
   "metadata": {
    "application/vnd.databricks.v1+cell": {
     "cellMetadata": {
      "byteLimit": 2048000,
      "implicitDf": true,
      "rowLimit": 10000
     },
     "inputWidgets": {},
     "nuid": "5d42b011-daed-4ea4-bf30-abcfd5960a21",
     "showTitle": true,
     "tableResultSettingsMap": {},
     "title": "Valor total de importações por mês"
    }
   },
   "outputs": [
    {
     "output_type": "display_data",
     "data": {
      "text/html": [
       "<style scoped>\n",
       "  .table-result-container {\n",
       "    max-height: 300px;\n",
       "    overflow: auto;\n",
       "  }\n",
       "  table, th, td {\n",
       "    border: 1px solid black;\n",
       "    border-collapse: collapse;\n",
       "  }\n",
       "  th, td {\n",
       "    padding: 5px;\n",
       "  }\n",
       "  th {\n",
       "    text-align: left;\n",
       "  }\n",
       "</style><div class='table-result-container'><table class='table-result'><thead style='background-color: white'><tr><th>DATA</th><th>valor_total_importado</th><th>kg_total_importado</th></tr></thead><tbody><tr><td>2024-01-01</td><td>21547872126</td><td>14271017741</td></tr><tr><td>2024-02-01</td><td>19114733823</td><td>11934058507</td></tr><tr><td>2024-03-01</td><td>21495520722</td><td>14131530601</td></tr><tr><td>2024-04-01</td><td>22979305733</td><td>14996217579</td></tr><tr><td>2024-05-01</td><td>22980758432</td><td>15314763004</td></tr><tr><td>2024-06-01</td><td>23614174503</td><td>15987102494</td></tr><tr><td>2024-07-01</td><td>24631610572</td><td>16852324457</td></tr><tr><td>2024-08-01</td><td>25743997254</td><td>17627190679</td></tr><tr><td>2024-09-01</td><td>24918269544</td><td>17357163569</td></tr><tr><td>2024-10-01</td><td>26863041835</td><td>18626111446</td></tr><tr><td>2024-11-01</td><td>22503312132</td><td>14525738297</td></tr><tr><td>2024-12-01</td><td>21561486621</td><td>13501243766</td></tr></tbody></table></div>"
      ]
     },
     "metadata": {
      "application/vnd.databricks.v1+output": {
       "addedWidgets": {},
       "aggData": [],
       "aggError": "",
       "aggOverflow": false,
       "aggSchema": [],
       "aggSeriesLimitReached": false,
       "aggType": "",
       "arguments": {},
       "columnCustomDisplayInfos": {},
       "data": [
        [
         "2024-01-01",
         21547872126,
         14271017741
        ],
        [
         "2024-02-01",
         19114733823,
         11934058507
        ],
        [
         "2024-03-01",
         21495520722,
         14131530601
        ],
        [
         "2024-04-01",
         22979305733,
         14996217579
        ],
        [
         "2024-05-01",
         22980758432,
         15314763004
        ],
        [
         "2024-06-01",
         23614174503,
         15987102494
        ],
        [
         "2024-07-01",
         24631610572,
         16852324457
        ],
        [
         "2024-08-01",
         25743997254,
         17627190679
        ],
        [
         "2024-09-01",
         24918269544,
         17357163569
        ],
        [
         "2024-10-01",
         26863041835,
         18626111446
        ],
        [
         "2024-11-01",
         22503312132,
         14525738297
        ],
        [
         "2024-12-01",
         21561486621,
         13501243766
        ]
       ],
       "datasetInfos": [],
       "dbfsResultPath": null,
       "isJsonSchema": true,
       "metadata": {},
       "overflow": false,
       "plotOptions": {
        "customPlotOptions": {},
        "displayType": "table",
        "pivotAggregation": null,
        "pivotColumns": null,
        "xColumns": null,
        "yColumns": null
       },
       "removedWidgets": [],
       "schema": [
        {
         "metadata": "{}",
         "name": "DATA",
         "type": "\"date\""
        },
        {
         "metadata": "{}",
         "name": "valor_total_importado",
         "type": "\"long\""
        },
        {
         "metadata": "{}",
         "name": "kg_total_importado",
         "type": "\"long\""
        }
       ],
       "type": "table"
      }
     },
     "output_type": "display_data"
    }
   ],
   "source": [
    "%sql\n",
    "--Valor total de importações por mês\n",
    "\n",
    "SELECT\n",
    "    DATA,\n",
    "    SUM(VL_CIF) AS valor_total_importado,\n",
    "    SUM(KG_LIQUIDO) AS kg_total_importado\n",
    "FROM gold.BD_importacao\n",
    "GROUP BY ALL\n",
    "ORDER BY DATA;"
   ]
  },
  {
   "cell_type": "code",
   "execution_count": 0,
   "metadata": {
    "application/vnd.databricks.v1+cell": {
     "cellMetadata": {
      "byteLimit": 2048000,
      "implicitDf": true,
      "rowLimit": 10000
     },
     "inputWidgets": {},
     "nuid": "c6aeec42-b81f-4e7b-b1a5-41c0ccac4697",
     "showTitle": true,
     "tableResultSettingsMap": {},
     "title": "Valor total de exportações por mês"
    }
   },
   "outputs": [
    {
     "output_type": "display_data",
     "data": {
      "text/html": [
       "<style scoped>\n",
       "  .table-result-container {\n",
       "    max-height: 300px;\n",
       "    overflow: auto;\n",
       "  }\n",
       "  table, th, td {\n",
       "    border: 1px solid black;\n",
       "    border-collapse: collapse;\n",
       "  }\n",
       "  th, td {\n",
       "    padding: 5px;\n",
       "  }\n",
       "  th {\n",
       "    text-align: left;\n",
       "  }\n",
       "</style><div class='table-result-container'><table class='table-result'><thead style='background-color: white'><tr><th>DATA</th><th>kg_total_exportado</th><th>valor_total_exportado</th></tr></thead><tbody><tr><td>2024-01-01</td><td>41008790865</td><td>26702655353</td></tr><tr><td>2024-02-01</td><td>38357975430</td><td>23348254025</td></tr><tr><td>2024-03-01</td><td>49999567069</td><td>27657419417</td></tr><tr><td>2024-04-01</td><td>51584087920</td><td>30327524963</td></tr><tr><td>2024-05-01</td><td>50667003654</td><td>30190264650</td></tr><tr><td>2024-06-01</td><td>47727339606</td><td>28731639979</td></tr><tr><td>2024-07-01</td><td>53383018078</td><td>30841394890</td></tr><tr><td>2024-08-01</td><td>47864657915</td><td>28736329972</td></tr><tr><td>2024-09-01</td><td>48368034189</td><td>28471402288</td></tr><tr><td>2024-10-01</td><td>47022265242</td><td>29300866189</td></tr><tr><td>2024-11-01</td><td>43097050571</td><td>27857365197</td></tr><tr><td>2024-12-01</td><td>39882260510</td><td>24881044787</td></tr></tbody></table></div>"
      ]
     },
     "metadata": {
      "application/vnd.databricks.v1+output": {
       "addedWidgets": {},
       "aggData": [],
       "aggError": "",
       "aggOverflow": false,
       "aggSchema": [],
       "aggSeriesLimitReached": false,
       "aggType": "",
       "arguments": {},
       "columnCustomDisplayInfos": {},
       "data": [
        [
         "2024-01-01",
         41008790865,
         26702655353
        ],
        [
         "2024-02-01",
         38357975430,
         23348254025
        ],
        [
         "2024-03-01",
         49999567069,
         27657419417
        ],
        [
         "2024-04-01",
         51584087920,
         30327524963
        ],
        [
         "2024-05-01",
         50667003654,
         30190264650
        ],
        [
         "2024-06-01",
         47727339606,
         28731639979
        ],
        [
         "2024-07-01",
         53383018078,
         30841394890
        ],
        [
         "2024-08-01",
         47864657915,
         28736329972
        ],
        [
         "2024-09-01",
         48368034189,
         28471402288
        ],
        [
         "2024-10-01",
         47022265242,
         29300866189
        ],
        [
         "2024-11-01",
         43097050571,
         27857365197
        ],
        [
         "2024-12-01",
         39882260510,
         24881044787
        ]
       ],
       "datasetInfos": [],
       "dbfsResultPath": null,
       "isJsonSchema": true,
       "metadata": {},
       "overflow": false,
       "plotOptions": {
        "customPlotOptions": {},
        "displayType": "table",
        "pivotAggregation": null,
        "pivotColumns": null,
        "xColumns": null,
        "yColumns": null
       },
       "removedWidgets": [],
       "schema": [
        {
         "metadata": "{}",
         "name": "DATA",
         "type": "\"date\""
        },
        {
         "metadata": "{}",
         "name": "kg_total_exportado",
         "type": "\"long\""
        },
        {
         "metadata": "{}",
         "name": "valor_total_exportado",
         "type": "\"long\""
        }
       ],
       "type": "table"
      }
     },
     "output_type": "display_data"
    }
   ],
   "source": [
    "%sql\n",
    "--Valor total de exportações por mês\n",
    "\n",
    "SELECT\n",
    "    DATA,\n",
    "    SUM(KG_LIQUIDO) AS kg_total_exportado,\n",
    "    SUM(VL_FOB) AS valor_total_exportado\n",
    "FROM gold.BD_exportacao\n",
    "GROUP BY ALL\n",
    "ORDER BY DATA;"
   ]
  },
  {
   "cell_type": "code",
   "execution_count": 0,
   "metadata": {
    "application/vnd.databricks.v1+cell": {
     "cellMetadata": {
      "byteLimit": 2048000,
      "implicitDf": true,
      "rowLimit": 10000
     },
     "inputWidgets": {},
     "nuid": "dc6bc864-906f-428e-bd55-7ac359f5fb87",
     "showTitle": true,
     "tableResultSettingsMap": {},
     "title": "Principais países de origem das importações"
    }
   },
   "outputs": [
    {
     "output_type": "display_data",
     "data": {
      "text/html": [
       "<style scoped>\n",
       "  .table-result-container {\n",
       "    max-height: 300px;\n",
       "    overflow: auto;\n",
       "  }\n",
       "  table, th, td {\n",
       "    border: 1px solid black;\n",
       "    border-collapse: collapse;\n",
       "  }\n",
       "  th, td {\n",
       "    padding: 5px;\n",
       "  }\n",
       "  th {\n",
       "    text-align: left;\n",
       "  }\n",
       "</style><div class='table-result-container'><table class='table-result'><thead style='background-color: white'><tr><th>pais_origem</th><th>valor_total_importado</th><th>kg_total_importado</th><th>pct_participacao_valor</th></tr></thead><tbody><tr><td>China</td><td>69250007040</td><td>26737510808</td><td>24.9</td></tr><tr><td>Estados Unidos</td><td>42483615914</td><td>32327724687</td><td>15.3</td></tr><tr><td>Alemanha</td><td>14190331014</td><td>1968668072</td><td>5.1</td></tr><tr><td>Argentina</td><td>14083454256</td><td>11044038950</td><td>5.1</td></tr><tr><td>Rússia</td><td>12208621073</td><td>23337603811</td><td>4.4</td></tr><tr><td>Índia</td><td>7267341117</td><td>2123427413</td><td>2.6</td></tr><tr><td>Itália</td><td>6595552965</td><td>844880150</td><td>2.4</td></tr><tr><td>França</td><td>6320237752</td><td>743615219</td><td>2.3</td></tr><tr><td>México</td><td>6009301991</td><td>728495280</td><td>2.2</td></tr><tr><td>Japão</td><td>5672922369</td><td>896919885</td><td>2.0</td></tr></tbody></table></div>"
      ]
     },
     "metadata": {
      "application/vnd.databricks.v1+output": {
       "addedWidgets": {},
       "aggData": [],
       "aggError": "",
       "aggOverflow": false,
       "aggSchema": [],
       "aggSeriesLimitReached": false,
       "aggType": "",
       "arguments": {},
       "columnCustomDisplayInfos": {},
       "data": [
        [
         "China",
         69250007040,
         26737510808,
         "24.9"
        ],
        [
         "Estados Unidos",
         42483615914,
         32327724687,
         "15.3"
        ],
        [
         "Alemanha",
         14190331014,
         1968668072,
         "5.1"
        ],
        [
         "Argentina",
         14083454256,
         11044038950,
         "5.1"
        ],
        [
         "Rússia",
         12208621073,
         23337603811,
         "4.4"
        ],
        [
         "Índia",
         7267341117,
         2123427413,
         "2.6"
        ],
        [
         "Itália",
         6595552965,
         844880150,
         "2.4"
        ],
        [
         "França",
         6320237752,
         743615219,
         "2.3"
        ],
        [
         "México",
         6009301991,
         728495280,
         "2.2"
        ],
        [
         "Japão",
         5672922369,
         896919885,
         "2.0"
        ]
       ],
       "datasetInfos": [],
       "dbfsResultPath": null,
       "isJsonSchema": true,
       "metadata": {},
       "overflow": false,
       "plotOptions": {
        "customPlotOptions": {},
        "displayType": "table",
        "pivotAggregation": null,
        "pivotColumns": null,
        "xColumns": null,
        "yColumns": null
       },
       "removedWidgets": [],
       "schema": [
        {
         "metadata": "{}",
         "name": "pais_origem",
         "type": "\"string\""
        },
        {
         "metadata": "{}",
         "name": "valor_total_importado",
         "type": "\"long\""
        },
        {
         "metadata": "{}",
         "name": "kg_total_importado",
         "type": "\"long\""
        },
        {
         "metadata": "{}",
         "name": "pct_participacao_valor",
         "type": "\"decimal(26,1)\""
        }
       ],
       "type": "table"
      }
     },
     "output_type": "display_data"
    }
   ],
   "source": [
    "%sql\n",
    "--Principais países de origem das importações\n",
    "\n",
    "SELECT\n",
    "    NO_PAIS AS pais_origem,\n",
    "    SUM(VL_CIF) AS valor_total_importado,\n",
    "    SUM(KG_LIQUIDO) AS kg_total_importado,\n",
    "    ROUND((SUM(VL_CIF) * 100.0 / (SELECT SUM(VL_CIF) FROM gold.BD_importacao)),1) AS pct_participacao_valor\n",
    "FROM gold.BD_importacao\n",
    "GROUP BY NO_PAIS\n",
    "ORDER BY valor_total_importado DESC\n",
    "LIMIT 10;"
   ]
  },
  {
   "cell_type": "code",
   "execution_count": 0,
   "metadata": {
    "application/vnd.databricks.v1+cell": {
     "cellMetadata": {
      "byteLimit": 2048000,
      "implicitDf": true,
      "rowLimit": 10000
     },
     "inputWidgets": {},
     "nuid": "ab2ebacf-7700-4d07-bf6d-ebeacf93ae24",
     "showTitle": true,
     "tableResultSettingsMap": {},
     "title": "Principais países de destino das exportações"
    }
   },
   "outputs": [
    {
     "output_type": "display_data",
     "data": {
      "text/html": [
       "<style scoped>\n",
       "  .table-result-container {\n",
       "    max-height: 300px;\n",
       "    overflow: auto;\n",
       "  }\n",
       "  table, th, td {\n",
       "    border: 1px solid black;\n",
       "    border-collapse: collapse;\n",
       "  }\n",
       "  th, td {\n",
       "    padding: 5px;\n",
       "  }\n",
       "  th {\n",
       "    text-align: left;\n",
       "  }\n",
       "</style><div class='table-result-container'><table class='table-result'><thead style='background-color: white'><tr><th>pais_destino</th><th>kg_total_exportado</th><th>valor_total_exportado</th><th>pct_participacao_valor</th></tr></thead><tbody><tr><td>China</td><td>163094576867</td><td>94372036594</td><td>28.0</td></tr><tr><td>Estados Unidos</td><td>40616900178</td><td>40368569157</td><td>12.0</td></tr><tr><td>Argentina</td><td>8014571916</td><td>13777621257</td><td>4.1</td></tr><tr><td>Países Baixos (Holanda)</td><td>24161088670</td><td>11720075021</td><td>3.5</td></tr><tr><td>Espanha</td><td>19467668436</td><td>9969843825</td><td>3.0</td></tr><tr><td>Singapura</td><td>10891090180</td><td>7874539509</td><td>2.3</td></tr><tr><td>México</td><td>6889336666</td><td>7802031715</td><td>2.3</td></tr><tr><td>Chile</td><td>5658427404</td><td>6657592071</td><td>2.0</td></tr><tr><td>Canadá</td><td>8292477454</td><td>6317347891</td><td>1.9</td></tr><tr><td>Alemanha</td><td>5250656157</td><td>5846881069</td><td>1.7</td></tr></tbody></table></div>"
      ]
     },
     "metadata": {
      "application/vnd.databricks.v1+output": {
       "addedWidgets": {},
       "aggData": [],
       "aggError": "",
       "aggOverflow": false,
       "aggSchema": [],
       "aggSeriesLimitReached": false,
       "aggType": "",
       "arguments": {},
       "columnCustomDisplayInfos": {},
       "data": [
        [
         "China",
         163094576867,
         94372036594,
         "28.0"
        ],
        [
         "Estados Unidos",
         40616900178,
         40368569157,
         "12.0"
        ],
        [
         "Argentina",
         8014571916,
         13777621257,
         "4.1"
        ],
        [
         "Países Baixos (Holanda)",
         24161088670,
         11720075021,
         "3.5"
        ],
        [
         "Espanha",
         19467668436,
         9969843825,
         "3.0"
        ],
        [
         "Singapura",
         10891090180,
         7874539509,
         "2.3"
        ],
        [
         "México",
         6889336666,
         7802031715,
         "2.3"
        ],
        [
         "Chile",
         5658427404,
         6657592071,
         "2.0"
        ],
        [
         "Canadá",
         8292477454,
         6317347891,
         "1.9"
        ],
        [
         "Alemanha",
         5250656157,
         5846881069,
         "1.7"
        ]
       ],
       "datasetInfos": [],
       "dbfsResultPath": null,
       "isJsonSchema": true,
       "metadata": {},
       "overflow": false,
       "plotOptions": {
        "customPlotOptions": {},
        "displayType": "table",
        "pivotAggregation": null,
        "pivotColumns": null,
        "xColumns": null,
        "yColumns": null
       },
       "removedWidgets": [],
       "schema": [
        {
         "metadata": "{}",
         "name": "pais_destino",
         "type": "\"string\""
        },
        {
         "metadata": "{}",
         "name": "kg_total_exportado",
         "type": "\"long\""
        },
        {
         "metadata": "{}",
         "name": "valor_total_exportado",
         "type": "\"long\""
        },
        {
         "metadata": "{}",
         "name": "pct_participacao_valor",
         "type": "\"decimal(26,1)\""
        }
       ],
       "type": "table"
      }
     },
     "output_type": "display_data"
    }
   ],
   "source": [
    "%sql\n",
    "--Principais países de destino das exportações\n",
    "\n",
    "SELECT\n",
    "    NO_PAIS AS pais_destino,\n",
    "    SUM(KG_LIQUIDO) AS kg_total_exportado,\n",
    "    SUM(VL_FOB) AS valor_total_exportado,\n",
    "    ROUND((SUM(VL_FOB) * 100.0 / (SELECT SUM(VL_FOB) FROM gold.BD_exportacao)),1) AS pct_participacao_valor\n",
    "FROM gold.BD_exportacao\n",
    "GROUP BY NO_PAIS\n",
    "ORDER BY valor_total_exportado DESC\n",
    "LIMIT 10;"
   ]
  },
  {
   "cell_type": "code",
   "execution_count": 0,
   "metadata": {
    "application/vnd.databricks.v1+cell": {
     "cellMetadata": {
      "byteLimit": 2048000,
      "implicitDf": true,
      "rowLimit": 10000
     },
     "inputWidgets": {},
     "nuid": "032866d7-b85e-4f90-83dc-6e74c7d8b711",
     "showTitle": true,
     "tableResultSettingsMap": {},
     "title": "Principais produtos importados"
    }
   },
   "outputs": [
    {
     "output_type": "display_data",
     "data": {
      "text/html": [
       "<style scoped>\n",
       "  .table-result-container {\n",
       "    max-height: 300px;\n",
       "    overflow: auto;\n",
       "  }\n",
       "  table, th, td {\n",
       "    border: 1px solid black;\n",
       "    border-collapse: collapse;\n",
       "  }\n",
       "  th, td {\n",
       "    padding: 5px;\n",
       "  }\n",
       "  th {\n",
       "    text-align: left;\n",
       "  }\n",
       "</style><div class='table-result-container'><table class='table-result'><thead style='background-color: white'><tr><th>produto</th><th>valor_total_importado</th><th>kg_total_importado</th></tr></thead><tbody><tr><td>Gasóleo (óleo diesel)</td><td>9083984018</td><td>12028127218</td></tr><tr><td>Óleos brutos de petróleo</td><td>8940585469</td><td>13944653402</td></tr><tr><td>Partes de turborreatores ou de turbopropulsores</td><td>4848710598</td><td>310107</td></tr><tr><td>Outros cloretos de potássio</td><td>4116814967</td><td>13651091870</td></tr><tr><td>Turborreatores de empuxo superior a 25 kN</td><td>3459336873</td><td>2351149</td></tr><tr><td>Outros produtos imunológicos, apresentados em doses ou acondicionados para venda a retalho</td><td>3349927462</td><td>666234</td></tr><tr><td>Outros veículos automóveis com motor diesel, para carga <= 5 toneladas</td><td>3315536509</td><td>249046422</td></tr><tr><td>Hulha betuminosa, não aglomerada</td><td>3088453110</td><td>15587414736</td></tr><tr><td>Ureia, mesmo em solução aquosa, com teor de nitrogênio (azoto) superior a 45 %, em peso, calculado sobre o produto anidro no estado seco</td><td>2945689628</td><td>8309735040</td></tr><tr><td>Células fotovoltaicas montadas em módulos ou em painéis</td><td>2875444624</td><td>1237972436</td></tr></tbody></table></div>"
      ]
     },
     "metadata": {
      "application/vnd.databricks.v1+output": {
       "addedWidgets": {},
       "aggData": [],
       "aggError": "",
       "aggOverflow": false,
       "aggSchema": [],
       "aggSeriesLimitReached": false,
       "aggType": "",
       "arguments": {},
       "columnCustomDisplayInfos": {},
       "data": [
        [
         "Gasóleo (óleo diesel)",
         9083984018,
         12028127218
        ],
        [
         "Óleos brutos de petróleo",
         8940585469,
         13944653402
        ],
        [
         "Partes de turborreatores ou de turbopropulsores",
         4848710598,
         310107
        ],
        [
         "Outros cloretos de potássio",
         4116814967,
         13651091870
        ],
        [
         "Turborreatores de empuxo superior a 25 kN",
         3459336873,
         2351149
        ],
        [
         "Outros produtos imunológicos, apresentados em doses ou acondicionados para venda a retalho",
         3349927462,
         666234
        ],
        [
         "Outros veículos automóveis com motor diesel, para carga <= 5 toneladas",
         3315536509,
         249046422
        ],
        [
         "Hulha betuminosa, não aglomerada",
         3088453110,
         15587414736
        ],
        [
         "Ureia, mesmo em solução aquosa, com teor de nitrogênio (azoto) superior a 45 %, em peso, calculado sobre o produto anidro no estado seco",
         2945689628,
         8309735040
        ],
        [
         "Células fotovoltaicas montadas em módulos ou em painéis",
         2875444624,
         1237972436
        ]
       ],
       "datasetInfos": [],
       "dbfsResultPath": null,
       "isJsonSchema": true,
       "metadata": {},
       "overflow": false,
       "plotOptions": {
        "customPlotOptions": {},
        "displayType": "table",
        "pivotAggregation": null,
        "pivotColumns": null,
        "xColumns": null,
        "yColumns": null
       },
       "removedWidgets": [],
       "schema": [
        {
         "metadata": "{}",
         "name": "produto",
         "type": "\"string\""
        },
        {
         "metadata": "{}",
         "name": "valor_total_importado",
         "type": "\"long\""
        },
        {
         "metadata": "{}",
         "name": "kg_total_importado",
         "type": "\"long\""
        }
       ],
       "type": "table"
      }
     },
     "output_type": "display_data"
    }
   ],
   "source": [
    "%sql\n",
    "--Principais produtos exportados\n",
    "\n",
    "SELECT\n",
    "    NO_NCM_POR AS produto,\n",
    "    SUM(VL_CIF) AS valor_total_importado,\n",
    "    SUM(KG_LIQUIDO) AS kg_total_importado\n",
    "FROM gold.BD_importacao\n",
    "GROUP BY NO_NCM_POR\n",
    "ORDER BY valor_total_importado DESC\n",
    "LIMIT 10;"
   ]
  },
  {
   "cell_type": "code",
   "execution_count": 0,
   "metadata": {
    "application/vnd.databricks.v1+cell": {
     "cellMetadata": {
      "byteLimit": 2048000,
      "implicitDf": true,
      "rowLimit": 10000
     },
     "inputWidgets": {},
     "nuid": "60bdd5fb-4d92-4170-8ee3-e287e01baf4c",
     "showTitle": true,
     "tableResultSettingsMap": {},
     "title": "Principais produtos exportados"
    }
   },
   "outputs": [
    {
     "output_type": "display_data",
     "data": {
      "text/html": [
       "<style scoped>\n",
       "  .table-result-container {\n",
       "    max-height: 300px;\n",
       "    overflow: auto;\n",
       "  }\n",
       "  table, th, td {\n",
       "    border: 1px solid black;\n",
       "    border-collapse: collapse;\n",
       "  }\n",
       "  th, td {\n",
       "    padding: 5px;\n",
       "  }\n",
       "  th {\n",
       "    text-align: left;\n",
       "  }\n",
       "</style><div class='table-result-container'><table class='table-result'><thead style='background-color: white'><tr><th>produto</th><th>kg_total_exportado</th><th>valor_total_exportado</th></tr></thead><tbody><tr><td>Óleos brutos de petróleo</td><td>86656210875</td><td>44963878520</td></tr><tr><td>Soja, mesmo triturada, exceto para semeadura</td><td>98807843757</td><td>42941894470</td></tr><tr><td>Minérios de ferro e seus concentrados, exceto as piritas de ferro ustuladas (cinzas de piritas), não aglomerados</td><td>114219853221</td><td>26574698749</td></tr><tr><td>Outros açúcares de cana</td><td>33474593276</td><td>15925320657</td></tr><tr><td>Café não torrado, não descafeinado, em grão</td><td>2767297450</td><td>11331933183</td></tr><tr><td>Carnes desossadas de bovino, congeladas</td><td>2236854795</td><td>10049077475</td></tr><tr><td>Pastas químicas de madeira, à soda ou ao sulfato, exceto pastas para dissolução, semibranqueadas ou branqueadas, de não coníferas</td><td>18322102486</td><td>9551859761</td></tr><tr><td>Milho em grão, exceto para semeadura</td><td>39744475173</td><td>8046317455</td></tr><tr><td>Fuel oil</td><td>13430519227</td><td>7375146645</td></tr><tr><td>Bagaços e outros resíduos sólidos, da extração do óleo de soja</td><td>17657150092</td><td>7233993219</td></tr></tbody></table></div>"
      ]
     },
     "metadata": {
      "application/vnd.databricks.v1+output": {
       "addedWidgets": {},
       "aggData": [],
       "aggError": "",
       "aggOverflow": false,
       "aggSchema": [],
       "aggSeriesLimitReached": false,
       "aggType": "",
       "arguments": {},
       "columnCustomDisplayInfos": {},
       "data": [
        [
         "Óleos brutos de petróleo",
         86656210875,
         44963878520
        ],
        [
         "Soja, mesmo triturada, exceto para semeadura",
         98807843757,
         42941894470
        ],
        [
         "Minérios de ferro e seus concentrados, exceto as piritas de ferro ustuladas (cinzas de piritas), não aglomerados",
         114219853221,
         26574698749
        ],
        [
         "Outros açúcares de cana",
         33474593276,
         15925320657
        ],
        [
         "Café não torrado, não descafeinado, em grão",
         2767297450,
         11331933183
        ],
        [
         "Carnes desossadas de bovino, congeladas",
         2236854795,
         10049077475
        ],
        [
         "Pastas químicas de madeira, à soda ou ao sulfato, exceto pastas para dissolução, semibranqueadas ou branqueadas, de não coníferas",
         18322102486,
         9551859761
        ],
        [
         "Milho em grão, exceto para semeadura",
         39744475173,
         8046317455
        ],
        [
         "Fuel oil",
         13430519227,
         7375146645
        ],
        [
         "Bagaços e outros resíduos sólidos, da extração do óleo de soja",
         17657150092,
         7233993219
        ]
       ],
       "datasetInfos": [],
       "dbfsResultPath": null,
       "isJsonSchema": true,
       "metadata": {},
       "overflow": false,
       "plotOptions": {
        "customPlotOptions": {},
        "displayType": "table",
        "pivotAggregation": null,
        "pivotColumns": null,
        "xColumns": null,
        "yColumns": null
       },
       "removedWidgets": [],
       "schema": [
        {
         "metadata": "{}",
         "name": "produto",
         "type": "\"string\""
        },
        {
         "metadata": "{}",
         "name": "kg_total_exportado",
         "type": "\"long\""
        },
        {
         "metadata": "{}",
         "name": "valor_total_exportado",
         "type": "\"long\""
        }
       ],
       "type": "table"
      }
     },
     "output_type": "display_data"
    }
   ],
   "source": [
    "%sql\n",
    "--Principais produtos exportados\n",
    "\n",
    "SELECT\n",
    "    NO_NCM_POR AS produto,\n",
    "    SUM(KG_LIQUIDO) AS kg_total_exportado,\n",
    "    SUM(VL_FOB) AS valor_total_exportado\n",
    "FROM gold.BD_exportacao\n",
    "GROUP BY NO_NCM_POR\n",
    "ORDER BY valor_total_exportado DESC\n",
    "LIMIT 10;"
   ]
  },
  {
   "cell_type": "code",
   "execution_count": 0,
   "metadata": {
    "application/vnd.databricks.v1+cell": {
     "cellMetadata": {
      "byteLimit": 2048000,
      "implicitDf": true,
      "rowLimit": 10000
     },
     "inputWidgets": {},
     "nuid": "f22b6dbf-0f69-4b08-8e2b-1b525068155d",
     "showTitle": true,
     "tableResultSettingsMap": {},
     "title": "Análise das vias de transporte mais utilizadas para importação"
    }
   },
   "outputs": [
    {
     "output_type": "display_data",
     "data": {
      "text/html": [
       "<style scoped>\n",
       "  .table-result-container {\n",
       "    max-height: 300px;\n",
       "    overflow: auto;\n",
       "  }\n",
       "  table, th, td {\n",
       "    border: 1px solid black;\n",
       "    border-collapse: collapse;\n",
       "  }\n",
       "  th, td {\n",
       "    padding: 5px;\n",
       "  }\n",
       "  th {\n",
       "    text-align: left;\n",
       "  }\n",
       "</style><div class='table-result-container'><table class='table-result'><thead style='background-color: white'><tr><th>via_transporte</th><th>valor_total_importado</th><th>kg_total_importado</th><th>CIF_POR_KG</th></tr></thead><tbody><tr><td>MARITIMA</td><td>206819878937</td><td>171948678927</td><td>1.2</td></tr><tr><td>AEREA</td><td>55363334331</td><td>262281528</td><td>211.1</td></tr><tr><td>RODOVIARIA</td><td>12175036052</td><td>8447084665</td><td>1.4</td></tr><tr><td>CONDUTO/REDE DE TRANSMISSAO</td><td>2328052982</td><td>3957039448</td><td>0.6</td></tr><tr><td>MEIOS PROPRIOS</td><td>691488222</td><td>411231639</td><td>1.7</td></tr><tr><td>ENTRADA/SAIDA FICTA</td><td>460208018</td><td>52838064</td><td>8.7</td></tr><tr><td>COURIER</td><td>102141816</td><td>10649</td><td>9591.7</td></tr><tr><td>FERROVIARIA</td><td>12987736</td><td>42312000</td><td>0.3</td></tr><tr><td>FLUVIAL</td><td>708898</td><td>2984349</td><td>0.2</td></tr><tr><td>POSTAL</td><td>246305</td><td>871</td><td>282.8</td></tr></tbody></table></div>"
      ]
     },
     "metadata": {
      "application/vnd.databricks.v1+output": {
       "addedWidgets": {},
       "aggData": [],
       "aggError": "",
       "aggOverflow": false,
       "aggSchema": [],
       "aggSeriesLimitReached": false,
       "aggType": "",
       "arguments": {},
       "columnCustomDisplayInfos": {},
       "data": [
        [
         "MARITIMA",
         206819878937,
         171948678927,
         1.2
        ],
        [
         "AEREA",
         55363334331,
         262281528,
         211.1
        ],
        [
         "RODOVIARIA",
         12175036052,
         8447084665,
         1.4
        ],
        [
         "CONDUTO/REDE DE TRANSMISSAO",
         2328052982,
         3957039448,
         0.6
        ],
        [
         "MEIOS PROPRIOS",
         691488222,
         411231639,
         1.7
        ],
        [
         "ENTRADA/SAIDA FICTA",
         460208018,
         52838064,
         8.7
        ],
        [
         "COURIER",
         102141816,
         10649,
         9591.7
        ],
        [
         "FERROVIARIA",
         12987736,
         42312000,
         0.3
        ],
        [
         "FLUVIAL",
         708898,
         2984349,
         0.2
        ],
        [
         "POSTAL",
         246305,
         871,
         282.8
        ]
       ],
       "datasetInfos": [],
       "dbfsResultPath": null,
       "isJsonSchema": true,
       "metadata": {},
       "overflow": false,
       "plotOptions": {
        "customPlotOptions": {},
        "displayType": "table",
        "pivotAggregation": null,
        "pivotColumns": null,
        "xColumns": null,
        "yColumns": null
       },
       "removedWidgets": [],
       "schema": [
        {
         "metadata": "{}",
         "name": "via_transporte",
         "type": "\"string\""
        },
        {
         "metadata": "{}",
         "name": "valor_total_importado",
         "type": "\"long\""
        },
        {
         "metadata": "{}",
         "name": "kg_total_importado",
         "type": "\"long\""
        },
        {
         "metadata": "{}",
         "name": "CIF_POR_KG",
         "type": "\"double\""
        }
       ],
       "type": "table"
      }
     },
     "output_type": "display_data"
    }
   ],
   "source": [
    "%sql\n",
    "--Análise das vias de transporte mais utilizadas para importação\n",
    "\n",
    "SELECT\n",
    "    NO_VIA AS via_transporte,\n",
    "    SUM(VL_CIF) AS valor_total_importado,\n",
    "    SUM(KG_LIQUIDO) AS kg_total_importado,\n",
    "    ROUND(SUM(VL_CIF)/SUM(KG_LIQUIDO),1) AS CIF_POR_KG\n",
    "FROM gold.BD_importacao\n",
    "GROUP BY NO_VIA\n",
    "ORDER BY valor_total_importado DESC;"
   ]
  },
  {
   "cell_type": "code",
   "execution_count": 0,
   "metadata": {
    "application/vnd.databricks.v1+cell": {
     "cellMetadata": {
      "byteLimit": 2048000,
      "implicitDf": true,
      "rowLimit": 10000
     },
     "inputWidgets": {},
     "nuid": "043362e8-bd27-4037-b59e-d40094fef30b",
     "showTitle": true,
     "tableResultSettingsMap": {},
     "title": "Análise das vias de transporte mais utilizadas para exportação"
    }
   },
   "outputs": [
    {
     "output_type": "display_data",
     "data": {
      "text/html": [
       "<style scoped>\n",
       "  .table-result-container {\n",
       "    max-height: 300px;\n",
       "    overflow: auto;\n",
       "  }\n",
       "  table, th, td {\n",
       "    border: 1px solid black;\n",
       "    border-collapse: collapse;\n",
       "  }\n",
       "  th, td {\n",
       "    padding: 5px;\n",
       "  }\n",
       "  th {\n",
       "    text-align: left;\n",
       "  }\n",
       "</style><div class='table-result-container'><table class='table-result'><thead style='background-color: white'><tr><th>via_transporte</th><th>kg_total_exportado</th><th>valor_total_exportado</th></tr></thead><tbody><tr><td>MARITIMA</td><td>543823868321</td><td>298148235096</td></tr><tr><td>RODOVIARIA</td><td>7359749979</td><td>19263694598</td></tr><tr><td>AEREA</td><td>2584156236</td><td>17136024654</td></tr><tr><td>MEIOS PROPRIOS</td><td>55452682</td><td>1121279412</td></tr><tr><td>VIA NAO DECLARADA</td><td>296780944</td><td>602126554</td></tr><tr><td>FLUVIAL</td><td>3139998731</td><td>280896828</td></tr><tr><td>LACUSTRE</td><td>1454838881</td><td>208057679</td></tr><tr><td>CONDUTO/REDE DE TRANSMISSAO</td><td>1611</td><td>85604439</td></tr><tr><td>FERROVIARIA</td><td>102011230</td><td>73788029</td></tr><tr><td>VICINAL FRONTEIRICO</td><td>144934825</td><td>64829981</td></tr><tr><td>EM MAOS</td><td>142176</td><td>61568872</td></tr><tr><td>DUTOS</td><td>115433</td><td>55568</td></tr></tbody></table></div>"
      ]
     },
     "metadata": {
      "application/vnd.databricks.v1+output": {
       "addedWidgets": {},
       "aggData": [],
       "aggError": "",
       "aggOverflow": false,
       "aggSchema": [],
       "aggSeriesLimitReached": false,
       "aggType": "",
       "arguments": {},
       "columnCustomDisplayInfos": {},
       "data": [
        [
         "MARITIMA",
         543823868321,
         298148235096
        ],
        [
         "RODOVIARIA",
         7359749979,
         19263694598
        ],
        [
         "AEREA",
         2584156236,
         17136024654
        ],
        [
         "MEIOS PROPRIOS",
         55452682,
         1121279412
        ],
        [
         "VIA NAO DECLARADA",
         296780944,
         602126554
        ],
        [
         "FLUVIAL",
         3139998731,
         280896828
        ],
        [
         "LACUSTRE",
         1454838881,
         208057679
        ],
        [
         "CONDUTO/REDE DE TRANSMISSAO",
         1611,
         85604439
        ],
        [
         "FERROVIARIA",
         102011230,
         73788029
        ],
        [
         "VICINAL FRONTEIRICO",
         144934825,
         64829981
        ],
        [
         "EM MAOS",
         142176,
         61568872
        ],
        [
         "DUTOS",
         115433,
         55568
        ]
       ],
       "datasetInfos": [],
       "dbfsResultPath": null,
       "isJsonSchema": true,
       "metadata": {},
       "overflow": false,
       "plotOptions": {
        "customPlotOptions": {},
        "displayType": "table",
        "pivotAggregation": null,
        "pivotColumns": null,
        "xColumns": null,
        "yColumns": null
       },
       "removedWidgets": [],
       "schema": [
        {
         "metadata": "{}",
         "name": "via_transporte",
         "type": "\"string\""
        },
        {
         "metadata": "{}",
         "name": "kg_total_exportado",
         "type": "\"long\""
        },
        {
         "metadata": "{}",
         "name": "valor_total_exportado",
         "type": "\"long\""
        }
       ],
       "type": "table"
      }
     },
     "output_type": "display_data"
    }
   ],
   "source": [
    "%sql\n",
    "--Análise das vias de transporte mais utilizadas para exportação\n",
    "\n",
    "SELECT\n",
    "    NO_VIA AS via_transporte,\n",
    "    SUM(KG_LIQUIDO) AS kg_total_exportado,\n",
    "    SUM(VL_FOB) AS valor_total_exportado\n",
    "FROM gold.BD_exportacao\n",
    "GROUP BY NO_VIA\n",
    "ORDER BY valor_total_exportado DESC;"
   ]
  },
  {
   "cell_type": "code",
   "execution_count": 0,
   "metadata": {
    "application/vnd.databricks.v1+cell": {
     "cellMetadata": {
      "byteLimit": 2048000,
      "implicitDf": true,
      "rowLimit": 10000
     },
     "inputWidgets": {},
     "nuid": "6f922a1d-8960-4715-8a80-4654388a4f8d",
     "showTitle": true,
     "tableResultSettingsMap": {},
     "title": "Produtos que são apenas importados"
    }
   },
   "outputs": [
    {
     "output_type": "display_data",
     "data": {
      "text/html": [
       "<style scoped>\n",
       "  .table-result-container {\n",
       "    max-height: 300px;\n",
       "    overflow: auto;\n",
       "  }\n",
       "  table, th, td {\n",
       "    border: 1px solid black;\n",
       "    border-collapse: collapse;\n",
       "  }\n",
       "  th, td {\n",
       "    padding: 5px;\n",
       "  }\n",
       "  th {\n",
       "    text-align: left;\n",
       "  }\n",
       "</style><div class='table-result-container'><table class='table-result'><thead style='background-color: white'><tr><th>CO_NCM</th><th>NO_NCM_POR</th><th>SUM_CIF</th><th>SUM_KG</th></tr></thead><tbody><tr><td>87036000</td><td>Outros veículos, equipados para propulsão, simultaneamente, com um motor de pistão alternativo de ignição por centelha (faísca) e um motor elétrico, suscetíveis de serem carregados por conexão a uma fonte externa de energia elétrica</td><td>2130175312</td><td>140695851</td></tr><tr><td>26131010</td><td>Molibdenita ustulada (minérios de molibdênio)</td><td>355181205</td><td>12860000</td></tr><tr><td>88023021</td><td>Aviões e outros veículos aéreos, a turboélice, multimotores, de peso inferior ou igual a 7.000 kg, vazios</td><td>280609059</td><td>314817</td></tr><tr><td>30021239</td><td>Outras frações do sangue, preparadas como medicamentos</td><td>218661970</td><td>182862</td></tr><tr><td>88021210</td><td>Helicópteros, de peso inferior ou igual a 3.500 kg</td><td>166675870</td><td>59771</td></tr><tr><td>87041010</td><td>Dumpers para transporte de mercadoria >= 85 toneladas, utilizado fora de rodovias</td><td>151526083</td><td>7986759</td></tr><tr><td>88022021</td><td>Aviões e outros veículos aéreos, a turboélice, de peso não superior a 2.000 kg, vazios, monomotores</td><td>134462092</td><td>112205</td></tr><tr><td>29309034</td><td>Ácido 2-hidroxi-4-(metiltio)butanóico e seu sal cálcico</td><td>130392821</td><td>81820335</td></tr><tr><td>87035000</td><td>Outros veículos, equipados para propulsão, simultaneamente, com um motor de pistão de ignição por compressão (diesel ou semidiesel) e um motor elétrico, exceto os suscetíveis de serem carregados por conexão a uma fonte externa de energia elétrica</td><td>127678178</td><td>6066070</td></tr><tr><td>29173600</td><td>Ácido tereftálico e seus sais</td><td>127650977</td><td>138829437</td></tr><tr><td>71103100</td><td>Ródio em formas brutas ou em pó</td><td>126569843</td><td>848</td></tr><tr><td>29309035</td><td>Metomil</td><td>126201290</td><td>13442757</td></tr><tr><td>84264190</td><td>Outras máquinas e aparelhos autopropulsados, de pneumáticos</td><td>114734556</td><td>14654652</td></tr><tr><td>29162015</td><td>Bifentrin</td><td>111261117</td><td>2510282</td></tr><tr><td>31053000</td><td>Hidrogeno-ortofosfato de diamônio (fosfato diamônico ou diamoniacal)</td><td>110081247</td><td>189447922</td></tr><tr><td>40118010</td><td>Pneumáticos novos, de borracha, radiais, para dumpers concebidos para serem utilizados fora de rodovias, com seção de largura igual ou superior a 940 mm (37”), para aros de diâmetro igual ou superior a 1.448 mm (57”)</td><td>99880983</td><td>12221653</td></tr><tr><td>84305000</td><td>Outras partes de máquinas e aparelhos de terraplanagem, etc, autopropulsadas</td><td>96976453</td><td>6191656</td></tr><tr><td>93069010</td><td>Granadas que contenham produtos químicos ou oleorresina de Capsicum, com fins irritantes</td><td>95011016</td><td>7913</td></tr><tr><td>71101100</td><td>Platina, em formas brutas ou em pó</td><td>93067083</td><td>2996</td></tr><tr><td>55095100</td><td>Fio de fibras de poliésteres, combinadas, principal ou unicamente, com fibras artificiais descontínuas</td><td>84078286</td><td>45295329</td></tr><tr><td>54024600</td><td>Outros fios simples de poliésteres, parcialmente orientados, sem torção ou com torção não superior a 50 voltas por metro</td><td>82904688</td><td>69562434</td></tr><tr><td>29335949</td><td>Outros compostos heterocíclicos ciclo pirimidina, função álcool e/ou éter</td><td>78728900</td><td>2055157</td></tr><tr><td>87051020</td><td>Caminhões-guindastes com todos os eixos de rodas direcionáveis e capacidade máxima de elevação inferior a 100 t</td><td>77328789</td><td>20139508</td></tr><tr><td>84295211</td><td>Escavadoras, de potência no volante superior ou igual a 484,7 kW (650 HP), cuja superestrutura é capaz de efetuar uma rotação de 360°</td><td>77214835</td><td>7746868</td></tr><tr><td>29314915</td><td>Glufosinato de amônio</td><td>72234057</td><td>9077003</td></tr><tr><td>29329994</td><td>Carbosulfan ((dibutilaminotio)metilcarbamato de 2,3-diidro-2,2-dimetilbenzofuran-7-ila)</td><td>63299569</td><td>4319008</td></tr><tr><td>28047010</td><td>Fósforo branco</td><td>60203339</td><td>11851205</td></tr><tr><td>88023090</td><td>Outros aviões/veículos aéreos, 2000 kg < peso <= 15000 kg, vazios</td><td>55856359</td><td>8373</td></tr><tr><td>93012000</td><td>Lança-mísseis; lança-chamas; lança-granadas; lança-torpedos e lançadores semelhantes</td><td>55248990</td><td>15951</td></tr><tr><td>29336913</td><td>Atrazina</td><td>54780571</td><td>13275514</td></tr><tr><td>84771021</td><td>Outrás máquinas de moldar, monocolor, para materiais termoplásticos, com capacidade de injeção inferior ou igual a 5.000 g e força de fechamento inferior ou igual a 12.000 kN</td><td>53423061</td><td>11161879</td></tr><tr><td>39072920</td><td>Politetrametilenoeterglicol, em forma primária</td><td>52625776</td><td>23442644</td></tr><tr><td>87045100</td><td>Outros veículos automóveis para transporte de mercadorias, equipados para propulsão, simultaneamente, com motor de pistão de ignição por centelha (faísca) e motor elétrico, de peso em carga máxima (bruto) não superior a 5 toneladas</td><td>50465205</td><td>3992358</td></tr><tr><td>29189912</td><td>Ácido 2,4-diclorofenoxiacético (2,4-D), seus sais e seus ésteres</td><td>47694916</td><td>22059122</td></tr><tr><td>28332960</td><td>Sulfatos de cromo</td><td>46347635</td><td>53429000</td></tr><tr><td>84292010</td><td>Motoniveladores articulados, de potência no volante superior ou igual a 205,07 kW (275 HP)</td><td>43831710</td><td>1844296</td></tr><tr><td>28261200</td><td>Fluoretos de alumínio</td><td>42268055</td><td>26823701</td></tr><tr><td>29309043</td><td>Fosforotioato de O-(4-bromo-2-clorofenila) O-etila e de S-propila (profenofós)</td><td>41275658</td><td>3850480</td></tr><tr><td>29309022</td><td>Tiofanato-Metila</td><td>40356577</td><td>7128055</td></tr><tr><td>30049014</td><td>Medicamento contendo Idursulfase, em doses</td><td>40298095</td><td>1203</td></tr><tr><td>30049015</td><td>Medicamento contendo alfa-Agalsidase; alfavelaglicerase</td><td>39104829</td><td>2159</td></tr><tr><td>84393030</td><td>Máquinas e aparelhos para ondular papel ou cartão</td><td>36691393</td><td>1992109</td></tr><tr><td>84291110</td><td>Bulldozers e Angledozers, de lagartas, de potência no volante superior ou igual a 387,76 kW (520 HP)</td><td>36551697</td><td>1700254</td></tr><tr><td>28441000</td><td>Urânio natural e seus compostos; ligas, dispersões (incluindo os ceramais (cermets)), produtos cerâmicos e misturas que contenham urânio natural ou compostos de urânio natural</td><td>35748437</td><td>15408</td></tr><tr><td>30024127</td><td>Outras vacinas tríplices, em doses</td><td>34879170</td><td>25949</td></tr><tr><td>86021000</td><td>Locomotivas diesel-elétricas</td><td>33573307</td><td>1192252</td></tr><tr><td>39074020</td><td>Policarbonatos em formas primárias em pó ou flocos, com índice de fluidez de massa inferior a 60 g/10 min ou superior a 80 g/10 min segundo Norma ASTM D 1238</td><td>32895946</td><td>15047253</td></tr><tr><td>30024116</td><td>Vacina contra a rubéola, sarampo e caxumba (tríplice), exceto em doses</td><td>30561052</td><td>31534</td></tr><tr><td>30043927</td><td>Medicamento contendo goserelina ou seu acetato, em doses</td><td>30468802</td><td>17813</td></tr><tr><td>90221412</td><td>Aparelhos de raios X, de diagnóstico para angiografia</td><td>30373697</td><td>324838</td></tr><tr><td>29333922</td><td>Clorpirifós</td><td>29045958</td><td>5420874</td></tr><tr><td>88021290</td><td>Helicópteros, de peso maior que 3500 kg, vazios</td><td>28282051</td><td>16746</td></tr><tr><td>29349951</td><td>Tebutiuron</td><td>27559235</td><td>2271075</td></tr><tr><td>93069090</td><td>Outras bombas, granadas, outras munições e projéteis e suas partes</td><td>27376608</td><td>1046151</td></tr><tr><td>30024112</td><td>Vacina contra a poliomielite, exceto em doses</td><td>27109441</td><td>24840</td></tr><tr><td>85451920</td><td>Blocos de grafite, dos tipos utilizados como cátodos em cubas eletrolíticas</td><td>26916097</td><td>7614082</td></tr><tr><td>87032490</td><td>Automóveis com motor explosão, cm3 > 3000, superior a 6 passageiros</td><td>26868332</td><td>1492861</td></tr><tr><td>76061230</td><td>Chapas de ligas alumínio simplesmente laminadas, constituídas de, pelo menos, duas camadas de diferentes ligas de alumínio, sendo uma o núcleo e as outras de revestimento, exceto: núcleo de liga daAluminium AssociationAA 3003 modificada (liga de alumínio com um teor, em peso, de silício inferior ou igual a 0,60 %, de ferro inferior ou igual a 0,70 %, de cobre igual ou superior a 0,05 % e inferior ou igual a 0,20 %, de manganês igual ou superior a 1,0 % e inferior ou igual a 1,5 %, de zinco inferior ou igual a 0,15 % e de outros elementos total inferior ou igual a 0,15 %) com revestimento de liga AA 4343 (liga de alumínio com um teor, em peso, de silício igual ou superior a 6,8 % e inferior ou igual a 8,2 %, de ferro inferior ou igual a 0,80 %, de cobre inferior ou igual a 0,25 %, de manganês inferior ou igual a 0,10 %, de zinco inferior ou igual a 0,20 % e de outros elementos total inferior ou igual a 0,15 %)</td><td>26659732</td><td>5910477</td></tr><tr><td>29315912</td><td>Etefon</td><td>26478528</td><td>3397625</td></tr><tr><td>29319044</td><td>Hidróxido de trifenilestanho</td><td>26227609</td><td>450800</td></tr><tr><td>30024126</td><td>Vacina contra rubéola, sarampo e caxumba, em doses</td><td>25802154</td><td>54703</td></tr><tr><td>35011000</td><td>Caseínas</td><td>25278346</td><td>3016339</td></tr><tr><td>85372010</td><td>Subestações isoladas a gás (GIS - Gas-Insulated Switchgear ou HIS - Highly Integrated Switchgear), para uma tensão superior a 52 kV</td><td>25084009</td><td>936433</td></tr><tr><td>29242964</td><td>Iobitridol</td><td>24696220</td><td>180798</td></tr><tr><td>29349935</td><td>Propiconazol</td><td>23764441</td><td>1114880</td></tr><tr><td>32041510</td><td>Corante indigo blue, segundo colour index 73000</td><td>22858955</td><td>3500000</td></tr><tr><td>81110090</td><td>Outras obras de manganês, desperdícios e resíduos de manganês</td><td>22794916</td><td>11521531</td></tr><tr><td>85235200</td><td>Cartões inteligentes</td><td>22596680</td><td>132854</td></tr><tr><td>90221490</td><td>Outros aparelhos de raios X, para uso médico, cirúrgico, veterinário</td><td>21721821</td><td>136873</td></tr><tr><td>29269091</td><td>Adiponitrila (1,4-dicianobutano)</td><td>21586838</td><td>10949512</td></tr><tr><td>29336991</td><td>Ametrina</td><td>19884588</td><td>3990000</td></tr><tr><td>29269023</td><td>Cipermetrina</td><td>19594003</td><td>1521755</td></tr><tr><td>30049013</td><td>Medicamento contendo deoxirribonuclease, em doses</td><td>19298139</td><td>2677</td></tr><tr><td>29333914</td><td>Haloxifop (ácido (RS)-2-(4-(3-cloro-5-trifluorometil-2-piridiloxi)fenoxi)propiônico)</td><td>18724254</td><td>990000</td></tr><tr><td>27040011</td><td>Coques com granulometria igual ou superior a 80 mm</td><td>17960639</td><td>37712298</td></tr><tr><td>30043918</td><td>Medicamento contendo triptorelina ou seus sais, em doses</td><td>17254439</td><td>4072</td></tr><tr><td>84472029</td><td>Outros teares retilíneos, motorizados, para malhas</td><td>17186076</td><td>1112935</td></tr><tr><td>84543010</td><td>Máquinas de vazar (moldar) sob pressão</td><td>16097247</td><td>1449642</td></tr><tr><td>28442000</td><td>Urânio enriquecido em U235 e seus compostos; plutônio e seus compostos; ligas, dispersões (incluindo os ceramais (cermets)), produtos cerâmicos e misturas que contenham urânio enriquecido em U235, plutônio ou compostos destes produtos</td><td>15825057</td><td>16972</td></tr><tr><td>28111100</td><td>Fluoreto de hidrogênio (ácido fluorídrico)</td><td>15630659</td><td>9902219</td></tr><tr><td>93063000</td><td>Outros cartuchos e suas partes</td><td>15426127</td><td>893433</td></tr><tr><td>28444310</td><td>Molibdênio-99 absorvido em alumina, apto para a obtenção de tecnécio-99 (reativo de diagnóstico para medicina nuclear)</td><td>14937344</td><td>1585</td></tr><tr><td>29397911</td><td>Brometo de N-butilescopolamônio</td><td>14315346</td><td>11051</td></tr><tr><td>30021510</td><td>Interferon beta; peg interferon alfa-2-a</td><td>14299919</td><td>7653</td></tr><tr><td>29419049</td><td>Outros aminoglucosídeos e seus sais</td><td>14089443</td><td>154894</td></tr><tr><td>39119023</td><td>Polietilenaminas, sem carga, em formas primárias</td><td>13832537</td><td>2727499</td></tr><tr><td>29339939</td><td>Outros compostos heterocíclicos contendo ciclo azepina</td><td>13736858</td><td>82220</td></tr><tr><td>87100000</td><td>Veículos e carros blindados de combate, armados ou não, e suas partes</td><td>13736293</td><td>192953</td></tr><tr><td>15141100</td><td>Óleos de nabo silvestre, baixo teor, em bruto</td><td>13551622</td><td>13821023</td></tr><tr><td>29091920</td><td>Sevoflurano</td><td>12993801</td><td>168196</td></tr><tr><td>90222190</td><td>Outros aparelhos de radiação alfa/beta/gama, para usos médicos, cirúrgicos, odontológicos ou veterinários</td><td>12674596</td><td>273111</td></tr><tr><td>39071042</td><td>Outros poliacetais sem carga, em pó que passe através de uma peneira com abertura de malha de 0,85 mm em proporção superior a 80 %, em peso</td><td>12612491</td><td>7189396</td></tr><tr><td>93019000</td><td>Outras armas de guerra, exceto revólveres, pistolas e armas brancas.</td><td>12338675</td><td>40222</td></tr><tr><td>29031200</td><td>Diclorometano (cloreto de metileno)</td><td>12297564</td><td>18675957</td></tr><tr><td>89032200</td><td>Barcos à vela, exceto os infláveis, mesmo com motor auxiliar de comprimento superior a 7,5 m, mas não superior a 24 m</td><td>12135335</td><td>258309</td></tr><tr><td>29241929</td><td>Outras formamidas e acetamidas</td><td>12037267</td><td>3030366</td></tr><tr><td>84291910</td><td>Outros bulldozers de potência no volante >= 315 hp</td><td>11937822</td><td>458386</td></tr><tr><td>84622400</td><td>Prensas para painéis, de comando numérico</td><td>11926730</td><td>505436</td></tr><tr><td>29209022</td><td>Propargite</td><td>11683477</td><td>866700</td></tr><tr><td>39049010</td><td>Poli(cloreto de vinila) clorado</td><td>10961889</td><td>4118084</td></tr><tr><td>29342032</td><td>2-(Cicloexilaminotio)benzotiazol (N-cicloexil-benzotiazol-sulfenamida)</td><td>10757900</td><td>3419535</td></tr><tr><td>29291030</td><td>Isocianato de 3,4-diclorofenila</td><td>10712547</td><td>2395810</td></tr><tr><td>29049914</td><td>4-Cloro-alfa,alfa,alfa-trifluor-3,5-dinitrotolueno</td><td>10517240</td><td>3185100</td></tr><tr><td>29163920</td><td>Ibuprofeno</td><td>10444625</td><td>929812</td></tr><tr><td>03053210</td><td>Filés de bacalhau, secos, salgados, em salmoura, não defumado</td><td>10419625</td><td>1145426</td></tr><tr><td>11072010</td><td>Malte torrado, inteiro ou partido</td><td>10320234</td><td>10470058</td></tr><tr><td>84774010</td><td>Máquinas de moldar a vácuo poliestireno expandido (EPS) ou polipropileno expandido (EPP)</td><td>9771283</td><td>558907</td></tr><tr><td>30025100</td><td>Produtos de terapia celular</td><td>9543578</td><td>20</td></tr><tr><td>29269026</td><td>\"Cialotrin (\"\"cyhalothrin\"\")\"</td><td>9393596</td><td>213470</td></tr><tr><td>29221971</td><td>Cloridrato</td><td>9292908</td><td>33370</td></tr><tr><td>29201910</td><td>Fenitrotion</td><td>9224682</td><td>840500</td></tr><tr><td>93011000</td><td>Peças de artilharia (por exemplo, canhões, obuses e morteiros)</td><td>8795849</td><td>11418</td></tr><tr><td>93020000</td><td>Revólveres e pistolas, exceto os das posições 93.03 ou 93.04</td><td>8679834</td><td>39668</td></tr><tr><td>28263000</td><td>Hexafluoraluminato de sódio (criolita sintética)</td><td>8662300</td><td>22454882</td></tr><tr><td>29152400</td><td>Anidrido acético</td><td>8521236</td><td>7295515</td></tr><tr><td>29037990</td><td>Outros derivados peralogenados dos hidrocarbonetos acíclicos, contendo ao menos dois halogênios diferentes</td><td>8490186</td><td>965766</td></tr><tr><td>30024123</td><td>Vacina contra a hepatite b, em doses</td><td>8473035</td><td>60127</td></tr><tr><td>29333379</td><td>Sais de metilfenidato ou de pentazocina</td><td>8117098</td><td>4450</td></tr><tr><td>29419021</td><td>Cloridrato de lincomicina</td><td>7911791</td><td>212146</td></tr><tr><td>30031019</td><td>Medicamento contendo outras penicilinas/derivados, exceto em doses</td><td>7805005</td><td>46943</td></tr><tr><td>86050090</td><td>Furgões para bagagem, vagões-postais e outros vagões especiais, para vias férreas ou semelhantes (excluindo as viaturas da posição 86.04).</td><td>7670379</td><td>232000</td></tr><tr><td>29242994</td><td>Triflumuron</td><td>7665279</td><td>245500</td></tr><tr><td>30024122</td><td>Vacina contra a poliomielite, em doses</td><td>7614569</td><td>6720</td></tr><tr><td>29372360</td><td>Desogestrel</td><td>7559121</td><td>55</td></tr><tr><td>29225032</td><td>Metildopa</td><td>7500744</td><td>88800</td></tr><tr><td>90273011</td><td>Espectrógrafos, de emissão atômica</td><td>7016772</td><td>27146</td></tr><tr><td>30034990</td><td>Outros medicamentos (exceto os produtos das posições 30.02, 30.05 ou 30.06) que contenham alcaloides ou seus derivados, preparados para fins terapêuticos ou profiláticos, mas não apresentados em doses nem acondicionados para venda a retalho</td><td>6978462</td><td>4618</td></tr><tr><td>29214329</td><td>Outros derivados das toluidinas e seus sais</td><td>6888192</td><td>184799</td></tr><tr><td>29239030</td><td>Cloreto de 3-cloro-2-hidroxipropiltrimetilamônio</td><td>6720316</td><td>3847090</td></tr><tr><td>29154010</td><td>Ácido monocloroacético</td><td>6605591</td><td>5754181</td></tr><tr><td>84490020</td><td>Máquinas e aparelhos para fabricar falsos tecidos</td><td>6597011</td><td>734765</td></tr><tr><td>81042000</td><td>Desperdícios e resíduos, de magnésio</td><td>6512852</td><td>3038858</td></tr><tr><td>84862000</td><td>Máquinas e aparelhos para a fabricação de dispositivos semicondutores ou de circuitos integrados eletrônicos</td><td>6512453</td><td>44767</td></tr><tr><td>29391122</td><td>Codeína e seus sais</td><td>6437947</td><td>13535</td></tr><tr><td>29415010</td><td>Claritromicina</td><td>6399231</td><td>26825</td></tr><tr><td>87082995</td><td>Inflador de bolsa de ar, para dispositivo de segurança para automóveis</td><td>6398653</td><td>46161</td></tr><tr><td>52052400</td><td>Fios simples de algodão, de fibras penteadas, que contenham pelo menos 85 %,em peso,de algodão,não acondicionados para venda a retalho, de título inferior a 192,31 decitex mas não inferior a 125 decitex (número métrico superior a 52 mas não superior a 80)</td><td>6388139</td><td>1454966</td></tr><tr><td>84522190</td><td>Máquinas para costurar outras matérias, automáticas</td><td>6382119</td><td>355302</td></tr><tr><td>29419092</td><td>Fumarato de tiamulina</td><td>6351094</td><td>320085</td></tr><tr><td>55129990</td><td>Outros tecidos de fibras sintéticas descontinuas >= 85%</td><td>6257600</td><td>159160</td></tr><tr><td>53012990</td><td>Linho trabalhado de outra forma, mas não fiado</td><td>6256074</td><td>828809</td></tr><tr><td>29173950</td><td>Anidrido trimelítico (ácido 1, 3dioxo-5isobenzofuranocarb.)</td><td>6218004</td><td>1510200</td></tr><tr><td>16041420</td><td>Preparações e conservas, de bonitos-listrados, inteiros ou em pedaços, exceto peixes picados</td><td>6151838</td><td>1310184</td></tr><tr><td>40118020</td><td>Pneumáticos novos, de borracha, do tipo utilizado em veículos e máquinas para a construção civil, de mineração e de manutenção industrial, com seção de largura igual ou superior a 1.143 mm (45”), para aros de diâmetro igual ou superior a 1.143 mm (45”)</td><td>6121831</td><td>627374</td></tr><tr><td>29336923</td><td>Metribuzim</td><td>6120985</td><td>578022</td></tr><tr><td>39019010</td><td>Copolímeros de etileno e ácido acrílico, em formas primárias</td><td>6080925</td><td>1891863</td></tr><tr><td>29372140</td><td>Prednisolona (deidroidrocortisona)</td><td>6039211</td><td>6333</td></tr><tr><td>29262000</td><td>1-Cianoguanidina (diciandiamida)</td><td>5928279</td><td>2868915</td></tr><tr><td>38159093</td><td>Outras preparações catalíticas, tendo como substância ativa óxidos de terras raras</td><td>5927108</td><td>832875</td></tr><tr><td>29302012</td><td>Cartap</td><td>5923026</td><td>369110</td></tr><tr><td>95082600</td><td>Equipamentos recreativos para parques aquáticos</td><td>5784359</td><td>352186</td></tr><tr><td>90183925</td><td>Sondas vesicais estéreis de poliuretano, com revestimento hidrofílico, de uso intermitente, apresentadas em embalagens com solução salina </td><td>5762921</td><td>132329</td></tr><tr><td>30043913</td><td>Medicamento contendo menotropinas, em doses</td><td>5718537</td><td>9826</td></tr><tr><td>87024090</td><td>Outros veículos automóveis para transporte de dez pessoas ou mais, incluindo o motorista, unicamente com motor elétrico para propulsão</td><td>5542445</td><td>304202</td></tr><tr><td>30033981</td><td>Medicamentos contendo levotiroxina sódica, exceto em doses</td><td>5485401</td><td>26806</td></tr><tr><td>84431710</td><td>Máquinas rotativas para heliogravura</td><td>5395121</td><td>218258</td></tr><tr><td>84593100</td><td>Outras mandriladoras-fresadoras de metais, de comando numérico</td><td>5256608</td><td>481414</td></tr><tr><td>79011290</td><td>Zinco não ligado, que contenha, em peso, menos de 99,99 % de zinco, em outras formas</td><td>5196933</td><td>2163964</td></tr><tr><td>74102110</td><td>Folha de cobre refinado, com suporte isolante de resina epóxida e fibra de vidro, dos tipos utilizados para circuitos impressos</td><td>5178328</td><td>1026366</td></tr><tr><td>39173221</td><td>Tubos capilares, semipermeáveis, próprios para hemodiálise ou para oxigenação sanguínea, de polipropileno</td><td>5106158</td><td>16235</td></tr><tr><td>29419032</td><td>Cefoperazona e seus sais, e cefazolina sódica</td><td>5088176</td><td>26600</td></tr><tr><td>28539020</td><td>Cianamida e seus derivados metálicos</td><td>4798185</td><td>915942</td></tr><tr><td>84454018</td><td>Outras bobinadeiras de matérias têxteis, com atador automático</td><td>4755017</td><td>231482</td></tr><tr><td>72281010</td><td>Barras de aços de corte rápido, simplesmente laminadas, estiradas ou extrudadas, a quente</td><td>4659893</td><td>3497761</td></tr><tr><td>29319059</td><td>Outros compostos organo-arseniais</td><td>4653589</td><td>140029</td></tr><tr><td>40169400</td><td>Defensas, mesmo infláveis, para atracação de embarcações, de borracha vulcanizada não endurecida</td><td>4599790</td><td>951372</td></tr><tr><td>84462100</td><td>Teares para tecidos de largura superior a 30 cm, de lançadeiras, a motor</td><td>4419916</td><td>412740</td></tr><tr><td>28369912</td><td>Carbonato de zircônio</td><td>4368695</td><td>1318825</td></tr><tr><td>54033110</td><td>Fio de raiom crus ou branqueados viscose, sem torção ou com torção não superior a 120 voltas por metro</td><td>4346938</td><td>932902</td></tr><tr><td>91119010</td><td>Fundos para caixa de relógio de pulso/bolso, de metal comum</td><td>4323148</td><td>43256</td></tr><tr><td>55033000</td><td>Fibras acrílicas ou modacrílicas, não cardadas, não penteadas nem transformadas de outro modo para fiação</td><td>4317003</td><td>1590648</td></tr><tr><td>39079992</td><td>Poli (epsilon caprolactona)</td><td>4293308</td><td>407415</td></tr><tr><td>28309011</td><td>Sulfetos de molibdênio iv (dissulfeto de molibdênio)</td><td>4281021</td><td>142146</td></tr><tr><td>29211923</td><td>Monoisopropilamina e seus sais</td><td>4191552</td><td>2076355</td></tr><tr><td>84797100</td><td>Pontes de embarque para passageiros, dos tipos utilizados em aeroportos</td><td>4172363</td><td>329288</td></tr><tr><td>88069400</td><td>Outros veículos aéreos (aeronaves) não tripulados, de peso máximo de decolagem superior a 25 kg, mas não superior a 150 kg</td><td>4118697</td><td>29116</td></tr><tr><td>30039096</td><td>Complexo de ferro dextrana</td><td>4074253</td><td>381746</td></tr><tr><td>84219191</td><td>Tambores rotativos com pratos ou discos separadores, de peso superior a 300 kg</td><td>4013904</td><td>28828</td></tr><tr><td>55109090</td><td>Outros fios de fibras artificiais descontínuas, obtidos a partir de fibras que não sejam de celulose</td><td>4010225</td><td>1589099</td></tr><tr><td>29031110</td><td>Clorometano (cloreto de metila)</td><td>4006778</td><td>3440948</td></tr><tr><td>55144200</td><td>Tecido de poliéster < 85% com algodão, peso > 170 g/m2, sarjado,  estampado</td><td>3937761</td><td>743093</td></tr><tr><td>28366010</td><td>Carbonato de bário, com um teor de BaCO3 superior ou igual a 98%, em peso</td><td>3923457</td><td>5610336</td></tr><tr><td>38089325</td><td>Herbicida à base de dicloreto de paraquat, de propanil ou de simazina</td><td>3874477</td><td>763008</td></tr><tr><td>29269096</td><td>Cianoacrilatos de etila</td><td>3850209</td><td>563717</td></tr><tr><td>53061000</td><td>Fios de linho, simples</td><td>3844108</td><td>196489</td></tr><tr><td>29339961</td><td>Triadimenol</td><td>3802755</td><td>140000</td></tr><tr><td>28342190</td><td>Outros nitratos de potássio</td><td>3693040</td><td>1998114</td></tr><tr><td>40059110</td><td>Preparações base para a fabricação de gomas de mascar, em chapas, folhas e tiras</td><td>3659196</td><td>987620</td></tr><tr><td>38249982</td><td>Halquinol; tetraclorohidroxiglicina de alumínio e zircônio</td><td>3592967</td><td>192000</td></tr><tr><td>84481120</td><td>Mecanismos Jacquard para teares</td><td>3575331</td><td>195946</td></tr><tr><td>55063000</td><td>Fibras acrílicas ou modacrílicas, cardadas, penteadas ou transformadas de outro modo para fiação</td><td>3561104</td><td>1396107</td></tr><tr><td>35030012</td><td>Gelatinas e seus derivados, de osseína, com grau de pureza inferior a 99,98 %, em peso</td><td>3543693</td><td>356912</td></tr><tr><td>45019000</td><td>Desperdícios de cortiça, cortiça triturada, granulada, etc</td><td>3535773</td><td>697363</td></tr><tr><td>84271011</td><td>Empilhadeiras autopropulsadas, de motor elétrico, de capacidade de carga superior a 6,5 toneladas</td><td>3513963</td><td>456014</td></tr><tr><td>84602400</td><td>Outras máquinas para retificar, de comando numérico</td><td>3502796</td><td>47938</td></tr><tr><td>03036500</td><td>Saithe (Pollachius virens), congelado</td><td>3491380</td><td>525837</td></tr><tr><td>92012000</td><td>Pianos de cauda</td><td>3484257</td><td>89572</td></tr><tr><td>29332929</td><td>Outros compostos heterocíclicos com ciclo benzeno clorado</td><td>3362783</td><td>34169</td></tr><tr><td>29039911</td><td>Cloreto de benzila</td><td>3356346</td><td>2046539</td></tr><tr><td>29241992</td><td>Carisoprodol</td><td>3312344</td><td>97313</td></tr><tr><td>29349953</td><td>Levamisol e seus sais</td><td>3257633</td><td>60706</td></tr><tr><td>28252020</td><td>Hidróxido de litio</td><td>3247616</td><td>211259</td></tr><tr><td>84851000</td><td>Hélices para embarcações e suas pás</td><td>3202301</td><td>18477</td></tr><tr><td>84451922</td><td>Descaroçadeiras e deslintadeiras de algodão</td><td>3148305</td><td>233266</td></tr><tr><td>29321320</td><td>Álcool tetraidrofurfurílico</td><td>3144687</td><td>625130</td></tr><tr><td>29152920</td><td>Acetatos de cobalto</td><td>3096224</td><td>343451</td></tr><tr><td>29309049</td><td>Outros fosforotioatos e seus derivados, e sais destes produtos</td><td>3073326</td><td>96504</td></tr><tr><td>29225031</td><td>Levodopa</td><td>3071152</td><td>41509</td></tr><tr><td>29212100</td><td>Etilenodiamina e seus sais</td><td>3067913</td><td>1167848</td></tr><tr><td>29395990</td><td>Outros derivados e sais de teofilina ou aminofilina</td><td>3023070</td><td>33012</td></tr><tr><td>30046000</td><td>Outros medicamentos, que contenham princípios ativos antimaláricos (antipalúdicos) descritos na Nota de subposições 2 do presente Capítulo</td><td>3022416</td><td>46316</td></tr><tr><td>55091210</td><td>Fio de retorcidos ou retorcidos múltiploes, que contenham pelo menos 85 %, em peso, de aramidas</td><td>3004003</td><td>114914</td></tr><tr><td>28273931</td><td>Cloreto de mercúrio i (cloreto mercuroso)</td><td>2981291</td><td>1916513</td></tr><tr><td>29242919</td><td>Outros derivados da acetanilida e seus sais</td><td>2965540</td><td>486142</td></tr><tr><td>38111100</td><td>Preparações antidetonantes à base de compostos de chumbo</td><td>2939057</td><td>52001</td></tr><tr><td>93051000</td><td>Partes e acessórios de revólveres ou pistolas</td><td>2897708</td><td>24825</td></tr><tr><td>85258911</td><td>Outras câmeras de televisão com três ou mais captadores de imagem</td><td>2889243</td><td>2787</td></tr><tr><td>29202910</td><td>Fosfito de alquila de C3 a C13 ou de alquil-arila</td><td>2884379</td><td>1081177</td></tr><tr><td>29343010</td><td>Maleato de metotrimeprazina (maleato de levomepromazina)</td><td>2844606</td><td>8717</td></tr><tr><td>29089990</td><td>Outros derivados halogenados, sulfonados, nitrados ou nitrosados dos fenóis ou dos fenóis-álcoois</td><td>2802387</td><td>22534</td></tr><tr><td>93059100</td><td>Partes e acessórios de armas de guerra da posição 93.01</td><td>2789750</td><td>8099</td></tr><tr><td>30039078</td><td>Medicamento contendo ciclosporina a, fluspirileno, etc, exceto em doses</td><td>2786236</td><td>25514</td></tr><tr><td>29335913</td><td>Norfloxacina e seu nicotinato</td><td>2773246</td><td>91475</td></tr><tr><td>29337100</td><td>6-Hexanolactama (epsilon-caprolactama)</td><td>2767449</td><td>965001</td></tr><tr><td>73151110</td><td>\"Correntes de rolos do tipo utilizado em bicicletas, com passo de 12,7 mm (1/2\"\") e largura interna igual ou superior a 1,98 mm (5/64\"\"), mas inferior ou igual a 3,17 mm (1/8\"\")\"</td><td>2765128</td><td>1006205</td></tr><tr><td>29034400</td><td>Diclorotetrafluoretanos e cloropentafluoretano</td><td>2742770</td><td>757320</td></tr><tr><td>29335915</td><td>Enrofloxacina, sais de piperazina</td><td>2707625</td><td>214160</td></tr><tr><td>84454011</td><td>Bobinadeiras de trama (espuladeiras), automáticas, de matérias têxteis</td><td>2678598</td><td>91866</td></tr><tr><td>25085000</td><td>Andaluzita, cianita e silimanita</td><td>2668309</td><td>4091135</td></tr><tr><td>29211922</td><td>Di-n-propilamina e seus sais</td><td>2648719</td><td>1222255</td></tr><tr><td>38089328</td><td>Herbicidas à base de hexazinona</td><td>2640115</td><td>499826</td></tr><tr><td>39069046</td><td>Copolímeros de acrilato de metila-etileno com um conteúdo de acrilato de metila superior ou igual a 50 %, em peso, em blocos irregulares, pedaços, pós, etc</td><td>2605145</td><td>476737</td></tr><tr><td>54033300</td><td>Fio de acetato de celulose, simples</td><td>2567214</td><td>414073</td></tr><tr><td>29221939</td><td>Ambroxol e seus outros sais</td><td>2514677</td><td>12587</td></tr><tr><td>55013000</td><td>Cabos acrílicos ou modacrílicos</td><td>2509737</td><td>1299456</td></tr><tr><td>29349993</td><td>Lamivudina</td><td>2487597</td><td>23375</td></tr><tr><td>30032059</td><td>Medicamento contendo cefalosporinas/cefamicinas/etc, exceto em doses</td><td>2453715</td><td>10790</td></tr><tr><td>84601200</td><td>Máquinas para retificar superfícies planas, de comando numérico</td><td>2374346</td><td>149409</td></tr><tr><td>84303910</td><td>Outros cortadores de carvão ou de rocha</td><td>2327839</td><td>302107</td></tr><tr><td>28257010</td><td>Trióxido de molibdênio</td><td>2321302</td><td>68102</td></tr><tr><td>52054200</td><td>Fios de algodão que contenham pelo menos 85 %,em peso,de algodão,não acondicionados para venda a retalho,retorcidos ou retorcidos múltiplos,fibras penteadas,título < 714,29 decitex mas > 232,56 decitex,por fio simples (num.met >14 e < 43, por fio simples)</td><td>2276172</td><td>398535</td></tr><tr><td>70197310</td><td>Outros tecidos de fibras de vidro de malha aberta, consolidados quimicamente, constituídos por fios paralelizados e superpostos entre si em ângulo de 90°, impregnados e soldados nos pontos de interseção com resina termoplástica, com densidade igual ou superior a 3 e inferior ou igual a 7 fios por centímetro</td><td>2247363</td><td>677943</td></tr><tr><td>71049100</td><td>Outros diamantes sintéticos/reconstituídos, não classificados em códigos anteriores</td><td>2230866</td><td>8</td></tr><tr><td>29161430</td><td>Ésteres de n-butila do ácido metacrílico</td><td>2221198</td><td>868820</td></tr><tr><td>87149612</td><td>Pedivelas de peça única (monobloco) </td><td>2216028</td><td>1937052</td></tr><tr><td>24049100</td><td>Outros produtos que contenham nicotina destinados à absorção da nicotina pelo corpo humano, para aplicação oral</td><td>2208990</td><td>49316</td></tr><tr><td>30039013</td><td>Medicamento contendo hidroxocobalamina, etc, exceto em doses</td><td>2207639</td><td>18458</td></tr><tr><td>84219920</td><td>Partes de aparelhos para utilização de linhas de sangue para hemodiálise</td><td>2207093</td><td>16507</td></tr><tr><td>29221941</td><td>Cloridrato de clobutinol</td><td>2204685</td><td>3013</td></tr><tr><td>29333200</td><td>Piperidina e seus sais</td><td>2202260</td><td>270880</td></tr><tr><td>84565000</td><td>Máquinas de corte a jato de água</td><td>2126283</td><td>267479</td></tr><tr><td>29171321</td><td>Ácido sebácico</td><td>2124045</td><td>508122</td></tr><tr><td>29081911</td><td>4-Cloro-m-cresol e seus sais</td><td>2106841</td><td>143131</td></tr><tr><td>69039012</td><td>Tubo refratrário, de compostos de zircônio</td><td>2071080</td><td>3242</td></tr><tr><td>15109000</td><td>Outros óleos e respectivas frações, obtidos exclusivamente a partir de azeitonas, mesmo refinados, mas não quimicamente modificados, e misturas desses óleos ou frações com óleos ou frações da posição 15.09, não classificados em códigos anteriores</td><td>2065485</td><td>398530</td></tr><tr><td>29071930</td><td>p-ter-Butilfenol e seus sais</td><td>2055931</td><td>1015706</td></tr><tr><td>84592199</td><td>Outras máquinas-ferramentas para furar metais, de comando numérico</td><td>2051042</td><td>206316</td></tr><tr><td>03048810</td><td>Filés de tubarão-azul (Prionace glauca), congelados</td><td>2046407</td><td>720832</td></tr><tr><td>90131010</td><td>Miras telescópicas para armas</td><td>2045664</td><td>53394</td></tr><tr><td>90121090</td><td>Outros microscópios e difratógrafos</td><td>2043677</td><td>20573</td></tr><tr><td>29269024</td><td>Deltametrina</td><td>2033852</td><td>26773</td></tr><tr><td>54026110</td><td>Fio de aramida, retorcido ou retorcido múltiplo</td><td>2003091</td><td>99898</td></tr><tr><td>29419082</td><td>Sulfato de colistina</td><td>1990363</td><td>144726</td></tr><tr><td>29215119</td><td>O-fenilenodiamina, p-fenilenodiamina e seus sais</td><td>1977523</td><td>196981</td></tr><tr><td>84573090</td><td>Outras máquinas de estações múltiplas, para trabalhar metais</td><td>1960686</td><td>8300</td></tr><tr><td>72124021</td><td>Produtos laminados planos, de ferro ou aço não ligado, de largura inferior a 600 mm, folheados ou chapeados, revestidos de plásticos, com uma camada intermediária de liga cobre-estanho ou cobre-estanho-chumbo, aplicada por sinterização</td><td>1948605</td><td>293911</td></tr><tr><td>29419081</td><td>Polimixinas e seus sais</td><td>1935739</td><td>250</td></tr><tr><td>11081100</td><td>Amido de trigo</td><td>1904630</td><td>3048550</td></tr><tr><td>84433221</td><td>Impressoras de impacto, de linha</td><td>1902986</td><td>58061</td></tr><tr><td>84198911</td><td>Esterilizadores de alimentos, mediante Ultra Alta Temperatura (UHT - Ultra High Temperature) por injeção direta de vapor, com capacidade superior ou igual a 6.500 l/h</td><td>1886854</td><td>44935</td></tr><tr><td>29359094</td><td>Nimesulida</td><td>1877732</td><td>91089</td></tr><tr><td>52054300</td><td>Fios de algodão contendo ao menos 85 %,em peso,de algodão,não acondicionados para venda retalho,retorcidos ou retorcidos múltiplos,fibras penteadas,título < 232,56 decitex mas > 192,31 decitex,por fio simples (núm.met.> 43 mas < 52, por fio simples)</td><td>1835692</td><td>287056</td></tr><tr><td>23025000</td><td>Sêmeas, farelos e outros resíduos, de leguminosas</td><td>1827694</td><td>15932040</td></tr><tr><td>72106990</td><td>Outros laminados de ferro/aço</td><td>1773275</td><td>1336533</td></tr><tr><td>29419073</td><td>Avilamicinas</td><td>1759462</td><td>79139</td></tr><tr><td>39074010</td><td>Policarbonatos, nas formas previstas na Nota 6 b) deste Capítulo,com transmissão de luz de comprimento de onda de 550 nm ou 800 nm, > 89 %, segundo Norma ASTM D 1003-00 e índice de fluidez de massa >= 60 g/10 min e <= 80 g/10 min segundo Norma ASTM D 1238</td><td>1751773</td><td>484758</td></tr><tr><td>29214231</td><td>4-nitroanilina</td><td>1739248</td><td>532801</td></tr><tr><td>55109011</td><td>Outros fios de fibras artificiais descontínuas, obtidos a partir de fibras de celulose, de raiom viscose, exceto modal</td><td>1729902</td><td>636894</td></tr><tr><td>29224962</td><td>Diclofenaco de potássio</td><td>1707336</td><td>12739</td></tr><tr><td>95082300</td><td>Carrinhos de choque (bate-bate)</td><td>1694945</td><td>47491</td></tr><tr><td>55143090</td><td>Outros tecidos < 85% fibras descontínuas sintéticas, fios de diversas cores, com algodão</td><td>1692762</td><td>997802</td></tr><tr><td>35079032</td><td>L-Asparaginase</td><td>1679670</td><td>15840</td></tr><tr><td>28439030</td><td>Ácido hexacloroirídico em solução aquosa com uma concentração igual ou superior a 17 %, mas inferior ou igual a 27 %, em peso</td><td>1671183</td><td>13</td></tr><tr><td>84451300</td><td>Bancas de estiramento (bancas de fusos), de matérias têxteis</td><td>1659910</td><td>147743</td></tr><tr><td>29043600</td><td>Fluoreto de perfluoroctanossulfonila</td><td>1651587</td><td>13000</td></tr><tr><td>48103990</td><td>Outros papéis e cartões Kraft, exceto dos tipos utilizados para escrita, impressão ou outras finalidades gráficas</td><td>1637338</td><td>2041266</td></tr><tr><td>84522922</td><td>Máquinas para casear tecidos, não automáticas</td><td>1632947</td><td>130774</td></tr><tr><td>85441911</td><td>Fios de alumínio revestido de cobre (CCA -Copper Clad Aluminum) para bobinar, isolados para usos elétricos (incluindo os envernizados ou oxidados anodicamente)</td><td>1630841</td><td>349810</td></tr><tr><td>55133911</td><td>Tecido de fios de diversas cores de fibras descontínuas de poliéster < 85%, em ponto sarjado, incluindo o diagonal, cuja relação de textura não seja superior a 4, peso <= 170 g/m2</td><td>1618559</td><td>632070</td></tr><tr><td>29339947</td><td>Ketorolac trometamina</td><td>1610411</td><td>3648</td></tr><tr><td>28131000</td><td>Dissulfeto de carbono</td><td>1601560</td><td>1926463</td></tr><tr><td>28256020</td><td>Dióxido de zircônio</td><td>1575410</td><td>173738</td></tr><tr><td>84012000</td><td>Máquinas e aparelhos para a separação de isótopos, e suas partes</td><td>1549158</td><td>219</td></tr><tr><td>81082000</td><td>Titânio em formas brutas, e titânio em pós</td><td>1546338</td><td>146245</td></tr><tr><td>52062300</td><td>Fios simples de algodão, de fibras penteadas, que contenham menos de 85 %, em peso, de algodão, não acondicionados para venda a retalho, de título < 232,56 decitex mas não inferior a 192,31 decitex (número métrico superior a 43 mas não superior a 52)</td><td>1544721</td><td>575773</td></tr><tr><td>81099100</td><td>Outras obras e outros produtos de zircônio, que contenham menos de uma parte de háfnio para 500 partes, em peso, de zircônio</td><td>1536435</td><td>13597</td></tr><tr><td>72199010</td><td>Outros produtos laminados planos de aço inoxidável, de largura igual ou superior a 600 mm, de espessura inferior a 4,75 mm e dureza superior ou igual a 42 HRC</td><td>1532009</td><td>363999</td></tr><tr><td>84014000</td><td>Partes de reatores nucleares</td><td>1509892</td><td>1040</td></tr><tr><td>29199040</td><td>Diclorvós (ddvp)</td><td>1503919</td><td>421250</td></tr><tr><td>84433259</td><td>Outros traçadores gráficos</td><td>1481264</td><td>105987</td></tr><tr><td>29163220</td><td>Cloreto de benzoila</td><td>1476433</td><td>859549</td></tr><tr><td>91118000</td><td>Caixas para relógio de pulso/bolso, de outras matérias</td><td>1475832</td><td>22731</td></tr><tr><td>50060000</td><td>Fios de seda ou de desperdícios de seda, acondicionados para venda a retalho; pelo de Messina (crina de Florença)</td><td>1458088</td><td>1337</td></tr><tr><td>28459000</td><td>Outros isotopos e seus compostos inorgânicos ou orgânicos</td><td>1451436</td><td>184</td></tr><tr><td>29333935</td><td>Imazetapir (ácido (RS)-5-etil-2-(4-isopropil-4-metil-5-oxo-2-imidazolin-2-il)nicotínico)</td><td>1448620</td><td>56390</td></tr><tr><td>86012000</td><td>Locomotivas e locotratores, de acumuladores elétricos</td><td>1446129</td><td>57306</td></tr><tr><td>53071010</td><td>Fios de juta, simples</td><td>1435753</td><td>1136735</td></tr><tr><td>29362620</td><td>Cobamamida não misturada</td><td>1434140</td><td>151</td></tr><tr><td>87149311</td><td>Cubos, exceto de freios (travões) para bicicletas e outros ciclos, sem rosca, para pinhões do tipo cassete</td><td>1427858</td><td>181105</td></tr><tr><td>29162014</td><td>Permetrina</td><td>1403047</td><td>97912</td></tr><tr><td>41021000</td><td>Peles em bruto de ovinos, com lã (não depiladas)</td><td>1387245</td><td>1031982</td></tr><tr><td>85021390</td><td>Grupos eletrogêneos de motor de pistão, de ignição por compressão (motores diesel ou semidiesel), de potência superior a 375 kVA</td><td>1355728</td><td>66945</td></tr><tr><td>29359012</td><td>Clortalidona</td><td>1348386</td><td>9651</td></tr><tr><td>29337210</td><td>Clobazam</td><td>1346912</td><td>452</td></tr><tr><td>29333991</td><td>Cloridrato de fenazopiridina</td><td>1335674</td><td>24200</td></tr><tr><td>29039929</td><td>Outros derivados halogenados, unicamente com bromo</td><td>1330171</td><td>259534</td></tr><tr><td>48103290</td><td>Outros papéis Kraft, branqueados uniformemente na massa e em que mais de 95 %, em peso, do conteúdo total de fibras seja constituído por fibras de madeira obtidas por processo químico, de peso superior a 150 g/m2</td><td>1317829</td><td>1204141</td></tr><tr><td>81099900</td><td>Outros zircônios e suas obras, incluindo os desperdícios e resíduos, e sucata, não classificados em códigos anteriores</td><td>1313126</td><td>18815</td></tr><tr><td>91081200</td><td>Maquinismos de pequeno volume para relógios, completos e montados, funcionando eletricamente, de mostrador exclusivamente optoeletrônico, para relógios das posições 91.01 ou 91.02</td><td>1305527</td><td>6516</td></tr><tr><td>53012910</td><td>Linho penteado, mas não fiado</td><td>1297817</td><td>137601</td></tr><tr><td>38248400</td><td>Mercadorias mencionadas na Nota de subposições 3 do presente Capítulo, que contenham aldrin, canfecloro, clordano, clordecona , DDT, 1,1,1-tricloro-2,2-bis(p-clorofenil)etano), dieldrin, endossulfan, endrin, heptacloro ou mirex</td><td>1297502</td><td>122914</td></tr><tr><td>39079994</td><td>Copolímero de tereftalato de dimetila, cicloexanodimetanol e tetrametil ciclobutanodiol</td><td>1294751</td><td>335515</td></tr><tr><td>30042062</td><td>Medicamento contendo daunorubicina, em doses</td><td>1291357</td><td>3246</td></tr><tr><td>29339956</td><td>Fembendazol</td><td>1286280</td><td>22590</td></tr><tr><td>29335932</td><td>Diazinon</td><td>1286096</td><td>166696</td></tr><tr><td>29309059</td><td>Outros fosforoditioatos, seus derivados e sais</td><td>1285127</td><td>94201</td></tr><tr><td>28261920</td><td>Fluoreto ácido de amônio</td><td>1277552</td><td>691013</td></tr><tr><td>29329300</td><td>Piperonal</td><td>1274544</td><td>80011</td></tr><tr><td>76051910</td><td>Outros fios de alumínio não ligado, com um teor de alumínio superior ou igual a 99,45 %, em peso, e uma resistividade elétrica inferior ou igual a 0,0283 ohm.mm2/m</td><td>1269415</td><td>288468</td></tr><tr><td>95082110</td><td>Montanha-russa com percurso superior ou igual a 300 m</td><td>1268100</td><td>55509</td></tr><tr><td>84581191</td><td>Tornos horizontais para trabalhar metais, de 6 ou mais fusos porta-peças</td><td>1266575</td><td>113384</td></tr><tr><td>84762100</td><td>Máquinas automáticas de venda de bebidas, com dispositivo de aquecimento ou de refrigeração incorporado</td><td>1266530</td><td>42930</td></tr><tr><td>90181920</td><td>Audiômetros</td><td>1260370</td><td>3991</td></tr><tr><td>87149920</td><td>Caixas de direção sem rosca</td><td>1257647</td><td>332501</td></tr><tr><td>15149910</td><td>Outros óleos de nabo silvestre, refinados</td><td>1251194</td><td>216594</td></tr><tr><td>38089994</td><td>Nematicidas à base de metam sódio</td><td>1242793</td><td>1734247</td></tr><tr><td>55162400</td><td>Tecidos que contenham menos de 85 %, em peso, de fibras artificiais descontínuas, combinadas, principal ou unicamente, com filamentos sintéticos ou artificiais, estampados</td><td>1229689</td><td>215633</td></tr><tr><td>30042032</td><td>Medicamento contendo rifampicina, em doses</td><td>1208819</td><td>9999</td></tr><tr><td>74102130</td><td>Folha de cobre, om suporte isolante de resina fenólica e papel, dos tipos utilizados para circuitos impressos</td><td>1205385</td><td>312624</td></tr><tr><td>29362630</td><td>Hidroxocobalamina e seus sais, não misturados</td><td>1190275</td><td>105</td></tr><tr><td>39072991</td><td>Poliacetal poliéter (PAPE)</td><td>1173579</td><td>728056</td></tr><tr><td>29215921</td><td>4,4'-Diaminodifenilmetano</td><td>1170482</td><td>292925</td></tr><tr><td>29214229</td><td>Outras cloroanilinas e seus sais</td><td>1163438</td><td>354807</td></tr><tr><td>84649011</td><td>Outras máquinas-ferramentas, de comando numérico, para retificar, fresar e perfurar vidro</td><td>1158069</td><td>101400</td></tr><tr><td>29309091</td><td>Captan</td><td>1155169</td><td>256575</td></tr><tr><td>29211941</td><td>Metildialquilaminas</td><td>1154187</td><td>250160</td></tr><tr><td>29225011</td><td>Cloridrato de fenilefrina</td><td>1150751</td><td>6456</td></tr><tr><td>29147922</td><td>Ácido 2-hidroxi-4-metoxibenzofenona-5-sulfônico (sulisobenzona)</td><td>1134128</td><td>32725</td></tr><tr><td>28444200</td><td>Actínio-225, actínio-227, califórnio-253, cúrio-240, cúrio-241, cúrio-242, cúrio-243, cúrio-244, einstêinio-253, einstêinio-254, gadolínio-148, polônio-208, polônio-209, polônio-210, rádio-223, urânio-230 ou urânio-232, e seus compostos; ligas, dispersões (incluindo os cermets), produtos cerâmicos e misturas que contenham estes elementos ou compostos</td><td>1133603</td><td>7</td></tr><tr><td>81021000</td><td>Pós de molibdênio</td><td>1133594</td><td>12112</td></tr><tr><td>24049200</td><td>null</td><td>1121303</td><td>8319</td></tr><tr><td>28444330</td><td>Iodo-131</td><td>1117663</td><td>0</td></tr><tr><td>28274110</td><td>Oxicloretos de cobre</td><td>1113478</td><td>156000</td></tr><tr><td>32041520</td><td>Corante dibenzantrona</td><td>1113082</td><td>71004</td></tr><tr><td>28369200</td><td>Carbonato de estrôncio</td><td>1111134</td><td>720227</td></tr><tr><td>29394200</td><td>Pseudoefedrina (DCI) e seus sais</td><td>1103153</td><td>12585</td></tr><tr><td>29333934</td><td>5-Etil-2,3-dicarboxipiridina (5-EPDC)</td><td>1097009</td><td>134585</td></tr><tr><td>30049038</td><td>Medicamento contendo melfalano, clorambucil, etc, em doses</td><td>1096637</td><td>4441</td></tr><tr><td>28439020</td><td>Tricloreto de rutênio em solução aquosa com uma concentração igual ou superior a 17 %, mas inferior ou igual a 27 %, em peso</td><td>1088113</td><td>92</td></tr><tr><td>28372029</td><td>Outros ferricianetos</td><td>1085611</td><td>25188</td></tr><tr><td>32065029</td><td>Outros produtos inorgânicos utilizados em luminóforos, sem substância radioativa</td><td>1061194</td><td>13152</td></tr><tr><td>39129010</td><td>Propionato de celulose, em forma primária</td><td>1057082</td><td>89382</td></tr><tr><td>29223921</td><td>Cloridrato de ketamina</td><td>1054830</td><td>3908</td></tr><tr><td>30031013</td><td>Medicamento contendo penicilina g benzatínica, exceto em doses</td><td>1050545</td><td>8919</td></tr><tr><td>35079031</td><td>Lisozima e seu cloridrato</td><td>1046497</td><td>12008</td></tr><tr><td>29362119</td><td>Outros derivados da vitamina A1 álcool, não misturados</td><td>1031414</td><td>803</td></tr><tr><td>85171432</td><td>Outros telefones fixos, sem fonte própria de energia, para redes celulares, exceto por satélite</td><td>1030381</td><td>18631</td></tr><tr><td>47069100</td><td>Pastas mecânicas de outras matérias fibrosas celulósicas</td><td>1007810</td><td>612014</td></tr><tr><td>28053010</td><td>Liga de cério, com teor de ferro inferior ou igual a 5 %, em peso (Mischmetal)</td><td>1002216</td><td>315200</td></tr><tr><td>90183213</td><td>Agulhas ponta de lápis, do tipo das utilizadas em anestesia epidural ou raquidiana</td><td>998897</td><td>9156</td></tr><tr><td>44079100</td><td>Madeira de carvalho (Quercus spp.), serrada ou fendida longitudinalmente, cortada transversalmente ou desenrolada, mesmo aplainada, lixada ou unida pelas extremidades, de espessura superior a 6 mm</td><td>994101</td><td>583126</td></tr><tr><td>29182120</td><td>Sais do ácido salicílico</td><td>978162</td><td>161388</td></tr><tr><td>84453010</td><td>Retorcedeiras de matérias têxteis</td><td>978098</td><td>75106</td></tr><tr><td>29419034</td><td>Cefadroxil e seus sais</td><td>977034</td><td>12050</td></tr><tr><td>29222919</td><td>O-aminofenóis, m-aminofenóis e seus sais</td><td>962436</td><td>144982</td></tr><tr><td>12141000</td><td>Farinha e pellets, de alfafa (luzerna)</td><td>962201</td><td>3647940</td></tr><tr><td>39079993</td><td>Copolímero de tereftalato de dimetila, cicloexanodimetanol e ácido isoftálico</td><td>960237</td><td>247885</td></tr><tr><td>29144091</td><td>Benzoína</td><td>949025</td><td>266302</td></tr><tr><td>28051910</td><td>Estrôncio</td><td>938365</td><td>102039</td></tr><tr><td>84572010</td><td>Máquinas de sistema monostático (single station), de comando numérico, para trabalhar metais</td><td>935769</td><td>84660</td></tr><tr><td>29359024</td><td>Tenoxicam</td><td>935354</td><td>1312</td></tr><tr><td>30042039</td><td>Outros medicamentos contendo ansamicinas/derivados, em doses</td><td>935236</td><td>2328</td></tr><tr><td>55143019</td><td>Outros tecidos < 85% fibras descontínuas de poliéster, fios de diversas cores, com algodão</td><td>931197</td><td>226963</td></tr><tr><td>32072091</td><td>Composições vitrificáveis e preparações utilizadas na fabricação de circuito impresso</td><td>926157</td><td>157</td></tr><tr><td>29336914</td><td>Simazina</td><td>925034</td><td>140000</td></tr><tr><td>38273110</td><td>Preparações que contenham clorodifluormetano e pentafluoretano</td><td>922981</td><td>246945</td></tr><tr><td>25292200</td><td>Espatoflúor, que contenha, em peso, mais de 97 % de fluoreto de cálcio</td><td>913283</td><td>1299602</td></tr><tr><td>55134100</td><td>Tecido de poliéster < 85% com algodão, peso <= 170 g/m2,  tafetá, estampado</td><td>897504</td><td>317180</td></tr><tr><td>84604019</td><td>Outras máquinas-ferramentas para brunir metais/ceramais, de comando numérico</td><td>892488</td><td>26254</td></tr><tr><td>81061000</td><td>Bismuto e suas obras, incluindo os desperdícios e resíduos, e sucata, que contenham mais de 99,99 %, em peso, de bismuto</td><td>885314</td><td>98194</td></tr><tr><td>84483220</td><td>Partes e acessórios de penteadoras de matéria têxtil</td><td>882209</td><td>14412</td></tr><tr><td>29371920</td><td>Hcg (gonadotropina corionica)</td><td>880697</td><td>0</td></tr><tr><td>12092200</td><td>Sementes de trevo (Trifolium spp), para semeadura</td><td>878760</td><td>164925</td></tr><tr><td>29359093</td><td>Toluenossulfonamidas</td><td>857536</td><td>288003</td></tr><tr><td>55094200</td><td>Fio de outras fibras sintéticas >=85%, retorcido/retorcido múltiplo</td><td>856549</td><td>66630</td></tr><tr><td>84552290</td><td>Outros laminadores a frio de metais</td><td>846700</td><td>133250</td></tr><tr><td>29225019</td><td>Fenilefrina e seus outros sais</td><td>844348</td><td>4917</td></tr><tr><td>29222920</td><td>Nitroanisidinas e seus sais</td><td>843567</td><td>160300</td></tr><tr><td>39051910</td><td>Acetato de polivinila, com álcool vinílico, em blocos, etc</td><td>835860</td><td>427010</td></tr><tr><td>84459010</td><td>Urdideiras de matéria têxtil</td><td>834748</td><td>86154</td></tr><tr><td>12059010</td><td>Outras sementes de nabo silvestre, para semeadura</td><td>834063</td><td>150180</td></tr><tr><td>39119025</td><td>Polietersulfonas (PES) e seus copolímeros, sem carga, formas primárias</td><td>832951</td><td>58342</td></tr><tr><td>29036990</td><td>Outros derivados halogenados dos hidrocarbonetos aromáticos</td><td>832252</td><td>17605</td></tr><tr><td>29269012</td><td>Cloridrato de verapamil</td><td>807443</td><td>5952</td></tr><tr><td>39219013</td><td>Outras chapas de copolímeros de tetrafluoretileno reforçadas com tecido de fibras de politetrafluoretileno, do tipo utilizado como membranas semipermeáveis em células de eletrólise </td><td>802469</td><td>614</td></tr><tr><td>72259910</td><td>Outros laminados planos de aços de corte rápido, de largura igual ou superior a 600 mm</td><td>800022</td><td>263747</td></tr><tr><td>29051922</td><td>Metilato de sódio</td><td>794368</td><td>271409</td></tr><tr><td>30042063</td><td>Medicamento contendo pirarubicina, em doses</td><td>789965</td><td>306</td></tr><tr><td>95082400</td><td>Simuladores de movimentos e cinemas dinâmicos</td><td>785085</td><td>47066</td></tr><tr><td>29182929</td><td>Outros sais e ésteres do ácido p-hidroxibenzóico</td><td>779381</td><td>134980</td></tr><tr><td>29412090</td><td>Estreptomicinas, outros derivados e sais</td><td>773341</td><td>21512</td></tr><tr><td>37024422</td><td>Fotopolimerizáveis, sensibilizadas à base de compostos acrílicos, dos tipos utilizados para a fabricação de circuitos impressos, de largura superior a 105 mm, mas não superior a 610 mm</td><td>771658</td><td>46182</td></tr><tr><td>29335340</td><td>Fenobarbital e seus sais</td><td>769640</td><td>15380</td></tr><tr><td>28273920</td><td>Cloreto de titânio</td><td>767208</td><td>107544</td></tr><tr><td>29339113</td><td>Clonazepam</td><td>762890</td><td>536</td></tr><tr><td>29419013</td><td>Rifamicina sv sódica</td><td>744429</td><td>1791</td></tr><tr><td>29159024</td><td>Cloreto de 2-etilexanoila</td><td>735077</td><td>205600</td></tr><tr><td>29215190</td><td>Outros derivados de diaminotulenos e seus sais</td><td>731632</td><td>86851</td></tr><tr><td>28418010</td><td>Tungstato (volframato) de amônio</td><td>726901</td><td>20000</td></tr><tr><td>29398090</td><td>Outros alcalóides, naturais ou reproduzidos por síntese, seus sais, éteres, ésteres e outros derivados</td><td>719472</td><td>1921</td></tr><tr><td>39206300</td><td>Chapas, etc, de poliésteres não saturados, sem suporte, não reforçado</td><td>711586</td><td>180377</td></tr><tr><td>84303110</td><td>Cortadores de carvão ou de rocha, autopropulsados</td><td>696574</td><td>102791</td></tr><tr><td>29331190</td><td>Outras fenazonas (antipirinas) e seus derivados</td><td>696243</td><td>58680</td></tr><tr><td>53062000</td><td>Fios de linho, retorcidos ou retorcidos múltiplos</td><td>692457</td><td>34848</td></tr><tr><td>54083100</td><td>Outros tecidos de filamentos artificiais, crus ou branqueados</td><td>686570</td><td>70789</td></tr><tr><td>52054800</td><td>Fios de algodão contendo ao menos 85 %, em peso,de algodão, não acondicionados para venda a retalho,retorcidos ou retorcidos múltiplos,de fibras penteadas, de título inferior a 83,33 decitex por fio simples (número métrico superior a 120, por fio simples)</td><td>683368</td><td>64950</td></tr><tr><td>55099200</td><td>Fio de outras fibras sintéticas, combinados, principal ou unicamente, com algodão</td><td>668732</td><td>93835</td></tr><tr><td>29049915</td><td>o-Nitroclorobenzeno; m-nitroclorobenzeno</td><td>666451</td><td>780030</td></tr><tr><td>29183039</td><td>Outros sais do ácido deidrocólico</td><td>666089</td><td>419373</td></tr><tr><td>28091000</td><td>Pentóxido de difósforo</td><td>660574</td><td>253963</td></tr><tr><td>52052600</td><td>Fios simples de algodão,de fibras penteadas,que contenham pelo menos 85 %, em peso, de algodão,não acondicionados para venda a retalho, de título inferior a 125 decitex mas não inferior a 106,38 decitex (número métrico superior a 80 mas não superior a 94)</td><td>647316</td><td>140384</td></tr><tr><td>39079995</td><td>Copolímero de tereftalato de dimetila, cicloexanodimetanol e etilenoglicol</td><td>647293</td><td>230250</td></tr><tr><td>38160021</td><td>Preparações refratárias que contenham grafita e 50 % ou mais, em peso, de coríndon</td><td>645293</td><td>365594</td></tr><tr><td>84593900</td><td>Outras mandriladoras-fresadoras de metais, sem comando numérico</td><td>638645</td><td>74902</td></tr><tr><td>28299011</td><td>Bromatos de sódio</td><td>638528</td><td>95000</td></tr><tr><td>39069051</td><td>Poli(ácido acrílico) e seus sais, em blocos irregulares, pedaços, pós, etc</td><td>637854</td><td>90466</td></tr><tr><td>55031910</td><td>Fibras sintéticas descontínuas bicomponentes, de diferentes pontos de fusão</td><td>636428</td><td>44756</td></tr><tr><td>29319061</td><td>Tricloreto de etilalumínio (sesquicloreto de etilalumínio)</td><td>621632</td><td>106910</td></tr><tr><td>29211929</td><td>Outras n-propilaminas, isopropilaminas e seus sais</td><td>617244</td><td>176328</td></tr><tr><td>03036700</td><td>Merluza-do-alasca (Theragra chalcogramma), congelada</td><td>612294</td><td>374478</td></tr><tr><td>29181610</td><td>Gluconato de cálcio</td><td>612292</td><td>172895</td></tr><tr><td>29339920</td><td>Outros compostos heterocíclicos contendo ciclo diazepina (hidrogenado)</td><td>602876</td><td>6001</td></tr><tr><td>29303090</td><td>Tetrassulfetos de tiourama</td><td>600209</td><td>92430</td></tr><tr><td>92099100</td><td>Partes e acessórios de pianos</td><td>597261</td><td>67741</td></tr><tr><td>48025891</td><td>Papéis e cartões de desenho, sem fibras obtidas por processo mecânico ou químico-mecânico ou em que a percentagem destas fibras < 10 %, em peso, do conteúdo total de fibras, de peso > 150 g/m2</td><td>591928</td><td>258444</td></tr><tr><td>29221952</td><td>N,N-Dietil-2-aminoetanol e seus sais protonados</td><td>590507</td><td>145050</td></tr><tr><td>29202990</td><td>Outros ésteres de fosfitos e seus sais; seus derivados halogenados, sulfonados, nitrados ou nitrosados</td><td>589685</td><td>129843</td></tr><tr><td>29333120</td><td>Sais de piridina</td><td>588325</td><td>19428</td></tr><tr><td>84440090</td><td>Outras máquinas para estirar ou texturizar matérias têxteis sintéticas ou artificiais.</td><td>588027</td><td>47070</td></tr><tr><td>29051921</td><td>Etilato de magnésio</td><td>588017</td><td>28000</td></tr><tr><td>29242932</td><td>Propoxur</td><td>587594</td><td>36976</td></tr><tr><td>29081921</td><td>2,4,6-Tribromofenol</td><td>577789</td><td>91000</td></tr><tr><td>25086000</td><td>Mulita</td><td>573071</td><td>336593</td></tr><tr><td>28249010</td><td>Mínio (zarcão) e mínio-laranja (mine-orange)</td><td>571539</td><td>210025</td></tr><tr><td>70032000</td><td>Chapas/folhas armadas, de vidro vazado/laminado</td><td>569646</td><td>504118</td></tr><tr><td>29051430</td><td>Álcool ter-butílico (2-metil-2-propanol)</td><td>566468</td><td>404513</td></tr><tr><td>28164010</td><td>Hidróxido de bário</td><td>561836</td><td>212033</td></tr><tr><td>54033200</td><td>Fio de raiom viscose, com torção superior a 120 voltas por metro</td><td>559945</td><td>75147</td></tr><tr><td>29280019</td><td>Outras acetoximas, seus derivados e seus sais</td><td>555649</td><td>62800</td></tr><tr><td>84595100</td><td>Máquinas-ferramentas para fresar metais, com console, de comando numérico</td><td>551069</td><td>33451</td></tr><tr><td>32064210</td><td>Litopônio</td><td>548116</td><td>144000</td></tr><tr><td>29071920</td><td>o-Fenilfenol e seus sais</td><td>545994</td><td>64877</td></tr><tr><td>29081990</td><td>Outros derivados halogenados e seus sais</td><td>545329</td><td>6752</td></tr><tr><td>63064090</td><td>Colchões pneumáticos, de outras matérias têxteis</td><td>543104</td><td>113075</td></tr><tr><td>39112000</td><td>Poli(1,3-fenileno metilfosfonato)</td><td>540027</td><td>458700</td></tr><tr><td>55091100</td><td>Fio que contenham pelo menos 85 %, em peso, de fibras descontínuas de náilon ou de outras poliamidas, simples</td><td>536288</td><td>77633</td></tr><tr><td>85176191</td><td>Outros aparelhos para emissão, transmissão ou recepção de voz, imagens ou outros dados, digitais, de frequência superior ou igual a 15 GHz e inferior ou igual a 23 GHz e taxa de transmissão inferior ou igual a 8 Mbits/s</td><td>528910</td><td>280</td></tr><tr><td>28399030</td><td>Silicato de zircônio</td><td>524559</td><td>87806</td></tr><tr><td>29242119</td><td>Carbanilidas, seus outros derivados e sais</td><td>524273</td><td>29045</td></tr><tr><td>32019012</td><td>Extrato tanante, de carvalho ou de castanheiro</td><td>519735</td><td>190512</td></tr><tr><td>29036100</td><td>Brometo de metila (bromometano)</td><td>514360</td><td>66580</td></tr><tr><td>84295290</td><td>Outras máquinas escavadoras, etc, cuja superestrutura é capaz de efetuar uma rotação de 360°</td><td>511802</td><td>67252</td></tr><tr><td>56039120</td><td>Outros falsos tecidos de polipropileno, de peso não superior a 25 g/m2</td><td>501582</td><td>153990</td></tr><tr><td>74094090</td><td>Outras chapas e tiras de ligas à base de cobre-níquel (cuproníquel) ou de cobre-níquel-zinco (maillechort), de espessura superior a 0,15 mm</td><td>500949</td><td>12927</td></tr><tr><td>28020000</td><td>Enxofre sublimado ou precipitado; enxofre coloidal</td><td>498866</td><td>863001</td></tr><tr><td>29411043</td><td>Penicilina G procaínica</td><td>492733</td><td>14159</td></tr><tr><td>84594100</td><td>Outras máquinas para mandrilar (escarear), de comando numérico</td><td>490314</td><td>61500</td></tr><tr><td>29349925</td><td>Citarabina</td><td>488952</td><td>180</td></tr><tr><td>84424020</td><td>Partes de máquinas, aparelhos e equipamentos, de compor caracteres tipográficos por outros processos, mesmo com dispositivo de fundir</td><td>488288</td><td>5345</td></tr><tr><td>90281011</td><td>Contadores de gás natural comprimido eletrônico, para postos de serviço</td><td>487362</td><td>3630</td></tr><tr><td>28054000</td><td>Mercúrio</td><td>483934</td><td>12006</td></tr><tr><td>29359092</td><td>Gliburida</td><td>481199</td><td>2345</td></tr><tr><td>52052700</td><td>Fios simples de algodão,de fibras penteadas,que contenham pelo menos 85 %,em peso,de algodão,não acondicionados para venda a retalho,de título inferior a 106,38 decitex mas não inferior a 83,33 decitex (número métrico superior a 94 mas não superior a 120)</td><td>475153</td><td>71115</td></tr><tr><td>29332121</td><td>Fenitoína e seu sal sódico</td><td>475021</td><td>9628</td></tr><tr><td>28121700</td><td>Cloreto de tionila</td><td>465412</td><td>411801</td></tr><tr><td>23012090</td><td>Farinhas, pós e pellets, de crustáceos, de moluscos ou de outros invertebrados aquáticos, impróprios para alimentação humana</td><td>461872</td><td>157130</td></tr><tr><td>39119027</td><td>Cloreto de hexadimetrina</td><td>457115</td><td>39000</td></tr><tr><td>84483929</td><td>Partes e acessórios de outras máquinas de bobinar ou de dobar</td><td>455194</td><td>5699</td></tr><tr><td>84454012</td><td>Bobinadeiras automáticas para fios elastanos</td><td>454981</td><td>30111</td></tr><tr><td>29333925</td><td>Ácido 2-(2metil-3cloroanilino) nicotínico/sal de lisina</td><td>450537</td><td>4000</td></tr><tr><td>39089010</td><td>Copolímero de lauril-lactama, em forma primária</td><td>450287</td><td>60304</td></tr><tr><td>85399020</td><td>Bases para lâmpadas/tubos elétricos, de incandescência, etc.</td><td>448427</td><td>18572</td></tr><tr><td>84581110</td><td>Tornos horizontais para trabalhar metais, com comando numérico tipo revólver</td><td>444732</td><td>36495</td></tr><tr><td>29362320</td><td>5'-Fosfato sódico de vitamina B2 (5'-fosfato sódico de riboflavina), não misturado</td><td>444066</td><td>3715</td></tr><tr><td>29419019</td><td>Outras rifamicinas, seus derivados e sais destes produtos</td><td>443987</td><td>514</td></tr><tr><td>39069062</td><td>Copolímeros de acrilato de metila-etileno com um conteúdo de acrilato de metila igual ou superior a 50 %, em peso, em blocos irregulares, pedaços, pós, etc</td><td>442326</td><td>45321</td></tr><tr><td>28332950</td><td>Sulfato neutro de chumbo</td><td>438728</td><td>74604</td></tr><tr><td>52054400</td><td>Fios de algodão contendo ao menos 85 %,em peso,de algodão,não acondicionados para venda a retalho, retorcidos ou retorcidos múltiplos, fibras penteadas, título < 192,31 decitex mas > 125 decitex,por fio simples (número métrico > 52 mas <  80, fio simples)</td><td>432291</td><td>97319</td></tr><tr><td>72139910</td><td>Outros fios-máquina de ferro ou aço não ligado, com um teor de carbono superior ou igual a 0,6 %, em peso</td><td>430321</td><td>308221</td></tr><tr><td>29214239</td><td>Outras nitroanilinas e seus sais</td><td>429568</td><td>157834</td></tr><tr><td>65020010</td><td>Esboços de chapéus, entrançados ou obtidos por reunião de tiras de qualquer matéria, sem copa nem aba enformadas e sem guarnições, de palha fina (manila, panamá e semelhantes)</td><td>428317</td><td>5549</td></tr><tr><td>29215131</td><td>N,N'-Di-sec-butil-p-fenilenodiamina</td><td>428092</td><td>79040</td></tr><tr><td>55029090</td><td>Outros cabos de filamentos artificiais</td><td>424914</td><td>36000</td></tr><tr><td>30059011</td><td>Pensos reabsorvíveis, de ácido poliglicólico</td><td>424382</td><td>1421</td></tr><tr><td>84768100</td><td>Máquinas automáticas para venda de alimentos, com dispositivo de aquecimento ou de refrigeração incorporado</td><td>422482</td><td>45538</td></tr><tr><td>29372229</td><td>Triancinolona e outros derivados</td><td>417520</td><td>77</td></tr><tr><td>95082210</td><td>Carrosséis, mesmo dotados de dispositivo de elevação, de diâmetro inferior a 16 m</td><td>416940</td><td>63519</td></tr><tr><td>44079200</td><td>Madeira de faia (Fagus spp.), serrada ou fendida longitudinalmente, cortada transversalmente ou desenrolada, mesmo aplainada, lixada ou unida pelas extremidades, de espessura superior a 6 mm</td><td>415690</td><td>358264</td></tr><tr><td>20087020</td><td>Pêssegos, incluindo as nectarinas, preparados ou conservados em água, polpa com valor Brix igual ou superior a 20</td><td>414185</td><td>264928</td></tr><tr><td>84293000</td><td>Raspo-transportadores, autopropulsores</td><td>413142</td><td>11892</td></tr><tr><td>54041911</td><td>Imitações de categute, reabsorvíveis</td><td>410134</td><td>1238</td></tr><tr><td>29181320</td><td>Ésteres do ácido tartárico</td><td>409115</td><td>33753</td></tr><tr><td>54025190</td><td>Fio de náilon/outras poliamidas, simples, com torção superior a 50 voltas por metro</td><td>404403</td><td>69451</td></tr><tr><td>29419036</td><td>Cefoxitina e seus sais</td><td>401148</td><td>722</td></tr><tr><td>29252921</td><td>Guanidina</td><td>400850</td><td>92681</td></tr><tr><td>86040010</td><td>Veículos para inspeção e manutenção de vias férreas ou semelhantes, autopropulsados, equipados com batedores de balastro e alinhadores de vias férreas</td><td>395972</td><td>65845</td></tr><tr><td>50050000</td><td>Fios de desperdícios de seda, não acondicionados para venda a retalho</td><td>394970</td><td>2255</td></tr><tr><td>29349961</td><td>Cloridrato de tizanidina</td><td>394815</td><td>22</td></tr><tr><td>44188300</td><td>Vigas em I, de madeira</td><td>393640</td><td>254331</td></tr><tr><td>27040090</td><td>Semicoques de hulha, linhita ou turfa, carvão de retorta</td><td>387458</td><td>796719</td></tr><tr><td>29199060</td><td>Clorfenvinfós</td><td>379450</td><td>13500</td></tr><tr><td>74082912</td><td>Fios de ligas de cobre-estanho (bronze) fosforoso de seção transversal circular, de diâmetro inferior ou igual a 0,8 mm</td><td>379236</td><td>33959</td></tr><tr><td>39045010</td><td>Copolímeros de cloreto de vinilideno, sem emulsionante nem plastificante</td><td>379208</td><td>141600</td></tr><tr><td>38237040</td><td>Álcool cetílico (álcool graxo industrial)</td><td>377467</td><td>169192</td></tr><tr><td>28121200</td><td>Oxicloreto de fósforo</td><td>375431</td><td>54000</td></tr><tr><td>37021020</td><td>Filmes para raios X, sensibilizados em ambas as faces, não impressionados, em rolos</td><td>374248</td><td>18104</td></tr><tr><td>85021290</td><td>Outros grupos eletrogêneos de motor de pistão, de ignição por compressão (motores diesel ou semidiesel), de potência superior a 75 kVA, mas não superior a 375 kVA</td><td>372459</td><td>64695</td></tr><tr><td>29224963</td><td>Diclofenaco de dietilamônio</td><td>367142</td><td>12047</td></tr><tr><td>84551000</td><td>Laminadores de tubos, de metais</td><td>359545</td><td>25923</td></tr><tr><td>29339955</td><td>Flubendazol</td><td>358476</td><td>4000</td></tr><tr><td>48061000</td><td>Papel-pergaminho e cartão-pergaminho (sulfurizados), em rolos ou em folhas</td><td>358217</td><td>73938</td></tr><tr><td>38249924</td><td>Ésteres de álcoois graxos de C12 a C20 do ácido metacrílico e suas misturas; ésteres de ácidos monocarboxílicos de C10 ramificados com glicerol</td><td>354541</td><td>55035</td></tr><tr><td>38249987</td><td>Dispersão aquosa de microcápsulas de poliuretano ou de melamina-formaldeído contendo um precursor de corante em solventes orgânicos</td><td>353600</td><td>23630</td></tr><tr><td>29214429</td><td>Outros derivados da difenilamina e seus sais</td><td>353163</td><td>42630</td></tr><tr><td>91021290</td><td>Outros relógios de pulso, funcionando eletricamente, de mostrador exclusivamente optoeletrônico</td><td>352208</td><td>3380</td></tr><tr><td>84433238</td><td>Outras impressoras, com largura de impressão superior a 420 mm</td><td>349681</td><td>15612</td></tr><tr><td>85407900</td><td>Outros tubos para microondas</td><td>349567</td><td>898</td></tr><tr><td>29342034</td><td>2-(4-Morfoliniltio)benzotiazol (N-oxidietileno-benzotiazol-sulfenamida)</td><td>349233</td><td>70001</td></tr><tr><td>29034300</td><td>Triclorotrifluoretanos</td><td>349174</td><td>59369</td></tr><tr><td>29309093</td><td>Metileno-bis-tiocianato</td><td>348899</td><td>15012</td></tr><tr><td>75051129</td><td>Outros perfis de níquel não ligado</td><td>348723</td><td>13875</td></tr><tr><td>41062121</td><td>Couros e peles, depilados, de caprinos, no estado úmido (incluindo wet-blue), pré-curtidos ao cromo (wet-blue)</td><td>344855</td><td>122651</td></tr><tr><td>29396952</td><td>Metanossulfonato de diidroergocristina</td><td>343737</td><td>31</td></tr><tr><td>84463020</td><td>Teares para tecidos de largura superior a 30 cm, sem lançadeira, a jato d'água</td><td>342718</td><td>65990</td></tr><tr><td>30059012</td><td>Pensos reabsorvíveis de copolímero de ácido glicólico/láctico</td><td>339544</td><td>1036</td></tr><tr><td>29173700</td><td>Tereftalato de dimetila</td><td>339433</td><td>167042</td></tr><tr><td>55103011</td><td>Outros fios de fibras artificiais descontínuas, combinados, principal ou unicamente, com algodão, obtidos a partir de fibras de celulose, de raiom viscose, exceto modal</td><td>337718</td><td>74306</td></tr><tr><td>30042021</td><td>Medicamento contendo eritromicina ou seus sais, em doses</td><td>337427</td><td>3027</td></tr><tr><td>39207390</td><td>Outras chapas, etc, de acetatos de celulose, não reforçada</td><td>336554</td><td>57674</td></tr><tr><td>29315400</td><td>Triclorfom (ISO)</td><td>335275</td><td>93500</td></tr><tr><td>28273993</td><td>Cloreto de cromo</td><td>329224</td><td>49339</td></tr><tr><td>29242931</td><td>Carbaril</td><td>328552</td><td>37650</td></tr><tr><td>29333399</td><td>Sais de piritramida, propiram ou trimeperidina</td><td>327864</td><td>30</td></tr><tr><td>39059910</td><td>Poli (vinilformal)</td><td>327289</td><td>28050</td></tr><tr><td>88061000</td><td>null</td><td>324246</td><td>429</td></tr><tr><td>29214219</td><td>Outros ácidos aminobenzenossulfônicos e seus sais</td><td>324122</td><td>102369</td></tr><tr><td>48045910</td><td>Papel Kraft de peso igual ou superior a 225 g/m2, semibranqueados, com um conteúdo de 100 %, em peso, de fibras de madeira obtidas por processo químico, em rolos ou em folhas</td><td>319784</td><td>117570</td></tr><tr><td>52062200</td><td>Fios simples de algodão, de fibras penteadas, que contenham menos de 85 %, em peso, de algodão, não acondicionados para venda a retalho, de título < 714,29 decitex mas não inferior a 232,56 decitex (número métrico superior a 14 mas não superior a 43)</td><td>319449</td><td>147283</td></tr><tr><td>91091000</td><td>Maquinismos de artigos de relojoaria, completos e montados, exceto de pequeno volume, funcionando eletricamente</td><td>319158</td><td>17888</td></tr><tr><td>84223023</td><td>Máquinas e aparelhos para encher e fechar recipientes tubulares flexíveis (bisnagas), com capacidade superior ou igual a 100 unidades por minuto</td><td>316895</td><td>18601</td></tr><tr><td>16041700</td><td>Preparações e conservas, de enguias</td><td>315830</td><td>9120</td></tr><tr><td>68159911</td><td>Obras de pedras eletrofundidas, com um teor de alumina (Al2O3), superior ou igual a 90 %, em peso</td><td>315668</td><td>77016</td></tr><tr><td>68159919</td><td>Outras obras de pedras/matérias minerais, eletrofundidas</td><td>312899</td><td>99215</td></tr><tr><td>60052200</td><td>Tecidos de malha-urdidura (incluindo os fabricados em teares para galões), exceto os das posições 60.01 a 60.04, de algodão, tintos</td><td>312073</td><td>29158</td></tr><tr><td>55101211</td><td>Fios que contenham pelo menos 85 %, em peso, de fibras artificiais descontínuas, retorcidos ou retorcidos múltiplos, obtidos a partir de fibras de celulose, de raiom viscose, exceto modal</td><td>309429</td><td>85949</td></tr><tr><td>97053900</td><td> Outras coleções e peças de coleção que apresentem um interesse numismático, não classificados em códigos anteriores</td><td>306263</td><td>93</td></tr><tr><td>28372090</td><td>Outros cianetos complexos</td><td>303084</td><td>327</td></tr><tr><td>90183923</td><td>Cateteres de poli(cloreto de vinila), para termodiluição</td><td>298546</td><td>1639</td></tr><tr><td>29214500</td><td>1-Naftilamina (alfa-naftilamina), 2-naftilamina (beta-naftilamina), e seus derivados; sais destes produtos</td><td>296125</td><td>45789</td></tr><tr><td>38249951</td><td>Antiespumantes contendo fosfato de tributila em solução de álcool isopropílico</td><td>295560</td><td>29982</td></tr><tr><td>29335914</td><td>Flunarizina e seu dicloridrato</td><td>295520</td><td>1920</td></tr><tr><td>15041019</td><td>Outros óleos de fígados de bacalhau</td><td>293827</td><td>30434</td></tr><tr><td>29396921</td><td>Mesilato de diidroergotamina</td><td>285445</td><td>49</td></tr><tr><td>84433222</td><td>Impressoras de impacto, de caracteres braille</td><td>281678</td><td>1207</td></tr><tr><td>29215911</td><td>3, 3'-diclorobenzidina</td><td>280436</td><td>99600</td></tr><tr><td>54023290</td><td>Fios texturizados de outras poliamidas, de título superior a 50 tex por fio simples</td><td>273009</td><td>66692</td></tr><tr><td>78041100</td><td>Folhas e tiras, de chumbo, de espessura não superior a 0,2 mm (excluindo o suporte)</td><td>272550</td><td>2639</td></tr><tr><td>29342039</td><td>Outros benzotiazois-sulfenamidas</td><td>269690</td><td>11176</td></tr><tr><td>29221981</td><td>Tartarato</td><td>269096</td><td>5452</td></tr><tr><td>28254010</td><td>Óxido niqueloso</td><td>267154</td><td>9625</td></tr><tr><td>07095600</td><td>Trufas (Tuber spp.)</td><td>266925</td><td>697</td></tr><tr><td>29214910</td><td>Cloridrato de fenfluramina</td><td>266048</td><td>3</td></tr><tr><td>55141990</td><td>Outros tecidos < 85% fibra sintética descontínua cru/branqueado, com algodão</td><td>265256</td><td>24734</td></tr><tr><td>30044910</td><td>Vimblastina; vincristina; derivados destes produtos; topotecan ou seu cloridrato, apresentados em doses (incluindo os destinados a serem administrados por via percutânea) ou acondicionados para venda a retalho</td><td>264885</td><td>547</td></tr><tr><td>85013411</td><td>Motor elétrico de corrente contínua, de potência inferior ou igual a 3.000 kW</td><td>262892</td><td>14297</td></tr><tr><td>29034600</td><td>Bromoclorodifluormetano, bromotrifluormetano, etc.</td><td>261331</td><td>25071</td></tr><tr><td>29051993</td><td>Isotridecanol</td><td>258749</td><td>122360</td></tr><tr><td>12129200</td><td>Cana-de-açúcar fresca, refrigerada, congelada, seca, em pó</td><td>257457</td><td>87100</td></tr><tr><td>84619010</td><td>Outras máquinas-ferramentas que trabalhem por eliminação de metal ou de ceramais (cermets), não especificadas nem compreendidas noutras posições, de comando numérico</td><td>251762</td><td>12413</td></tr><tr><td>84472030</td><td>Máquinas de costura por entrelaçamento (couture-tricotage)</td><td>251336</td><td>42027</td></tr><tr><td>84483921</td><td>Partes e acessórios de bobinadeiras de trama</td><td>250456</td><td>36445</td></tr><tr><td>28259010</td><td>Óxido de cádmio</td><td>250335</td><td>31500</td></tr><tr><td>30031014</td><td>Medicamento contendo penicilina g potássica, exceto em doses</td><td>250061</td><td>4001</td></tr><tr><td>29349915</td><td>4, 4'-ditiodimorfolina</td><td>248685</td><td>69600</td></tr><tr><td>29214921</td><td>2, 4-xilidina e seus sais</td><td>246133</td><td>64000</td></tr><tr><td>29071510</td><td>beta-Naftol e seus sais</td><td>241536</td><td>112133</td></tr><tr><td>30021222</td><td>Outras imunoglobulinas séricas</td><td>241498</td><td>661</td></tr><tr><td>29094910</td><td>Guaifenesina</td><td>239705</td><td>17450</td></tr><tr><td>84453090</td><td>Outras máquinas para dobragem ou torção, de matérias têxteis</td><td>237509</td><td>23180</td></tr><tr><td>90021120</td><td>Lentes objetivas montadas, de aproximação (zoom) para câmeras de televisão, de 20 ou mais aumentos</td><td>236688</td><td>123</td></tr><tr><td>29339954</td><td>Mebendazol</td><td>234996</td><td>7322</td></tr><tr><td>84522923</td><td>Máquinas tipo zigue-zague para inserir elástico, não automática</td><td>232785</td><td>25205</td></tr><tr><td>40022010</td><td>Óleo de borracha de butadieno (br)</td><td>230406</td><td>183037</td></tr><tr><td>40028000</td><td>Misturas de borracha natural com borracha sintética, etc</td><td>229625</td><td>30582</td></tr><tr><td>27021000</td><td>Linhitas, mesmo em pó, mas não aglomeradas</td><td>227738</td><td>108815</td></tr><tr><td>85423320</td><td>Outros circuitos integrados monolíticos, não montados</td><td>227237</td><td>130</td></tr><tr><td>55103013</td><td>Outros fios de fibras artificiais descontínuas, combinados, principal ou unicamente, com algodão, obtidos a partir de fibras de celulose, de liocel</td><td>227230</td><td>57982</td></tr><tr><td>29224959</td><td>Outros sais e derivados de alfa-fenilglicina</td><td>226223</td><td>11491</td></tr><tr><td>03036800</td><td>Verdinhos (Micromesistius poutassou, Micromesistius australis), congelados (exceto filés, outras carnes)</td><td>224294</td><td>133343</td></tr><tr><td>29222911</td><td>P-aminofenol</td><td>224253</td><td>9238</td></tr><tr><td>30043933</td><td>Medicamento contendo estriol ou seu succinato, em doses</td><td>219914</td><td>769</td></tr><tr><td>52063100</td><td>Fios retorcidos ou retorcidos múltiplos de algodão, de fibras não penteadas, que contenham menos de 85 %, em peso, de algodão, não acondicionados para venda a retalho, de título igual ou superior a 714,29 decitex (número métrico não superior a 14)</td><td>219901</td><td>103682</td></tr><tr><td>29339933</td><td>Cloridrato de clomipramina</td><td>219702</td><td>412</td></tr><tr><td>29130090</td><td>Outros derivados halogenados, sulfonados, etc, dos aldeídos</td><td>219345</td><td>47480</td></tr><tr><td>62159000</td><td>Gravatas, gravatas-borboletas e plastrons, de outras matérias têxteis</td><td>215232</td><td>2063</td></tr><tr><td>39081012</td><td>Poliamida-12 em líquidos e pastas</td><td>214754</td><td>10946</td></tr><tr><td>48119011</td><td>Papéis/cartões/pasta e mantas de fibras de celulose em tiras ou rolos de largura não superior a 15 cm ou em folhas em que nenhum lado exceda 360 mm, quando não dobradas recobertos de pasta eletrolítica à base de amido modificado, de peso igual ou superior a 75 g/m2, mas não superior a 120 g/m2</td><td>213817</td><td>86272</td></tr><tr><td>37013039</td><td>Outras chapas sensibilizadas por outros procedimentos, cuja dimensão de pelo menos um dos lados seja superior a 255 mm</td><td>213702</td><td>12075</td></tr><tr><td>29333915</td><td>Haloperidol</td><td>210186</td><td>526</td></tr><tr><td>84433112</td><td>Impressora de transferência térmica de cera sólida (por exemplo, solid ink e dye sublimation)</td><td>207696</td><td>1018</td></tr><tr><td>44189200</td><td>Painéis celulares de madeira</td><td>207451</td><td>20890</td></tr><tr><td>89032100</td><td>Barcos à vela, exceto os infláveis, mesmo com motor auxiliar de comprimento não superior a 7,5 m</td><td>206838</td><td>2982</td></tr><tr><td>29038990</td><td>Outros derivados halogênados dos hidrocarbonetos ciclânicos, ciclênicos ou cicloterpênicos</td><td>206507</td><td>505</td></tr><tr><td>27074000</td><td>Naftaleno (produtos da destilação dos alcatrões de hulha)</td><td>205088</td><td>175940</td></tr><tr><td>27112910</td><td>Butanos no estado gasoso</td><td>204566</td><td>56609</td></tr><tr><td>30042072</td><td>Medicamento contendo actinomicinas, em doses</td><td>204436</td><td>68</td></tr><tr><td>84829111</td><td>Esferas de aço calibradas, para carga de canetas esferográficas</td><td>203294</td><td>1130</td></tr><tr><td>30049048</td><td>Medicamento contendo carmustina/lomustina, etc, em doses</td><td>202827</td><td>1074</td></tr><tr><td>85437050</td><td>Simulador de antenas para transmissores com potência igual ou superior a 25 kW (carga fantasma)</td><td>201974</td><td>1401</td></tr><tr><td>55109012</td><td>Outros fios de fibras artificiais descontínuas, obtidos a partir de fibras de celulose, de modal</td><td>201951</td><td>14589</td></tr><tr><td>28258090</td><td>Outros óxidos de antimônio</td><td>199701</td><td>31966</td></tr><tr><td>85143100</td><td>Fornos de feixe de elétrons</td><td>198480</td><td>6935</td></tr><tr><td>29335931</td><td>Propiltiouracil</td><td>197229</td><td>1300</td></tr><tr><td>29162013</td><td>Aletrinas</td><td>196752</td><td>5240</td></tr><tr><td>29225091</td><td>N-(1-(Metoxicarbonil)propen-2-il)-alfa-amino-p-hidroxifenilacetato de sódio (NAPOH)</td><td>193317</td><td>4000</td></tr><tr><td>29398000</td><td>Outros alcalóides, naturais ou reproduzidos por síntese, seus sais, éteres, ésteres e outros derivados</td><td>193268</td><td>262</td></tr><tr><td>29331919</td><td>Outras fenilbutazonas e seus sais</td><td>191961</td><td>3702</td></tr><tr><td>84733033</td><td>Cabeças magnéticas para unidades de discos ou de fitas</td><td>188992</td><td>292</td></tr><tr><td>29037912</td><td>Clorotetrafluoroetanos</td><td>186863</td><td>12531</td></tr><tr><td>29302023</td><td>Dibutilditiocarbamato de zinco</td><td>186687</td><td>63050</td></tr><tr><td>55011000</td><td>Cabos de náilon ou de outras poliamidas</td><td>185800</td><td>16100</td></tr><tr><td>84553020</td><td>Cilindros de laminadores, forjados, de aço de corte rápido, com um teor, em peso, de carbono >= 0,80 % e <= 0,90 %, de cromo >= 3,50 % e <=4 %, de vanádio >= 1,60 % e <= 2,30 %, de molibdênio <= 8,50 % e de tungstênio (volfrâmio) inferior ou igual a 7 %</td><td>185102</td><td>8988</td></tr><tr><td>37023200</td><td>Outros filmes, não perfurados, de largura não superior a 105 mm, que contenham uma emulsão de halogenetos de prata</td><td>181992</td><td>1688</td></tr><tr><td>44079930</td><td>Madeira de guaiuvira (Patagonula americana), serrada ou fendida longitudinalmente, cortada transversalmente ou desenrolada, mesmo aplainada, lixada ou unida pelas extremidades, de espessura superior a 6 mm</td><td>181884</td><td>304586</td></tr><tr><td>72166910</td><td>Outros perfis de ferro ou aço não ligado, obtidos ou completamente acabados a frio, de altura inferior a 80 mm</td><td>181114</td><td>98981</td></tr><tr><td>95081000</td><td>Circos ambulantes e coleções de animais ambulantes</td><td>179720</td><td>13937</td></tr><tr><td>29224964</td><td>Diclofenaco</td><td>178715</td><td>1846</td></tr><tr><td>29182220</td><td>Ésteres do ácido o-acetilsalicílico</td><td>177706</td><td>29459</td></tr><tr><td>07123400</td><td>Shitake (Lentinus edodes), secos ou ainda triturados ou em pó</td><td>175085</td><td>25282</td></tr><tr><td>29171921</td><td>Ácido maleico</td><td>173909</td><td>21988</td></tr><tr><td>29147921</td><td>Bissulfito sódico de menadiona</td><td>173029</td><td>15695</td></tr><tr><td>84522921</td><td>Remalhadeiras para costurar tecidos, não automáticas</td><td>171827</td><td>3785</td></tr><tr><td>29173911</td><td>Ésteres do ácido m-ftálico</td><td>171611</td><td>107500</td></tr><tr><td>29339993</td><td>Clofazimina</td><td>171162</td><td>366</td></tr><tr><td>56039310</td><td>Outros falsos tecidos de polietileno de alta densidade, de peso superior a 70 g/m2 mas não superior a 150 g/m2</td><td>170750</td><td>36375</td></tr><tr><td>29153962</td><td>Acetato de triclorometilfenilcarbinila</td><td>169806</td><td>30275</td></tr><tr><td>29339941</td><td>Clemastina e seus derivados; sais destes produtos</td><td>169236</td><td>23</td></tr><tr><td>30044950</td><td>Granisetron; tropisetrona ou seu cloridrato, apresentados em doses (incluindo os destinados a serem administrados por via percutânea) ou acondicionados para venda a retalho</td><td>167598</td><td>394</td></tr><tr><td>55101113</td><td>Fios que contenham pelo menos 85 %, em peso, de fibras artificiais descontínuas, obtidos a partir de fibras de celulose, simples, de liocel</td><td>164330</td><td>130498</td></tr><tr><td>84451925</td><td>Abridoras de outras fibras têxteis vegetais</td><td>163608</td><td>11760</td></tr><tr><td>84490099</td><td>Partes de máquinas e aparelhos para fabricação e acabamento de feltros, etc</td><td>160698</td><td>8575</td></tr><tr><td>28209030</td><td>Tetraóxido de trimanganês (óxido salino de manganês)</td><td>152107</td><td>42000</td></tr><tr><td>29339132</td><td>Flunitrazepam</td><td>152093</td><td>20</td></tr><tr><td>29214421</td><td>n-Octildifenilamina</td><td>151850</td><td>33520</td></tr><tr><td>29061200</td><td>Cicloexanol, metilcicloexanóis e dimetilcicloexanóis</td><td>151673</td><td>13155</td></tr><tr><td>69021011</td><td>Tijolos ou placas refratárias, contendo, em peso, mais de 90 % de trióxido de dicromo</td><td>150899</td><td>35330</td></tr><tr><td>29359015</td><td>Sulfametazina (4,6-dimetil-2-sulfanilamidopirimidina) e seu sal sódico</td><td>149967</td><td>16500</td></tr><tr><td>29302011</td><td>Eptc (tiocarbamato)</td><td>149785</td><td>58000</td></tr><tr><td>52052800</td><td>Fios simples de algodão, de fibras penteadas, que contenham pelo menos 85 %, em peso, de algodão, não acondicionados para venda a retalho, de título inferior a 83,33 decitex (número métrico superior a 120)</td><td>149654</td><td>23466</td></tr><tr><td>29299019</td><td>Outros ácidos ciclâmicos e seus sais</td><td>148531</td><td>4670</td></tr><tr><td>29214410</td><td>Difenilamina e seus sais</td><td>147435</td><td>12663</td></tr><tr><td>29215120</td><td>Derivados sulfonados das fenilenodiaminas e de seus derivados; sais destes produtos</td><td>146895</td><td>12427</td></tr><tr><td>29414020</td><td>Tianfenicol e seus ésteres</td><td>146197</td><td>4350</td></tr><tr><td>37024410</td><td>Filmes de largura superior a 105 mm, mas não superior a 610 mm, sensibilizado, não impressionado, para fotografia a cores (policromo)</td><td>146183</td><td>31115</td></tr><tr><td>29214929</td><td>Outras xilidinas, seus derivados e seus sais</td><td>145782</td><td>21350</td></tr><tr><td>85419020</td><td>Coberturas para encapsulamento (cápsulas)</td><td>145640</td><td>228</td></tr><tr><td>29211300</td><td>Cloridrato de 2-cloroetil(N,N-dietilamina)</td><td>145319</td><td>6000</td></tr><tr><td>84709090</td><td>Outras máquinas de franquear, emitir tíquetes e máquinas semelhantes</td><td>144924</td><td>16341</td></tr><tr><td>84433116</td><td>Outras impressoras com largura de impressão > 420 mm</td><td>144195</td><td>8234</td></tr><tr><td>54023211</td><td>Multifilamento com efeito antiestático permanente, de título superior a 110 tex</td><td>144034</td><td>27315</td></tr><tr><td>14012000</td><td>Rotins para cestaria ou espartaria</td><td>142509</td><td>4041</td></tr><tr><td>17026010</td><td>Frutose que contenha, em peso, no estado seco, um teor de frutose (levulose) superior a 50 %, com exceção do açúcar invertido</td><td>142414</td><td>25500</td></tr><tr><td>25201020</td><td>Anidrita</td><td>141651</td><td>607544</td></tr><tr><td>84773010</td><td>Máquinas para fabricação de recipientes termoplásticos de capacidade inferior ou igual a 5 litros, com uma produção inferior ou igual a 1.000 unidades por hora, referente a recipiente de 1 litro</td><td>141075</td><td>32686</td></tr><tr><td>91081900</td><td>Outros maquinismos de pequeno volume para relógios, completos e montados, funcionando eletricamente</td><td>140665</td><td>368</td></tr><tr><td>29349922</td><td>Zidovudina (AZT)</td><td>139026</td><td>8904</td></tr><tr><td>84612010</td><td>Máquinas-ferramentas para escatelar engrenagens</td><td>137762</td><td>22805</td></tr><tr><td>56050010</td><td>Fios metálicos e fios metalizados, mesmo revestidos por enrolamento, constituídos por fios têxteis,lâminas ou formas semelhantes das posições 5404/5405,combinados com metal sob a forma de fios,de lâminas ou pós,ou recobertos de metal, com metais preciosos</td><td>137529</td><td>15211</td></tr><tr><td>85322120</td><td>Outros condensadores fixos eletrolítico, de tântalo, próprios para montagem por inserção (PHP - Pin Through Hole)</td><td>136927</td><td>7115</td></tr><tr><td>29359022</td><td>Ftalilsulfatiazol</td><td>136309</td><td>2337</td></tr><tr><td>29312000</td><td>Compostos de tributilestanho</td><td>135466</td><td>4635</td></tr><tr><td>85323010</td><td>Condensadores variáveis ou ajustáveis, próprios para montagem em superfície (SMD - Surface Mounted Device), elétricos</td><td>133556</td><td>5447</td></tr><tr><td>85437031</td><td>Geradores de efeitos especiais com manipulação em 2 ou 3 dimensões, mesmo combinados com dispositivo de comutação, de mais de 10 entradas de áudio ou de vídeo</td><td>132418</td><td>695</td></tr><tr><td>88062900</td><td>Outros veículos aéreos (aeronaves) não tripulados, concebidos unicamente para serem pilotados remotamente, não classificados em códigos anteriores</td><td>132398</td><td>124</td></tr><tr><td>29214319</td><td>Outras toluidinas e seus sais</td><td>132319</td><td>6990</td></tr><tr><td>29141950</td><td>Metilisopropilcetona</td><td>132158</td><td>10484</td></tr><tr><td>29094922</td><td>Tetraetilenoglicol</td><td>131577</td><td>60177</td></tr><tr><td>84632010</td><td>Máquinas para fazer roscas internas ou externas por laminagem, de comando numérico</td><td>131539</td><td>17158</td></tr><tr><td>15121920</td><td>Outros óleos de cártamo</td><td>131420</td><td>19304</td></tr><tr><td>29053920</td><td>Trimetilenoglicol (1, 3-propanodiol)</td><td>130978</td><td>17728</td></tr><tr><td>84072910</td><td>Outros motores de explosão, para embarcação, monocilíndricos</td><td>130822</td><td>27457</td></tr><tr><td>84433119</td><td>Outras impressoras com capacidade de impressão <= 45 páginas por minuto</td><td>130479</td><td>7741</td></tr><tr><td>86069900</td><td>Outros vagões para transporte de mercadorias sobre vias férreas</td><td>130142</td><td>30730</td></tr><tr><td>35029090</td><td>Outras albuminas, albuminatos e outros derivados das albuminas</td><td>128377</td><td>136</td></tr><tr><td>29214321</td><td>3-Nitro-4-toluidina e seus sais</td><td>128189</td><td>25200</td></tr><tr><td>84531010</td><td>Máquinas para dividir couros com largura útil inferior ou igual a 3.000 mm, com lâmina sem fim, com controle eletrônico programável</td><td>128160</td><td>11088</td></tr><tr><td>29214249</td><td>Outras cloronitroanilinas e seus sais</td><td>128124</td><td>6750</td></tr><tr><td>82149010</td><td>Máquinas de tosquiar e suas partes, de metais comuns</td><td>127498</td><td>40906</td></tr><tr><td>78042000</td><td>Pós e escamas de chumbo</td><td>127020</td><td>44220</td></tr><tr><td>29333944</td><td>Nitrendipina</td><td>125620</td><td>430</td></tr><tr><td>60029020</td><td>Outros tecidos de malha fibra sintética/artificial, largura <=30 cm</td><td>124804</td><td>47815</td></tr><tr><td>29039120</td><td>o-Diclorobenzeno</td><td>124516</td><td>80160</td></tr><tr><td>29182910</td><td>Ácido hidroxinaftóico</td><td>124470</td><td>42000</td></tr><tr><td>53082000</td><td>Fios de cânhamo</td><td>123983</td><td>10328</td></tr><tr><td>54083300</td><td>Outros tecidos de filamentos artificiais, de fios de diversas cores</td><td>122434</td><td>6231</td></tr><tr><td>95063100</td><td>Tacos completos para golfe</td><td>121934</td><td>1816</td></tr><tr><td>29372940</td><td>Mesterolona e seus derivados</td><td>121291</td><td>72</td></tr><tr><td>87043120</td><td>Veículos automóveis com motor à explosão/caixa basculante, de peso em carga máxima não superior a 5 toneladas</td><td>119622</td><td>2465</td></tr><tr><td>54031000</td><td>Fio de alta tenacidade, de raiom viscose</td><td>118878</td><td>8790</td></tr><tr><td>54023190</td><td>Fio texturizado, de outras poliamidas, tinto, de título igual ou inferior a 50 tex por fio simples</td><td>118748</td><td>29410</td></tr><tr><td>63063010</td><td>Velas para embarcações, para pranchas a vela ou para carros a vela, de fibras sintéticas</td><td>117665</td><td>978</td></tr><tr><td>84069021</td><td>Palhetas fixas (de estator), de turbinas a vapor</td><td>117281</td><td>177</td></tr><tr><td>84561211</td><td>Máquinas-ferramentas que trabalhem por eliminação de qualquer matéria, que operem por outro feixe de luz ou de fótons, de comando numérico, para corte de chapas metálicas de espessura superior a 8 mm</td><td>114950</td><td>15967</td></tr><tr><td>29280020</td><td>Carbidopa</td><td>114738</td><td>177</td></tr><tr><td>85437012</td><td>Amplificadores de radiofrequência, para recepção de sinais de micro-ondas de baixo ruído (LNA) na banda de 3.600 a 4.200 MHz, com temperatura menor ou igual a 55 Kelvin, para telecomunicações via satélite</td><td>114679</td><td>90</td></tr><tr><td>59041000</td><td>Linóleos, mesmo recortados</td><td>112784</td><td>35938</td></tr><tr><td>47063000</td><td>Outras pastas de fibras obtidas de bambu</td><td>111959</td><td>52219</td></tr><tr><td>55129110</td><td>Tecido de fibras de aramida, crus ou branqueados</td><td>111755</td><td>696</td></tr><tr><td>29091910</td><td>Éter metil-ter-butílico (MTBE)</td><td>110942</td><td>8581</td></tr><tr><td>29214931</td><td>Sulfato de tranilcipromina</td><td>109902</td><td>22</td></tr><tr><td>29333110</td><td>Piridina</td><td>109670</td><td>11530</td></tr><tr><td>39092021</td><td>Melamina-formaldeído, sem carga, em pó</td><td>109158</td><td>29750</td></tr><tr><td>82071900</td><td>Outras ferramentas de perfuração ou de sondagem, de metais comuns, inclusive partes</td><td>109003</td><td>3669</td></tr><tr><td>84672991</td><td>Cortadoras de tecidos, com motor elétrico incorporado</td><td>108406</td><td>3380</td></tr><tr><td>81123900</td><td>Obras e outros produtos de háfnio (céltio)</td><td>107948</td><td>34</td></tr><tr><td>29314500</td><td>Sal do ácido metilfosfônico e de (aminoiminometil)ureia (1:1)</td><td>107595</td><td>16200</td></tr><tr><td>38170020</td><td>Misturas de alquilnaftalenos</td><td>107060</td><td>21567</td></tr><tr><td>03089000</td><td>Outros invertebrados aquáticos, exceto crustáceos e moluscos, congelado, seco, etc</td><td>106798</td><td>3589</td></tr><tr><td>29269093</td><td>Closantel</td><td>106659</td><td>1550</td></tr><tr><td>29333371</td><td>Metilfenidato</td><td>105720</td><td>0</td></tr><tr><td>39069052</td><td>Sal sódico do poli(ácido acrilamídico), solúvel em água, em blocos irregulares, pedaços, pós, etc</td><td>105474</td><td>27475</td></tr><tr><td>55141910</td><td>Outros tecidos < 85% fibra descontínuas poliéster, cru/branqueado, com algo</td><td>102957</td><td>31293</td></tr><tr><td>29391181</td><td>Oxicodona e seus sais</td><td>102429</td><td>56</td></tr><tr><td>74082913</td><td>Outros fios de ligas de cobre-estanho (bronze) fosforosos</td><td>101517</td><td>3766</td></tr><tr><td>51052999</td><td>Outras lãs penteadas</td><td>100932</td><td>8689</td></tr><tr><td>51123010</td><td>Outros, combinados, principal ou unicamente, com fibras sintéticas ou artificiais descontínuas, de lã</td><td>100896</td><td>1693</td></tr><tr><td>55096100</td><td>Fio de fibras acrílicas ou modacrílicas, combinadas, principal ou unicamente, com lã ou pelos finos</td><td>100787</td><td>7785</td></tr><tr><td>29214630</td><td>Dexanfetamina e seus sais</td><td>100666</td><td>34</td></tr><tr><td>28419050</td><td>Plumbatos</td><td>100607</td><td>12000</td></tr><tr><td>28461090</td><td>Outros compostos de cério</td><td>100124</td><td>14055</td></tr><tr><td>90029010</td><td>Comutadores (switches) optomecânicos, do tipo utilizado em redes ópticas de transmissão de dados, próprios para montagem por inserção (PTH -Pin Through Hole)</td><td>99280</td><td>306</td></tr><tr><td>29042010</td><td>Mononitrotoluenos (MNT)</td><td>96873</td><td>26006</td></tr><tr><td>60024090</td><td>Tecidos de malha de largura não superior a 30 cm, que contenham, em peso, 5 % ou mais de fios de elastômeros, mas que não contenham fios de borracha, exceto os da posição 60.01, de outras matérias têxteis</td><td>96574</td><td>1121</td></tr><tr><td>55163300</td><td>Tecidos que contenham menos de 85 %, em peso, de fibras artificiais descontínuas, combinadas, principal ou unicamente, com lã ou pelos finos, de fios de diversas cores</td><td>96357</td><td>15966</td></tr><tr><td>28415014</td><td>Dicromato de potássio</td><td>96024</td><td>24102</td></tr><tr><td>29329913</td><td>Dinitrato de isossorbida</td><td>94143</td><td>1281</td></tr><tr><td>55101119</td><td>Fios que contenham pelo menos 85 %, em peso, de fibras artificiais descontínuas, simples, obtidos a partir de fibras de celulose, de outros materiais</td><td>93744</td><td>23994</td></tr><tr><td>28419049</td><td>Outros estanatos</td><td>93190</td><td>4003</td></tr><tr><td>55094100</td><td>Fio de outras fibras sintéticas >= 85%, simples</td><td>93013</td><td>15797</td></tr><tr><td>80070010</td><td>Chapas, folhas e tiras, de estanho</td><td>92574</td><td>378</td></tr><tr><td>38276900</td><td>Outras misturas que contenham outros hidrofluorcarbonetos (HFC), mas que não contenham clorofluorcarbonetos (CFC) ou hidroclorofluorcarbonetos (HCFC), não classificadas em códigos anteriores</td><td>91893</td><td>3233</td></tr><tr><td>39139012</td><td>Borracha clorada em outras formas primárias</td><td>91822</td><td>9000</td></tr><tr><td>29211111</td><td>Monometilamina</td><td>91705</td><td>57604</td></tr><tr><td>38275100</td><td>Misturas que contenham trifluorometano (HFC-23) ou perfluorcarbonetos (PFC), mas que não contenham clorofluorcarbonetos (CFC) ou hidroclorofluorcarbonetos (HCFC), que contenham trifluorometano (HFC-23)</td><td>91494</td><td>462</td></tr><tr><td>06029010</td><td>Micélios de cogumelos</td><td>91108</td><td>33606</td></tr><tr><td>29303011</td><td>Monossulfetos de tetrametiltiourama</td><td>89567</td><td>23278</td></tr><tr><td>84144010</td><td>Compressores de ar montados sobre chassis com rodas e rebocáveis, de deslocamento alternativo</td><td>89166</td><td>5313</td></tr><tr><td>29051929</td><td>Outros álcoolatos metálicos</td><td>88890</td><td>19807</td></tr><tr><td>84798110</td><td>Diferenciadores das tensões de tração de entrada e saída da chapa, em instalações de galvanoplastia</td><td>88282</td><td>3639</td></tr><tr><td>38180090</td><td>Outros elementos químicos impurificados (dopados), próprios para utilização em eletrônica, em forma de discos, plaquetas (wafers), ou formas análogas; compostos químicos impurificados (dopados), próprios para utilização em eletrônica</td><td>87476</td><td>28</td></tr><tr><td>39069061</td><td>Copolímero de acrilato de potássio e acrilamida, com capacidade de absorção de água destilada de até quatrocentas vezes seu próprio peso, em blocos irregulares, pedaços, pós, etc</td><td>87045</td><td>30000</td></tr><tr><td>28309020</td><td>Polissulfetos</td><td>86818</td><td>5811</td></tr><tr><td>60063230</td><td>Outros tecidos de malha, de fibras sintéticas, tintos, acrílicos ou modacrílicos</td><td>86412</td><td>2186</td></tr><tr><td>28352960</td><td>Fosfato de manganês</td><td>85970</td><td>4800</td></tr><tr><td>37024320</td><td>Filmes heliográficos, de poliéster, sensibilizados, não impressionados, em rolos, de largura superior a 610 mm e comprimento não superior a 200 m</td><td>85652</td><td>3033</td></tr><tr><td>03048510</td><td>Filé de merluza negra (Dissostichus eleginoides), congelado</td><td>85216</td><td>2420</td></tr><tr><td>29339162</td><td>Nitrazepam</td><td>84364</td><td>99</td></tr><tr><td>60061000</td><td>Outros tecidos de malha, de lã ou de pelos finos</td><td>83601</td><td>1551</td></tr><tr><td>29239020</td><td>Derivados da colina</td><td>83557</td><td>2153</td></tr><tr><td>74101112</td><td>Folha de cobre, de espessura inferior ou igual a 0,04 mm e uma resistividade elétrica inferior ou igual a 0,017241 ohm.mm2/m</td><td>83210</td><td>5354</td></tr><tr><td>29309036</td><td>Carbocisteína</td><td>82945</td><td>2101</td></tr><tr><td>55061000</td><td>Fibras sintéticas descontínuas, cardadas, penteadas ou transformadas de outro modo para fiação, de náilon ou de outras poliamidas</td><td>82548</td><td>9526</td></tr><tr><td>29041040</td><td>Ácido etanossulfônico; ácido etilenossulfônico</td><td>82305</td><td>5393</td></tr><tr><td>29415090</td><td>Outros derivados da eritromicina e seus sais</td><td>81826</td><td>54</td></tr><tr><td>38012010</td><td>Suspensão semicoloidal em óleos minerais</td><td>81668</td><td>10602</td></tr><tr><td>60054100</td><td>Tecidos de malha-urdidura (incluindo os fabricados em teares para galões), exceto os das posições 60.01 a 60.04, de fibras artificiais, crus ou branqueados</td><td>80150</td><td>20215</td></tr><tr><td>29159010</td><td>Cloreto de cloroacetila</td><td>78961</td><td>21500</td></tr><tr><td>56039230</td><td>Outros falsos tecidos de polipropileno, de peso superior a 25 g/m2 mas não superior a 70 g/m2</td><td>78530</td><td>20707</td></tr><tr><td>50071010</td><td>Tecidos de bourrette de seda, estampados, tintos ou de fios de diversas cores</td><td>78287</td><td>567</td></tr><tr><td>84581910</td><td>Tornos horizontais para trabalhar metais, sem comando numérico, tipo revólver</td><td>77854</td><td>33900</td></tr><tr><td>46012200</td><td>Esteiras, capachos e divisórias, de rotim</td><td>77701</td><td>16203</td></tr><tr><td>32030011</td><td>Hemateína (matéria corante)</td><td>77541</td><td>245</td></tr><tr><td>34049022</td><td>Ceras preparadas à base de hidroxiestearil cetil éter</td><td>76751</td><td>15000</td></tr><tr><td>29211921</td><td>Mono-n-propilamina e seus sais</td><td>76202</td><td>11406</td></tr><tr><td>48103210</td><td>Papel e cartão Kraft, branqueados uniformemente na massa e > 95 %,em peso,do conteúdo total de fibras seja constituído por fibras de madeira obtidas por processo químico,p > 150 g/m2,tiras ou rolos de largura < 15 cm ou em folhas em que nenhum lado >360mm</td><td>75291</td><td>99641</td></tr><tr><td>35079023</td><td>Estreptoquinase</td><td>75076</td><td>1</td></tr><tr><td>38249915</td><td>Maduramicina amônica, em solução alcoólica, da fabricação da maduramicina</td><td>74905</td><td>18320</td></tr><tr><td>39044010</td><td>Outros copolímeros de cloreto de vinila, com acetato de vinila, com um ácido dibásico ou com álcool vinílico, nas formas previstas na Nota 6 b) deste Capítulo</td><td>74126</td><td>20254</td></tr><tr><td>84798300</td><td>Prensas isostáticas a frio</td><td>74074</td><td>2126</td></tr><tr><td>28415015</td><td>Cromato de zinco</td><td>73569</td><td>7274</td></tr><tr><td>74093111</td><td>Chapas de ligas à base de cobre-estanho (bronze), de espessura superior a 0,15 mm, revestidas de plástico, com uma camada intermediária de liga de cobre-estanho ou cobre-estanho-chumbo, aplicada por sinterização</td><td>72896</td><td>8195</td></tr><tr><td>71042900</td><td>Outras pedras sintéticas/reconstituídas, em bruto/serrados/desbastados</td><td>72883</td><td>105</td></tr><tr><td>60052100</td><td>Tecidos de malha-urdidura (incluindo os fabricados em teares para galões), exceto os das posições 60.01 a 60.04, de algodão, crus ou branqueados</td><td>72064</td><td>7981</td></tr><tr><td>86071110</td><td>Bogies de tração de veículos para vias férreas</td><td>71702</td><td>11169</td></tr><tr><td>51082000</td><td>Fios de pelos finos, penteados, não acondicionados para venda a retalho.</td><td>71373</td><td>473</td></tr><tr><td>84529092</td><td>Partes para remalhadeiras</td><td>70742</td><td>155</td></tr><tr><td>40013000</td><td>Balata, guta-percha, guaiúle, chicle e gomas naturais análogas</td><td>70725</td><td>416</td></tr><tr><td>37012020</td><td>Filmes de revelação e copiagem instantâneas, para fotografia monocromática</td><td>70289</td><td>1058</td></tr><tr><td>71022100</td><td>Diamantes industriais, em bruto ou simplesmente serrados, clivados ou desbastados</td><td>70285</td><td>0</td></tr><tr><td>92019000</td><td>Outros pianos, cravos e outros instrumentos de cordas, com teclado</td><td>69461</td><td>4164</td></tr><tr><td>38249954</td><td>Retardante de chama contendo misturas de trifenilfosfatos isopropilados</td><td>69446</td><td>4277</td></tr><tr><td>29211911</td><td>Monoetilamina e seus sais</td><td>68682</td><td>5790</td></tr><tr><td>72189100</td><td>Produtos semimanufaturados, de aços inoxidáveis, seção transversal retangular</td><td>68592</td><td>2294</td></tr><tr><td>29333981</td><td>Cloridrato de benzetimida</td><td>68216</td><td>11</td></tr><tr><td>84433291</td><td>Impressoras de código de barras postais, tipo 3 em 5, a jato de tinta fluorescente, com velocidade de até 4,5 m/s e passo de 1,4 mm</td><td>67873</td><td>905</td></tr><tr><td>73221100</td><td>Radiadores para aquecimento central, não elétrico, partes, de ferro fundido</td><td>67629</td><td>8363</td></tr><tr><td>28416930</td><td>Outros permanganatos</td><td>66615</td><td>8575</td></tr><tr><td>55069000</td><td>Outras fibras sintéticas descontínuas, cardadas, penteadas ou transformadas de outro modo para fiação</td><td>66590</td><td>22175</td></tr><tr><td>97052100</td><td>Espécimes humanos e suas partes</td><td>65528</td><td>20</td></tr><tr><td>17024010</td><td>Glicose que contenha, em peso, no estado seco, um teor de frutose (levulose) igual ou superior a 20 % e inferior a 50 %, com exceção do açúcar invertido</td><td>65500</td><td>7380</td></tr><tr><td>29209032</td><td>Nitroglicerina</td><td>65158</td><td>801</td></tr><tr><td>41133000</td><td>Couros de répteis, preparados após curtimento, etc</td><td>65059</td><td>230</td></tr><tr><td>32019019</td><td>Outros extratos tanantes, de origem vegetal</td><td>64626</td><td>52700</td></tr><tr><td>85414210</td><td>Células solares orgânicas fotovoltaicas não montadas em módulos nem em painéis</td><td>64424</td><td>3168</td></tr><tr><td>29252950</td><td>N-(3,7-Dimetil-7-hidroxioctilideno)antranilato de metila</td><td>64325</td><td>3320</td></tr><tr><td>58041010</td><td>Tules, filó e tecidos de malhas com nós, de algodão</td><td>64027</td><td>5354</td></tr><tr><td>55144100</td><td>Tecido de poliéster < 85% com algodão, peso > 170 g/m2, tafetá,  estampado</td><td>63261</td><td>4750</td></tr><tr><td>85409190</td><td>Outras partes para tubos catódicos</td><td>63098</td><td>16</td></tr><tr><td>29089913</td><td>Ácido pícrico</td><td>62692</td><td>2042</td></tr><tr><td>37029700</td><td>Outros filmes sensibilizados, não impressionados, de largura não superior a 35 mm e comprimento superior a 30 m</td><td>61475</td><td>407</td></tr><tr><td>95061900</td><td>Outros equipamentos para esquiar na neve</td><td>60934</td><td>11139</td></tr><tr><td>29333945</td><td>Maleato de pirilamina</td><td>60911</td><td>1150</td></tr><tr><td>55029010</td><td>Cabos de filamentos artificiais, de raiom viscose</td><td>60680</td><td>18792</td></tr><tr><td>29395920</td><td>Aminofilina</td><td>60206</td><td>2100</td></tr><tr><td>03077200</td><td>Amêijoas, berbigões e arcas (famílias Arcidae, Arcticidae, Cardiidae, Donacidae, Hiatellidae, Mactridae, Mesodesmatidae, Myidae, Semelidae, Solecurtidae, Solenidae, Tridacnidae e Veneridae), congelados</td><td>60171</td><td>3500</td></tr><tr><td>29161929</td><td>Outros sais e ésteres do ácido undecilênico</td><td>60045</td><td>879</td></tr><tr><td>29171323</td><td>Sebacato de dioctila</td><td>59959</td><td>8141</td></tr><tr><td>91101200</td><td>Maquinismos incompletos, montados, de pequeno volume</td><td>59865</td><td>18497</td></tr><tr><td>47072000</td><td>Outros papéis ou cartões, obtidos principalmente a partir de pasta química branqueada, não corada na massa, para reciclar</td><td>59105</td><td>385339</td></tr><tr><td>29339119</td><td>Sais de alprazolam, camazepam, clonazepam, etc.</td><td>58013</td><td>5</td></tr><tr><td>69029020</td><td>Tijolos e outras peças cerâmicas refratárias não fundidos, com um teor de óxido de zircônio (ZrO2) superior a 25 %, em peso</td><td>57327</td><td>8142</td></tr><tr><td>89032300</td><td>Barcos à vela, exceto os infláveis, mesmo com motor auxiliar de comprimento superior a 24 m</td><td>57126</td><td>102000</td></tr><tr><td>55164400</td><td>Tecidos que contenham menos de 85 %, em peso, de fibras artificiais descontínuas, combinadas, principal ou unicamente, com algodão, estampados</td><td>57040</td><td>8824</td></tr><tr><td>44079960</td><td>Madeira de amendoim (Pterogyne nitens), serrada ou fendida longitudinalmente, cortada transversalmente ou desenrolada, mesmo aplainada, lixada ou unida pelas extremidades, de espessura superior a 6 mm</td><td>57010</td><td>30125</td></tr><tr><td>74101113</td><td>Outras folhas de cobre, de espessura inferior ou igual a 0,04 mm</td><td>57003</td><td>4012</td></tr><tr><td>85413011</td><td>Tiristores, diacs e triacs, exceto os dispositivos fotossensíveis, não montados, de intensidade de corrente inferior ou igual a 3 A</td><td>56787</td><td>315</td></tr><tr><td>28418090</td><td>Outros tungstatos (volframatos)</td><td>56536</td><td>485</td></tr><tr><td>03082200</td><td>Ouriços-do-mar (Strongylocentrotus spp., Paracentrotus lividus, Loxechinus albus, Echinus esculentus), congelados</td><td>56351</td><td>1063</td></tr><tr><td>41063200</td><td>Couros e peles de suínos, no estado seco (crust)</td><td>55974</td><td>5594</td></tr><tr><td>84303990</td><td>Outras máquinas para perfuração de túneis e galerias</td><td>55968</td><td>6674</td></tr><tr><td>38123921</td><td>Preparações antioxidantes e outros estabilizadores compostos, para plástico, que contenham derivados N-substituídos de p-fenilenodiamina</td><td>55956</td><td>2722</td></tr><tr><td>38089422</td><td>Desinfetantes apresentados de outro modo, à base de 2-(tiocianometiltio) benzotiazol</td><td>55707</td><td>8000</td></tr><tr><td>74071021</td><td>Perfis ocos de cobre refinado</td><td>55686</td><td>2487</td></tr><tr><td>16055800</td><td>Preparações e conservas, de caracóis (exceto os do mar)</td><td>55386</td><td>2409</td></tr><tr><td>28111930</td><td>Ácido perclórico</td><td>54878</td><td>2194</td></tr><tr><td>39173259</td><td>Outros tubos de celulose regenerada, não reforçados, sem acessórios</td><td>54709</td><td>302</td></tr><tr><td>03038119</td><td>Outros tubarões-azuis, congelados</td><td>54638</td><td>22000</td></tr><tr><td>29319051</td><td>Ácido metilarsínico e seus sais</td><td>54466</td><td>250</td></tr><tr><td>84433929</td><td>Outras máquinas copiadoras eletrostáticas</td><td>53467</td><td>226</td></tr><tr><td>54041919</td><td>Outras imitações de categute, de monofilamentos</td><td>53324</td><td>22953</td></tr><tr><td>44101290</td><td>Outros painéis denominados oriented strand board (OSB), mesmo aglomeradas com resinas ou com outros aglutinantes orgânicos</td><td>53229</td><td>75138</td></tr><tr><td>72102000</td><td>Produtos laminados planos, de ferro ou aço não ligado, de largura igual ou superior a 600 mm, folheados ou chapeados, ou revestidos, estanhados, revestidos de chumbo, incluindo os revestidos de uma liga de chumbo-estanho</td><td>53180</td><td>14564</td></tr><tr><td>29396100</td><td>Ergometrina (DCI) e seus sais</td><td>53011</td><td>2</td></tr><tr><td>84541000</td><td>Conversores para metalurgia, aciaria ou fundição</td><td>52630</td><td>921</td></tr><tr><td>38123912</td><td>Preparações antioxidantes e outros estabilizadores compostos, para borracha, que contenham fosfitos de alquila, de arila ou de alquil-arila</td><td>52144</td><td>16800</td></tr><tr><td>55159910</td><td>Outros tecidos de fibras sintéticas descontínuas, combinados, principal ou unicamente, com lã ou pelos finos</td><td>51693</td><td>1063</td></tr><tr><td>33012918</td><td>Óleo essencial, de cabreúva (cabriúva)</td><td>51620</td><td>1161</td></tr><tr><td>29124910</td><td>3-Fenoxibenzaldeído</td><td>51265</td><td>6300</td></tr><tr><td>29397919</td><td>Outras escopolaminas e seus derivados; sais destes produtos</td><td>50797</td><td>0</td></tr><tr><td>84733032</td><td>Braços posicionadores de cabeças magnéticas, para unidade de discos/fitas</td><td>50760</td><td>59</td></tr><tr><td>55134911</td><td>Tecido estampado < 85% fibras descontínuas de poliéster, em ponto sarjado, incluindo o diagonal, cuja relação de textura não seja superior a 4</td><td>50752</td><td>19076</td></tr><tr><td>29331119</td><td>Outros ácidos 1-fenil-2, 3-dimetil-5-pirazolona-4-...</td><td>50606</td><td>175</td></tr><tr><td>84512910</td><td>Outras máquinas para secar roupa, que funcionem por meio de ondas eletromagnéticas (micro-ondas), cuja produção seja superior ou igual a 120 kg/h de produto seco</td><td>50561</td><td>6004</td></tr><tr><td>55131300</td><td>Outros tecidos de poliéster < 85% com algodão, peso <= 170 g/m2, cru/branqueado</td><td>50401</td><td>8188</td></tr><tr><td>29039931</td><td>4-Cloro-alfa,alfa,alfa-trifluortolueno</td><td>49063</td><td>9000</td></tr><tr><td>28053090</td><td>Outros metais de terras raras, escândio e ítrio</td><td>48804</td><td>10500</td></tr><tr><td>44071200</td><td>Madeira serrada ou fendida longitudinalmente, cortada transversalmente ou desenrolada, mesmo aplainada, lixada ou unida pelas extremidades, de espessura superior a 6 mm, de abeto (Abies spp.) e de espruce (pícea) (Picea spp.)</td><td>48770</td><td>3993</td></tr><tr><td>74102120</td><td>Folha de cobre refinado, com espessura superior a 0,012 mm, sobre suporte de poliéster ou poliimida e com espessura total, incluindo o suporte, inferior ou igual a 0,195 mm</td><td>48395</td><td>1917</td></tr><tr><td>44079300</td><td>Madeira de ácer (Acer spp.), serrada ou fendida longitudinalmente, cortada transversalmente ou desenrolada, mesmo aplainada, lixada ou unida pelas extremidades, de espessura superior a 6 mm</td><td>48234</td><td>7148</td></tr><tr><td>68159914</td><td>Obras de pedras eletrofundidas constituídas por mistura/combinação de alumina (Al2O3), silica (SiO2) e óxido de zircônio (ZrO2), com teor, em peso, de alumina >=  45 % mas < 90 % ou com conteúdo, em peso, de óxido de zircônio (ZrO2) >= 20 % mas < 50 %</td><td>48083</td><td>11760</td></tr><tr><td>38231910</td><td>Ácido caprílico</td><td>47744</td><td>29227</td></tr><tr><td>90304020</td><td>Analisadores de nível seletivo, para telecomunicação</td><td>47671</td><td>31</td></tr><tr><td>24049900</td><td>Outros produtos que contenham nicotina destinados à absorção da nicotina pelo corpo humano, não classificados em códigos anteriores</td><td>47414</td><td>779</td></tr><tr><td>84439191</td><td>Máquinas auxiliares de impressão, dobradoras</td><td>46826</td><td>574</td></tr><tr><td>29153963</td><td>Diacetato de etilenoglicol (diacetato de etileno)</td><td>46666</td><td>21266</td></tr><tr><td>28351021</td><td>Fosfonato (fosfito) dibásico de chumbo</td><td>46461</td><td>14000</td></tr><tr><td>71104100</td><td>Irídio, ósmio e rutênio, em formas brutas ou em pó</td><td>46353</td><td>14</td></tr><tr><td>29419035</td><td>Cefotaxima sódica</td><td>46091</td><td>200</td></tr><tr><td>84483230</td><td>Bancas de estiramento de matéria têxtil</td><td>45909</td><td>471</td></tr><tr><td>85279200</td><td>Outros receptores não combinados com aparelhos de gravação/reprodução do som, mas combinados com relógio</td><td>45311</td><td>13898</td></tr><tr><td>51012900</td><td>Outras lãs desengorduradas não carbonizadas, não cardadas,  não penteadas</td><td>44848</td><td>6023</td></tr><tr><td>29211112</td><td>Sais de monometilamina</td><td>44688</td><td>1256</td></tr><tr><td>29339942</td><td>Amisulprida</td><td>44605</td><td>100</td></tr><tr><td>28521019</td><td>Outros compostos inorgânicos de mercúrio</td><td>44494</td><td>162</td></tr><tr><td>28092020</td><td>Ácido metafosfórico</td><td>44286</td><td>482</td></tr><tr><td>11071020</td><td>Malte não torrado, moído ou em farinha</td><td>44134</td><td>33650</td></tr><tr><td>48055000</td><td>Papel-feltro e cartão-feltro, papel e cartão lanosos</td><td>43775</td><td>5742</td></tr><tr><td>28419012</td><td>Titanatos de bário ou de bismuto</td><td>43729</td><td>3708</td></tr><tr><td>56039430</td><td>Outros falsos tecidos de raiom viscose, de peso superior a 150 g/m2</td><td>43686</td><td>9988</td></tr><tr><td>85043192</td><td>Transformadores elétricos de FI, de detecção, de relação, de linearidade ou de foco, de potência não superior a 1 kVA</td><td>42688</td><td>775</td></tr><tr><td>85176278</td><td>Outros aparelhos emissores com receptor incorporado, digitais, de frequência superior ou igual a 15 GHz, mas inferior ou igual a 23 GHz e taxa de transmissão inferior ou igual a 8 Mbit/s</td><td>42555</td><td>125</td></tr><tr><td>29182219</td><td>Outros sais do ácido o-acetilsalicílico</td><td>41532</td><td>11000</td></tr><tr><td>29089921</td><td>Disofenol</td><td>41400</td><td>300</td></tr><tr><td>85402019</td><td>Outros tubos para câmeras de televisão</td><td>41242</td><td>14</td></tr><tr><td>29335400</td><td>Outros derivados da manolinureia (ácido barbitúrico)</td><td>40775</td><td>107</td></tr><tr><td>29241921</td><td>N-metilformamida</td><td>40724</td><td>16018</td></tr><tr><td>28153000</td><td>Peróxidos de sódio ou de potássio</td><td>40328</td><td>204</td></tr><tr><td>03076000</td><td>Caracóis, exceto os do mar, vivos, frescos, refrigerados, etc.</td><td>40188</td><td>1771</td></tr><tr><td>41022100</td><td>Peles em bruto, de ovinos, depiladas ou sem lã, piqueladas</td><td>39932</td><td>20890</td></tr><tr><td>52112010</td><td>Tecidos de algodão que contenham menos de 85 %, em peso, de algodão, combinados, principal ou unicamente, com fibras sintéticas ou artificiais, com peso superior a 200 g/m2, branqueados, em ponto de tafetá</td><td>39906</td><td>3723</td></tr><tr><td>29339123</td><td>Estazolam</td><td>39740</td><td>9</td></tr><tr><td>32065011</td><td>Halofosfatos de cálcio ou de estrôncio, com substância radioativa, utilizado em luminóforos</td><td>39057</td><td>2700</td></tr><tr><td>25309040</td><td>Terras corantes</td><td>38800</td><td>22000</td></tr><tr><td>97019200</td><td>Outros mosaicos, feitos inteiramente à mão</td><td>38507</td><td>1355</td></tr><tr><td>55082000</td><td>Linhas para costurar, de fibras artificiais descontínuas, mesmo acondicionadas para venda a retalho</td><td>38443</td><td>3020</td></tr><tr><td>55102090</td><td>Outros fios de fibras artificiais descontínuas, combinados, principal ou unicamente, com lã ou pelos finos, obtidos a partir de fibras que não sejam de celulose</td><td>38085</td><td>1771</td></tr><tr><td>93039090</td><td>Outras armas de fogo que utilizam deflagração da pólvora, etc.</td><td>38035</td><td>172</td></tr><tr><td>74094011</td><td>Chapas e tiras de ligas à base de cobre-níquel (cuproníquel) ou de cobre-níquel-zinco (maillechort), de espessura superior a 0,15 mm, em rolos, de liga de cobreniquelsilício, galvanizadas</td><td>37104</td><td>2333</td></tr><tr><td>38275900</td><td>Outras misturas que contenham trifluorometano (HFC-23) ou perfluorcarbonetos (PFC), mas que não contenham clorofluorcarbonetos (CFC) ou hidroclorofluorcarbonetos (HCFC), não classificados em códigos anteriores</td><td>37044</td><td>936</td></tr><tr><td>84729020</td><td>Máquinas do tipo utilizado em caixas de banco, com dispositivo para autenticar</td><td>36745</td><td>111</td></tr><tr><td>85434000</td><td>Eletrificadores de cercas</td><td>36217</td><td>14</td></tr><tr><td>28419015</td><td>Titanatos de lantânio ou de neodímio</td><td>36101</td><td>10150</td></tr><tr><td>37025412</td><td>Outros filmes, para fotografia a cores (policromo), de largura igual a 35 mm, exceto para diapositivos, de 12 exposições (0,5 m de comprimento), de 24 exposições (1,0 m de comprimento) ou de 36 exposições (1,5 m de comprimento)</td><td>35836</td><td>157</td></tr><tr><td>51122020</td><td>Outros, combinados, principal ou unicamente, com filamentos sintéticos ou artificiais, de pelos finos</td><td>35768</td><td>110</td></tr><tr><td>44083992</td><td>Folhas para folheados (incluindo as obtidas por corte de madeira estratificada), folhas para compensados ou para madeiras estratificadas semelhantes e outras madeiras, etc..., de espessura <= 6 mm, de pau-marfim</td><td>35674</td><td>114915</td></tr><tr><td>29215919</td><td>Benzidina, seus outros derivados e sais</td><td>34710</td><td>268</td></tr><tr><td>60049030</td><td>Outros tecidos de malha de largura superior a 30 cm,que contenham, em peso, 5 % ou mais de fios de elastômeros ou de fios de borracha, exceto os da posição 60.01, de fibras sintéticas</td><td>34681</td><td>2668</td></tr><tr><td>29141910</td><td>Forona</td><td>34456</td><td>15661</td></tr><tr><td>48045200</td><td>Outros papéis e cartões Kraft de peso igual ou superior a 225 g/m2, branqueados uniformemente na massa e em que mais de 95 %, em peso, do conteúdo total de fibras seja constituído por fibras de madeira obtidas por processo químico, em rolos ou em folhas</td><td>34415</td><td>34110</td></tr><tr><td>44011200</td><td>Lenha em qualquer forma, de não coníferas</td><td>34236</td><td>1525</td></tr><tr><td>93039010</td><td>Outras armas de fogo Lançadores do tipo utilizado com cartuchos dos itens 9306.21.10, 9306.21.20 ou 9306.21.30</td><td>34073</td><td>393</td></tr><tr><td>28342930</td><td>Nitrato de alumínio</td><td>33612</td><td>7173</td></tr><tr><td>29163400</td><td>Ácido fenilacético e seus sais</td><td>32825</td><td>678</td></tr><tr><td>29182921</td><td>Ácido p-hidroxibenzóico</td><td>32317</td><td>18</td></tr><tr><td>32071030</td><td>Outros pigmentos, opacificantes/cores, preparados e preparações à base de zircônio ou seus sais</td><td>32224</td><td>201</td></tr><tr><td>29307000</td><td>Sulfeto de bis(2-hidroxietila) (tiodiglicol (DCI))</td><td>32160</td><td>5522</td></tr><tr><td>29349122</td><td>Cloxazolam</td><td>32090</td><td>10</td></tr><tr><td>84631010</td><td>Bancas para estirar tubos de metais ou ceramais (cermets)</td><td>31973</td><td>3293</td></tr><tr><td>28352940</td><td>Fosfato de cromo</td><td>30961</td><td>768</td></tr><tr><td>30032073</td><td>Medicamento com ciclosporina a, exceto em doses</td><td>30930</td><td>20</td></tr><tr><td>48025510</td><td>Papel fibra de peso igual ou superior a 40 g/m2, mas não superior a 150 g/m2, em rolos, De largura não superior a 15 cm</td><td>30915</td><td>4480</td></tr><tr><td>28372019</td><td>Outros ferrocianetos</td><td>30620</td><td>194</td></tr><tr><td>29209029</td><td>Outros sulfitos de ésteres de acidos inorgânicos</td><td>30489</td><td>1401</td></tr><tr><td>90072020</td><td>Projetores para filmes, largura >= 35 mm, mas <= 70 mm</td><td>30449</td><td>745</td></tr><tr><td>27050000</td><td>Gás de hulha, gás de água, gás pobre (gás de ar) e gases semelhantes, exceto gases de petróleo e outros hidrocarbonetos gasosos</td><td>30210</td><td>281</td></tr><tr><td>29400011</td><td>Galactose</td><td>29949</td><td>100</td></tr><tr><td>71103900</td><td>Ródio em formas semimanufaturadas</td><td>29687</td><td>0</td></tr><tr><td>29034800</td><td>1,1,1,3,3-Pentafluorobutano (HFC-365mfc) e 1,1,1,2,2,3,4,5,5,5-decafluoropentano (HFC-43-10mee)</td><td>29232</td><td>1062</td></tr><tr><td>29163122</td><td>Sais de amônio do ácido benzóico</td><td>28972</td><td>2359</td></tr><tr><td>32030012</td><td>Fisetina (matéria corante)</td><td>28857</td><td>123</td></tr><tr><td>48026110</td><td>Outros papéis e cartões, em que mais de 10 %, em peso, do conteúdo total de fibras seja constituído por fibras obtidas por processo mecânico ou químico-mecânico, em rolos, de largura não superior a 15 cm</td><td>28649</td><td>1128</td></tr><tr><td>58013100</td><td>Veludos e pelúcias obtidos por trama, não cortados, de fibras sintéticas ou artificiais</td><td>28526</td><td>6835</td></tr><tr><td>81052090</td><td>Mates de cobalto e outros produtos intermediários metálicos</td><td>28337</td><td>399</td></tr><tr><td>28521014</td><td>Cloreto de mercúrio ii (cloreto mercúrico), em outro modo</td><td>27946</td><td>147</td></tr><tr><td>28352910</td><td>Fosfato de ferro</td><td>27373</td><td>13003</td></tr><tr><td>29339115</td><td>Clorodiazepóxido</td><td>27210</td><td>150</td></tr><tr><td>90158010</td><td>Molinetes hidrométricos</td><td>26898</td><td>20</td></tr><tr><td>72255010</td><td>Outros laminados planos, simplesmente laminados a frio, de aços de corte rápido, de largura igual ou superior a 600 mm</td><td>26621</td><td>4560</td></tr><tr><td>28013000</td><td>Fluor e bromo</td><td>26614</td><td>163</td></tr><tr><td>85414123</td><td>\"Diodos \"\"laser\"\" com comprimento de onda de 1300 mm ou 1500 mm\"</td><td>26494</td><td>49</td></tr><tr><td>29242959</td><td>Outras metoxibenzamidas, seus derivados e sais</td><td>26494</td><td>0</td></tr><tr><td>29397940</td><td>Tiocolquicósido</td><td>26438</td><td>2</td></tr><tr><td>75089010</td><td>Cilindros ocos de seção variável, obtidos por centrifugação, dos tipos utilizados em reformadores estequiométricos de gás natural</td><td>26392</td><td>5</td></tr><tr><td>57011020</td><td>Tapete de pelos finos, de pontos nodados ou enrolados, mesmo confeccionados</td><td>26279</td><td>868</td></tr><tr><td>85198110</td><td>Aparelhos de reprodução de som, com sistema de leitura óptica por laser (leitores de discos compactos)</td><td>26187</td><td>180</td></tr><tr><td>60063330</td><td>Outros tecidos de malha, de fibras sintéticas, de fios de diversas cores, acrílicos ou modacrílicos</td><td>26112</td><td>3288</td></tr><tr><td>71042100</td><td>Diamantes sintéticos/reconstituídos, em bruto ou simplesmente serradas ou desbastadas</td><td>25861</td><td>19</td></tr><tr><td>94054090</td><td>Outros aparelhos elétricos de iluminação, de outras matérias</td><td>25702</td><td>6137</td></tr><tr><td>85221000</td><td>Fonocaptores, para aparelhos de gravação/reprodução</td><td>24907</td><td>47</td></tr><tr><td>32029012</td><td>Produtos tanantes, à base de sais de titânio</td><td>24894</td><td>6720</td></tr><tr><td>85241200</td><td>Módulos de visualização de tela (ecrã) plana, mesmo que incorporem telas sensíveis ao toque (ecrãs tácteis), sem controladores (drivers) nem circuitos de controle, de diodos emissores de luz orgânicos (OLED)</td><td>24836</td><td>855</td></tr><tr><td>55134919</td><td>Outros tecidos < 85% de fibras descontínuas de poliéster combinada com algodão</td><td>24549</td><td>1822</td></tr><tr><td>28416910</td><td>Manganitos</td><td>23711</td><td>1759</td></tr><tr><td>91089000</td><td>Outros maquinismos de pequeno volume para relógios, montados</td><td>23597</td><td>247</td></tr><tr><td>29362939</td><td>Outros derivados da vitamina h, não misturados</td><td>23330</td><td>60</td></tr><tr><td>70119000</td><td>Outras ampolas/invólucros, abertos, de vidro, suas partes</td><td>23188</td><td>118</td></tr><tr><td>71082000</td><td>Ouro (incluindo o ouro platinado), em formas brutas ou semimanufaturadas, para uso monetário</td><td>22918</td><td>5</td></tr><tr><td>29215932</td><td>Ácido 4,4'-diaminodifenilamino-2-sulfônico e seus sais</td><td>22839</td><td>4325</td></tr><tr><td>31022910</td><td>Sulfonitrato de amônio</td><td>22697</td><td>60000</td></tr><tr><td>15121120</td><td>Óleo de cártamo, em bruto</td><td>22580</td><td>6840</td></tr><tr><td>29395910</td><td>Teofilina</td><td>22576</td><td>16</td></tr><tr><td>29094950</td><td>Álcool fenoxibenzílico</td><td>22488</td><td>8062</td></tr><tr><td>29221979</td><td>Outras propafenonas e seus sais</td><td>22449</td><td>1</td></tr><tr><td>52062400</td><td>Fios simples de algodão, de fibras penteadas, que contenham menos de 85 %, em peso, de algodão, não acondicionados para venda a retalho, de título < 192,31 decitex mas não inferior a 125 decitex (número métrico superior a 52 mas não superior a 80)</td><td>22261</td><td>6390</td></tr><tr><td>44187400</td><td>Outros painéis montados para revestimento de pisos (pavimentos), para pisos (pavimentos) em mosaico</td><td>21957</td><td>13376</td></tr><tr><td>85423911</td><td>Circuito integrado híbrido, de espessura de camada inferior ou igual a 1 micrômetro (mícron) com frequência de operação superior ou igual a 800 MHz</td><td>21929</td><td>42</td></tr><tr><td>28419042</td><td>Estanato de bismuto</td><td>21871</td><td>227</td></tr><tr><td>32065021</td><td>Halofosfatos de cálcio, etc, sem substância radioativa, utilizado em luminóforos</td><td>21844</td><td>871</td></tr><tr><td>28273960</td><td>Cloreto de lítio</td><td>21736</td><td>600</td></tr><tr><td>84433235</td><td>Impressoras a laser, LED (Diodos Emissores de Luz) ou LCS (Sistema de Cristal Líquido), policromáticas, com velocidade de impressão inferior ou igual a 20 páginas por minuto (ppm)</td><td>21439</td><td>196</td></tr><tr><td>28353930</td><td>Pirofosfato de zinco</td><td>21178</td><td>3000</td></tr><tr><td>30039093</td><td>Medicamento contendo dicoflenaco resinato, exceto em doses</td><td>21148</td><td>300</td></tr><tr><td>44072930</td><td>Madeira de pau-marfim, serrada ou fendida longitudinalmente, cortada transversalmente ou desenrolada, mesmo aplainada, lixada ou unida pelas extremidades, de espessura superior a 6 mm</td><td>21117</td><td>58880</td></tr><tr><td>37039010</td><td>Papel para fotocomposição, sensibilizado, não impressionado</td><td>21100</td><td>864</td></tr><tr><td>32065019</td><td>Outros produtos inorgânicos utilizados em luminóforos, com substância radioativa</td><td>20602</td><td>175</td></tr><tr><td>90069110</td><td>Corpos para aparelhos fotográficos</td><td>20003</td><td>1271</td></tr><tr><td>72052920</td><td>Pós de ferro revestido com resina termoplástica, com um teor de ferro superior ou igual a 98 %, em peso</td><td>19997</td><td>6807</td></tr><tr><td>29062920</td><td>Dicofol</td><td>19928</td><td>6025</td></tr><tr><td>51123020</td><td>Outros, combinados, principal ou unicamente, com fibras sintéticas ou artificiais descontínuas, de pelos finos</td><td>19886</td><td>1238</td></tr><tr><td>45020000</td><td>Cortiça natural, sem a crosta ou simplesmente esquadriada, ou em cubos, chapas, folhas ou tiras, de forma quadrada ou retangular (incluindo os esboços com arestas vivas, para rolhas)</td><td>19813</td><td>1100</td></tr><tr><td>29280042</td><td>Derivados da fenilidrazina</td><td>19703</td><td>89</td></tr><tr><td>56049010</td><td>Imitações de categute constituídas por fios de seda</td><td>19530</td><td>44</td></tr><tr><td>84454031</td><td>Meadeiras com controle de comprimento ou peso e atador automático, de matérias têxteis,</td><td>19468</td><td>206</td></tr><tr><td>29153951</td><td>Acetato de benzestrol</td><td>19323</td><td>8060</td></tr><tr><td>29221993</td><td>\"Clembuterol (\"\"clenbuterol\"\") e seu cloridrato\"</td><td>19082</td><td>2</td></tr><tr><td>48101910</td><td>Outros papéis para escrita, etc, fibra <= 10%, em tiras de largura não superior a 15 cm ou em folhas em que nenhum lado exceda 360 mm, quando não dobradas</td><td>19046</td><td>24830</td></tr><tr><td>37025510</td><td>Filmes para foto a cores, sensibilizado, não impressionado, ee largura igual a 35 mm e comprimento superior a 30 m, em rolos</td><td>18879</td><td>498</td></tr><tr><td>44039400</td><td>Madeira em bruto, mesmo descascada, desalburnada ou esquadriada, de faia (Fagus spp.), outras</td><td>18681</td><td>13700</td></tr><tr><td>29055910</td><td>Hidrato de cloral</td><td>18404</td><td>3050</td></tr><tr><td>74031900</td><td>Outros produtos de cobre refinado, em formas brutas</td><td>18200</td><td>600</td></tr><tr><td>90089000</td><td>Partes e acessórios para aparelhos de projeção fixa, etc.</td><td>18101</td><td>1740</td></tr><tr><td>29241991</td><td>N,N'-Dimetilureia</td><td>17963</td><td>800</td></tr><tr><td>37029600</td><td>Outros filmes sensibilizados, não impressionados, de largura não superior a 35 mm e comprimento não superior a 30 m</td><td>17899</td><td>194</td></tr><tr><td>29039914</td><td>Triclorobenzenos</td><td>17569</td><td>186</td></tr><tr><td>29419069</td><td>Outros polienos e seus sais</td><td>17543</td><td>542</td></tr><tr><td>29372939</td><td>Ciproterona e outros derivados deste produto</td><td>17494</td><td>0</td></tr><tr><td>81039100</td><td>Cadinhos de tântalo</td><td>17359</td><td>23</td></tr><tr><td>84433251</td><td>Traçadores gráficos por meio de penas</td><td>17309</td><td>152</td></tr><tr><td>50071090</td><td>Outros tecidos de bourrette de seda</td><td>17305</td><td>105</td></tr><tr><td>30043914</td><td>Medicamento contendo corticotropina (ACTH), em doses</td><td>17117</td><td>18</td></tr><tr><td>29362390</td><td>Outros derivados da vitamina B2, não misturados</td><td>17050</td><td>0</td></tr><tr><td>28249090</td><td>Outros óxidos de chumbo</td><td>16638</td><td>4302</td></tr><tr><td>38249973</td><td>Preparações à base de carbeto de tungstênio (volfrâmio) com níquel como aglomerante; brometo de hidrogênio em solução</td><td>16630</td><td>137</td></tr><tr><td>29242911</td><td>Acetanilida</td><td>16611</td><td>78</td></tr><tr><td>71041000</td><td>Quartzo piezoelétrico</td><td>16514</td><td>19</td></tr><tr><td>85255023</td><td>Aparelho de televisão, em banda UHF, com potência de saída superior a 10 kW</td><td>16230</td><td>72</td></tr><tr><td>84709010</td><td>Máquinas de franquear correspondência</td><td>16124</td><td>188</td></tr><tr><td>29339183</td><td>Triazolam</td><td>16019</td><td>0</td></tr><tr><td>56031440</td><td>Falsos tecidos de raiom viscose, de peso superior a 150 g/m2</td><td>15922</td><td>1116</td></tr><tr><td>84863000</td><td>Máquinas e aparelhos para a fabricação de dispositivos de visualização de tela plana</td><td>15744</td><td>1635</td></tr><tr><td>84485940</td><td>Partes e acessórios de máquinas para fabricar guipuras, rendas, etc.</td><td>15631</td><td>112</td></tr><tr><td>28521022</td><td>Timerosal</td><td>15405</td><td>11</td></tr><tr><td>29400013</td><td>Ramnose</td><td>15334</td><td>75</td></tr><tr><td>55095200</td><td>Fio de fibras de poliésteres, combinadas, principal ou unicamente, com lã ou pelos finos</td><td>15333</td><td>1693</td></tr><tr><td>85176192</td><td>Outros aparelhos para emissão, transmissão ou recepção de voz, imagens ou outros dados, digitais, de frequência superior a 23 GHz</td><td>15011</td><td>56</td></tr><tr><td>85271200</td><td>Rádios toca-fitas de bolso</td><td>14917</td><td>69</td></tr><tr><td>28521021</td><td>Acetato de mercúrio</td><td>14701</td><td>42</td></tr><tr><td>93062110</td><td>Cartuchos que contenham produtos químicos ou oleorresina de Capsicum, com fins irritantes</td><td>14698</td><td>40</td></tr><tr><td>29394100</td><td>Efedrina e seus sais</td><td>14368</td><td>0</td></tr><tr><td>29371100</td><td>Somatotropina, seus derivados e análogos estruturais</td><td>14020</td><td>0</td></tr><tr><td>28332790</td><td>Outros sulfatos de bário</td><td>13965</td><td>256</td></tr><tr><td>84433930</td><td>Aparelhos de fotocópia, por sistema óptico</td><td>13662</td><td>2047</td></tr><tr><td>91101190</td><td>Maquinismos completos, de pequeno volume, não montados ou parcialmente montados (chablons), para outros relógios</td><td>13554</td><td>1218</td></tr><tr><td>29034700</td><td>Outros derivados peralogenados dos hidrocarbonetos acíclicos, contendo dois halogênios diferentes</td><td>13150</td><td>1000</td></tr><tr><td>29223929</td><td>Ketamina e outros sais de ketamina</td><td>13107</td><td>0</td></tr><tr><td>55103019</td><td>Outros fios de fibras artificiais descontínuas, combinados, principal ou unicamente, com algodão, obtidos a partir de fibras de celulose, de outros materiais</td><td>12922</td><td>2232</td></tr><tr><td>28274911</td><td>Oxicloretos de bismuto</td><td>12738</td><td>237</td></tr><tr><td>30033999</td><td>Outros medicamentos contendo hormônios, não apresentados em doses</td><td>12714</td><td>7</td></tr><tr><td>29400023</td><td>Bromolactobionato de cálcio</td><td>12521</td><td>350</td></tr><tr><td>28046100</td><td>Silício, que contenham, em peso, pelo menos 99,99 % de silício</td><td>12346</td><td>143</td></tr><tr><td>85406090</td><td>Outros tubos catódicos</td><td>12323</td><td>11</td></tr><tr><td>48101382</td><td>Papéis e cartões baritados, sem fibras obtidas por processo mecânico ou químico-mecânico ou em que a percentagem destas fibras não seja superior a 10 %, em peso, do conteúdo total de fibras, em rolos, de peso superior a 150 g/m2</td><td>12272</td><td>757</td></tr><tr><td>55070000</td><td>Fibras artificiais descontínuas, cardadas, penteadas ou transformadas de outro modo para fiação</td><td>12203</td><td>1172</td></tr><tr><td>60059010</td><td>Tecidos de malha-urdidura (incluindo os fabricados em teares para galões), exceto os das posições 60.01 a 60.04, de lã ou pelos finos</td><td>12107</td><td>111</td></tr><tr><td>29223910</td><td>Aminoantraquinonas e seus sais</td><td>12062</td><td>2000</td></tr><tr><td>55163100</td><td>Tecidos que contenham menos de 85 %, em peso, de fibras artificiais descontínuas, combinadas, principal ou unicamente, com lã ou pelos finos, crus ou branqueados</td><td>11968</td><td>818</td></tr><tr><td>54024510</td><td>Fio simples de aramidas, sem torção ou com torção não superior a 50 voltas por metro</td><td>11821</td><td>2571</td></tr><tr><td>81032000</td><td>Tântalo em formas brutas, incluindo as barras simplesmente obtidas por sinterização; pós</td><td>11773</td><td>17</td></tr><tr><td>29339149</td><td>Sais de loflazepato de etila, lorazepam, etc.</td><td>11704</td><td>0</td></tr><tr><td>58043010</td><td>Renda de algodão, de fabricação manual</td><td>11555</td><td>485</td></tr><tr><td>29043500</td><td>Outros sais do ácido perfluoroctano sulfônico</td><td>11496</td><td>63</td></tr><tr><td>85176253</td><td>Terminais de texto que operem com código de transmissão Baudot, providos de teclado alfanumérico e visor, mesmo com telefone incorporado</td><td>11375</td><td>111</td></tr><tr><td>29039110</td><td>Clorobenzeno</td><td>11328</td><td>8647</td></tr><tr><td>91144000</td><td>Platinas e pontes para artigos de relojoaria</td><td>11310</td><td>0</td></tr><tr><td>29039939</td><td>Outros derivados halogenados, unicamente com fluor/cloro</td><td>11266</td><td>1350</td></tr><tr><td>85143200</td><td>Fornos de plasma e fornos de arco a vácuo</td><td>11228</td><td>1127</td></tr><tr><td>90171010</td><td>Mesas e máquinas de desenhar, automáticas</td><td>11217</td><td>1868</td></tr><tr><td>29314912</td><td>Difenilfosfonato(4,4'-bis((dimetoxifosfinil)metil)difenila)</td><td>11073</td><td>7500</td></tr><tr><td>29199020</td><td>Ésteres fosfóricos e sais de tricresila</td><td>10938</td><td>1540</td></tr><tr><td>91081190</td><td>Maquinismo montado para outros relógios, etc</td><td>10844</td><td>3</td></tr><tr><td>29089912</td><td>p-Nitrofenol e seus sais</td><td>10751</td><td>208</td></tr><tr><td>29335992</td><td>2-aminopirimidina</td><td>10722</td><td>101</td></tr><tr><td>44072700</td><td>Madeira de Sapelli, serrada ou fendida longitudinalmente, cortada transversalmente ou desenrolada, mesmo aplainada, lixada ou unida pelas extremidades, de espessura superior a 6 mm</td><td>10685</td><td>7024</td></tr><tr><td>29299029</td><td>Outros N,N-Dialquilfosforoamidatos e seus derivados</td><td>10615</td><td>500</td></tr><tr><td>93062190</td><td>Outros cartuchos</td><td>10598</td><td>130</td></tr><tr><td>29309069</td><td>Outros fosforoamidotioatos, seus derivados e sais</td><td>10596</td><td>230</td></tr><tr><td>84561290</td><td>Outras máquinas-ferramentas que trabalhem por eliminação de qualquer matéria, que operem por outro feixe de luz ou de fótons</td><td>10448</td><td>280</td></tr><tr><td>30021231</td><td>Soroalbumina, exceto a humana</td><td>10421</td><td>2</td></tr><tr><td>29349200</td><td>null</td><td>10360</td><td>2</td></tr><tr><td>38279000</td><td>Outras misturas com derivados peralogenados, etc</td><td>10293</td><td>54</td></tr><tr><td>84513091</td><td>Prensas para passar roupa, de peso inferior ou igual a 14 kg</td><td>10251</td><td>1649</td></tr><tr><td>51032000</td><td>Outros desperdícios de lã ou de pelos finos</td><td>10177</td><td>9986</td></tr><tr><td>60063430</td><td>Outros tecidos de malha, de fibras sintéticas, estampados, acrílicos ou modacrílicos</td><td>10162</td><td>200</td></tr><tr><td>29142220</td><td>Metilcicloexanonas</td><td>10153</td><td>1440</td></tr><tr><td>29391121</td><td>Buprenorfina e seus sais</td><td>10103</td><td>1</td></tr><tr><td>84561219</td><td>Máquinas-ferramentas que trabalhem por eliminação de qualquer matéria, que operem por outro feixe de luz ou de fótons, de comando numérico, para corte de outras chapas</td><td>10080</td><td>168</td></tr><tr><td>60052400</td><td>Tecidos de malha-urdidura (incluindo os fabricados em teares para galões), exceto os das posições 60.01 a 60.04, de algodão, estampados</td><td>10016</td><td>689</td></tr><tr><td>29199030</td><td>Ésteres fosfóricos e sais de trifenila</td><td>9812</td><td>650</td></tr><tr><td>29242995</td><td>Buclosamida</td><td>9759</td><td>250</td></tr><tr><td>48026992</td><td>Outros papéis e cartões Kraft, em que mais de 10 %, em peso, do conteúdo total de fibras seja constituído por fibras obtidas por processo mecânico ou químico-mecânico</td><td>9632</td><td>4875</td></tr><tr><td>29332911</td><td>2-metil-5-nitroimidazol</td><td>9568</td><td>0</td></tr><tr><td>29329500</td><td>Tetraidrocanabinóis (todos os isômeros)</td><td>9480</td><td>0</td></tr><tr><td>84433928</td><td>Outras máquinas copiadoras eletrostáticas, por processo indireto</td><td>9404</td><td>1100</td></tr><tr><td>84451120</td><td>Cardas para fibras do Capítulo 53</td><td>9323</td><td>1025</td></tr><tr><td>88052100</td><td>Simuladores de combate aéreo e suas partes</td><td>9246</td><td>24</td></tr><tr><td>29042059</td><td>Outros derivados nitrados do benzeno</td><td>8899</td><td>1080</td></tr><tr><td>53109000</td><td>Outros tecidos de juta ou outras fibras têxteis liberianas</td><td>8868</td><td>1191</td></tr><tr><td>28273992</td><td>Cloreto de césio</td><td>8717</td><td>22</td></tr><tr><td>29303019</td><td>Outros monossulfetos de tiourama</td><td>8703</td><td>1402</td></tr><tr><td>38273210</td><td>Preparações que contenham clorodifluormetano e clorotetrafluoretano</td><td>8693</td><td>1090</td></tr><tr><td>29349923</td><td>Timidina</td><td>8690</td><td>0</td></tr><tr><td>34029023</td><td>Soluções ou emulsões hidroalcoólicas de sulfonatos de perfluoralquiltrimetilamônio e de perfluoralquilacrilamida</td><td>8687</td><td>1728</td></tr><tr><td>84451110</td><td>Cardas para lã</td><td>8165</td><td>125</td></tr><tr><td>30049092</td><td>Medicamento contendo disofenol/crisarobina, etc, em doses</td><td>8108</td><td>5</td></tr><tr><td>28112910</td><td>Dióxido de enxofre</td><td>8042</td><td>8</td></tr><tr><td>44079400</td><td>Madeira de cerejeira (Prunus spp.), serrada ou fendida longitudinalmente, cortada transversalmente ou desenrolada, mesmo aplainada, lixada ou unida pelas extremidades, de espessura superior a 6 mm</td><td>7907</td><td>1142</td></tr><tr><td>54012012</td><td>Linhas para costurar, de raiom viscose, de alta tenacidade, acondicionadas para venda a retalho</td><td>7854</td><td>904</td></tr><tr><td>28332910</td><td>Sulfato de antimônio</td><td>7764</td><td>27000</td></tr><tr><td>47073000</td><td>Papéis ou cartões, obtidos principalmente a partir de pasta mecânica (por exemplo, jornais, periódicos e impressos semelhantes), praa reciclar</td><td>7735</td><td>23853</td></tr><tr><td>29339952</td><td>Oxifendazol</td><td>7704</td><td>125</td></tr><tr><td>28257090</td><td>Outros óxidos e hidróxidos de molibdênio</td><td>7626</td><td>43</td></tr><tr><td>76052110</td><td>Fios de liga de alumínio, com a maior dimensão da seção transversal > 7 mm, com um teor, em peso, de alumínio >=  98,45 %, e de magnésio e silício, considerados individualmente, >= 0,45 % e <= 0,55 % e uma resistividade elétrica <= 0,0328 ohm.mm2/m</td><td>7609</td><td>1014</td></tr><tr><td>29333329</td><td>Sais de bezitramida ou de bromazepam</td><td>7588</td><td>0</td></tr><tr><td>62041100</td><td>Tailleurs, de uso feminino, de lã ou de pelos finos</td><td>7536</td><td>35</td></tr><tr><td>79011199</td><td>Outras formas brutas de zinco não ligado, que contenha, em peso, 99,99 % ou mais de zinco</td><td>7497</td><td>1000</td></tr><tr><td>84485921</td><td>Partes e acessórios de teares retilíneos manuais, para fabricação de malhas</td><td>7385</td><td>134</td></tr><tr><td>29026000</td><td>Etilbenzeno</td><td>7375</td><td>31</td></tr><tr><td>29339159</td><td>Sais de mazindol, medazepam ou midazolam</td><td>7053</td><td>0</td></tr><tr><td>28342110</td><td>Nitrato de potássio, com teor de KNO3 inferior ou igual a 98 %, em peso</td><td>6966</td><td>150</td></tr><tr><td>90059010</td><td>Partes e acessórios de binóculos</td><td>6932</td><td>3</td></tr><tr><td>38089911</td><td>Rodenticidas apresentados em formas ou embalagens exclusivamente para uso direto em aplicações domissanitárias, que contenham bromometano (brometo de metila) ou bromoclorometano</td><td>6903</td><td>2782</td></tr><tr><td>70111021</td><td>Bulbos de diâmetro inferior ou igual a 90 mm, de vidro, para lâmpadas de incandescência</td><td>6900</td><td>3231</td></tr><tr><td>44079500</td><td>Madeira de freixo (Fraxinus spp.), serrada ou fendida longitudinalmente, cortada transversalmente ou desenrolada, mesmo aplainada, lixada ou unida pelas extremidades, de espessura superior a 6 mm</td><td>6876</td><td>2550</td></tr><tr><td>68159913</td><td>Obras de pedras eletrofundidas, com um teor, em peso, de óxido de zircônio (ZrO2) superior ou igual a 50 % mesmo com um conteúdo de alumina inferior a 45 %</td><td>6814</td><td>173</td></tr><tr><td>28299012</td><td>Bromatos de potássio</td><td>6795</td><td>64</td></tr><tr><td>29221912</td><td>2,4-Diclorofenoxiacetato de triisopropanolamina</td><td>6659</td><td>2215</td></tr><tr><td>84454039</td><td>Outras meadeiras de matérias têxteis</td><td>6534</td><td>211</td></tr><tr><td>28299039</td><td>Outros iodatos</td><td>6442</td><td>1923</td></tr><tr><td>51053100</td><td>Pelos finos, cardados ou penteados, de cabra de Caxemira</td><td>6412</td><td>80</td></tr><tr><td>60041093</td><td>Tecidos de malha de largura superior a 30 cm, que contenham, em peso, 5 % ou mais de fios de elastômeros, mas que não contenham fios de borracha, exceto os da posição 60.01, de outras matérias têxteis, de fios de diversas cores</td><td>6412</td><td>44</td></tr><tr><td>84717019</td><td>Outras unidades de discos magnéticos</td><td>6406</td><td>44</td></tr><tr><td>29372339</td><td>Derivados e sais do estriol</td><td>6371</td><td>0</td></tr><tr><td>29334911</td><td>Ácido 2,3-quinolinodicarboxílico</td><td>6308</td><td>1</td></tr><tr><td>29042051</td><td>Nitrobenzeno</td><td>6209</td><td>2076</td></tr><tr><td>29349952</td><td>Tetramisol</td><td>6200</td><td>225</td></tr><tr><td>07123200</td><td>Orelhas-de-judas (Auricularia spp.), secos, mesmo cortados, etc.</td><td>6175</td><td>950</td></tr><tr><td>28092030</td><td>Ácido pirofosfórico</td><td>6094</td><td>500</td></tr><tr><td>84483240</td><td>Partes e acessórios de máquinas para preparação da seda</td><td>6000</td><td>15</td></tr><tr><td>52041911</td><td>Outras linhas para costurar, de algodão cru, de título inferior ou igual a 5.000 decitex por fio simples, de dois cabos</td><td>5979</td><td>67</td></tr><tr><td>28469020</td><td>Cloretos dos demais metais das terras raras</td><td>5933</td><td>70</td></tr><tr><td>29372370</td><td>Linestrenol</td><td>5814</td><td>0</td></tr><tr><td>03019999</td><td>Outros peixes vivos</td><td>5813</td><td>12</td></tr><tr><td>29359095</td><td>Bumetanida</td><td>5800</td><td>1</td></tr><tr><td>28273994</td><td>Cloreto de estrôncio</td><td>5588</td><td>301</td></tr><tr><td>29332924</td><td>Nitrato de isoconazol</td><td>5582</td><td>101</td></tr><tr><td>84472010</td><td>Teares retilíneos, para malhas, manuais</td><td>5565</td><td>360</td></tr><tr><td>37024290</td><td>Outros filmes, sensibilizados, não impressionados, em rolos, de largura superior a 610 mm e comprimento superior a 200 m, exceto para fotografia a cores (policromo)</td><td>5547</td><td>314</td></tr><tr><td>90105020</td><td>Aparelhos para revelação automática de chapas de fotopolímeros com suporte metálico</td><td>5538</td><td>37</td></tr><tr><td>29211132</td><td>Cloridrato de trimetilamina</td><td>5494</td><td>110</td></tr><tr><td>29121923</td><td>Bergamal (3,7-dimetil-2-metileno-6-octenal)</td><td>5470</td><td>100</td></tr><tr><td>90101010</td><td>Cubas e cubetas, de operação automática e programáveis, para revelação de filmes</td><td>5388</td><td>10</td></tr><tr><td>29339139</td><td>Sais de fludiazepam, flunitrazepam, etc.</td><td>5288</td><td>0</td></tr><tr><td>44189100</td><td>Outras obras de marcenaria e peças de carpintaria para construções, incluindo os painéis celulares, os painéis montados para revestimento de pisos (pavimentos) e as fasquias para telhados (shingles e shakes), de bambu</td><td>5256</td><td>2500</td></tr><tr><td>29396919</td><td>Outros derivados da ergometrina (DCI) e seus sais</td><td>5182</td><td>0</td></tr><tr><td>28419089</td><td>Outros aluminatos</td><td>5181</td><td>50</td></tr><tr><td>29146920</td><td>Menadiona</td><td>5146</td><td>4</td></tr><tr><td>29109010</td><td>Óxido de estireno</td><td>5129</td><td>545</td></tr><tr><td>29214221</td><td>3, 4-dicloroanilina e seus sais</td><td>5064</td><td>12</td></tr><tr><td>52062500</td><td>Fios simples de algodão, de fibras penteadas, que contenham menos de 85 %, em peso, de algodão, não acondicionados para venda a retalho, de título inferior a 125 decitex (número métrico superior a 80)</td><td>5020</td><td>210</td></tr><tr><td>29224932</td><td>Sais do ácido iminodiacético</td><td>4990</td><td>336</td></tr><tr><td>29321910</td><td>Ranitidina e seus sais</td><td>4873</td><td>56</td></tr><tr><td>29215929</td><td>Outros diaminodifenilmetanos</td><td>4800</td><td>1600</td></tr><tr><td>55103090</td><td>Outros fios de fibras artificiais descontínuas, combinados, principal ou unicamente, com algodão, obtidos a partir de fibras que não sejam de celulose</td><td>4770</td><td>651</td></tr><tr><td>08084000</td><td>Marmelos, frescos</td><td>4747</td><td>4704</td></tr><tr><td>84723090</td><td>Outras máquinas para selecionar, dobrar, envelopar ou cintar correspondência, máquinas para abrir, fechar ou lacrar correspondência e máquinas para colar ou obliterar selos</td><td>4725</td><td>16</td></tr><tr><td>71189000</td><td>Outras moedas</td><td>4704</td><td>485</td></tr><tr><td>29391152</td><td>Hidrocodona e seus sais</td><td>4699</td><td>0</td></tr><tr><td>72272000</td><td>Fio-máquina de outras ligas de aço, de aços silício-manganês</td><td>4696</td><td>5014</td></tr><tr><td>73045111</td><td>Tubos capilares de diâmetro exterior inferior ou igual a 3 mm e diâmetro interior inferior ou igual a 0,2 mm</td><td>4628</td><td>19</td></tr><tr><td>29391192</td><td>Tebaína e seus sais</td><td>4613</td><td>0</td></tr><tr><td>29339163</td><td>Nordazepam</td><td>4490</td><td>0</td></tr><tr><td>52053500</td><td>Fios de algodão retorcidos ou retorcidos múltiplos, de fibras não penteadas, que contenham pelo menos 85 %, em peso, de algodão, não acondicionados para venda a retalho, de título < 125 decitex por fio simples (número métrico > 80, por fio simples)</td><td>4481</td><td>18</td></tr><tr><td>81124900</td><td>Obras e outros produtos de rênio</td><td>4474</td><td>3</td></tr><tr><td>39119013</td><td>Polietersulfonas (PES) e seus copolímeros, com carga, em formas primárias</td><td>4419</td><td>200</td></tr><tr><td>29024200</td><td>M-xileno</td><td>4415</td><td>20</td></tr><tr><td>29333982</td><td>Cloridrato de mepivacaína</td><td>4382</td><td>5</td></tr><tr><td>29411039</td><td>Outras penicilinas V, derivados e sais</td><td>4379</td><td>2</td></tr><tr><td>29221600</td><td>Perfluoroctanossulfonato de dietanolamônio</td><td>4351</td><td>960</td></tr><tr><td>28521029</td><td>Outros compostos orgânicos de mercúrio</td><td>4285</td><td>7</td></tr><tr><td>28419060</td><td>Antimoniatos</td><td>4274</td><td>6</td></tr><tr><td>29333363</td><td>Fentanil</td><td>4171</td><td>0</td></tr><tr><td>37029800</td><td>Outros filmes sensibilizados, não impressionados, de largura superior a 35 mm</td><td>4066</td><td>6</td></tr><tr><td>29400029</td><td>Outros sais, derivados halogenados, sulfonados, etc, do ácido lactobiônico</td><td>4046</td><td>0</td></tr><tr><td>81101020</td><td>Antimônio em pós</td><td>4017</td><td>0</td></tr><tr><td>29163910</td><td>Cloreto de 4-cloro-alfa-(1-metiletil) benzenoacetila</td><td>4006</td><td>92</td></tr><tr><td>29049930</td><td>Cloreto de p-toluenossulfonila (cloreto de tosila)</td><td>3976</td><td>16</td></tr><tr><td>63062910</td><td>Tendas, de algodão</td><td>3852</td><td>383</td></tr><tr><td>29349924</td><td>Furazolidona</td><td>3820</td><td>200</td></tr><tr><td>28332510</td><td>Sulfato cuproso</td><td>3798</td><td>1053</td></tr><tr><td>29359091</td><td>Cloramina-B e cloramina-T</td><td>3747</td><td>27</td></tr><tr><td>28273950</td><td>Cloreto de antimônio</td><td>3710</td><td>17</td></tr><tr><td>29036910</td><td>Iodoetano</td><td>3618</td><td>24</td></tr><tr><td>85406010</td><td>Tubos de visualização de dados gráficos, em cores, com uma tela de espaçamento entre os pontos superior ou igual a 0,4 mm</td><td>3603</td><td>4</td></tr><tr><td>29081912</td><td>Diclorofenóis e seus sais</td><td>3584</td><td>25</td></tr><tr><td>57025010</td><td>Tapetes revestidos para pavimento, não aveludado, não confeccionado, de lã ou de pelos finos</td><td>3576</td><td>108</td></tr><tr><td>29032100</td><td>Cloreto de vinila (cloroetileno)</td><td>3528</td><td>253</td></tr><tr><td>29089929</td><td>Outros derivados nitroalogenados</td><td>3527</td><td>172</td></tr><tr><td>29241949</td><td>Crotonamidas e outros derivados deste produto</td><td>3525</td><td>400</td></tr><tr><td>29332923</td><td>Cloridrato de clonidina</td><td>3451</td><td>0</td></tr><tr><td>55152200</td><td>Tecido de fibras descontínuas acrílicas ou modacrílicas, combinadas, principal ou unicamente, com lã ou pelos finos</td><td>3409</td><td>85</td></tr><tr><td>29039915</td><td>Cloronaftalenos</td><td>3341</td><td>36</td></tr><tr><td>29400012</td><td>Arabinose</td><td>3315</td><td>0</td></tr><tr><td>48101481</td><td>Papel metalizado,sem fibra obtida por processo mecânico ou químico-mecânico ou em que a percentagem destas fibras < 10 %,em peso,do conteúdo total de fibras,de peso > 150 g/m2,em folhas em que um dos lados < 435 mm e o outro <  297 mm,quando não dobradas</td><td>3239</td><td>1501</td></tr><tr><td>60054300</td><td>Tecidos de malha-urdidura (incluindo os fabricados em teares para galões), exceto os das posições 60.01 a 60.04, de fibras artificiais, de fios de diversas cores</td><td>3166</td><td>55</td></tr><tr><td>28521011</td><td>Óxidos de mercúrio, inorgânicos</td><td>3096</td><td>14</td></tr><tr><td>29333933</td><td>Acido isonicotínico</td><td>3075</td><td>19</td></tr><tr><td>29339129</td><td>Sais de delorazepam, diazepam ou estazolam</td><td>3047</td><td>0</td></tr><tr><td>84451924</td><td>Abridoras de fibras de lã</td><td>3036</td><td>7144</td></tr><tr><td>26171000</td><td>Minérios de antimônio e seus concentrados</td><td>2994</td><td>0</td></tr><tr><td>03061910</td><td>Krill (Euphausia superba), congelado</td><td>2975</td><td>530</td></tr><tr><td>81121900</td><td>Obras de berílio</td><td>2966</td><td>3</td></tr><tr><td>29027000</td><td>Cumeno</td><td>2898</td><td>210</td></tr><tr><td>39072949</td><td>Outros Poli(epicloridrina) (PECH) e seus copolímeros, não classificados em códigos anteriores</td><td>2896</td><td>494</td></tr><tr><td>84483911</td><td>Partes e acessórios de máquinas de filatórios intermitentes (selfatinas), para preparação de matérias têxteis</td><td>2880</td><td>11</td></tr><tr><td>85271990</td><td>Outros aparelhos receptores de radiodifusão, à pilha/elétricos, etc</td><td>2837</td><td>1196</td></tr><tr><td>29211924</td><td>Diisopropilamina e seus sais</td><td>2746</td><td>178</td></tr><tr><td>29419079</td><td>Outros poliéteres e seus sais</td><td>2740</td><td>10</td></tr><tr><td>29051992</td><td>Isononanol</td><td>2725</td><td>281</td></tr><tr><td>70151010</td><td>Vidro para lentes corretivas, fotocromático, não trabalhado opticamente</td><td>2719</td><td>88</td></tr><tr><td>26050000</td><td>Minérios de cobalto e seus concentrados</td><td>2706</td><td>15</td></tr><tr><td>38249913</td><td>Produtos intermediários da fabricação de antibióticos ou de vitaminas ou de outros produtos da posição 29.36, da fabricação da primicina amônica</td><td>2656</td><td>20</td></tr><tr><td>29349932</td><td>Cloridrato de prazosina</td><td>2594</td><td>5</td></tr><tr><td>29183020</td><td>Butirilacetato de metila</td><td>2539</td><td>40</td></tr><tr><td>95084000</td><td>Teatros ambulantes</td><td>2495</td><td>1735</td></tr><tr><td>52041120</td><td>Linhas para costurar, não acondicionadas para venda a retalho, que contenham pelo menos 85 %, em peso, de algodão, de algodão cru, de título superior a 5.000 decitex por fio simples</td><td>2485</td><td>500</td></tr><tr><td>29419072</td><td>Narasina</td><td>2475</td><td>0</td></tr><tr><td>29051923</td><td>Etilato de sódio</td><td>2450</td><td>14</td></tr><tr><td>38249933</td><td>Misturas e preparações para borracha ou plástico e outras misturas e preparações para endurecer resinas sintéticas, colas, pinturas ou usos similares, que contenham polietilenoaminas e dietilenotriaminas, próprias para a coagulação do látex</td><td>2392</td><td>5</td></tr><tr><td>09082200</td><td>Macis, triturado ou em pó</td><td>2343</td><td>100</td></tr><tr><td>29215939</td><td>Outras diaminodifenilaminas, seus derivados e seus sais</td><td>2340</td><td>225</td></tr><tr><td>84659592</td><td>Outras máquinas-ferramentas para escatelar madeira, cortiça, osso, etc.</td><td>2322</td><td>456</td></tr><tr><td>51053900</td><td>Outros pelos finos, cardados ou penteados</td><td>2296</td><td>300</td></tr><tr><td>55109013</td><td>Outros fios de fibras artificiais descontínuas, obtidos a partir de fibras de celulose, de liocel</td><td>2268</td><td>139</td></tr><tr><td>84729091</td><td>Máquinas para imprimir endereços ou para estampar placas de endereços</td><td>2210</td><td>13</td></tr><tr><td>29349944</td><td>Ácido 7-aminodesacetoxicefalosporânico</td><td>2203</td><td>0</td></tr><tr><td>29241100</td><td>Meprobamato (DCI)</td><td>2150</td><td>0</td></tr><tr><td>85409140</td><td>Painel de vidro, máscara de sombra e blindagem interna, reunidos, para tubos tricromáticos</td><td>2125</td><td>41</td></tr><tr><td>29339992</td><td>Ácido nalidíxico</td><td>2124</td><td>0</td></tr><tr><td>29389010</td><td>Deslanosídio</td><td>1990</td><td>0</td></tr><tr><td>73170030</td><td>Pontas ou dentes para máquinas têxteis, de ferro fundido, ferro ou aço</td><td>1982</td><td>28</td></tr><tr><td>29349170</td><td>Sufentanila e seus sais</td><td>1895</td><td>0</td></tr><tr><td>84733034</td><td>Mecanismos bobinadores para unidades de fitas magnéticas (magnetic tape transporter)</td><td>1882</td><td>66</td></tr><tr><td>48026299</td><td>Outros papéis e cartões, em que mais de 10 %, em peso, do conteúdo total de fibras seja constituído por fibras obtidas por processo mecânico ou químico-mecânico, em folhas em que um lado < 435 mm e o outro < 297 mm, quando não dobradas</td><td>1873</td><td>92</td></tr><tr><td>39119011</td><td>Politerpenos modificados quimicamente, exceto com fenóis, com carga, em formas primárias</td><td>1843</td><td>325</td></tr><tr><td>29214660</td><td>Fentermina e seus sais</td><td>1804</td><td>0</td></tr><tr><td>29372239</td><td>Fluorcortolona e outros derivados</td><td>1797</td><td>0</td></tr><tr><td>29349942</td><td>Ácido 6-aminopenicilânico</td><td>1758</td><td>0</td></tr><tr><td>29394520</td><td>Metanfetamina e seus sais</td><td>1731</td><td>0</td></tr><tr><td>28469030</td><td>Gadopentetato de dimeglumina</td><td>1709</td><td>4</td></tr><tr><td>32030013</td><td>Morina (matéria corante)</td><td>1686</td><td>5</td></tr><tr><td>41071990</td><td>Couros e peles inteiros de equídeos, preparados após curtimenta</td><td>1684</td><td>31</td></tr><tr><td>29189929</td><td>Outros ácidos fenoxibutanóicos, seus sais e seus ésteres; derivados destes produtos</td><td>1653</td><td>61</td></tr><tr><td>29372322</td><td>DL-Norgestrel</td><td>1639</td><td>0</td></tr><tr><td>27082000</td><td>Coque de breu obtido a partir do alcatrão de hulha ou de outros alcatrões minerais</td><td>1571</td><td>60</td></tr><tr><td>29339911</td><td>Pirazinamida</td><td>1515</td><td>0</td></tr><tr><td>44170020</td><td>Formas, alargadeiras e esticadores para calçados, de madeira</td><td>1438</td><td>393</td></tr><tr><td>29039918</td><td>Bifenilas policloradas (PCB); terfenilas policloradas (PCT)</td><td>1413</td><td>0</td></tr><tr><td>29049912</td><td>1-Cloro-2,4-dinitrobenzeno</td><td>1374</td><td>1</td></tr><tr><td>29031120</td><td>Cloroetano (cloreto de etila)</td><td>1371</td><td>8</td></tr><tr><td>38249943</td><td>Misturas à base de trimetil-3,9-dietildecano</td><td>1334</td><td>6</td></tr><tr><td>29391161</td><td>Morfina</td><td>1325</td><td>0</td></tr><tr><td>29321950</td><td>Diacetato de 5-nitrofurfurilideno (NFDA)</td><td>1324</td><td>6</td></tr><tr><td>44032100</td><td>Madeira em bruto, mesmo descascada, desalburnada ou esquadriada, de pinheiro (Pinus spp.), cuja maior dimensão da seção transversal é igual ou superior a 15 cm</td><td>1289</td><td>28180</td></tr><tr><td>91111000</td><td>Caixas de relógios, de metais preciosos ou de metais folheados ou chapeados de metais preciosos (plaquê)</td><td>1282</td><td>0</td></tr><tr><td>63063090</td><td>Velas para embarcações, para pranchas a vela ou para carros a vela, de outras matérias têxteis</td><td>1269</td><td>137</td></tr><tr><td>84479010</td><td>Máquinas para fabricação de redes, tules ou filós</td><td>1257</td><td>360</td></tr><tr><td>29130010</td><td>Tricloroacetaldeído</td><td>1232</td><td>19</td></tr><tr><td>29400092</td><td>Frutose-1,6-difosfato de cálcio ou de sódio</td><td>1231</td><td>0</td></tr><tr><td>29335935</td><td>6-mercaptopurina</td><td>1208</td><td>0</td></tr><tr><td>29309094</td><td>Dimetiltiofosforamida</td><td>1203</td><td>5</td></tr><tr><td>55052000</td><td>Desperdícios de fibras artificiais (incluindo os desperdícios da penteação, os de fios e os fiapos)</td><td>1132</td><td>214</td></tr><tr><td>29124920</td><td>3-Hidroxibenzaldeído</td><td>1128</td><td>3</td></tr><tr><td>70159030</td><td>Vidro para os demais óculos</td><td>1126</td><td>1</td></tr><tr><td>29333984</td><td>Dicloreto de paraquat</td><td>1121</td><td>0</td></tr><tr><td>52041931</td><td>Linhas para costurar, de algodão, não acondicionadas para venda a retalho, de algodão branqueado ou colorido, de título inferior ou igual a 5.000 decitex por fio simples, de dois cabos</td><td>1086</td><td>5</td></tr><tr><td>51113010</td><td>Tecido de lã, cardada, feltrados, com trama combinada exclusivamente com fibras sintéticas e urdidura exclusivamente de algodão, de peso superior ou igual a 600 g/m2, próprios para fabricação de bolas de tênis</td><td>1076</td><td>6</td></tr><tr><td>29309031</td><td>2-(Etiltio)etanol, com uma concentração superior ou igual a 98 %, em peso</td><td>1076</td><td>11</td></tr><tr><td>29414019</td><td>Outros ésteres do cloranfenicol</td><td>1075</td><td>0</td></tr><tr><td>29397290</td><td>Ésteres e outros derivados de cocaína e ecgonina</td><td>1069</td><td>0</td></tr><tr><td>84733099</td><td>Outras partes e acessórios para máquinas automáticas de processamento de dados</td><td>1060</td><td>365</td></tr><tr><td>78060020</td><td>Tubos e acessórios (uniões, luvas, etc) chumbo</td><td>1051</td><td>0</td></tr><tr><td>39119012</td><td>Polieterimidas (PEI) e seus copolímeros, com carga, em formas primárias</td><td>1042</td><td>75</td></tr><tr><td>68114000</td><td>Obras de fibrocimento, cimento-celulose ou produtos semelhantes, que contenham amianto</td><td>1024</td><td>3</td></tr><tr><td>28419070</td><td>Zincatos</td><td>1020</td><td>25</td></tr><tr><td>29341020</td><td>Cloridrato de tiazolidina</td><td>1000</td><td>1</td></tr><tr><td>29036200</td><td>Dibrometo de etileno (ISO) (1,2-dibromoetano)</td><td>983</td><td>3</td></tr><tr><td>15122100</td><td>Óleo de algodão, em bruto, mesmo desprovido de gossipol</td><td>965</td><td>25</td></tr><tr><td>48059210</td><td>Papel com fibras de vidro, de peso superior a 150 g/m2, mas inferior a 225 g/m2</td><td>910</td><td>84</td></tr><tr><td>64019910</td><td>Outros calçados cobrindo o joelho, sola exterior de borracha/plástico</td><td>891</td><td>290</td></tr><tr><td>93069020</td><td>Outras granadas, que produzem efeitos fumígenos, de iluminação, de som ou de identificação mediante tintas ou corantes</td><td>878</td><td>38</td></tr><tr><td>74031200</td><td>Barras para obtenção de fios (wire-bars), de cobre refinado, em formas brutas</td><td>878</td><td>3</td></tr><tr><td>81123100</td><td>Háfnio (céltio) em formas brutas; desperdícios e resíduos, e sucata; pós</td><td>864</td><td>0</td></tr><tr><td>29093021</td><td>Oxifluorfeno</td><td>856</td><td>18</td></tr><tr><td>81121200</td><td>Berílio em formas brutas, e berílio em pós</td><td>856</td><td>0</td></tr><tr><td>61032910</td><td>Conjuntos de malha, de uso masculino, de lã ou de pelos finos</td><td>855</td><td>22</td></tr><tr><td>29397210</td><td>Cocaína e seus sais</td><td>850</td><td>0</td></tr><tr><td>97052200</td><td>null</td><td>841</td><td>30</td></tr><tr><td>30039088</td><td>Medicamento contendo topotecan, uracil, etc, exceto em doses</td><td>826</td><td>0</td></tr><tr><td>28529000</td><td>Outros compostos de mercúrio</td><td>819</td><td>6</td></tr><tr><td>48010020</td><td>Papel de jornal, em folhas, mas que nenhum lado exceda 360 mm, quando não dobradas</td><td>814</td><td>49</td></tr><tr><td>38249974</td><td>Preparações à base de hidróxido de níquel ou de cádmio, de óxido de cádmio ou de óxido ferroso férrico, próprios para a fabricação de acumuladores alcalinos</td><td>798</td><td>23</td></tr><tr><td>29156021</td><td>Acido piválico</td><td>762</td><td>2</td></tr><tr><td>29333912</td><td>Droperidol</td><td>758</td><td>0</td></tr><tr><td>29224300</td><td>Ácido antranilico e seus sais</td><td>732</td><td>100</td></tr><tr><td>29309023</td><td>4-Metil-3-tiosemicarbazida</td><td>725</td><td>0</td></tr><tr><td>29280041</td><td>Fenilidrazina</td><td>701</td><td>3</td></tr><tr><td>29372110</td><td>Cortisona</td><td>687</td><td>0</td></tr><tr><td>29189950</td><td>Ácido 3-(2-cloro-alfa, alfa, alfa-trifluor-p-toliloxi)benzóico</td><td>687</td><td>0</td></tr><tr><td>91129000</td><td>Partes para caixas e semelhantes para aparelhos de relojoaria</td><td>655</td><td>7</td></tr><tr><td>44072960</td><td>Madeira serrada ou fendida longitudinalmente, cortada transversalmente ou desenrolada, mesmo aplainada, lixada ou unida pelas extremidades, de espessura superior a 6 mm, de cabreúva Parda (Myrocarpus spp.)</td><td>651</td><td>9320</td></tr><tr><td>29308030</td><td>Metamidofós</td><td>635</td><td>0</td></tr><tr><td>85409130</td><td>Canhões eletrônicos para tubos catódicos</td><td>608</td><td>20</td></tr><tr><td>29037800</td><td>Outros derivados peralogenados</td><td>567</td><td>0</td></tr><tr><td>03091000</td><td>null</td><td>555</td><td>1</td></tr><tr><td>28273991</td><td>Cloreto de cádmio</td><td>542</td><td>0</td></tr><tr><td>29029030</td><td>Antraceno</td><td>535</td><td>0</td></tr><tr><td>29202400</td><td>Fosfito de trietila</td><td>511</td><td>4</td></tr><tr><td>20084010</td><td>Pêras, preparadas ou conservadas em água edulcorada, incluindo os xaropes</td><td>509</td><td>92</td></tr><tr><td>29309054</td><td>Dimetoato</td><td>496</td><td>0</td></tr><tr><td>28299029</td><td>Outros perbromatos</td><td>492</td><td>18</td></tr><tr><td>61041910</td><td>Tailleurs de malha, de uso feminino, de lã ou de pelos finos</td><td>490</td><td>1</td></tr><tr><td>29031920</td><td>1,1,2-Tricloroetano</td><td>482</td><td>1</td></tr><tr><td>29333994</td><td>4,4'-Bipiridina</td><td>460</td><td>2</td></tr><tr><td>28273970</td><td>Cloreto de bismuto</td><td>458</td><td>0</td></tr><tr><td>37025411</td><td>Outros filmes, para fotografia a cores (policromo), de largura igual a 35 mm, exceto para diapositivos, em bobinas (filmpacks)</td><td>453</td><td>3</td></tr><tr><td>29349941</td><td>Tiofeno</td><td>438</td><td>5</td></tr><tr><td>29333993</td><td>3-Cianopiridina</td><td>433</td><td>0</td></tr><tr><td>29211200</td><td>Cloridrato de 2-cloroetil(N,N-dimetilamina)</td><td>391</td><td>1</td></tr><tr><td>30024113</td><td>Vacina contra a hepatite B, exceto em doses</td><td>390</td><td>0</td></tr><tr><td>29349927</td><td>Estavudina</td><td>387</td><td>0</td></tr><tr><td>48025591</td><td>Papel de desenho, sem fibra obtida por processo mecânico, de peso igual ou superior a 40 g/m2, mas não superior a 150 g/m2, em rolos</td><td>381</td><td>39</td></tr><tr><td>55134990</td><td>Outros tecidos < 85% de fibras descontínuas sintéticas combinadas com algodão</td><td>371</td><td>2</td></tr><tr><td>29224931</td><td>Ácido iminodiacético</td><td>364</td><td>0</td></tr><tr><td>52064300</td><td>Fios retorcidos ou retorcidos múltiplos de algodão, de fibras penteadas, que contenham menos de 85 %, em peso, de algodão, não acondicionados para venda a retalho, de título < 232,56 decitex mas não inferior a 192,31 decitex (número métrico superior a 43</td><td>360</td><td>11</td></tr><tr><td>28332920</td><td>Sulfato de lítio</td><td>349</td><td>2</td></tr><tr><td>29181922</td><td>Ácido quenodeoxicólico</td><td>349</td><td>0</td></tr><tr><td>75051221</td><td>Perfis ocos de ligas de níquel</td><td>344</td><td>4</td></tr><tr><td>29393020</td><td>Sais da cafeína</td><td>338</td><td>0</td></tr><tr><td>29315911</td><td>Ácido clodrônico e seu sal dissódico</td><td>337</td><td>0</td></tr><tr><td>29333319</td><td>Sais de alfentanil ou de anileridina</td><td>337</td><td>0</td></tr><tr><td>48025692</td><td>Papel de desenho, de peso igual ou superior a 40 g/m2, mas não superior a 150 g/m2, em folhas em que um lado não seja superior a 435 mm e o outro não seja superior a 297 mm, quando não dobradas</td><td>335</td><td>112</td></tr><tr><td>28273940</td><td>Cloreto de zircônio</td><td>335</td><td>1</td></tr><tr><td>28439019</td><td>Dexormaplatina; enloplatina; iproplatina; lobaplatina; miboplatina; ormaplatina; sebriplatina e zeniplatina, apresentadas de outra forma</td><td>327</td><td>0</td></tr><tr><td>29215135</td><td>N-Fenil-p-fenilenodiamina (4-aminodifenilamina) e seus sais</td><td>323</td><td>15</td></tr><tr><td>52052100</td><td>Fios de algodão simples, de fibras penteadas, de título igual ou superior a 714,29 decitex (número métrico não superior a 14)</td><td>323</td><td>93</td></tr><tr><td>29339181</td><td>Temazepam</td><td>314</td><td>0</td></tr><tr><td>29339151</td><td>Mazindol</td><td>304</td><td>0</td></tr><tr><td>29359096</td><td>Sulfaguanidina</td><td>303</td><td>0</td></tr><tr><td>29093013</td><td>Éter dibenzílico (eter benzílico)</td><td>303</td><td>7</td></tr><tr><td>28256010</td><td>Óxidos de germanio</td><td>301</td><td>0</td></tr><tr><td>29335330</td><td>Ciclobarbital e seus sais</td><td>284</td><td>0</td></tr><tr><td>28415011</td><td>Cromato de amônio; dicromato de amônio</td><td>282</td><td>25</td></tr><tr><td>28469010</td><td>Óxido de praseodímio</td><td>278</td><td>0</td></tr><tr><td>29214322</td><td>Trifluralina</td><td>275</td><td>0</td></tr><tr><td>29396300</td><td>Ácido lisérgico e seus sais</td><td>275</td><td>0</td></tr><tr><td>29339951</td><td>Benomil</td><td>269</td><td>0</td></tr><tr><td>44072950</td><td>Madeira serrada ou fendida longitudinalmente, cortada transversalmente ou desenrolada, mesmo aplainada, lixada ou unida pelas extremidades, de espessura superior a 6 mm, de canafístula (Peltophorum vogelianum)</td><td>269</td><td>2600</td></tr><tr><td>28372022</td><td>Ferricianeto de ferro ii (ferricianeto ferroso)</td><td>265</td><td>3</td></tr><tr><td>28416920</td><td>Manganatos</td><td>265</td><td>0</td></tr><tr><td>85176221</td><td>Centrais automáticas públicas, para comutação eletrônica, incluindo as de trânsito</td><td>260</td><td>4</td></tr><tr><td>29333381</td><td>Petidina</td><td>259</td><td>0</td></tr><tr><td>28291990</td><td>Outros cloratos</td><td>251</td><td>1</td></tr><tr><td>29329600</td><td>Carbofurano (ISO)</td><td>248</td><td>0</td></tr><tr><td>71104900</td><td>Irídio, ósmio e rutênio, em formas semimanufaturadas</td><td>247</td><td>0</td></tr><tr><td>28539012</td><td>Fosfetos, de constituição química definida ou não, de magnésio</td><td>241</td><td>2</td></tr><tr><td>29081929</td><td>Outros derivados halogenados e seus sais, com bromo</td><td>232</td><td>0</td></tr><tr><td>68128000</td><td>Obras de crocidolita (amianto) ou em fibras</td><td>204</td><td>1</td></tr><tr><td>39139040</td><td>Proteínas endurecidas, em formas primárias</td><td>202</td><td>0</td></tr><tr><td>50030090</td><td>Outros desperdícios de seda</td><td>202</td><td>0</td></tr><tr><td>29308010</td><td>Aldicarb</td><td>200</td><td>0</td></tr><tr><td>29081914</td><td>Triclorofenóis e seus sais</td><td>195</td><td>1</td></tr><tr><td>29252940</td><td>Isetionato de pentamidina</td><td>195</td><td>0</td></tr><tr><td>29163930</td><td>Ácido 4-cloro-3-nitrobenzóico</td><td>194</td><td>25</td></tr><tr><td>29339934</td><td>Molinate (hexaidroazepin-1-carbotioato de s-e</td><td>193</td><td>0</td></tr><tr><td>29339172</td><td>Pirovalerona</td><td>193</td><td>0</td></tr><tr><td>48101482</td><td>Papel baritado, sem fibra obtida por processo mecânico ou químico-mecânico ou em que a percentagem destas fibras < 10 %,em peso,do conteúdo total de fibras,de peso > 150 g/m2,em folhas em que um dos lados < 435 mm e o outro <  297 mm,quando não dobradas</td><td>190</td><td>7</td></tr><tr><td>29081100</td><td>Pentaclorofenol (ISO) e seus sais</td><td>186</td><td>0</td></tr><tr><td>84129010</td><td>Partes de propulsores à reação</td><td>184</td><td>0</td></tr><tr><td>29224952</td><td>Cloridrato do cloreto de d(-)alfa-aminobenzenoacetila</td><td>184</td><td>0</td></tr><tr><td>29181700</td><td>Ácido fenilglicólico (ácido mandélico), seus sais e ésteres</td><td>182</td><td>6</td></tr><tr><td>29252100</td><td>Clordimeforme</td><td>180</td><td>0</td></tr><tr><td>29038110</td><td>Lindano</td><td>173</td><td>0</td></tr><tr><td>28051920</td><td>Bário</td><td>169</td><td>0</td></tr><tr><td>52041140</td><td>Linhas para costurar, não acondicionadas para venda a retalho, que contenham pelo menos 85 %, em peso, de algodão, de algodão branqueado ou colorido, de título superior a 5.000 decitex por fio simples</td><td>169</td><td>58</td></tr><tr><td>29419011</td><td>Rifamicina s</td><td>164</td><td>0</td></tr><tr><td>29242500</td><td>Alaclor (ISO)</td><td>162</td><td>0</td></tr><tr><td>37025499</td><td>Outros filmes para foto a cores, não impressionado, de largura superior a 16 mm, mas não superior a 35 mm, e comprimento não superior a 30 m, em rolos</td><td>161</td><td>1</td></tr><tr><td>29269025</td><td>Fenvalerato</td><td>161</td><td>0</td></tr><tr><td>29214610</td><td>Anfetamina e seus sais</td><td>160</td><td>0</td></tr><tr><td>03079100</td><td>Outros moluscos, invertebrados aquáticos, vivos, frescos, refrigerados</td><td>160</td><td>5</td></tr><tr><td>29124930</td><td>3,4,5-Trimetoxibenzaldeído</td><td>159</td><td>0</td></tr><tr><td>54034200</td><td>Fio de acetato de celulose, retorcido ou retorcido múltiplo</td><td>154</td><td>9</td></tr><tr><td>29147100</td><td>Clordecona (ISO)</td><td>152</td><td>0</td></tr><tr><td>30021216</td><td>Polivalentes</td><td>139</td><td>0</td></tr><tr><td>29349129</td><td>Sais de clotiazepam, cloxazolam, dextromoramida</td><td>135</td><td>0</td></tr><tr><td>29042020</td><td>Nitropropanos</td><td>131</td><td>0</td></tr><tr><td>85409110</td><td>Bobinas de deflexão (yokes), para tubos catódicos</td><td>125</td><td>0</td></tr><tr><td>29339996</td><td>Hidrazida maleica e seus sais</td><td>124</td><td>0</td></tr><tr><td>29203000</td><td>Endossulfan (ISO)</td><td>123</td><td>0</td></tr><tr><td>29104000</td><td>Dieldrin</td><td>120</td><td>0</td></tr><tr><td>53072090</td><td>Fios de outras fibras têxteis liberianas, retorcidos ou retorcidos múltiplos</td><td>118</td><td>60</td></tr><tr><td>69091920</td><td>Outros guias de agulhas para cabeças de impressão, de outras cerâmicas</td><td>117</td><td>0</td></tr><tr><td>12079190</td><td>Outras sementes de dormideira ou papoula, mesmo trituradas</td><td>114</td><td>4</td></tr><tr><td>29189100</td><td>Ácido 2, 4, 5-triclorofenoxiacético</td><td>112</td><td>0</td></tr><tr><td>29081915</td><td>Tetraclorofenóis e seus sais</td><td>110</td><td>0</td></tr><tr><td>29145020</td><td>1,8-Diidroxi-3-metil-9-antrona e sua forma enólica (crisarobina ou chrysarobin)</td><td>107</td><td>1</td></tr><tr><td>29201120</td><td>Paration-metila (metil paration)</td><td>105</td><td>0</td></tr><tr><td>29201110</td><td>Paration (etil paration)</td><td>101</td><td>0</td></tr><tr><td>28415016</td><td>Cromato de chumbo</td><td>91</td><td>0</td></tr><tr><td>29038210</td><td>Aldrin</td><td>88</td><td>0</td></tr><tr><td>29391151</td><td>Heroina e seus sais</td><td>86</td><td>0</td></tr><tr><td>29089200</td><td>4,6-dinitro-o-cresol (dnoc (iso)) e seus sais</td><td>86</td><td>0</td></tr><tr><td>28419013</td><td>Titanatos de cálcio ou de estrôncio</td><td>85</td><td>0</td></tr><tr><td>48101982</td><td>Outros papéis baritados (revestidos de óxido ou sulfato de bário), de peso superior a 150 g/m2, fibra <= 10%</td><td>84</td><td>3</td></tr><tr><td>29039220</td><td>DDT</td><td>80</td><td>0</td></tr><tr><td>29336916</td><td>Anilazina</td><td>76</td><td>0</td></tr><tr><td>29339945</td><td>Buflomedil e seus derivados; sais destes produtos</td><td>70</td><td>0</td></tr><tr><td>93062130</td><td>Outros cartuchos, com um ou mais projéteis de elastômeros</td><td>69</td><td>2</td></tr><tr><td>29339963</td><td>Triazofos (fósforotioato de o, o-dietila o-(1</td><td>66</td><td>0</td></tr><tr><td>38271190</td><td>null</td><td>64</td><td>0</td></tr><tr><td>29339200</td><td>Azinfós metil (ISO)</td><td>63</td><td>0</td></tr><tr><td>29302024</td><td>Metam sódio</td><td>62</td><td>0</td></tr><tr><td>56039130</td><td>Outros falsos tecidos de raiom viscose, de peso não superior a 25 g/m2</td><td>62</td><td>20</td></tr><tr><td>29214323</td><td>4-Cloro-2-toluidina</td><td>62</td><td>0</td></tr><tr><td>28062000</td><td>Ácido clorossulfúrico</td><td>61</td><td>0</td></tr><tr><td>56031140</td><td>Falsos tecidos de raiom viscose, mesmo impregnados, revestidos, recobertos ou estratificados, de peso não superior a 25 g/m2</td><td>60</td><td>2</td></tr><tr><td>29141940</td><td>Pseudoiononas</td><td>49</td><td>0</td></tr><tr><td>29211931</td><td>Diisobutilamina e seus sais</td><td>48</td><td>1</td></tr><tr><td>29319062</td><td>Cloreto de dietialumínio</td><td>42</td><td>0</td></tr><tr><td>29241220</td><td>Fosfamidona</td><td>40</td><td>0</td></tr><tr><td>73242100</td><td>Banheiras de ferro fundido, mesmo esmaltadas</td><td>37</td><td>8</td></tr><tr><td>48109910</td><td>Outros papéis e cartões revestidos de caulim, em tiras ou rolos de largura não superior a 15 cm ou em folhas em que nenhum lado exceda 360 mm, quando não dobradas</td><td>37</td><td>3</td></tr><tr><td>29214922</td><td>Pendimetalina</td><td>34</td><td>0</td></tr><tr><td>29242961</td><td>Propanil</td><td>33</td><td>0</td></tr><tr><td>28443000</td><td>Urânio empobrecido em U235 e seus compostos; tório e seus compostos; ligas, dispersões (incluindo os ceramais (cermets)), produtos cerâmicos e misturas que contenham urânio empobrecido em U235, tório ou compostos destes produtos</td><td>31</td><td>0</td></tr><tr><td>28419014</td><td>Titanato de magnésio</td><td>28</td><td>0</td></tr><tr><td>29339991</td><td>Azinfos etílico</td><td>27</td><td>0</td></tr><tr><td>28121300</td><td>Tricloreto de fósforo</td><td>26</td><td>5</td></tr><tr><td>84529094</td><td>Corpos moldados por fundição</td><td>25</td><td>0</td></tr><tr><td>37013010</td><td>Outras chapas e filmes cuja dimensão de pelo menos um dos lados seja superior a 255 mm, para fotografia a cores (policromo)</td><td>23</td><td>7</td></tr><tr><td>28161020</td><td>Peróxido de magnésio</td><td>23</td><td>0</td></tr><tr><td>29349914</td><td>Anidrido isatóico (2h-3, 1-benzoxazina-2, 4-(1h</td><td>22</td><td>0</td></tr><tr><td>28371919</td><td>Outros cianetos</td><td>22</td><td>0</td></tr><tr><td>29039921</td><td>Bromobenzeno</td><td>15</td><td>0</td></tr><tr><td>44079600</td><td>Madeira serrada ou fendida longitudinalmente, cortada transversalmente ou desenrolada, mesmo aplainada, lixada ou unida pelas extremidades, de espessura superior a 6 mm, de bétula (vidoeiro) (Betula spp.)</td><td>15</td><td>12</td></tr><tr><td>52051500</td><td>Fios de algodão simples, de fibras não penteadas, de título inferior a 125 decitex (número métrico superior a 80), não acondicionados para venda a retalho</td><td>14</td><td>0</td></tr><tr><td>52041940</td><td>Linhas para costurar, de algodão, não acondicionadas para venda a retalho, de algodão branqueado ou colorido, de título superior a 5.000 decitex por fio simples</td><td>9</td><td>0</td></tr><tr><td>29141922</td><td>Acetonilacetona</td><td>5</td><td>0</td></tr><tr><td>28121400</td><td>Pentacloreto de fósforo</td><td>4</td><td>0</td></tr><tr><td>29242945</td><td>Iodamida</td><td>3</td><td>0</td></tr></tbody></table></div>"
      ]
     },
     "metadata": {
      "application/vnd.databricks.v1+output": {
       "addedWidgets": {},
       "aggData": [],
       "aggError": "",
       "aggOverflow": false,
       "aggSchema": [],
       "aggSeriesLimitReached": false,
       "aggType": "",
       "arguments": {},
       "columnCustomDisplayInfos": {},
       "data": [
        [
         "87036000",
         "Outros veículos, equipados para propulsão, simultaneamente, com um motor de pistão alternativo de ignição por centelha (faísca) e um motor elétrico, suscetíveis de serem carregados por conexão a uma fonte externa de energia elétrica",
         2130175312,
         140695851
        ],
        [
         "26131010",
         "Molibdenita ustulada (minérios de molibdênio)",
         355181205,
         12860000
        ],
        [
         "88023021",
         "Aviões e outros veículos aéreos, a turboélice, multimotores, de peso inferior ou igual a 7.000 kg, vazios",
         280609059,
         314817
        ],
        [
         "30021239",
         "Outras frações do sangue, preparadas como medicamentos",
         218661970,
         182862
        ],
        [
         "88021210",
         "Helicópteros, de peso inferior ou igual a 3.500 kg",
         166675870,
         59771
        ],
        [
         "87041010",
         "Dumpers para transporte de mercadoria >= 85 toneladas, utilizado fora de rodovias",
         151526083,
         7986759
        ],
        [
         "88022021",
         "Aviões e outros veículos aéreos, a turboélice, de peso não superior a 2.000 kg, vazios, monomotores",
         134462092,
         112205
        ],
        [
         "29309034",
         "Ácido 2-hidroxi-4-(metiltio)butanóico e seu sal cálcico",
         130392821,
         81820335
        ],
        [
         "87035000",
         "Outros veículos, equipados para propulsão, simultaneamente, com um motor de pistão de ignição por compressão (diesel ou semidiesel) e um motor elétrico, exceto os suscetíveis de serem carregados por conexão a uma fonte externa de energia elétrica",
         127678178,
         6066070
        ],
        [
         "29173600",
         "Ácido tereftálico e seus sais",
         127650977,
         138829437
        ],
        [
         "71103100",
         "Ródio em formas brutas ou em pó",
         126569843,
         848
        ],
        [
         "29309035",
         "Metomil",
         126201290,
         13442757
        ],
        [
         "84264190",
         "Outras máquinas e aparelhos autopropulsados, de pneumáticos",
         114734556,
         14654652
        ],
        [
         "29162015",
         "Bifentrin",
         111261117,
         2510282
        ],
        [
         "31053000",
         "Hidrogeno-ortofosfato de diamônio (fosfato diamônico ou diamoniacal)",
         110081247,
         189447922
        ],
        [
         "40118010",
         "Pneumáticos novos, de borracha, radiais, para dumpers concebidos para serem utilizados fora de rodovias, com seção de largura igual ou superior a 940 mm (37”), para aros de diâmetro igual ou superior a 1.448 mm (57”)",
         99880983,
         12221653
        ],
        [
         "84305000",
         "Outras partes de máquinas e aparelhos de terraplanagem, etc, autopropulsadas",
         96976453,
         6191656
        ],
        [
         "93069010",
         "Granadas que contenham produtos químicos ou oleorresina de Capsicum, com fins irritantes",
         95011016,
         7913
        ],
        [
         "71101100",
         "Platina, em formas brutas ou em pó",
         93067083,
         2996
        ],
        [
         "55095100",
         "Fio de fibras de poliésteres, combinadas, principal ou unicamente, com fibras artificiais descontínuas",
         84078286,
         45295329
        ],
        [
         "54024600",
         "Outros fios simples de poliésteres, parcialmente orientados, sem torção ou com torção não superior a 50 voltas por metro",
         82904688,
         69562434
        ],
        [
         "29335949",
         "Outros compostos heterocíclicos ciclo pirimidina, função álcool e/ou éter",
         78728900,
         2055157
        ],
        [
         "87051020",
         "Caminhões-guindastes com todos os eixos de rodas direcionáveis e capacidade máxima de elevação inferior a 100 t",
         77328789,
         20139508
        ],
        [
         "84295211",
         "Escavadoras, de potência no volante superior ou igual a 484,7 kW (650 HP), cuja superestrutura é capaz de efetuar uma rotação de 360°",
         77214835,
         7746868
        ],
        [
         "29314915",
         "Glufosinato de amônio",
         72234057,
         9077003
        ],
        [
         "29329994",
         "Carbosulfan ((dibutilaminotio)metilcarbamato de 2,3-diidro-2,2-dimetilbenzofuran-7-ila)",
         63299569,
         4319008
        ],
        [
         "28047010",
         "Fósforo branco",
         60203339,
         11851205
        ],
        [
         "88023090",
         "Outros aviões/veículos aéreos, 2000 kg < peso <= 15000 kg, vazios",
         55856359,
         8373
        ],
        [
         "93012000",
         "Lança-mísseis; lança-chamas; lança-granadas; lança-torpedos e lançadores semelhantes",
         55248990,
         15951
        ],
        [
         "29336913",
         "Atrazina",
         54780571,
         13275514
        ],
        [
         "84771021",
         "Outrás máquinas de moldar, monocolor, para materiais termoplásticos, com capacidade de injeção inferior ou igual a 5.000 g e força de fechamento inferior ou igual a 12.000 kN",
         53423061,
         11161879
        ],
        [
         "39072920",
         "Politetrametilenoeterglicol, em forma primária",
         52625776,
         23442644
        ],
        [
         "87045100",
         "Outros veículos automóveis para transporte de mercadorias, equipados para propulsão, simultaneamente, com motor de pistão de ignição por centelha (faísca) e motor elétrico, de peso em carga máxima (bruto) não superior a 5 toneladas",
         50465205,
         3992358
        ],
        [
         "29189912",
         "Ácido 2,4-diclorofenoxiacético (2,4-D), seus sais e seus ésteres",
         47694916,
         22059122
        ],
        [
         "28332960",
         "Sulfatos de cromo",
         46347635,
         53429000
        ],
        [
         "84292010",
         "Motoniveladores articulados, de potência no volante superior ou igual a 205,07 kW (275 HP)",
         43831710,
         1844296
        ],
        [
         "28261200",
         "Fluoretos de alumínio",
         42268055,
         26823701
        ],
        [
         "29309043",
         "Fosforotioato de O-(4-bromo-2-clorofenila) O-etila e de S-propila (profenofós)",
         41275658,
         3850480
        ],
        [
         "29309022",
         "Tiofanato-Metila",
         40356577,
         7128055
        ],
        [
         "30049014",
         "Medicamento contendo Idursulfase, em doses",
         40298095,
         1203
        ],
        [
         "30049015",
         "Medicamento contendo alfa-Agalsidase; alfavelaglicerase",
         39104829,
         2159
        ],
        [
         "84393030",
         "Máquinas e aparelhos para ondular papel ou cartão",
         36691393,
         1992109
        ],
        [
         "84291110",
         "Bulldozers e Angledozers, de lagartas, de potência no volante superior ou igual a 387,76 kW (520 HP)",
         36551697,
         1700254
        ],
        [
         "28441000",
         "Urânio natural e seus compostos; ligas, dispersões (incluindo os ceramais (cermets)), produtos cerâmicos e misturas que contenham urânio natural ou compostos de urânio natural",
         35748437,
         15408
        ],
        [
         "30024127",
         "Outras vacinas tríplices, em doses",
         34879170,
         25949
        ],
        [
         "86021000",
         "Locomotivas diesel-elétricas",
         33573307,
         1192252
        ],
        [
         "39074020",
         "Policarbonatos em formas primárias em pó ou flocos, com índice de fluidez de massa inferior a 60 g/10 min ou superior a 80 g/10 min segundo Norma ASTM D 1238",
         32895946,
         15047253
        ],
        [
         "30024116",
         "Vacina contra a rubéola, sarampo e caxumba (tríplice), exceto em doses",
         30561052,
         31534
        ],
        [
         "30043927",
         "Medicamento contendo goserelina ou seu acetato, em doses",
         30468802,
         17813
        ],
        [
         "90221412",
         "Aparelhos de raios X, de diagnóstico para angiografia",
         30373697,
         324838
        ],
        [
         "29333922",
         "Clorpirifós",
         29045958,
         5420874
        ],
        [
         "88021290",
         "Helicópteros, de peso maior que 3500 kg, vazios",
         28282051,
         16746
        ],
        [
         "29349951",
         "Tebutiuron",
         27559235,
         2271075
        ],
        [
         "93069090",
         "Outras bombas, granadas, outras munições e projéteis e suas partes",
         27376608,
         1046151
        ],
        [
         "30024112",
         "Vacina contra a poliomielite, exceto em doses",
         27109441,
         24840
        ],
        [
         "85451920",
         "Blocos de grafite, dos tipos utilizados como cátodos em cubas eletrolíticas",
         26916097,
         7614082
        ],
        [
         "87032490",
         "Automóveis com motor explosão, cm3 > 3000, superior a 6 passageiros",
         26868332,
         1492861
        ],
        [
         "76061230",
         "Chapas de ligas alumínio simplesmente laminadas, constituídas de, pelo menos, duas camadas de diferentes ligas de alumínio, sendo uma o núcleo e as outras de revestimento, exceto: núcleo de liga daAluminium AssociationAA 3003 modificada (liga de alumínio com um teor, em peso, de silício inferior ou igual a 0,60 %, de ferro inferior ou igual a 0,70 %, de cobre igual ou superior a 0,05 % e inferior ou igual a 0,20 %, de manganês igual ou superior a 1,0 % e inferior ou igual a 1,5 %, de zinco inferior ou igual a 0,15 % e de outros elementos total inferior ou igual a 0,15 %) com revestimento de liga AA 4343 (liga de alumínio com um teor, em peso, de silício igual ou superior a 6,8 % e inferior ou igual a 8,2 %, de ferro inferior ou igual a 0,80 %, de cobre inferior ou igual a 0,25 %, de manganês inferior ou igual a 0,10 %, de zinco inferior ou igual a 0,20 % e de outros elementos total inferior ou igual a 0,15 %)",
         26659732,
         5910477
        ],
        [
         "29315912",
         "Etefon",
         26478528,
         3397625
        ],
        [
         "29319044",
         "Hidróxido de trifenilestanho",
         26227609,
         450800
        ],
        [
         "30024126",
         "Vacina contra rubéola, sarampo e caxumba, em doses",
         25802154,
         54703
        ],
        [
         "35011000",
         "Caseínas",
         25278346,
         3016339
        ],
        [
         "85372010",
         "Subestações isoladas a gás (GIS - Gas-Insulated Switchgear ou HIS - Highly Integrated Switchgear), para uma tensão superior a 52 kV",
         25084009,
         936433
        ],
        [
         "29242964",
         "Iobitridol",
         24696220,
         180798
        ],
        [
         "29349935",
         "Propiconazol",
         23764441,
         1114880
        ],
        [
         "32041510",
         "Corante indigo blue, segundo colour index 73000",
         22858955,
         3500000
        ],
        [
         "81110090",
         "Outras obras de manganês, desperdícios e resíduos de manganês",
         22794916,
         11521531
        ],
        [
         "85235200",
         "Cartões inteligentes",
         22596680,
         132854
        ],
        [
         "90221490",
         "Outros aparelhos de raios X, para uso médico, cirúrgico, veterinário",
         21721821,
         136873
        ],
        [
         "29269091",
         "Adiponitrila (1,4-dicianobutano)",
         21586838,
         10949512
        ],
        [
         "29336991",
         "Ametrina",
         19884588,
         3990000
        ],
        [
         "29269023",
         "Cipermetrina",
         19594003,
         1521755
        ],
        [
         "30049013",
         "Medicamento contendo deoxirribonuclease, em doses",
         19298139,
         2677
        ],
        [
         "29333914",
         "Haloxifop (ácido (RS)-2-(4-(3-cloro-5-trifluorometil-2-piridiloxi)fenoxi)propiônico)",
         18724254,
         990000
        ],
        [
         "27040011",
         "Coques com granulometria igual ou superior a 80 mm",
         17960639,
         37712298
        ],
        [
         "30043918",
         "Medicamento contendo triptorelina ou seus sais, em doses",
         17254439,
         4072
        ],
        [
         "84472029",
         "Outros teares retilíneos, motorizados, para malhas",
         17186076,
         1112935
        ],
        [
         "84543010",
         "Máquinas de vazar (moldar) sob pressão",
         16097247,
         1449642
        ],
        [
         "28442000",
         "Urânio enriquecido em U235 e seus compostos; plutônio e seus compostos; ligas, dispersões (incluindo os ceramais (cermets)), produtos cerâmicos e misturas que contenham urânio enriquecido em U235, plutônio ou compostos destes produtos",
         15825057,
         16972
        ],
        [
         "28111100",
         "Fluoreto de hidrogênio (ácido fluorídrico)",
         15630659,
         9902219
        ],
        [
         "93063000",
         "Outros cartuchos e suas partes",
         15426127,
         893433
        ],
        [
         "28444310",
         "Molibdênio-99 absorvido em alumina, apto para a obtenção de tecnécio-99 (reativo de diagnóstico para medicina nuclear)",
         14937344,
         1585
        ],
        [
         "29397911",
         "Brometo de N-butilescopolamônio",
         14315346,
         11051
        ],
        [
         "30021510",
         "Interferon beta; peg interferon alfa-2-a",
         14299919,
         7653
        ],
        [
         "29419049",
         "Outros aminoglucosídeos e seus sais",
         14089443,
         154894
        ],
        [
         "39119023",
         "Polietilenaminas, sem carga, em formas primárias",
         13832537,
         2727499
        ],
        [
         "29339939",
         "Outros compostos heterocíclicos contendo ciclo azepina",
         13736858,
         82220
        ],
        [
         "87100000",
         "Veículos e carros blindados de combate, armados ou não, e suas partes",
         13736293,
         192953
        ],
        [
         "15141100",
         "Óleos de nabo silvestre, baixo teor, em bruto",
         13551622,
         13821023
        ],
        [
         "29091920",
         "Sevoflurano",
         12993801,
         168196
        ],
        [
         "90222190",
         "Outros aparelhos de radiação alfa/beta/gama, para usos médicos, cirúrgicos, odontológicos ou veterinários",
         12674596,
         273111
        ],
        [
         "39071042",
         "Outros poliacetais sem carga, em pó que passe através de uma peneira com abertura de malha de 0,85 mm em proporção superior a 80 %, em peso",
         12612491,
         7189396
        ],
        [
         "93019000",
         "Outras armas de guerra, exceto revólveres, pistolas e armas brancas.",
         12338675,
         40222
        ],
        [
         "29031200",
         "Diclorometano (cloreto de metileno)",
         12297564,
         18675957
        ],
        [
         "89032200",
         "Barcos à vela, exceto os infláveis, mesmo com motor auxiliar de comprimento superior a 7,5 m, mas não superior a 24 m",
         12135335,
         258309
        ],
        [
         "29241929",
         "Outras formamidas e acetamidas",
         12037267,
         3030366
        ],
        [
         "84291910",
         "Outros bulldozers de potência no volante >= 315 hp",
         11937822,
         458386
        ],
        [
         "84622400",
         "Prensas para painéis, de comando numérico",
         11926730,
         505436
        ],
        [
         "29209022",
         "Propargite",
         11683477,
         866700
        ],
        [
         "39049010",
         "Poli(cloreto de vinila) clorado",
         10961889,
         4118084
        ],
        [
         "29342032",
         "2-(Cicloexilaminotio)benzotiazol (N-cicloexil-benzotiazol-sulfenamida)",
         10757900,
         3419535
        ],
        [
         "29291030",
         "Isocianato de 3,4-diclorofenila",
         10712547,
         2395810
        ],
        [
         "29049914",
         "4-Cloro-alfa,alfa,alfa-trifluor-3,5-dinitrotolueno",
         10517240,
         3185100
        ],
        [
         "29163920",
         "Ibuprofeno",
         10444625,
         929812
        ],
        [
         "03053210",
         "Filés de bacalhau, secos, salgados, em salmoura, não defumado",
         10419625,
         1145426
        ],
        [
         "11072010",
         "Malte torrado, inteiro ou partido",
         10320234,
         10470058
        ],
        [
         "84774010",
         "Máquinas de moldar a vácuo poliestireno expandido (EPS) ou polipropileno expandido (EPP)",
         9771283,
         558907
        ],
        [
         "30025100",
         "Produtos de terapia celular",
         9543578,
         20
        ],
        [
         "29269026",
         "\"Cialotrin (\"\"cyhalothrin\"\")\"",
         9393596,
         213470
        ],
        [
         "29221971",
         "Cloridrato",
         9292908,
         33370
        ],
        [
         "29201910",
         "Fenitrotion",
         9224682,
         840500
        ],
        [
         "93011000",
         "Peças de artilharia (por exemplo, canhões, obuses e morteiros)",
         8795849,
         11418
        ],
        [
         "93020000",
         "Revólveres e pistolas, exceto os das posições 93.03 ou 93.04",
         8679834,
         39668
        ],
        [
         "28263000",
         "Hexafluoraluminato de sódio (criolita sintética)",
         8662300,
         22454882
        ],
        [
         "29152400",
         "Anidrido acético",
         8521236,
         7295515
        ],
        [
         "29037990",
         "Outros derivados peralogenados dos hidrocarbonetos acíclicos, contendo ao menos dois halogênios diferentes",
         8490186,
         965766
        ],
        [
         "30024123",
         "Vacina contra a hepatite b, em doses",
         8473035,
         60127
        ],
        [
         "29333379",
         "Sais de metilfenidato ou de pentazocina",
         8117098,
         4450
        ],
        [
         "29419021",
         "Cloridrato de lincomicina",
         7911791,
         212146
        ],
        [
         "30031019",
         "Medicamento contendo outras penicilinas/derivados, exceto em doses",
         7805005,
         46943
        ],
        [
         "86050090",
         "Furgões para bagagem, vagões-postais e outros vagões especiais, para vias férreas ou semelhantes (excluindo as viaturas da posição 86.04).",
         7670379,
         232000
        ],
        [
         "29242994",
         "Triflumuron",
         7665279,
         245500
        ],
        [
         "30024122",
         "Vacina contra a poliomielite, em doses",
         7614569,
         6720
        ],
        [
         "29372360",
         "Desogestrel",
         7559121,
         55
        ],
        [
         "29225032",
         "Metildopa",
         7500744,
         88800
        ],
        [
         "90273011",
         "Espectrógrafos, de emissão atômica",
         7016772,
         27146
        ],
        [
         "30034990",
         "Outros medicamentos (exceto os produtos das posições 30.02, 30.05 ou 30.06) que contenham alcaloides ou seus derivados, preparados para fins terapêuticos ou profiláticos, mas não apresentados em doses nem acondicionados para venda a retalho",
         6978462,
         4618
        ],
        [
         "29214329",
         "Outros derivados das toluidinas e seus sais",
         6888192,
         184799
        ],
        [
         "29239030",
         "Cloreto de 3-cloro-2-hidroxipropiltrimetilamônio",
         6720316,
         3847090
        ],
        [
         "29154010",
         "Ácido monocloroacético",
         6605591,
         5754181
        ],
        [
         "84490020",
         "Máquinas e aparelhos para fabricar falsos tecidos",
         6597011,
         734765
        ],
        [
         "81042000",
         "Desperdícios e resíduos, de magnésio",
         6512852,
         3038858
        ],
        [
         "84862000",
         "Máquinas e aparelhos para a fabricação de dispositivos semicondutores ou de circuitos integrados eletrônicos",
         6512453,
         44767
        ],
        [
         "29391122",
         "Codeína e seus sais",
         6437947,
         13535
        ],
        [
         "29415010",
         "Claritromicina",
         6399231,
         26825
        ],
        [
         "87082995",
         "Inflador de bolsa de ar, para dispositivo de segurança para automóveis",
         6398653,
         46161
        ],
        [
         "52052400",
         "Fios simples de algodão, de fibras penteadas, que contenham pelo menos 85 %,em peso,de algodão,não acondicionados para venda a retalho, de título inferior a 192,31 decitex mas não inferior a 125 decitex (número métrico superior a 52 mas não superior a 80)",
         6388139,
         1454966
        ],
        [
         "84522190",
         "Máquinas para costurar outras matérias, automáticas",
         6382119,
         355302
        ],
        [
         "29419092",
         "Fumarato de tiamulina",
         6351094,
         320085
        ],
        [
         "55129990",
         "Outros tecidos de fibras sintéticas descontinuas >= 85%",
         6257600,
         159160
        ],
        [
         "53012990",
         "Linho trabalhado de outra forma, mas não fiado",
         6256074,
         828809
        ],
        [
         "29173950",
         "Anidrido trimelítico (ácido 1, 3dioxo-5isobenzofuranocarb.)",
         6218004,
         1510200
        ],
        [
         "16041420",
         "Preparações e conservas, de bonitos-listrados, inteiros ou em pedaços, exceto peixes picados",
         6151838,
         1310184
        ],
        [
         "40118020",
         "Pneumáticos novos, de borracha, do tipo utilizado em veículos e máquinas para a construção civil, de mineração e de manutenção industrial, com seção de largura igual ou superior a 1.143 mm (45”), para aros de diâmetro igual ou superior a 1.143 mm (45”)",
         6121831,
         627374
        ],
        [
         "29336923",
         "Metribuzim",
         6120985,
         578022
        ],
        [
         "39019010",
         "Copolímeros de etileno e ácido acrílico, em formas primárias",
         6080925,
         1891863
        ],
        [
         "29372140",
         "Prednisolona (deidroidrocortisona)",
         6039211,
         6333
        ],
        [
         "29262000",
         "1-Cianoguanidina (diciandiamida)",
         5928279,
         2868915
        ],
        [
         "38159093",
         "Outras preparações catalíticas, tendo como substância ativa óxidos de terras raras",
         5927108,
         832875
        ],
        [
         "29302012",
         "Cartap",
         5923026,
         369110
        ],
        [
         "95082600",
         "Equipamentos recreativos para parques aquáticos",
         5784359,
         352186
        ],
        [
         "90183925",
         "Sondas vesicais estéreis de poliuretano, com revestimento hidrofílico, de uso intermitente, apresentadas em embalagens com solução salina ",
         5762921,
         132329
        ],
        [
         "30043913",
         "Medicamento contendo menotropinas, em doses",
         5718537,
         9826
        ],
        [
         "87024090",
         "Outros veículos automóveis para transporte de dez pessoas ou mais, incluindo o motorista, unicamente com motor elétrico para propulsão",
         5542445,
         304202
        ],
        [
         "30033981",
         "Medicamentos contendo levotiroxina sódica, exceto em doses",
         5485401,
         26806
        ],
        [
         "84431710",
         "Máquinas rotativas para heliogravura",
         5395121,
         218258
        ],
        [
         "84593100",
         "Outras mandriladoras-fresadoras de metais, de comando numérico",
         5256608,
         481414
        ],
        [
         "79011290",
         "Zinco não ligado, que contenha, em peso, menos de 99,99 % de zinco, em outras formas",
         5196933,
         2163964
        ],
        [
         "74102110",
         "Folha de cobre refinado, com suporte isolante de resina epóxida e fibra de vidro, dos tipos utilizados para circuitos impressos",
         5178328,
         1026366
        ],
        [
         "39173221",
         "Tubos capilares, semipermeáveis, próprios para hemodiálise ou para oxigenação sanguínea, de polipropileno",
         5106158,
         16235
        ],
        [
         "29419032",
         "Cefoperazona e seus sais, e cefazolina sódica",
         5088176,
         26600
        ],
        [
         "28539020",
         "Cianamida e seus derivados metálicos",
         4798185,
         915942
        ],
        [
         "84454018",
         "Outras bobinadeiras de matérias têxteis, com atador automático",
         4755017,
         231482
        ],
        [
         "72281010",
         "Barras de aços de corte rápido, simplesmente laminadas, estiradas ou extrudadas, a quente",
         4659893,
         3497761
        ],
        [
         "29319059",
         "Outros compostos organo-arseniais",
         4653589,
         140029
        ],
        [
         "40169400",
         "Defensas, mesmo infláveis, para atracação de embarcações, de borracha vulcanizada não endurecida",
         4599790,
         951372
        ],
        [
         "84462100",
         "Teares para tecidos de largura superior a 30 cm, de lançadeiras, a motor",
         4419916,
         412740
        ],
        [
         "28369912",
         "Carbonato de zircônio",
         4368695,
         1318825
        ],
        [
         "54033110",
         "Fio de raiom crus ou branqueados viscose, sem torção ou com torção não superior a 120 voltas por metro",
         4346938,
         932902
        ],
        [
         "91119010",
         "Fundos para caixa de relógio de pulso/bolso, de metal comum",
         4323148,
         43256
        ],
        [
         "55033000",
         "Fibras acrílicas ou modacrílicas, não cardadas, não penteadas nem transformadas de outro modo para fiação",
         4317003,
         1590648
        ],
        [
         "39079992",
         "Poli (epsilon caprolactona)",
         4293308,
         407415
        ],
        [
         "28309011",
         "Sulfetos de molibdênio iv (dissulfeto de molibdênio)",
         4281021,
         142146
        ],
        [
         "29211923",
         "Monoisopropilamina e seus sais",
         4191552,
         2076355
        ],
        [
         "84797100",
         "Pontes de embarque para passageiros, dos tipos utilizados em aeroportos",
         4172363,
         329288
        ],
        [
         "88069400",
         "Outros veículos aéreos (aeronaves) não tripulados, de peso máximo de decolagem superior a 25 kg, mas não superior a 150 kg",
         4118697,
         29116
        ],
        [
         "30039096",
         "Complexo de ferro dextrana",
         4074253,
         381746
        ],
        [
         "84219191",
         "Tambores rotativos com pratos ou discos separadores, de peso superior a 300 kg",
         4013904,
         28828
        ],
        [
         "55109090",
         "Outros fios de fibras artificiais descontínuas, obtidos a partir de fibras que não sejam de celulose",
         4010225,
         1589099
        ],
        [
         "29031110",
         "Clorometano (cloreto de metila)",
         4006778,
         3440948
        ],
        [
         "55144200",
         "Tecido de poliéster < 85% com algodão, peso > 170 g/m2, sarjado,  estampado",
         3937761,
         743093
        ],
        [
         "28366010",
         "Carbonato de bário, com um teor de BaCO3 superior ou igual a 98%, em peso",
         3923457,
         5610336
        ],
        [
         "38089325",
         "Herbicida à base de dicloreto de paraquat, de propanil ou de simazina",
         3874477,
         763008
        ],
        [
         "29269096",
         "Cianoacrilatos de etila",
         3850209,
         563717
        ],
        [
         "53061000",
         "Fios de linho, simples",
         3844108,
         196489
        ],
        [
         "29339961",
         "Triadimenol",
         3802755,
         140000
        ],
        [
         "28342190",
         "Outros nitratos de potássio",
         3693040,
         1998114
        ],
        [
         "40059110",
         "Preparações base para a fabricação de gomas de mascar, em chapas, folhas e tiras",
         3659196,
         987620
        ],
        [
         "38249982",
         "Halquinol; tetraclorohidroxiglicina de alumínio e zircônio",
         3592967,
         192000
        ],
        [
         "84481120",
         "Mecanismos Jacquard para teares",
         3575331,
         195946
        ],
        [
         "55063000",
         "Fibras acrílicas ou modacrílicas, cardadas, penteadas ou transformadas de outro modo para fiação",
         3561104,
         1396107
        ],
        [
         "35030012",
         "Gelatinas e seus derivados, de osseína, com grau de pureza inferior a 99,98 %, em peso",
         3543693,
         356912
        ],
        [
         "45019000",
         "Desperdícios de cortiça, cortiça triturada, granulada, etc",
         3535773,
         697363
        ],
        [
         "84271011",
         "Empilhadeiras autopropulsadas, de motor elétrico, de capacidade de carga superior a 6,5 toneladas",
         3513963,
         456014
        ],
        [
         "84602400",
         "Outras máquinas para retificar, de comando numérico",
         3502796,
         47938
        ],
        [
         "03036500",
         "Saithe (Pollachius virens), congelado",
         3491380,
         525837
        ],
        [
         "92012000",
         "Pianos de cauda",
         3484257,
         89572
        ],
        [
         "29332929",
         "Outros compostos heterocíclicos com ciclo benzeno clorado",
         3362783,
         34169
        ],
        [
         "29039911",
         "Cloreto de benzila",
         3356346,
         2046539
        ],
        [
         "29241992",
         "Carisoprodol",
         3312344,
         97313
        ],
        [
         "29349953",
         "Levamisol e seus sais",
         3257633,
         60706
        ],
        [
         "28252020",
         "Hidróxido de litio",
         3247616,
         211259
        ],
        [
         "84851000",
         "Hélices para embarcações e suas pás",
         3202301,
         18477
        ],
        [
         "84451922",
         "Descaroçadeiras e deslintadeiras de algodão",
         3148305,
         233266
        ],
        [
         "29321320",
         "Álcool tetraidrofurfurílico",
         3144687,
         625130
        ],
        [
         "29152920",
         "Acetatos de cobalto",
         3096224,
         343451
        ],
        [
         "29309049",
         "Outros fosforotioatos e seus derivados, e sais destes produtos",
         3073326,
         96504
        ],
        [
         "29225031",
         "Levodopa",
         3071152,
         41509
        ],
        [
         "29212100",
         "Etilenodiamina e seus sais",
         3067913,
         1167848
        ],
        [
         "29395990",
         "Outros derivados e sais de teofilina ou aminofilina",
         3023070,
         33012
        ],
        [
         "30046000",
         "Outros medicamentos, que contenham princípios ativos antimaláricos (antipalúdicos) descritos na Nota de subposições 2 do presente Capítulo",
         3022416,
         46316
        ],
        [
         "55091210",
         "Fio de retorcidos ou retorcidos múltiploes, que contenham pelo menos 85 %, em peso, de aramidas",
         3004003,
         114914
        ],
        [
         "28273931",
         "Cloreto de mercúrio i (cloreto mercuroso)",
         2981291,
         1916513
        ],
        [
         "29242919",
         "Outros derivados da acetanilida e seus sais",
         2965540,
         486142
        ],
        [
         "38111100",
         "Preparações antidetonantes à base de compostos de chumbo",
         2939057,
         52001
        ],
        [
         "93051000",
         "Partes e acessórios de revólveres ou pistolas",
         2897708,
         24825
        ],
        [
         "85258911",
         "Outras câmeras de televisão com três ou mais captadores de imagem",
         2889243,
         2787
        ],
        [
         "29202910",
         "Fosfito de alquila de C3 a C13 ou de alquil-arila",
         2884379,
         1081177
        ],
        [
         "29343010",
         "Maleato de metotrimeprazina (maleato de levomepromazina)",
         2844606,
         8717
        ],
        [
         "29089990",
         "Outros derivados halogenados, sulfonados, nitrados ou nitrosados dos fenóis ou dos fenóis-álcoois",
         2802387,
         22534
        ],
        [
         "93059100",
         "Partes e acessórios de armas de guerra da posição 93.01",
         2789750,
         8099
        ],
        [
         "30039078",
         "Medicamento contendo ciclosporina a, fluspirileno, etc, exceto em doses",
         2786236,
         25514
        ],
        [
         "29335913",
         "Norfloxacina e seu nicotinato",
         2773246,
         91475
        ],
        [
         "29337100",
         "6-Hexanolactama (epsilon-caprolactama)",
         2767449,
         965001
        ],
        [
         "73151110",
         "\"Correntes de rolos do tipo utilizado em bicicletas, com passo de 12,7 mm (1/2\"\") e largura interna igual ou superior a 1,98 mm (5/64\"\"), mas inferior ou igual a 3,17 mm (1/8\"\")\"",
         2765128,
         1006205
        ],
        [
         "29034400",
         "Diclorotetrafluoretanos e cloropentafluoretano",
         2742770,
         757320
        ],
        [
         "29335915",
         "Enrofloxacina, sais de piperazina",
         2707625,
         214160
        ],
        [
         "84454011",
         "Bobinadeiras de trama (espuladeiras), automáticas, de matérias têxteis",
         2678598,
         91866
        ],
        [
         "25085000",
         "Andaluzita, cianita e silimanita",
         2668309,
         4091135
        ],
        [
         "29211922",
         "Di-n-propilamina e seus sais",
         2648719,
         1222255
        ],
        [
         "38089328",
         "Herbicidas à base de hexazinona",
         2640115,
         499826
        ],
        [
         "39069046",
         "Copolímeros de acrilato de metila-etileno com um conteúdo de acrilato de metila superior ou igual a 50 %, em peso, em blocos irregulares, pedaços, pós, etc",
         2605145,
         476737
        ],
        [
         "54033300",
         "Fio de acetato de celulose, simples",
         2567214,
         414073
        ],
        [
         "29221939",
         "Ambroxol e seus outros sais",
         2514677,
         12587
        ],
        [
         "55013000",
         "Cabos acrílicos ou modacrílicos",
         2509737,
         1299456
        ],
        [
         "29349993",
         "Lamivudina",
         2487597,
         23375
        ],
        [
         "30032059",
         "Medicamento contendo cefalosporinas/cefamicinas/etc, exceto em doses",
         2453715,
         10790
        ],
        [
         "84601200",
         "Máquinas para retificar superfícies planas, de comando numérico",
         2374346,
         149409
        ],
        [
         "84303910",
         "Outros cortadores de carvão ou de rocha",
         2327839,
         302107
        ],
        [
         "28257010",
         "Trióxido de molibdênio",
         2321302,
         68102
        ],
        [
         "52054200",
         "Fios de algodão que contenham pelo menos 85 %,em peso,de algodão,não acondicionados para venda a retalho,retorcidos ou retorcidos múltiplos,fibras penteadas,título < 714,29 decitex mas > 232,56 decitex,por fio simples (num.met >14 e < 43, por fio simples)",
         2276172,
         398535
        ],
        [
         "70197310",
         "Outros tecidos de fibras de vidro de malha aberta, consolidados quimicamente, constituídos por fios paralelizados e superpostos entre si em ângulo de 90°, impregnados e soldados nos pontos de interseção com resina termoplástica, com densidade igual ou superior a 3 e inferior ou igual a 7 fios por centímetro",
         2247363,
         677943
        ],
        [
         "71049100",
         "Outros diamantes sintéticos/reconstituídos, não classificados em códigos anteriores",
         2230866,
         8
        ],
        [
         "29161430",
         "Ésteres de n-butila do ácido metacrílico",
         2221198,
         868820
        ],
        [
         "87149612",
         "Pedivelas de peça única (monobloco) ",
         2216028,
         1937052
        ],
        [
         "24049100",
         "Outros produtos que contenham nicotina destinados à absorção da nicotina pelo corpo humano, para aplicação oral",
         2208990,
         49316
        ],
        [
         "30039013",
         "Medicamento contendo hidroxocobalamina, etc, exceto em doses",
         2207639,
         18458
        ],
        [
         "84219920",
         "Partes de aparelhos para utilização de linhas de sangue para hemodiálise",
         2207093,
         16507
        ],
        [
         "29221941",
         "Cloridrato de clobutinol",
         2204685,
         3013
        ],
        [
         "29333200",
         "Piperidina e seus sais",
         2202260,
         270880
        ],
        [
         "84565000",
         "Máquinas de corte a jato de água",
         2126283,
         267479
        ],
        [
         "29171321",
         "Ácido sebácico",
         2124045,
         508122
        ],
        [
         "29081911",
         "4-Cloro-m-cresol e seus sais",
         2106841,
         143131
        ],
        [
         "69039012",
         "Tubo refratrário, de compostos de zircônio",
         2071080,
         3242
        ],
        [
         "15109000",
         "Outros óleos e respectivas frações, obtidos exclusivamente a partir de azeitonas, mesmo refinados, mas não quimicamente modificados, e misturas desses óleos ou frações com óleos ou frações da posição 15.09, não classificados em códigos anteriores",
         2065485,
         398530
        ],
        [
         "29071930",
         "p-ter-Butilfenol e seus sais",
         2055931,
         1015706
        ],
        [
         "84592199",
         "Outras máquinas-ferramentas para furar metais, de comando numérico",
         2051042,
         206316
        ],
        [
         "03048810",
         "Filés de tubarão-azul (Prionace glauca), congelados",
         2046407,
         720832
        ],
        [
         "90131010",
         "Miras telescópicas para armas",
         2045664,
         53394
        ],
        [
         "90121090",
         "Outros microscópios e difratógrafos",
         2043677,
         20573
        ],
        [
         "29269024",
         "Deltametrina",
         2033852,
         26773
        ],
        [
         "54026110",
         "Fio de aramida, retorcido ou retorcido múltiplo",
         2003091,
         99898
        ],
        [
         "29419082",
         "Sulfato de colistina",
         1990363,
         144726
        ],
        [
         "29215119",
         "O-fenilenodiamina, p-fenilenodiamina e seus sais",
         1977523,
         196981
        ],
        [
         "84573090",
         "Outras máquinas de estações múltiplas, para trabalhar metais",
         1960686,
         8300
        ],
        [
         "72124021",
         "Produtos laminados planos, de ferro ou aço não ligado, de largura inferior a 600 mm, folheados ou chapeados, revestidos de plásticos, com uma camada intermediária de liga cobre-estanho ou cobre-estanho-chumbo, aplicada por sinterização",
         1948605,
         293911
        ],
        [
         "29419081",
         "Polimixinas e seus sais",
         1935739,
         250
        ],
        [
         "11081100",
         "Amido de trigo",
         1904630,
         3048550
        ],
        [
         "84433221",
         "Impressoras de impacto, de linha",
         1902986,
         58061
        ],
        [
         "84198911",
         "Esterilizadores de alimentos, mediante Ultra Alta Temperatura (UHT - Ultra High Temperature) por injeção direta de vapor, com capacidade superior ou igual a 6.500 l/h",
         1886854,
         44935
        ],
        [
         "29359094",
         "Nimesulida",
         1877732,
         91089
        ],
        [
         "52054300",
         "Fios de algodão contendo ao menos 85 %,em peso,de algodão,não acondicionados para venda retalho,retorcidos ou retorcidos múltiplos,fibras penteadas,título < 232,56 decitex mas > 192,31 decitex,por fio simples (núm.met.> 43 mas < 52, por fio simples)",
         1835692,
         287056
        ],
        [
         "23025000",
         "Sêmeas, farelos e outros resíduos, de leguminosas",
         1827694,
         15932040
        ],
        [
         "72106990",
         "Outros laminados de ferro/aço",
         1773275,
         1336533
        ],
        [
         "29419073",
         "Avilamicinas",
         1759462,
         79139
        ],
        [
         "39074010",
         "Policarbonatos, nas formas previstas na Nota 6 b) deste Capítulo,com transmissão de luz de comprimento de onda de 550 nm ou 800 nm, > 89 %, segundo Norma ASTM D 1003-00 e índice de fluidez de massa >= 60 g/10 min e <= 80 g/10 min segundo Norma ASTM D 1238",
         1751773,
         484758
        ],
        [
         "29214231",
         "4-nitroanilina",
         1739248,
         532801
        ],
        [
         "55109011",
         "Outros fios de fibras artificiais descontínuas, obtidos a partir de fibras de celulose, de raiom viscose, exceto modal",
         1729902,
         636894
        ],
        [
         "29224962",
         "Diclofenaco de potássio",
         1707336,
         12739
        ],
        [
         "95082300",
         "Carrinhos de choque (bate-bate)",
         1694945,
         47491
        ],
        [
         "55143090",
         "Outros tecidos < 85% fibras descontínuas sintéticas, fios de diversas cores, com algodão",
         1692762,
         997802
        ],
        [
         "35079032",
         "L-Asparaginase",
         1679670,
         15840
        ],
        [
         "28439030",
         "Ácido hexacloroirídico em solução aquosa com uma concentração igual ou superior a 17 %, mas inferior ou igual a 27 %, em peso",
         1671183,
         13
        ],
        [
         "84451300",
         "Bancas de estiramento (bancas de fusos), de matérias têxteis",
         1659910,
         147743
        ],
        [
         "29043600",
         "Fluoreto de perfluoroctanossulfonila",
         1651587,
         13000
        ],
        [
         "48103990",
         "Outros papéis e cartões Kraft, exceto dos tipos utilizados para escrita, impressão ou outras finalidades gráficas",
         1637338,
         2041266
        ],
        [
         "84522922",
         "Máquinas para casear tecidos, não automáticas",
         1632947,
         130774
        ],
        [
         "85441911",
         "Fios de alumínio revestido de cobre (CCA -Copper Clad Aluminum) para bobinar, isolados para usos elétricos (incluindo os envernizados ou oxidados anodicamente)",
         1630841,
         349810
        ],
        [
         "55133911",
         "Tecido de fios de diversas cores de fibras descontínuas de poliéster < 85%, em ponto sarjado, incluindo o diagonal, cuja relação de textura não seja superior a 4, peso <= 170 g/m2",
         1618559,
         632070
        ],
        [
         "29339947",
         "Ketorolac trometamina",
         1610411,
         3648
        ],
        [
         "28131000",
         "Dissulfeto de carbono",
         1601560,
         1926463
        ],
        [
         "28256020",
         "Dióxido de zircônio",
         1575410,
         173738
        ],
        [
         "84012000",
         "Máquinas e aparelhos para a separação de isótopos, e suas partes",
         1549158,
         219
        ],
        [
         "81082000",
         "Titânio em formas brutas, e titânio em pós",
         1546338,
         146245
        ],
        [
         "52062300",
         "Fios simples de algodão, de fibras penteadas, que contenham menos de 85 %, em peso, de algodão, não acondicionados para venda a retalho, de título < 232,56 decitex mas não inferior a 192,31 decitex (número métrico superior a 43 mas não superior a 52)",
         1544721,
         575773
        ],
        [
         "81099100",
         "Outras obras e outros produtos de zircônio, que contenham menos de uma parte de háfnio para 500 partes, em peso, de zircônio",
         1536435,
         13597
        ],
        [
         "72199010",
         "Outros produtos laminados planos de aço inoxidável, de largura igual ou superior a 600 mm, de espessura inferior a 4,75 mm e dureza superior ou igual a 42 HRC",
         1532009,
         363999
        ],
        [
         "84014000",
         "Partes de reatores nucleares",
         1509892,
         1040
        ],
        [
         "29199040",
         "Diclorvós (ddvp)",
         1503919,
         421250
        ],
        [
         "84433259",
         "Outros traçadores gráficos",
         1481264,
         105987
        ],
        [
         "29163220",
         "Cloreto de benzoila",
         1476433,
         859549
        ],
        [
         "91118000",
         "Caixas para relógio de pulso/bolso, de outras matérias",
         1475832,
         22731
        ],
        [
         "50060000",
         "Fios de seda ou de desperdícios de seda, acondicionados para venda a retalho; pelo de Messina (crina de Florença)",
         1458088,
         1337
        ],
        [
         "28459000",
         "Outros isotopos e seus compostos inorgânicos ou orgânicos",
         1451436,
         184
        ],
        [
         "29333935",
         "Imazetapir (ácido (RS)-5-etil-2-(4-isopropil-4-metil-5-oxo-2-imidazolin-2-il)nicotínico)",
         1448620,
         56390
        ],
        [
         "86012000",
         "Locomotivas e locotratores, de acumuladores elétricos",
         1446129,
         57306
        ],
        [
         "53071010",
         "Fios de juta, simples",
         1435753,
         1136735
        ],
        [
         "29362620",
         "Cobamamida não misturada",
         1434140,
         151
        ],
        [
         "87149311",
         "Cubos, exceto de freios (travões) para bicicletas e outros ciclos, sem rosca, para pinhões do tipo cassete",
         1427858,
         181105
        ],
        [
         "29162014",
         "Permetrina",
         1403047,
         97912
        ],
        [
         "41021000",
         "Peles em bruto de ovinos, com lã (não depiladas)",
         1387245,
         1031982
        ],
        [
         "85021390",
         "Grupos eletrogêneos de motor de pistão, de ignição por compressão (motores diesel ou semidiesel), de potência superior a 375 kVA",
         1355728,
         66945
        ],
        [
         "29359012",
         "Clortalidona",
         1348386,
         9651
        ],
        [
         "29337210",
         "Clobazam",
         1346912,
         452
        ],
        [
         "29333991",
         "Cloridrato de fenazopiridina",
         1335674,
         24200
        ],
        [
         "29039929",
         "Outros derivados halogenados, unicamente com bromo",
         1330171,
         259534
        ],
        [
         "48103290",
         "Outros papéis Kraft, branqueados uniformemente na massa e em que mais de 95 %, em peso, do conteúdo total de fibras seja constituído por fibras de madeira obtidas por processo químico, de peso superior a 150 g/m2",
         1317829,
         1204141
        ],
        [
         "81099900",
         "Outros zircônios e suas obras, incluindo os desperdícios e resíduos, e sucata, não classificados em códigos anteriores",
         1313126,
         18815
        ],
        [
         "91081200",
         "Maquinismos de pequeno volume para relógios, completos e montados, funcionando eletricamente, de mostrador exclusivamente optoeletrônico, para relógios das posições 91.01 ou 91.02",
         1305527,
         6516
        ],
        [
         "53012910",
         "Linho penteado, mas não fiado",
         1297817,
         137601
        ],
        [
         "38248400",
         "Mercadorias mencionadas na Nota de subposições 3 do presente Capítulo, que contenham aldrin, canfecloro, clordano, clordecona , DDT, 1,1,1-tricloro-2,2-bis(p-clorofenil)etano), dieldrin, endossulfan, endrin, heptacloro ou mirex",
         1297502,
         122914
        ],
        [
         "39079994",
         "Copolímero de tereftalato de dimetila, cicloexanodimetanol e tetrametil ciclobutanodiol",
         1294751,
         335515
        ],
        [
         "30042062",
         "Medicamento contendo daunorubicina, em doses",
         1291357,
         3246
        ],
        [
         "29339956",
         "Fembendazol",
         1286280,
         22590
        ],
        [
         "29335932",
         "Diazinon",
         1286096,
         166696
        ],
        [
         "29309059",
         "Outros fosforoditioatos, seus derivados e sais",
         1285127,
         94201
        ],
        [
         "28261920",
         "Fluoreto ácido de amônio",
         1277552,
         691013
        ],
        [
         "29329300",
         "Piperonal",
         1274544,
         80011
        ],
        [
         "76051910",
         "Outros fios de alumínio não ligado, com um teor de alumínio superior ou igual a 99,45 %, em peso, e uma resistividade elétrica inferior ou igual a 0,0283 ohm.mm2/m",
         1269415,
         288468
        ],
        [
         "95082110",
         "Montanha-russa com percurso superior ou igual a 300 m",
         1268100,
         55509
        ],
        [
         "84581191",
         "Tornos horizontais para trabalhar metais, de 6 ou mais fusos porta-peças",
         1266575,
         113384
        ],
        [
         "84762100",
         "Máquinas automáticas de venda de bebidas, com dispositivo de aquecimento ou de refrigeração incorporado",
         1266530,
         42930
        ],
        [
         "90181920",
         "Audiômetros",
         1260370,
         3991
        ],
        [
         "87149920",
         "Caixas de direção sem rosca",
         1257647,
         332501
        ],
        [
         "15149910",
         "Outros óleos de nabo silvestre, refinados",
         1251194,
         216594
        ],
        [
         "38089994",
         "Nematicidas à base de metam sódio",
         1242793,
         1734247
        ],
        [
         "55162400",
         "Tecidos que contenham menos de 85 %, em peso, de fibras artificiais descontínuas, combinadas, principal ou unicamente, com filamentos sintéticos ou artificiais, estampados",
         1229689,
         215633
        ],
        [
         "30042032",
         "Medicamento contendo rifampicina, em doses",
         1208819,
         9999
        ],
        [
         "74102130",
         "Folha de cobre, om suporte isolante de resina fenólica e papel, dos tipos utilizados para circuitos impressos",
         1205385,
         312624
        ],
        [
         "29362630",
         "Hidroxocobalamina e seus sais, não misturados",
         1190275,
         105
        ],
        [
         "39072991",
         "Poliacetal poliéter (PAPE)",
         1173579,
         728056
        ],
        [
         "29215921",
         "4,4'-Diaminodifenilmetano",
         1170482,
         292925
        ],
        [
         "29214229",
         "Outras cloroanilinas e seus sais",
         1163438,
         354807
        ],
        [
         "84649011",
         "Outras máquinas-ferramentas, de comando numérico, para retificar, fresar e perfurar vidro",
         1158069,
         101400
        ],
        [
         "29309091",
         "Captan",
         1155169,
         256575
        ],
        [
         "29211941",
         "Metildialquilaminas",
         1154187,
         250160
        ],
        [
         "29225011",
         "Cloridrato de fenilefrina",
         1150751,
         6456
        ],
        [
         "29147922",
         "Ácido 2-hidroxi-4-metoxibenzofenona-5-sulfônico (sulisobenzona)",
         1134128,
         32725
        ],
        [
         "28444200",
         "Actínio-225, actínio-227, califórnio-253, cúrio-240, cúrio-241, cúrio-242, cúrio-243, cúrio-244, einstêinio-253, einstêinio-254, gadolínio-148, polônio-208, polônio-209, polônio-210, rádio-223, urânio-230 ou urânio-232, e seus compostos; ligas, dispersões (incluindo os cermets), produtos cerâmicos e misturas que contenham estes elementos ou compostos",
         1133603,
         7
        ],
        [
         "81021000",
         "Pós de molibdênio",
         1133594,
         12112
        ],
        [
         "24049200",
         null,
         1121303,
         8319
        ],
        [
         "28444330",
         "Iodo-131",
         1117663,
         0
        ],
        [
         "28274110",
         "Oxicloretos de cobre",
         1113478,
         156000
        ],
        [
         "32041520",
         "Corante dibenzantrona",
         1113082,
         71004
        ],
        [
         "28369200",
         "Carbonato de estrôncio",
         1111134,
         720227
        ],
        [
         "29394200",
         "Pseudoefedrina (DCI) e seus sais",
         1103153,
         12585
        ],
        [
         "29333934",
         "5-Etil-2,3-dicarboxipiridina (5-EPDC)",
         1097009,
         134585
        ],
        [
         "30049038",
         "Medicamento contendo melfalano, clorambucil, etc, em doses",
         1096637,
         4441
        ],
        [
         "28439020",
         "Tricloreto de rutênio em solução aquosa com uma concentração igual ou superior a 17 %, mas inferior ou igual a 27 %, em peso",
         1088113,
         92
        ],
        [
         "28372029",
         "Outros ferricianetos",
         1085611,
         25188
        ],
        [
         "32065029",
         "Outros produtos inorgânicos utilizados em luminóforos, sem substância radioativa",
         1061194,
         13152
        ],
        [
         "39129010",
         "Propionato de celulose, em forma primária",
         1057082,
         89382
        ],
        [
         "29223921",
         "Cloridrato de ketamina",
         1054830,
         3908
        ],
        [
         "30031013",
         "Medicamento contendo penicilina g benzatínica, exceto em doses",
         1050545,
         8919
        ],
        [
         "35079031",
         "Lisozima e seu cloridrato",
         1046497,
         12008
        ],
        [
         "29362119",
         "Outros derivados da vitamina A1 álcool, não misturados",
         1031414,
         803
        ],
        [
         "85171432",
         "Outros telefones fixos, sem fonte própria de energia, para redes celulares, exceto por satélite",
         1030381,
         18631
        ],
        [
         "47069100",
         "Pastas mecânicas de outras matérias fibrosas celulósicas",
         1007810,
         612014
        ],
        [
         "28053010",
         "Liga de cério, com teor de ferro inferior ou igual a 5 %, em peso (Mischmetal)",
         1002216,
         315200
        ],
        [
         "90183213",
         "Agulhas ponta de lápis, do tipo das utilizadas em anestesia epidural ou raquidiana",
         998897,
         9156
        ],
        [
         "44079100",
         "Madeira de carvalho (Quercus spp.), serrada ou fendida longitudinalmente, cortada transversalmente ou desenrolada, mesmo aplainada, lixada ou unida pelas extremidades, de espessura superior a 6 mm",
         994101,
         583126
        ],
        [
         "29182120",
         "Sais do ácido salicílico",
         978162,
         161388
        ],
        [
         "84453010",
         "Retorcedeiras de matérias têxteis",
         978098,
         75106
        ],
        [
         "29419034",
         "Cefadroxil e seus sais",
         977034,
         12050
        ],
        [
         "29222919",
         "O-aminofenóis, m-aminofenóis e seus sais",
         962436,
         144982
        ],
        [
         "12141000",
         "Farinha e pellets, de alfafa (luzerna)",
         962201,
         3647940
        ],
        [
         "39079993",
         "Copolímero de tereftalato de dimetila, cicloexanodimetanol e ácido isoftálico",
         960237,
         247885
        ],
        [
         "29144091",
         "Benzoína",
         949025,
         266302
        ],
        [
         "28051910",
         "Estrôncio",
         938365,
         102039
        ],
        [
         "84572010",
         "Máquinas de sistema monostático (single station), de comando numérico, para trabalhar metais",
         935769,
         84660
        ],
        [
         "29359024",
         "Tenoxicam",
         935354,
         1312
        ],
        [
         "30042039",
         "Outros medicamentos contendo ansamicinas/derivados, em doses",
         935236,
         2328
        ],
        [
         "55143019",
         "Outros tecidos < 85% fibras descontínuas de poliéster, fios de diversas cores, com algodão",
         931197,
         226963
        ],
        [
         "32072091",
         "Composições vitrificáveis e preparações utilizadas na fabricação de circuito impresso",
         926157,
         157
        ],
        [
         "29336914",
         "Simazina",
         925034,
         140000
        ],
        [
         "38273110",
         "Preparações que contenham clorodifluormetano e pentafluoretano",
         922981,
         246945
        ],
        [
         "25292200",
         "Espatoflúor, que contenha, em peso, mais de 97 % de fluoreto de cálcio",
         913283,
         1299602
        ],
        [
         "55134100",
         "Tecido de poliéster < 85% com algodão, peso <= 170 g/m2,  tafetá, estampado",
         897504,
         317180
        ],
        [
         "84604019",
         "Outras máquinas-ferramentas para brunir metais/ceramais, de comando numérico",
         892488,
         26254
        ],
        [
         "81061000",
         "Bismuto e suas obras, incluindo os desperdícios e resíduos, e sucata, que contenham mais de 99,99 %, em peso, de bismuto",
         885314,
         98194
        ],
        [
         "84483220",
         "Partes e acessórios de penteadoras de matéria têxtil",
         882209,
         14412
        ],
        [
         "29371920",
         "Hcg (gonadotropina corionica)",
         880697,
         0
        ],
        [
         "12092200",
         "Sementes de trevo (Trifolium spp), para semeadura",
         878760,
         164925
        ],
        [
         "29359093",
         "Toluenossulfonamidas",
         857536,
         288003
        ],
        [
         "55094200",
         "Fio de outras fibras sintéticas >=85%, retorcido/retorcido múltiplo",
         856549,
         66630
        ],
        [
         "84552290",
         "Outros laminadores a frio de metais",
         846700,
         133250
        ],
        [
         "29225019",
         "Fenilefrina e seus outros sais",
         844348,
         4917
        ],
        [
         "29222920",
         "Nitroanisidinas e seus sais",
         843567,
         160300
        ],
        [
         "39051910",
         "Acetato de polivinila, com álcool vinílico, em blocos, etc",
         835860,
         427010
        ],
        [
         "84459010",
         "Urdideiras de matéria têxtil",
         834748,
         86154
        ],
        [
         "12059010",
         "Outras sementes de nabo silvestre, para semeadura",
         834063,
         150180
        ],
        [
         "39119025",
         "Polietersulfonas (PES) e seus copolímeros, sem carga, formas primárias",
         832951,
         58342
        ],
        [
         "29036990",
         "Outros derivados halogenados dos hidrocarbonetos aromáticos",
         832252,
         17605
        ],
        [
         "29269012",
         "Cloridrato de verapamil",
         807443,
         5952
        ],
        [
         "39219013",
         "Outras chapas de copolímeros de tetrafluoretileno reforçadas com tecido de fibras de politetrafluoretileno, do tipo utilizado como membranas semipermeáveis em células de eletrólise ",
         802469,
         614
        ],
        [
         "72259910",
         "Outros laminados planos de aços de corte rápido, de largura igual ou superior a 600 mm",
         800022,
         263747
        ],
        [
         "29051922",
         "Metilato de sódio",
         794368,
         271409
        ],
        [
         "30042063",
         "Medicamento contendo pirarubicina, em doses",
         789965,
         306
        ],
        [
         "95082400",
         "Simuladores de movimentos e cinemas dinâmicos",
         785085,
         47066
        ],
        [
         "29182929",
         "Outros sais e ésteres do ácido p-hidroxibenzóico",
         779381,
         134980
        ],
        [
         "29412090",
         "Estreptomicinas, outros derivados e sais",
         773341,
         21512
        ],
        [
         "37024422",
         "Fotopolimerizáveis, sensibilizadas à base de compostos acrílicos, dos tipos utilizados para a fabricação de circuitos impressos, de largura superior a 105 mm, mas não superior a 610 mm",
         771658,
         46182
        ],
        [
         "29335340",
         "Fenobarbital e seus sais",
         769640,
         15380
        ],
        [
         "28273920",
         "Cloreto de titânio",
         767208,
         107544
        ],
        [
         "29339113",
         "Clonazepam",
         762890,
         536
        ],
        [
         "29419013",
         "Rifamicina sv sódica",
         744429,
         1791
        ],
        [
         "29159024",
         "Cloreto de 2-etilexanoila",
         735077,
         205600
        ],
        [
         "29215190",
         "Outros derivados de diaminotulenos e seus sais",
         731632,
         86851
        ],
        [
         "28418010",
         "Tungstato (volframato) de amônio",
         726901,
         20000
        ],
        [
         "29398090",
         "Outros alcalóides, naturais ou reproduzidos por síntese, seus sais, éteres, ésteres e outros derivados",
         719472,
         1921
        ],
        [
         "39206300",
         "Chapas, etc, de poliésteres não saturados, sem suporte, não reforçado",
         711586,
         180377
        ],
        [
         "84303110",
         "Cortadores de carvão ou de rocha, autopropulsados",
         696574,
         102791
        ],
        [
         "29331190",
         "Outras fenazonas (antipirinas) e seus derivados",
         696243,
         58680
        ],
        [
         "53062000",
         "Fios de linho, retorcidos ou retorcidos múltiplos",
         692457,
         34848
        ],
        [
         "54083100",
         "Outros tecidos de filamentos artificiais, crus ou branqueados",
         686570,
         70789
        ],
        [
         "52054800",
         "Fios de algodão contendo ao menos 85 %, em peso,de algodão, não acondicionados para venda a retalho,retorcidos ou retorcidos múltiplos,de fibras penteadas, de título inferior a 83,33 decitex por fio simples (número métrico superior a 120, por fio simples)",
         683368,
         64950
        ],
        [
         "55099200",
         "Fio de outras fibras sintéticas, combinados, principal ou unicamente, com algodão",
         668732,
         93835
        ],
        [
         "29049915",
         "o-Nitroclorobenzeno; m-nitroclorobenzeno",
         666451,
         780030
        ],
        [
         "29183039",
         "Outros sais do ácido deidrocólico",
         666089,
         419373
        ],
        [
         "28091000",
         "Pentóxido de difósforo",
         660574,
         253963
        ],
        [
         "52052600",
         "Fios simples de algodão,de fibras penteadas,que contenham pelo menos 85 %, em peso, de algodão,não acondicionados para venda a retalho, de título inferior a 125 decitex mas não inferior a 106,38 decitex (número métrico superior a 80 mas não superior a 94)",
         647316,
         140384
        ],
        [
         "39079995",
         "Copolímero de tereftalato de dimetila, cicloexanodimetanol e etilenoglicol",
         647293,
         230250
        ],
        [
         "38160021",
         "Preparações refratárias que contenham grafita e 50 % ou mais, em peso, de coríndon",
         645293,
         365594
        ],
        [
         "84593900",
         "Outras mandriladoras-fresadoras de metais, sem comando numérico",
         638645,
         74902
        ],
        [
         "28299011",
         "Bromatos de sódio",
         638528,
         95000
        ],
        [
         "39069051",
         "Poli(ácido acrílico) e seus sais, em blocos irregulares, pedaços, pós, etc",
         637854,
         90466
        ],
        [
         "55031910",
         "Fibras sintéticas descontínuas bicomponentes, de diferentes pontos de fusão",
         636428,
         44756
        ],
        [
         "29319061",
         "Tricloreto de etilalumínio (sesquicloreto de etilalumínio)",
         621632,
         106910
        ],
        [
         "29211929",
         "Outras n-propilaminas, isopropilaminas e seus sais",
         617244,
         176328
        ],
        [
         "03036700",
         "Merluza-do-alasca (Theragra chalcogramma), congelada",
         612294,
         374478
        ],
        [
         "29181610",
         "Gluconato de cálcio",
         612292,
         172895
        ],
        [
         "29339920",
         "Outros compostos heterocíclicos contendo ciclo diazepina (hidrogenado)",
         602876,
         6001
        ],
        [
         "29303090",
         "Tetrassulfetos de tiourama",
         600209,
         92430
        ],
        [
         "92099100",
         "Partes e acessórios de pianos",
         597261,
         67741
        ],
        [
         "48025891",
         "Papéis e cartões de desenho, sem fibras obtidas por processo mecânico ou químico-mecânico ou em que a percentagem destas fibras < 10 %, em peso, do conteúdo total de fibras, de peso > 150 g/m2",
         591928,
         258444
        ],
        [
         "29221952",
         "N,N-Dietil-2-aminoetanol e seus sais protonados",
         590507,
         145050
        ],
        [
         "29202990",
         "Outros ésteres de fosfitos e seus sais; seus derivados halogenados, sulfonados, nitrados ou nitrosados",
         589685,
         129843
        ],
        [
         "29333120",
         "Sais de piridina",
         588325,
         19428
        ],
        [
         "84440090",
         "Outras máquinas para estirar ou texturizar matérias têxteis sintéticas ou artificiais.",
         588027,
         47070
        ],
        [
         "29051921",
         "Etilato de magnésio",
         588017,
         28000
        ],
        [
         "29242932",
         "Propoxur",
         587594,
         36976
        ],
        [
         "29081921",
         "2,4,6-Tribromofenol",
         577789,
         91000
        ],
        [
         "25086000",
         "Mulita",
         573071,
         336593
        ],
        [
         "28249010",
         "Mínio (zarcão) e mínio-laranja (mine-orange)",
         571539,
         210025
        ],
        [
         "70032000",
         "Chapas/folhas armadas, de vidro vazado/laminado",
         569646,
         504118
        ],
        [
         "29051430",
         "Álcool ter-butílico (2-metil-2-propanol)",
         566468,
         404513
        ],
        [
         "28164010",
         "Hidróxido de bário",
         561836,
         212033
        ],
        [
         "54033200",
         "Fio de raiom viscose, com torção superior a 120 voltas por metro",
         559945,
         75147
        ],
        [
         "29280019",
         "Outras acetoximas, seus derivados e seus sais",
         555649,
         62800
        ],
        [
         "84595100",
         "Máquinas-ferramentas para fresar metais, com console, de comando numérico",
         551069,
         33451
        ],
        [
         "32064210",
         "Litopônio",
         548116,
         144000
        ],
        [
         "29071920",
         "o-Fenilfenol e seus sais",
         545994,
         64877
        ],
        [
         "29081990",
         "Outros derivados halogenados e seus sais",
         545329,
         6752
        ],
        [
         "63064090",
         "Colchões pneumáticos, de outras matérias têxteis",
         543104,
         113075
        ],
        [
         "39112000",
         "Poli(1,3-fenileno metilfosfonato)",
         540027,
         458700
        ],
        [
         "55091100",
         "Fio que contenham pelo menos 85 %, em peso, de fibras descontínuas de náilon ou de outras poliamidas, simples",
         536288,
         77633
        ],
        [
         "85176191",
         "Outros aparelhos para emissão, transmissão ou recepção de voz, imagens ou outros dados, digitais, de frequência superior ou igual a 15 GHz e inferior ou igual a 23 GHz e taxa de transmissão inferior ou igual a 8 Mbits/s",
         528910,
         280
        ],
        [
         "28399030",
         "Silicato de zircônio",
         524559,
         87806
        ],
        [
         "29242119",
         "Carbanilidas, seus outros derivados e sais",
         524273,
         29045
        ],
        [
         "32019012",
         "Extrato tanante, de carvalho ou de castanheiro",
         519735,
         190512
        ],
        [
         "29036100",
         "Brometo de metila (bromometano)",
         514360,
         66580
        ],
        [
         "84295290",
         "Outras máquinas escavadoras, etc, cuja superestrutura é capaz de efetuar uma rotação de 360°",
         511802,
         67252
        ],
        [
         "56039120",
         "Outros falsos tecidos de polipropileno, de peso não superior a 25 g/m2",
         501582,
         153990
        ],
        [
         "74094090",
         "Outras chapas e tiras de ligas à base de cobre-níquel (cuproníquel) ou de cobre-níquel-zinco (maillechort), de espessura superior a 0,15 mm",
         500949,
         12927
        ],
        [
         "28020000",
         "Enxofre sublimado ou precipitado; enxofre coloidal",
         498866,
         863001
        ],
        [
         "29411043",
         "Penicilina G procaínica",
         492733,
         14159
        ],
        [
         "84594100",
         "Outras máquinas para mandrilar (escarear), de comando numérico",
         490314,
         61500
        ],
        [
         "29349925",
         "Citarabina",
         488952,
         180
        ],
        [
         "84424020",
         "Partes de máquinas, aparelhos e equipamentos, de compor caracteres tipográficos por outros processos, mesmo com dispositivo de fundir",
         488288,
         5345
        ],
        [
         "90281011",
         "Contadores de gás natural comprimido eletrônico, para postos de serviço",
         487362,
         3630
        ],
        [
         "28054000",
         "Mercúrio",
         483934,
         12006
        ],
        [
         "29359092",
         "Gliburida",
         481199,
         2345
        ],
        [
         "52052700",
         "Fios simples de algodão,de fibras penteadas,que contenham pelo menos 85 %,em peso,de algodão,não acondicionados para venda a retalho,de título inferior a 106,38 decitex mas não inferior a 83,33 decitex (número métrico superior a 94 mas não superior a 120)",
         475153,
         71115
        ],
        [
         "29332121",
         "Fenitoína e seu sal sódico",
         475021,
         9628
        ],
        [
         "28121700",
         "Cloreto de tionila",
         465412,
         411801
        ],
        [
         "23012090",
         "Farinhas, pós e pellets, de crustáceos, de moluscos ou de outros invertebrados aquáticos, impróprios para alimentação humana",
         461872,
         157130
        ],
        [
         "39119027",
         "Cloreto de hexadimetrina",
         457115,
         39000
        ],
        [
         "84483929",
         "Partes e acessórios de outras máquinas de bobinar ou de dobar",
         455194,
         5699
        ],
        [
         "84454012",
         "Bobinadeiras automáticas para fios elastanos",
         454981,
         30111
        ],
        [
         "29333925",
         "Ácido 2-(2metil-3cloroanilino) nicotínico/sal de lisina",
         450537,
         4000
        ],
        [
         "39089010",
         "Copolímero de lauril-lactama, em forma primária",
         450287,
         60304
        ],
        [
         "85399020",
         "Bases para lâmpadas/tubos elétricos, de incandescência, etc.",
         448427,
         18572
        ],
        [
         "84581110",
         "Tornos horizontais para trabalhar metais, com comando numérico tipo revólver",
         444732,
         36495
        ],
        [
         "29362320",
         "5'-Fosfato sódico de vitamina B2 (5'-fosfato sódico de riboflavina), não misturado",
         444066,
         3715
        ],
        [
         "29419019",
         "Outras rifamicinas, seus derivados e sais destes produtos",
         443987,
         514
        ],
        [
         "39069062",
         "Copolímeros de acrilato de metila-etileno com um conteúdo de acrilato de metila igual ou superior a 50 %, em peso, em blocos irregulares, pedaços, pós, etc",
         442326,
         45321
        ],
        [
         "28332950",
         "Sulfato neutro de chumbo",
         438728,
         74604
        ],
        [
         "52054400",
         "Fios de algodão contendo ao menos 85 %,em peso,de algodão,não acondicionados para venda a retalho, retorcidos ou retorcidos múltiplos, fibras penteadas, título < 192,31 decitex mas > 125 decitex,por fio simples (número métrico > 52 mas <  80, fio simples)",
         432291,
         97319
        ],
        [
         "72139910",
         "Outros fios-máquina de ferro ou aço não ligado, com um teor de carbono superior ou igual a 0,6 %, em peso",
         430321,
         308221
        ],
        [
         "29214239",
         "Outras nitroanilinas e seus sais",
         429568,
         157834
        ],
        [
         "65020010",
         "Esboços de chapéus, entrançados ou obtidos por reunião de tiras de qualquer matéria, sem copa nem aba enformadas e sem guarnições, de palha fina (manila, panamá e semelhantes)",
         428317,
         5549
        ],
        [
         "29215131",
         "N,N'-Di-sec-butil-p-fenilenodiamina",
         428092,
         79040
        ],
        [
         "55029090",
         "Outros cabos de filamentos artificiais",
         424914,
         36000
        ],
        [
         "30059011",
         "Pensos reabsorvíveis, de ácido poliglicólico",
         424382,
         1421
        ],
        [
         "84768100",
         "Máquinas automáticas para venda de alimentos, com dispositivo de aquecimento ou de refrigeração incorporado",
         422482,
         45538
        ],
        [
         "29372229",
         "Triancinolona e outros derivados",
         417520,
         77
        ],
        [
         "95082210",
         "Carrosséis, mesmo dotados de dispositivo de elevação, de diâmetro inferior a 16 m",
         416940,
         63519
        ],
        [
         "44079200",
         "Madeira de faia (Fagus spp.), serrada ou fendida longitudinalmente, cortada transversalmente ou desenrolada, mesmo aplainada, lixada ou unida pelas extremidades, de espessura superior a 6 mm",
         415690,
         358264
        ],
        [
         "20087020",
         "Pêssegos, incluindo as nectarinas, preparados ou conservados em água, polpa com valor Brix igual ou superior a 20",
         414185,
         264928
        ],
        [
         "84293000",
         "Raspo-transportadores, autopropulsores",
         413142,
         11892
        ],
        [
         "54041911",
         "Imitações de categute, reabsorvíveis",
         410134,
         1238
        ],
        [
         "29181320",
         "Ésteres do ácido tartárico",
         409115,
         33753
        ],
        [
         "54025190",
         "Fio de náilon/outras poliamidas, simples, com torção superior a 50 voltas por metro",
         404403,
         69451
        ],
        [
         "29419036",
         "Cefoxitina e seus sais",
         401148,
         722
        ],
        [
         "29252921",
         "Guanidina",
         400850,
         92681
        ],
        [
         "86040010",
         "Veículos para inspeção e manutenção de vias férreas ou semelhantes, autopropulsados, equipados com batedores de balastro e alinhadores de vias férreas",
         395972,
         65845
        ],
        [
         "50050000",
         "Fios de desperdícios de seda, não acondicionados para venda a retalho",
         394970,
         2255
        ],
        [
         "29349961",
         "Cloridrato de tizanidina",
         394815,
         22
        ],
        [
         "44188300",
         "Vigas em I, de madeira",
         393640,
         254331
        ],
        [
         "27040090",
         "Semicoques de hulha, linhita ou turfa, carvão de retorta",
         387458,
         796719
        ],
        [
         "29199060",
         "Clorfenvinfós",
         379450,
         13500
        ],
        [
         "74082912",
         "Fios de ligas de cobre-estanho (bronze) fosforoso de seção transversal circular, de diâmetro inferior ou igual a 0,8 mm",
         379236,
         33959
        ],
        [
         "39045010",
         "Copolímeros de cloreto de vinilideno, sem emulsionante nem plastificante",
         379208,
         141600
        ],
        [
         "38237040",
         "Álcool cetílico (álcool graxo industrial)",
         377467,
         169192
        ],
        [
         "28121200",
         "Oxicloreto de fósforo",
         375431,
         54000
        ],
        [
         "37021020",
         "Filmes para raios X, sensibilizados em ambas as faces, não impressionados, em rolos",
         374248,
         18104
        ],
        [
         "85021290",
         "Outros grupos eletrogêneos de motor de pistão, de ignição por compressão (motores diesel ou semidiesel), de potência superior a 75 kVA, mas não superior a 375 kVA",
         372459,
         64695
        ],
        [
         "29224963",
         "Diclofenaco de dietilamônio",
         367142,
         12047
        ],
        [
         "84551000",
         "Laminadores de tubos, de metais",
         359545,
         25923
        ],
        [
         "29339955",
         "Flubendazol",
         358476,
         4000
        ],
        [
         "48061000",
         "Papel-pergaminho e cartão-pergaminho (sulfurizados), em rolos ou em folhas",
         358217,
         73938
        ],
        [
         "38249924",
         "Ésteres de álcoois graxos de C12 a C20 do ácido metacrílico e suas misturas; ésteres de ácidos monocarboxílicos de C10 ramificados com glicerol",
         354541,
         55035
        ],
        [
         "38249987",
         "Dispersão aquosa de microcápsulas de poliuretano ou de melamina-formaldeído contendo um precursor de corante em solventes orgânicos",
         353600,
         23630
        ],
        [
         "29214429",
         "Outros derivados da difenilamina e seus sais",
         353163,
         42630
        ],
        [
         "91021290",
         "Outros relógios de pulso, funcionando eletricamente, de mostrador exclusivamente optoeletrônico",
         352208,
         3380
        ],
        [
         "84433238",
         "Outras impressoras, com largura de impressão superior a 420 mm",
         349681,
         15612
        ],
        [
         "85407900",
         "Outros tubos para microondas",
         349567,
         898
        ],
        [
         "29342034",
         "2-(4-Morfoliniltio)benzotiazol (N-oxidietileno-benzotiazol-sulfenamida)",
         349233,
         70001
        ],
        [
         "29034300",
         "Triclorotrifluoretanos",
         349174,
         59369
        ],
        [
         "29309093",
         "Metileno-bis-tiocianato",
         348899,
         15012
        ],
        [
         "75051129",
         "Outros perfis de níquel não ligado",
         348723,
         13875
        ],
        [
         "41062121",
         "Couros e peles, depilados, de caprinos, no estado úmido (incluindo wet-blue), pré-curtidos ao cromo (wet-blue)",
         344855,
         122651
        ],
        [
         "29396952",
         "Metanossulfonato de diidroergocristina",
         343737,
         31
        ],
        [
         "84463020",
         "Teares para tecidos de largura superior a 30 cm, sem lançadeira, a jato d'água",
         342718,
         65990
        ],
        [
         "30059012",
         "Pensos reabsorvíveis de copolímero de ácido glicólico/láctico",
         339544,
         1036
        ],
        [
         "29173700",
         "Tereftalato de dimetila",
         339433,
         167042
        ],
        [
         "55103011",
         "Outros fios de fibras artificiais descontínuas, combinados, principal ou unicamente, com algodão, obtidos a partir de fibras de celulose, de raiom viscose, exceto modal",
         337718,
         74306
        ],
        [
         "30042021",
         "Medicamento contendo eritromicina ou seus sais, em doses",
         337427,
         3027
        ],
        [
         "39207390",
         "Outras chapas, etc, de acetatos de celulose, não reforçada",
         336554,
         57674
        ],
        [
         "29315400",
         "Triclorfom (ISO)",
         335275,
         93500
        ],
        [
         "28273993",
         "Cloreto de cromo",
         329224,
         49339
        ],
        [
         "29242931",
         "Carbaril",
         328552,
         37650
        ],
        [
         "29333399",
         "Sais de piritramida, propiram ou trimeperidina",
         327864,
         30
        ],
        [
         "39059910",
         "Poli (vinilformal)",
         327289,
         28050
        ],
        [
         "88061000",
         null,
         324246,
         429
        ],
        [
         "29214219",
         "Outros ácidos aminobenzenossulfônicos e seus sais",
         324122,
         102369
        ],
        [
         "48045910",
         "Papel Kraft de peso igual ou superior a 225 g/m2, semibranqueados, com um conteúdo de 100 %, em peso, de fibras de madeira obtidas por processo químico, em rolos ou em folhas",
         319784,
         117570
        ],
        [
         "52062200",
         "Fios simples de algodão, de fibras penteadas, que contenham menos de 85 %, em peso, de algodão, não acondicionados para venda a retalho, de título < 714,29 decitex mas não inferior a 232,56 decitex (número métrico superior a 14 mas não superior a 43)",
         319449,
         147283
        ],
        [
         "91091000",
         "Maquinismos de artigos de relojoaria, completos e montados, exceto de pequeno volume, funcionando eletricamente",
         319158,
         17888
        ],
        [
         "84223023",
         "Máquinas e aparelhos para encher e fechar recipientes tubulares flexíveis (bisnagas), com capacidade superior ou igual a 100 unidades por minuto",
         316895,
         18601
        ],
        [
         "16041700",
         "Preparações e conservas, de enguias",
         315830,
         9120
        ],
        [
         "68159911",
         "Obras de pedras eletrofundidas, com um teor de alumina (Al2O3), superior ou igual a 90 %, em peso",
         315668,
         77016
        ],
        [
         "68159919",
         "Outras obras de pedras/matérias minerais, eletrofundidas",
         312899,
         99215
        ],
        [
         "60052200",
         "Tecidos de malha-urdidura (incluindo os fabricados em teares para galões), exceto os das posições 60.01 a 60.04, de algodão, tintos",
         312073,
         29158
        ],
        [
         "55101211",
         "Fios que contenham pelo menos 85 %, em peso, de fibras artificiais descontínuas, retorcidos ou retorcidos múltiplos, obtidos a partir de fibras de celulose, de raiom viscose, exceto modal",
         309429,
         85949
        ],
        [
         "97053900",
         " Outras coleções e peças de coleção que apresentem um interesse numismático, não classificados em códigos anteriores",
         306263,
         93
        ],
        [
         "28372090",
         "Outros cianetos complexos",
         303084,
         327
        ],
        [
         "90183923",
         "Cateteres de poli(cloreto de vinila), para termodiluição",
         298546,
         1639
        ],
        [
         "29214500",
         "1-Naftilamina (alfa-naftilamina), 2-naftilamina (beta-naftilamina), e seus derivados; sais destes produtos",
         296125,
         45789
        ],
        [
         "38249951",
         "Antiespumantes contendo fosfato de tributila em solução de álcool isopropílico",
         295560,
         29982
        ],
        [
         "29335914",
         "Flunarizina e seu dicloridrato",
         295520,
         1920
        ],
        [
         "15041019",
         "Outros óleos de fígados de bacalhau",
         293827,
         30434
        ],
        [
         "29396921",
         "Mesilato de diidroergotamina",
         285445,
         49
        ],
        [
         "84433222",
         "Impressoras de impacto, de caracteres braille",
         281678,
         1207
        ],
        [
         "29215911",
         "3, 3'-diclorobenzidina",
         280436,
         99600
        ],
        [
         "54023290",
         "Fios texturizados de outras poliamidas, de título superior a 50 tex por fio simples",
         273009,
         66692
        ],
        [
         "78041100",
         "Folhas e tiras, de chumbo, de espessura não superior a 0,2 mm (excluindo o suporte)",
         272550,
         2639
        ],
        [
         "29342039",
         "Outros benzotiazois-sulfenamidas",
         269690,
         11176
        ],
        [
         "29221981",
         "Tartarato",
         269096,
         5452
        ],
        [
         "28254010",
         "Óxido niqueloso",
         267154,
         9625
        ],
        [
         "07095600",
         "Trufas (Tuber spp.)",
         266925,
         697
        ],
        [
         "29214910",
         "Cloridrato de fenfluramina",
         266048,
         3
        ],
        [
         "55141990",
         "Outros tecidos < 85% fibra sintética descontínua cru/branqueado, com algodão",
         265256,
         24734
        ],
        [
         "30044910",
         "Vimblastina; vincristina; derivados destes produtos; topotecan ou seu cloridrato, apresentados em doses (incluindo os destinados a serem administrados por via percutânea) ou acondicionados para venda a retalho",
         264885,
         547
        ],
        [
         "85013411",
         "Motor elétrico de corrente contínua, de potência inferior ou igual a 3.000 kW",
         262892,
         14297
        ],
        [
         "29034600",
         "Bromoclorodifluormetano, bromotrifluormetano, etc.",
         261331,
         25071
        ],
        [
         "29051993",
         "Isotridecanol",
         258749,
         122360
        ],
        [
         "12129200",
         "Cana-de-açúcar fresca, refrigerada, congelada, seca, em pó",
         257457,
         87100
        ],
        [
         "84619010",
         "Outras máquinas-ferramentas que trabalhem por eliminação de metal ou de ceramais (cermets), não especificadas nem compreendidas noutras posições, de comando numérico",
         251762,
         12413
        ],
        [
         "84472030",
         "Máquinas de costura por entrelaçamento (couture-tricotage)",
         251336,
         42027
        ],
        [
         "84483921",
         "Partes e acessórios de bobinadeiras de trama",
         250456,
         36445
        ],
        [
         "28259010",
         "Óxido de cádmio",
         250335,
         31500
        ],
        [
         "30031014",
         "Medicamento contendo penicilina g potássica, exceto em doses",
         250061,
         4001
        ],
        [
         "29349915",
         "4, 4'-ditiodimorfolina",
         248685,
         69600
        ],
        [
         "29214921",
         "2, 4-xilidina e seus sais",
         246133,
         64000
        ],
        [
         "29071510",
         "beta-Naftol e seus sais",
         241536,
         112133
        ],
        [
         "30021222",
         "Outras imunoglobulinas séricas",
         241498,
         661
        ],
        [
         "29094910",
         "Guaifenesina",
         239705,
         17450
        ],
        [
         "84453090",
         "Outras máquinas para dobragem ou torção, de matérias têxteis",
         237509,
         23180
        ],
        [
         "90021120",
         "Lentes objetivas montadas, de aproximação (zoom) para câmeras de televisão, de 20 ou mais aumentos",
         236688,
         123
        ],
        [
         "29339954",
         "Mebendazol",
         234996,
         7322
        ],
        [
         "84522923",
         "Máquinas tipo zigue-zague para inserir elástico, não automática",
         232785,
         25205
        ],
        [
         "40022010",
         "Óleo de borracha de butadieno (br)",
         230406,
         183037
        ],
        [
         "40028000",
         "Misturas de borracha natural com borracha sintética, etc",
         229625,
         30582
        ],
        [
         "27021000",
         "Linhitas, mesmo em pó, mas não aglomeradas",
         227738,
         108815
        ],
        [
         "85423320",
         "Outros circuitos integrados monolíticos, não montados",
         227237,
         130
        ],
        [
         "55103013",
         "Outros fios de fibras artificiais descontínuas, combinados, principal ou unicamente, com algodão, obtidos a partir de fibras de celulose, de liocel",
         227230,
         57982
        ],
        [
         "29224959",
         "Outros sais e derivados de alfa-fenilglicina",
         226223,
         11491
        ],
        [
         "03036800",
         "Verdinhos (Micromesistius poutassou, Micromesistius australis), congelados (exceto filés, outras carnes)",
         224294,
         133343
        ],
        [
         "29222911",
         "P-aminofenol",
         224253,
         9238
        ],
        [
         "30043933",
         "Medicamento contendo estriol ou seu succinato, em doses",
         219914,
         769
        ],
        [
         "52063100",
         "Fios retorcidos ou retorcidos múltiplos de algodão, de fibras não penteadas, que contenham menos de 85 %, em peso, de algodão, não acondicionados para venda a retalho, de título igual ou superior a 714,29 decitex (número métrico não superior a 14)",
         219901,
         103682
        ],
        [
         "29339933",
         "Cloridrato de clomipramina",
         219702,
         412
        ],
        [
         "29130090",
         "Outros derivados halogenados, sulfonados, etc, dos aldeídos",
         219345,
         47480
        ],
        [
         "62159000",
         "Gravatas, gravatas-borboletas e plastrons, de outras matérias têxteis",
         215232,
         2063
        ],
        [
         "39081012",
         "Poliamida-12 em líquidos e pastas",
         214754,
         10946
        ],
        [
         "48119011",
         "Papéis/cartões/pasta e mantas de fibras de celulose em tiras ou rolos de largura não superior a 15 cm ou em folhas em que nenhum lado exceda 360 mm, quando não dobradas recobertos de pasta eletrolítica à base de amido modificado, de peso igual ou superior a 75 g/m2, mas não superior a 120 g/m2",
         213817,
         86272
        ],
        [
         "37013039",
         "Outras chapas sensibilizadas por outros procedimentos, cuja dimensão de pelo menos um dos lados seja superior a 255 mm",
         213702,
         12075
        ],
        [
         "29333915",
         "Haloperidol",
         210186,
         526
        ],
        [
         "84433112",
         "Impressora de transferência térmica de cera sólida (por exemplo, solid ink e dye sublimation)",
         207696,
         1018
        ],
        [
         "44189200",
         "Painéis celulares de madeira",
         207451,
         20890
        ],
        [
         "89032100",
         "Barcos à vela, exceto os infláveis, mesmo com motor auxiliar de comprimento não superior a 7,5 m",
         206838,
         2982
        ],
        [
         "29038990",
         "Outros derivados halogênados dos hidrocarbonetos ciclânicos, ciclênicos ou cicloterpênicos",
         206507,
         505
        ],
        [
         "27074000",
         "Naftaleno (produtos da destilação dos alcatrões de hulha)",
         205088,
         175940
        ],
        [
         "27112910",
         "Butanos no estado gasoso",
         204566,
         56609
        ],
        [
         "30042072",
         "Medicamento contendo actinomicinas, em doses",
         204436,
         68
        ],
        [
         "84829111",
         "Esferas de aço calibradas, para carga de canetas esferográficas",
         203294,
         1130
        ],
        [
         "30049048",
         "Medicamento contendo carmustina/lomustina, etc, em doses",
         202827,
         1074
        ],
        [
         "85437050",
         "Simulador de antenas para transmissores com potência igual ou superior a 25 kW (carga fantasma)",
         201974,
         1401
        ],
        [
         "55109012",
         "Outros fios de fibras artificiais descontínuas, obtidos a partir de fibras de celulose, de modal",
         201951,
         14589
        ],
        [
         "28258090",
         "Outros óxidos de antimônio",
         199701,
         31966
        ],
        [
         "85143100",
         "Fornos de feixe de elétrons",
         198480,
         6935
        ],
        [
         "29335931",
         "Propiltiouracil",
         197229,
         1300
        ],
        [
         "29162013",
         "Aletrinas",
         196752,
         5240
        ],
        [
         "29225091",
         "N-(1-(Metoxicarbonil)propen-2-il)-alfa-amino-p-hidroxifenilacetato de sódio (NAPOH)",
         193317,
         4000
        ],
        [
         "29398000",
         "Outros alcalóides, naturais ou reproduzidos por síntese, seus sais, éteres, ésteres e outros derivados",
         193268,
         262
        ],
        [
         "29331919",
         "Outras fenilbutazonas e seus sais",
         191961,
         3702
        ],
        [
         "84733033",
         "Cabeças magnéticas para unidades de discos ou de fitas",
         188992,
         292
        ],
        [
         "29037912",
         "Clorotetrafluoroetanos",
         186863,
         12531
        ],
        [
         "29302023",
         "Dibutilditiocarbamato de zinco",
         186687,
         63050
        ],
        [
         "55011000",
         "Cabos de náilon ou de outras poliamidas",
         185800,
         16100
        ],
        [
         "84553020",
         "Cilindros de laminadores, forjados, de aço de corte rápido, com um teor, em peso, de carbono >= 0,80 % e <= 0,90 %, de cromo >= 3,50 % e <=4 %, de vanádio >= 1,60 % e <= 2,30 %, de molibdênio <= 8,50 % e de tungstênio (volfrâmio) inferior ou igual a 7 %",
         185102,
         8988
        ],
        [
         "37023200",
         "Outros filmes, não perfurados, de largura não superior a 105 mm, que contenham uma emulsão de halogenetos de prata",
         181992,
         1688
        ],
        [
         "44079930",
         "Madeira de guaiuvira (Patagonula americana), serrada ou fendida longitudinalmente, cortada transversalmente ou desenrolada, mesmo aplainada, lixada ou unida pelas extremidades, de espessura superior a 6 mm",
         181884,
         304586
        ],
        [
         "72166910",
         "Outros perfis de ferro ou aço não ligado, obtidos ou completamente acabados a frio, de altura inferior a 80 mm",
         181114,
         98981
        ],
        [
         "95081000",
         "Circos ambulantes e coleções de animais ambulantes",
         179720,
         13937
        ],
        [
         "29224964",
         "Diclofenaco",
         178715,
         1846
        ],
        [
         "29182220",
         "Ésteres do ácido o-acetilsalicílico",
         177706,
         29459
        ],
        [
         "07123400",
         "Shitake (Lentinus edodes), secos ou ainda triturados ou em pó",
         175085,
         25282
        ],
        [
         "29171921",
         "Ácido maleico",
         173909,
         21988
        ],
        [
         "29147921",
         "Bissulfito sódico de menadiona",
         173029,
         15695
        ],
        [
         "84522921",
         "Remalhadeiras para costurar tecidos, não automáticas",
         171827,
         3785
        ],
        [
         "29173911",
         "Ésteres do ácido m-ftálico",
         171611,
         107500
        ],
        [
         "29339993",
         "Clofazimina",
         171162,
         366
        ],
        [
         "56039310",
         "Outros falsos tecidos de polietileno de alta densidade, de peso superior a 70 g/m2 mas não superior a 150 g/m2",
         170750,
         36375
        ],
        [
         "29153962",
         "Acetato de triclorometilfenilcarbinila",
         169806,
         30275
        ],
        [
         "29339941",
         "Clemastina e seus derivados; sais destes produtos",
         169236,
         23
        ],
        [
         "30044950",
         "Granisetron; tropisetrona ou seu cloridrato, apresentados em doses (incluindo os destinados a serem administrados por via percutânea) ou acondicionados para venda a retalho",
         167598,
         394
        ],
        [
         "55101113",
         "Fios que contenham pelo menos 85 %, em peso, de fibras artificiais descontínuas, obtidos a partir de fibras de celulose, simples, de liocel",
         164330,
         130498
        ],
        [
         "84451925",
         "Abridoras de outras fibras têxteis vegetais",
         163608,
         11760
        ],
        [
         "84490099",
         "Partes de máquinas e aparelhos para fabricação e acabamento de feltros, etc",
         160698,
         8575
        ],
        [
         "28209030",
         "Tetraóxido de trimanganês (óxido salino de manganês)",
         152107,
         42000
        ],
        [
         "29339132",
         "Flunitrazepam",
         152093,
         20
        ],
        [
         "29214421",
         "n-Octildifenilamina",
         151850,
         33520
        ],
        [
         "29061200",
         "Cicloexanol, metilcicloexanóis e dimetilcicloexanóis",
         151673,
         13155
        ],
        [
         "69021011",
         "Tijolos ou placas refratárias, contendo, em peso, mais de 90 % de trióxido de dicromo",
         150899,
         35330
        ],
        [
         "29359015",
         "Sulfametazina (4,6-dimetil-2-sulfanilamidopirimidina) e seu sal sódico",
         149967,
         16500
        ],
        [
         "29302011",
         "Eptc (tiocarbamato)",
         149785,
         58000
        ],
        [
         "52052800",
         "Fios simples de algodão, de fibras penteadas, que contenham pelo menos 85 %, em peso, de algodão, não acondicionados para venda a retalho, de título inferior a 83,33 decitex (número métrico superior a 120)",
         149654,
         23466
        ],
        [
         "29299019",
         "Outros ácidos ciclâmicos e seus sais",
         148531,
         4670
        ],
        [
         "29214410",
         "Difenilamina e seus sais",
         147435,
         12663
        ],
        [
         "29215120",
         "Derivados sulfonados das fenilenodiaminas e de seus derivados; sais destes produtos",
         146895,
         12427
        ],
        [
         "29414020",
         "Tianfenicol e seus ésteres",
         146197,
         4350
        ],
        [
         "37024410",
         "Filmes de largura superior a 105 mm, mas não superior a 610 mm, sensibilizado, não impressionado, para fotografia a cores (policromo)",
         146183,
         31115
        ],
        [
         "29214929",
         "Outras xilidinas, seus derivados e seus sais",
         145782,
         21350
        ],
        [
         "85419020",
         "Coberturas para encapsulamento (cápsulas)",
         145640,
         228
        ],
        [
         "29211300",
         "Cloridrato de 2-cloroetil(N,N-dietilamina)",
         145319,
         6000
        ],
        [
         "84709090",
         "Outras máquinas de franquear, emitir tíquetes e máquinas semelhantes",
         144924,
         16341
        ],
        [
         "84433116",
         "Outras impressoras com largura de impressão > 420 mm",
         144195,
         8234
        ],
        [
         "54023211",
         "Multifilamento com efeito antiestático permanente, de título superior a 110 tex",
         144034,
         27315
        ],
        [
         "14012000",
         "Rotins para cestaria ou espartaria",
         142509,
         4041
        ],
        [
         "17026010",
         "Frutose que contenha, em peso, no estado seco, um teor de frutose (levulose) superior a 50 %, com exceção do açúcar invertido",
         142414,
         25500
        ],
        [
         "25201020",
         "Anidrita",
         141651,
         607544
        ],
        [
         "84773010",
         "Máquinas para fabricação de recipientes termoplásticos de capacidade inferior ou igual a 5 litros, com uma produção inferior ou igual a 1.000 unidades por hora, referente a recipiente de 1 litro",
         141075,
         32686
        ],
        [
         "91081900",
         "Outros maquinismos de pequeno volume para relógios, completos e montados, funcionando eletricamente",
         140665,
         368
        ],
        [
         "29349922",
         "Zidovudina (AZT)",
         139026,
         8904
        ],
        [
         "84612010",
         "Máquinas-ferramentas para escatelar engrenagens",
         137762,
         22805
        ],
        [
         "56050010",
         "Fios metálicos e fios metalizados, mesmo revestidos por enrolamento, constituídos por fios têxteis,lâminas ou formas semelhantes das posições 5404/5405,combinados com metal sob a forma de fios,de lâminas ou pós,ou recobertos de metal, com metais preciosos",
         137529,
         15211
        ],
        [
         "85322120",
         "Outros condensadores fixos eletrolítico, de tântalo, próprios para montagem por inserção (PHP - Pin Through Hole)",
         136927,
         7115
        ],
        [
         "29359022",
         "Ftalilsulfatiazol",
         136309,
         2337
        ],
        [
         "29312000",
         "Compostos de tributilestanho",
         135466,
         4635
        ],
        [
         "85323010",
         "Condensadores variáveis ou ajustáveis, próprios para montagem em superfície (SMD - Surface Mounted Device), elétricos",
         133556,
         5447
        ],
        [
         "85437031",
         "Geradores de efeitos especiais com manipulação em 2 ou 3 dimensões, mesmo combinados com dispositivo de comutação, de mais de 10 entradas de áudio ou de vídeo",
         132418,
         695
        ],
        [
         "88062900",
         "Outros veículos aéreos (aeronaves) não tripulados, concebidos unicamente para serem pilotados remotamente, não classificados em códigos anteriores",
         132398,
         124
        ],
        [
         "29214319",
         "Outras toluidinas e seus sais",
         132319,
         6990
        ],
        [
         "29141950",
         "Metilisopropilcetona",
         132158,
         10484
        ],
        [
         "29094922",
         "Tetraetilenoglicol",
         131577,
         60177
        ],
        [
         "84632010",
         "Máquinas para fazer roscas internas ou externas por laminagem, de comando numérico",
         131539,
         17158
        ],
        [
         "15121920",
         "Outros óleos de cártamo",
         131420,
         19304
        ],
        [
         "29053920",
         "Trimetilenoglicol (1, 3-propanodiol)",
         130978,
         17728
        ],
        [
         "84072910",
         "Outros motores de explosão, para embarcação, monocilíndricos",
         130822,
         27457
        ],
        [
         "84433119",
         "Outras impressoras com capacidade de impressão <= 45 páginas por minuto",
         130479,
         7741
        ],
        [
         "86069900",
         "Outros vagões para transporte de mercadorias sobre vias férreas",
         130142,
         30730
        ],
        [
         "35029090",
         "Outras albuminas, albuminatos e outros derivados das albuminas",
         128377,
         136
        ],
        [
         "29214321",
         "3-Nitro-4-toluidina e seus sais",
         128189,
         25200
        ],
        [
         "84531010",
         "Máquinas para dividir couros com largura útil inferior ou igual a 3.000 mm, com lâmina sem fim, com controle eletrônico programável",
         128160,
         11088
        ],
        [
         "29214249",
         "Outras cloronitroanilinas e seus sais",
         128124,
         6750
        ],
        [
         "82149010",
         "Máquinas de tosquiar e suas partes, de metais comuns",
         127498,
         40906
        ],
        [
         "78042000",
         "Pós e escamas de chumbo",
         127020,
         44220
        ],
        [
         "29333944",
         "Nitrendipina",
         125620,
         430
        ],
        [
         "60029020",
         "Outros tecidos de malha fibra sintética/artificial, largura <=30 cm",
         124804,
         47815
        ],
        [
         "29039120",
         "o-Diclorobenzeno",
         124516,
         80160
        ],
        [
         "29182910",
         "Ácido hidroxinaftóico",
         124470,
         42000
        ],
        [
         "53082000",
         "Fios de cânhamo",
         123983,
         10328
        ],
        [
         "54083300",
         "Outros tecidos de filamentos artificiais, de fios de diversas cores",
         122434,
         6231
        ],
        [
         "95063100",
         "Tacos completos para golfe",
         121934,
         1816
        ],
        [
         "29372940",
         "Mesterolona e seus derivados",
         121291,
         72
        ],
        [
         "87043120",
         "Veículos automóveis com motor à explosão/caixa basculante, de peso em carga máxima não superior a 5 toneladas",
         119622,
         2465
        ],
        [
         "54031000",
         "Fio de alta tenacidade, de raiom viscose",
         118878,
         8790
        ],
        [
         "54023190",
         "Fio texturizado, de outras poliamidas, tinto, de título igual ou inferior a 50 tex por fio simples",
         118748,
         29410
        ],
        [
         "63063010",
         "Velas para embarcações, para pranchas a vela ou para carros a vela, de fibras sintéticas",
         117665,
         978
        ],
        [
         "84069021",
         "Palhetas fixas (de estator), de turbinas a vapor",
         117281,
         177
        ],
        [
         "84561211",
         "Máquinas-ferramentas que trabalhem por eliminação de qualquer matéria, que operem por outro feixe de luz ou de fótons, de comando numérico, para corte de chapas metálicas de espessura superior a 8 mm",
         114950,
         15967
        ],
        [
         "29280020",
         "Carbidopa",
         114738,
         177
        ],
        [
         "85437012",
         "Amplificadores de radiofrequência, para recepção de sinais de micro-ondas de baixo ruído (LNA) na banda de 3.600 a 4.200 MHz, com temperatura menor ou igual a 55 Kelvin, para telecomunicações via satélite",
         114679,
         90
        ],
        [
         "59041000",
         "Linóleos, mesmo recortados",
         112784,
         35938
        ],
        [
         "47063000",
         "Outras pastas de fibras obtidas de bambu",
         111959,
         52219
        ],
        [
         "55129110",
         "Tecido de fibras de aramida, crus ou branqueados",
         111755,
         696
        ],
        [
         "29091910",
         "Éter metil-ter-butílico (MTBE)",
         110942,
         8581
        ],
        [
         "29214931",
         "Sulfato de tranilcipromina",
         109902,
         22
        ],
        [
         "29333110",
         "Piridina",
         109670,
         11530
        ],
        [
         "39092021",
         "Melamina-formaldeído, sem carga, em pó",
         109158,
         29750
        ],
        [
         "82071900",
         "Outras ferramentas de perfuração ou de sondagem, de metais comuns, inclusive partes",
         109003,
         3669
        ],
        [
         "84672991",
         "Cortadoras de tecidos, com motor elétrico incorporado",
         108406,
         3380
        ],
        [
         "81123900",
         "Obras e outros produtos de háfnio (céltio)",
         107948,
         34
        ],
        [
         "29314500",
         "Sal do ácido metilfosfônico e de (aminoiminometil)ureia (1:1)",
         107595,
         16200
        ],
        [
         "38170020",
         "Misturas de alquilnaftalenos",
         107060,
         21567
        ],
        [
         "03089000",
         "Outros invertebrados aquáticos, exceto crustáceos e moluscos, congelado, seco, etc",
         106798,
         3589
        ],
        [
         "29269093",
         "Closantel",
         106659,
         1550
        ],
        [
         "29333371",
         "Metilfenidato",
         105720,
         0
        ],
        [
         "39069052",
         "Sal sódico do poli(ácido acrilamídico), solúvel em água, em blocos irregulares, pedaços, pós, etc",
         105474,
         27475
        ],
        [
         "55141910",
         "Outros tecidos < 85% fibra descontínuas poliéster, cru/branqueado, com algo",
         102957,
         31293
        ],
        [
         "29391181",
         "Oxicodona e seus sais",
         102429,
         56
        ],
        [
         "74082913",
         "Outros fios de ligas de cobre-estanho (bronze) fosforosos",
         101517,
         3766
        ],
        [
         "51052999",
         "Outras lãs penteadas",
         100932,
         8689
        ],
        [
         "51123010",
         "Outros, combinados, principal ou unicamente, com fibras sintéticas ou artificiais descontínuas, de lã",
         100896,
         1693
        ],
        [
         "55096100",
         "Fio de fibras acrílicas ou modacrílicas, combinadas, principal ou unicamente, com lã ou pelos finos",
         100787,
         7785
        ],
        [
         "29214630",
         "Dexanfetamina e seus sais",
         100666,
         34
        ],
        [
         "28419050",
         "Plumbatos",
         100607,
         12000
        ],
        [
         "28461090",
         "Outros compostos de cério",
         100124,
         14055
        ],
        [
         "90029010",
         "Comutadores (switches) optomecânicos, do tipo utilizado em redes ópticas de transmissão de dados, próprios para montagem por inserção (PTH -Pin Through Hole)",
         99280,
         306
        ],
        [
         "29042010",
         "Mononitrotoluenos (MNT)",
         96873,
         26006
        ],
        [
         "60024090",
         "Tecidos de malha de largura não superior a 30 cm, que contenham, em peso, 5 % ou mais de fios de elastômeros, mas que não contenham fios de borracha, exceto os da posição 60.01, de outras matérias têxteis",
         96574,
         1121
        ],
        [
         "55163300",
         "Tecidos que contenham menos de 85 %, em peso, de fibras artificiais descontínuas, combinadas, principal ou unicamente, com lã ou pelos finos, de fios de diversas cores",
         96357,
         15966
        ],
        [
         "28415014",
         "Dicromato de potássio",
         96024,
         24102
        ],
        [
         "29329913",
         "Dinitrato de isossorbida",
         94143,
         1281
        ],
        [
         "55101119",
         "Fios que contenham pelo menos 85 %, em peso, de fibras artificiais descontínuas, simples, obtidos a partir de fibras de celulose, de outros materiais",
         93744,
         23994
        ],
        [
         "28419049",
         "Outros estanatos",
         93190,
         4003
        ],
        [
         "55094100",
         "Fio de outras fibras sintéticas >= 85%, simples",
         93013,
         15797
        ],
        [
         "80070010",
         "Chapas, folhas e tiras, de estanho",
         92574,
         378
        ],
        [
         "38276900",
         "Outras misturas que contenham outros hidrofluorcarbonetos (HFC), mas que não contenham clorofluorcarbonetos (CFC) ou hidroclorofluorcarbonetos (HCFC), não classificadas em códigos anteriores",
         91893,
         3233
        ],
        [
         "39139012",
         "Borracha clorada em outras formas primárias",
         91822,
         9000
        ],
        [
         "29211111",
         "Monometilamina",
         91705,
         57604
        ],
        [
         "38275100",
         "Misturas que contenham trifluorometano (HFC-23) ou perfluorcarbonetos (PFC), mas que não contenham clorofluorcarbonetos (CFC) ou hidroclorofluorcarbonetos (HCFC), que contenham trifluorometano (HFC-23)",
         91494,
         462
        ],
        [
         "06029010",
         "Micélios de cogumelos",
         91108,
         33606
        ],
        [
         "29303011",
         "Monossulfetos de tetrametiltiourama",
         89567,
         23278
        ],
        [
         "84144010",
         "Compressores de ar montados sobre chassis com rodas e rebocáveis, de deslocamento alternativo",
         89166,
         5313
        ],
        [
         "29051929",
         "Outros álcoolatos metálicos",
         88890,
         19807
        ],
        [
         "84798110",
         "Diferenciadores das tensões de tração de entrada e saída da chapa, em instalações de galvanoplastia",
         88282,
         3639
        ],
        [
         "38180090",
         "Outros elementos químicos impurificados (dopados), próprios para utilização em eletrônica, em forma de discos, plaquetas (wafers), ou formas análogas; compostos químicos impurificados (dopados), próprios para utilização em eletrônica",
         87476,
         28
        ],
        [
         "39069061",
         "Copolímero de acrilato de potássio e acrilamida, com capacidade de absorção de água destilada de até quatrocentas vezes seu próprio peso, em blocos irregulares, pedaços, pós, etc",
         87045,
         30000
        ],
        [
         "28309020",
         "Polissulfetos",
         86818,
         5811
        ],
        [
         "60063230",
         "Outros tecidos de malha, de fibras sintéticas, tintos, acrílicos ou modacrílicos",
         86412,
         2186
        ],
        [
         "28352960",
         "Fosfato de manganês",
         85970,
         4800
        ],
        [
         "37024320",
         "Filmes heliográficos, de poliéster, sensibilizados, não impressionados, em rolos, de largura superior a 610 mm e comprimento não superior a 200 m",
         85652,
         3033
        ],
        [
         "03048510",
         "Filé de merluza negra (Dissostichus eleginoides), congelado",
         85216,
         2420
        ],
        [
         "29339162",
         "Nitrazepam",
         84364,
         99
        ],
        [
         "60061000",
         "Outros tecidos de malha, de lã ou de pelos finos",
         83601,
         1551
        ],
        [
         "29239020",
         "Derivados da colina",
         83557,
         2153
        ],
        [
         "74101112",
         "Folha de cobre, de espessura inferior ou igual a 0,04 mm e uma resistividade elétrica inferior ou igual a 0,017241 ohm.mm2/m",
         83210,
         5354
        ],
        [
         "29309036",
         "Carbocisteína",
         82945,
         2101
        ],
        [
         "55061000",
         "Fibras sintéticas descontínuas, cardadas, penteadas ou transformadas de outro modo para fiação, de náilon ou de outras poliamidas",
         82548,
         9526
        ],
        [
         "29041040",
         "Ácido etanossulfônico; ácido etilenossulfônico",
         82305,
         5393
        ],
        [
         "29415090",
         "Outros derivados da eritromicina e seus sais",
         81826,
         54
        ],
        [
         "38012010",
         "Suspensão semicoloidal em óleos minerais",
         81668,
         10602
        ],
        [
         "60054100",
         "Tecidos de malha-urdidura (incluindo os fabricados em teares para galões), exceto os das posições 60.01 a 60.04, de fibras artificiais, crus ou branqueados",
         80150,
         20215
        ],
        [
         "29159010",
         "Cloreto de cloroacetila",
         78961,
         21500
        ],
        [
         "56039230",
         "Outros falsos tecidos de polipropileno, de peso superior a 25 g/m2 mas não superior a 70 g/m2",
         78530,
         20707
        ],
        [
         "50071010",
         "Tecidos de bourrette de seda, estampados, tintos ou de fios de diversas cores",
         78287,
         567
        ],
        [
         "84581910",
         "Tornos horizontais para trabalhar metais, sem comando numérico, tipo revólver",
         77854,
         33900
        ],
        [
         "46012200",
         "Esteiras, capachos e divisórias, de rotim",
         77701,
         16203
        ],
        [
         "32030011",
         "Hemateína (matéria corante)",
         77541,
         245
        ],
        [
         "34049022",
         "Ceras preparadas à base de hidroxiestearil cetil éter",
         76751,
         15000
        ],
        [
         "29211921",
         "Mono-n-propilamina e seus sais",
         76202,
         11406
        ],
        [
         "48103210",
         "Papel e cartão Kraft, branqueados uniformemente na massa e > 95 %,em peso,do conteúdo total de fibras seja constituído por fibras de madeira obtidas por processo químico,p > 150 g/m2,tiras ou rolos de largura < 15 cm ou em folhas em que nenhum lado >360mm",
         75291,
         99641
        ],
        [
         "35079023",
         "Estreptoquinase",
         75076,
         1
        ],
        [
         "38249915",
         "Maduramicina amônica, em solução alcoólica, da fabricação da maduramicina",
         74905,
         18320
        ],
        [
         "39044010",
         "Outros copolímeros de cloreto de vinila, com acetato de vinila, com um ácido dibásico ou com álcool vinílico, nas formas previstas na Nota 6 b) deste Capítulo",
         74126,
         20254
        ],
        [
         "84798300",
         "Prensas isostáticas a frio",
         74074,
         2126
        ],
        [
         "28415015",
         "Cromato de zinco",
         73569,
         7274
        ],
        [
         "74093111",
         "Chapas de ligas à base de cobre-estanho (bronze), de espessura superior a 0,15 mm, revestidas de plástico, com uma camada intermediária de liga de cobre-estanho ou cobre-estanho-chumbo, aplicada por sinterização",
         72896,
         8195
        ],
        [
         "71042900",
         "Outras pedras sintéticas/reconstituídas, em bruto/serrados/desbastados",
         72883,
         105
        ],
        [
         "60052100",
         "Tecidos de malha-urdidura (incluindo os fabricados em teares para galões), exceto os das posições 60.01 a 60.04, de algodão, crus ou branqueados",
         72064,
         7981
        ],
        [
         "86071110",
         "Bogies de tração de veículos para vias férreas",
         71702,
         11169
        ],
        [
         "51082000",
         "Fios de pelos finos, penteados, não acondicionados para venda a retalho.",
         71373,
         473
        ],
        [
         "84529092",
         "Partes para remalhadeiras",
         70742,
         155
        ],
        [
         "40013000",
         "Balata, guta-percha, guaiúle, chicle e gomas naturais análogas",
         70725,
         416
        ],
        [
         "37012020",
         "Filmes de revelação e copiagem instantâneas, para fotografia monocromática",
         70289,
         1058
        ],
        [
         "71022100",
         "Diamantes industriais, em bruto ou simplesmente serrados, clivados ou desbastados",
         70285,
         0
        ],
        [
         "92019000",
         "Outros pianos, cravos e outros instrumentos de cordas, com teclado",
         69461,
         4164
        ],
        [
         "38249954",
         "Retardante de chama contendo misturas de trifenilfosfatos isopropilados",
         69446,
         4277
        ],
        [
         "29211911",
         "Monoetilamina e seus sais",
         68682,
         5790
        ],
        [
         "72189100",
         "Produtos semimanufaturados, de aços inoxidáveis, seção transversal retangular",
         68592,
         2294
        ],
        [
         "29333981",
         "Cloridrato de benzetimida",
         68216,
         11
        ],
        [
         "84433291",
         "Impressoras de código de barras postais, tipo 3 em 5, a jato de tinta fluorescente, com velocidade de até 4,5 m/s e passo de 1,4 mm",
         67873,
         905
        ],
        [
         "73221100",
         "Radiadores para aquecimento central, não elétrico, partes, de ferro fundido",
         67629,
         8363
        ],
        [
         "28416930",
         "Outros permanganatos",
         66615,
         8575
        ],
        [
         "55069000",
         "Outras fibras sintéticas descontínuas, cardadas, penteadas ou transformadas de outro modo para fiação",
         66590,
         22175
        ],
        [
         "97052100",
         "Espécimes humanos e suas partes",
         65528,
         20
        ],
        [
         "17024010",
         "Glicose que contenha, em peso, no estado seco, um teor de frutose (levulose) igual ou superior a 20 % e inferior a 50 %, com exceção do açúcar invertido",
         65500,
         7380
        ],
        [
         "29209032",
         "Nitroglicerina",
         65158,
         801
        ],
        [
         "41133000",
         "Couros de répteis, preparados após curtimento, etc",
         65059,
         230
        ],
        [
         "32019019",
         "Outros extratos tanantes, de origem vegetal",
         64626,
         52700
        ],
        [
         "85414210",
         "Células solares orgânicas fotovoltaicas não montadas em módulos nem em painéis",
         64424,
         3168
        ],
        [
         "29252950",
         "N-(3,7-Dimetil-7-hidroxioctilideno)antranilato de metila",
         64325,
         3320
        ],
        [
         "58041010",
         "Tules, filó e tecidos de malhas com nós, de algodão",
         64027,
         5354
        ],
        [
         "55144100",
         "Tecido de poliéster < 85% com algodão, peso > 170 g/m2, tafetá,  estampado",
         63261,
         4750
        ],
        [
         "85409190",
         "Outras partes para tubos catódicos",
         63098,
         16
        ],
        [
         "29089913",
         "Ácido pícrico",
         62692,
         2042
        ],
        [
         "37029700",
         "Outros filmes sensibilizados, não impressionados, de largura não superior a 35 mm e comprimento superior a 30 m",
         61475,
         407
        ],
        [
         "95061900",
         "Outros equipamentos para esquiar na neve",
         60934,
         11139
        ],
        [
         "29333945",
         "Maleato de pirilamina",
         60911,
         1150
        ],
        [
         "55029010",
         "Cabos de filamentos artificiais, de raiom viscose",
         60680,
         18792
        ],
        [
         "29395920",
         "Aminofilina",
         60206,
         2100
        ],
        [
         "03077200",
         "Amêijoas, berbigões e arcas (famílias Arcidae, Arcticidae, Cardiidae, Donacidae, Hiatellidae, Mactridae, Mesodesmatidae, Myidae, Semelidae, Solecurtidae, Solenidae, Tridacnidae e Veneridae), congelados",
         60171,
         3500
        ],
        [
         "29161929",
         "Outros sais e ésteres do ácido undecilênico",
         60045,
         879
        ],
        [
         "29171323",
         "Sebacato de dioctila",
         59959,
         8141
        ],
        [
         "91101200",
         "Maquinismos incompletos, montados, de pequeno volume",
         59865,
         18497
        ],
        [
         "47072000",
         "Outros papéis ou cartões, obtidos principalmente a partir de pasta química branqueada, não corada na massa, para reciclar",
         59105,
         385339
        ],
        [
         "29339119",
         "Sais de alprazolam, camazepam, clonazepam, etc.",
         58013,
         5
        ],
        [
         "69029020",
         "Tijolos e outras peças cerâmicas refratárias não fundidos, com um teor de óxido de zircônio (ZrO2) superior a 25 %, em peso",
         57327,
         8142
        ],
        [
         "89032300",
         "Barcos à vela, exceto os infláveis, mesmo com motor auxiliar de comprimento superior a 24 m",
         57126,
         102000
        ],
        [
         "55164400",
         "Tecidos que contenham menos de 85 %, em peso, de fibras artificiais descontínuas, combinadas, principal ou unicamente, com algodão, estampados",
         57040,
         8824
        ],
        [
         "44079960",
         "Madeira de amendoim (Pterogyne nitens), serrada ou fendida longitudinalmente, cortada transversalmente ou desenrolada, mesmo aplainada, lixada ou unida pelas extremidades, de espessura superior a 6 mm",
         57010,
         30125
        ],
        [
         "74101113",
         "Outras folhas de cobre, de espessura inferior ou igual a 0,04 mm",
         57003,
         4012
        ],
        [
         "85413011",
         "Tiristores, diacs e triacs, exceto os dispositivos fotossensíveis, não montados, de intensidade de corrente inferior ou igual a 3 A",
         56787,
         315
        ],
        [
         "28418090",
         "Outros tungstatos (volframatos)",
         56536,
         485
        ],
        [
         "03082200",
         "Ouriços-do-mar (Strongylocentrotus spp., Paracentrotus lividus, Loxechinus albus, Echinus esculentus), congelados",
         56351,
         1063
        ],
        [
         "41063200",
         "Couros e peles de suínos, no estado seco (crust)",
         55974,
         5594
        ],
        [
         "84303990",
         "Outras máquinas para perfuração de túneis e galerias",
         55968,
         6674
        ],
        [
         "38123921",
         "Preparações antioxidantes e outros estabilizadores compostos, para plástico, que contenham derivados N-substituídos de p-fenilenodiamina",
         55956,
         2722
        ],
        [
         "38089422",
         "Desinfetantes apresentados de outro modo, à base de 2-(tiocianometiltio) benzotiazol",
         55707,
         8000
        ],
        [
         "74071021",
         "Perfis ocos de cobre refinado",
         55686,
         2487
        ],
        [
         "16055800",
         "Preparações e conservas, de caracóis (exceto os do mar)",
         55386,
         2409
        ],
        [
         "28111930",
         "Ácido perclórico",
         54878,
         2194
        ],
        [
         "39173259",
         "Outros tubos de celulose regenerada, não reforçados, sem acessórios",
         54709,
         302
        ],
        [
         "03038119",
         "Outros tubarões-azuis, congelados",
         54638,
         22000
        ],
        [
         "29319051",
         "Ácido metilarsínico e seus sais",
         54466,
         250
        ],
        [
         "84433929",
         "Outras máquinas copiadoras eletrostáticas",
         53467,
         226
        ],
        [
         "54041919",
         "Outras imitações de categute, de monofilamentos",
         53324,
         22953
        ],
        [
         "44101290",
         "Outros painéis denominados oriented strand board (OSB), mesmo aglomeradas com resinas ou com outros aglutinantes orgânicos",
         53229,
         75138
        ],
        [
         "72102000",
         "Produtos laminados planos, de ferro ou aço não ligado, de largura igual ou superior a 600 mm, folheados ou chapeados, ou revestidos, estanhados, revestidos de chumbo, incluindo os revestidos de uma liga de chumbo-estanho",
         53180,
         14564
        ],
        [
         "29396100",
         "Ergometrina (DCI) e seus sais",
         53011,
         2
        ],
        [
         "84541000",
         "Conversores para metalurgia, aciaria ou fundição",
         52630,
         921
        ],
        [
         "38123912",
         "Preparações antioxidantes e outros estabilizadores compostos, para borracha, que contenham fosfitos de alquila, de arila ou de alquil-arila",
         52144,
         16800
        ],
        [
         "55159910",
         "Outros tecidos de fibras sintéticas descontínuas, combinados, principal ou unicamente, com lã ou pelos finos",
         51693,
         1063
        ],
        [
         "33012918",
         "Óleo essencial, de cabreúva (cabriúva)",
         51620,
         1161
        ],
        [
         "29124910",
         "3-Fenoxibenzaldeído",
         51265,
         6300
        ],
        [
         "29397919",
         "Outras escopolaminas e seus derivados; sais destes produtos",
         50797,
         0
        ],
        [
         "84733032",
         "Braços posicionadores de cabeças magnéticas, para unidade de discos/fitas",
         50760,
         59
        ],
        [
         "55134911",
         "Tecido estampado < 85% fibras descontínuas de poliéster, em ponto sarjado, incluindo o diagonal, cuja relação de textura não seja superior a 4",
         50752,
         19076
        ],
        [
         "29331119",
         "Outros ácidos 1-fenil-2, 3-dimetil-5-pirazolona-4-...",
         50606,
         175
        ],
        [
         "84512910",
         "Outras máquinas para secar roupa, que funcionem por meio de ondas eletromagnéticas (micro-ondas), cuja produção seja superior ou igual a 120 kg/h de produto seco",
         50561,
         6004
        ],
        [
         "55131300",
         "Outros tecidos de poliéster < 85% com algodão, peso <= 170 g/m2, cru/branqueado",
         50401,
         8188
        ],
        [
         "29039931",
         "4-Cloro-alfa,alfa,alfa-trifluortolueno",
         49063,
         9000
        ],
        [
         "28053090",
         "Outros metais de terras raras, escândio e ítrio",
         48804,
         10500
        ],
        [
         "44071200",
         "Madeira serrada ou fendida longitudinalmente, cortada transversalmente ou desenrolada, mesmo aplainada, lixada ou unida pelas extremidades, de espessura superior a 6 mm, de abeto (Abies spp.) e de espruce (pícea) (Picea spp.)",
         48770,
         3993
        ],
        [
         "74102120",
         "Folha de cobre refinado, com espessura superior a 0,012 mm, sobre suporte de poliéster ou poliimida e com espessura total, incluindo o suporte, inferior ou igual a 0,195 mm",
         48395,
         1917
        ],
        [
         "44079300",
         "Madeira de ácer (Acer spp.), serrada ou fendida longitudinalmente, cortada transversalmente ou desenrolada, mesmo aplainada, lixada ou unida pelas extremidades, de espessura superior a 6 mm",
         48234,
         7148
        ],
        [
         "68159914",
         "Obras de pedras eletrofundidas constituídas por mistura/combinação de alumina (Al2O3), silica (SiO2) e óxido de zircônio (ZrO2), com teor, em peso, de alumina >=  45 % mas < 90 % ou com conteúdo, em peso, de óxido de zircônio (ZrO2) >= 20 % mas < 50 %",
         48083,
         11760
        ],
        [
         "38231910",
         "Ácido caprílico",
         47744,
         29227
        ],
        [
         "90304020",
         "Analisadores de nível seletivo, para telecomunicação",
         47671,
         31
        ],
        [
         "24049900",
         "Outros produtos que contenham nicotina destinados à absorção da nicotina pelo corpo humano, não classificados em códigos anteriores",
         47414,
         779
        ],
        [
         "84439191",
         "Máquinas auxiliares de impressão, dobradoras",
         46826,
         574
        ],
        [
         "29153963",
         "Diacetato de etilenoglicol (diacetato de etileno)",
         46666,
         21266
        ],
        [
         "28351021",
         "Fosfonato (fosfito) dibásico de chumbo",
         46461,
         14000
        ],
        [
         "71104100",
         "Irídio, ósmio e rutênio, em formas brutas ou em pó",
         46353,
         14
        ],
        [
         "29419035",
         "Cefotaxima sódica",
         46091,
         200
        ],
        [
         "84483230",
         "Bancas de estiramento de matéria têxtil",
         45909,
         471
        ],
        [
         "85279200",
         "Outros receptores não combinados com aparelhos de gravação/reprodução do som, mas combinados com relógio",
         45311,
         13898
        ],
        [
         "51012900",
         "Outras lãs desengorduradas não carbonizadas, não cardadas,  não penteadas",
         44848,
         6023
        ],
        [
         "29211112",
         "Sais de monometilamina",
         44688,
         1256
        ],
        [
         "29339942",
         "Amisulprida",
         44605,
         100
        ],
        [
         "28521019",
         "Outros compostos inorgânicos de mercúrio",
         44494,
         162
        ],
        [
         "28092020",
         "Ácido metafosfórico",
         44286,
         482
        ],
        [
         "11071020",
         "Malte não torrado, moído ou em farinha",
         44134,
         33650
        ],
        [
         "48055000",
         "Papel-feltro e cartão-feltro, papel e cartão lanosos",
         43775,
         5742
        ],
        [
         "28419012",
         "Titanatos de bário ou de bismuto",
         43729,
         3708
        ],
        [
         "56039430",
         "Outros falsos tecidos de raiom viscose, de peso superior a 150 g/m2",
         43686,
         9988
        ],
        [
         "85043192",
         "Transformadores elétricos de FI, de detecção, de relação, de linearidade ou de foco, de potência não superior a 1 kVA",
         42688,
         775
        ],
        [
         "85176278",
         "Outros aparelhos emissores com receptor incorporado, digitais, de frequência superior ou igual a 15 GHz, mas inferior ou igual a 23 GHz e taxa de transmissão inferior ou igual a 8 Mbit/s",
         42555,
         125
        ],
        [
         "29182219",
         "Outros sais do ácido o-acetilsalicílico",
         41532,
         11000
        ],
        [
         "29089921",
         "Disofenol",
         41400,
         300
        ],
        [
         "85402019",
         "Outros tubos para câmeras de televisão",
         41242,
         14
        ],
        [
         "29335400",
         "Outros derivados da manolinureia (ácido barbitúrico)",
         40775,
         107
        ],
        [
         "29241921",
         "N-metilformamida",
         40724,
         16018
        ],
        [
         "28153000",
         "Peróxidos de sódio ou de potássio",
         40328,
         204
        ],
        [
         "03076000",
         "Caracóis, exceto os do mar, vivos, frescos, refrigerados, etc.",
         40188,
         1771
        ],
        [
         "41022100",
         "Peles em bruto, de ovinos, depiladas ou sem lã, piqueladas",
         39932,
         20890
        ],
        [
         "52112010",
         "Tecidos de algodão que contenham menos de 85 %, em peso, de algodão, combinados, principal ou unicamente, com fibras sintéticas ou artificiais, com peso superior a 200 g/m2, branqueados, em ponto de tafetá",
         39906,
         3723
        ],
        [
         "29339123",
         "Estazolam",
         39740,
         9
        ],
        [
         "32065011",
         "Halofosfatos de cálcio ou de estrôncio, com substância radioativa, utilizado em luminóforos",
         39057,
         2700
        ],
        [
         "25309040",
         "Terras corantes",
         38800,
         22000
        ],
        [
         "97019200",
         "Outros mosaicos, feitos inteiramente à mão",
         38507,
         1355
        ],
        [
         "55082000",
         "Linhas para costurar, de fibras artificiais descontínuas, mesmo acondicionadas para venda a retalho",
         38443,
         3020
        ],
        [
         "55102090",
         "Outros fios de fibras artificiais descontínuas, combinados, principal ou unicamente, com lã ou pelos finos, obtidos a partir de fibras que não sejam de celulose",
         38085,
         1771
        ],
        [
         "93039090",
         "Outras armas de fogo que utilizam deflagração da pólvora, etc.",
         38035,
         172
        ],
        [
         "74094011",
         "Chapas e tiras de ligas à base de cobre-níquel (cuproníquel) ou de cobre-níquel-zinco (maillechort), de espessura superior a 0,15 mm, em rolos, de liga de cobreniquelsilício, galvanizadas",
         37104,
         2333
        ],
        [
         "38275900",
         "Outras misturas que contenham trifluorometano (HFC-23) ou perfluorcarbonetos (PFC), mas que não contenham clorofluorcarbonetos (CFC) ou hidroclorofluorcarbonetos (HCFC), não classificados em códigos anteriores",
         37044,
         936
        ],
        [
         "84729020",
         "Máquinas do tipo utilizado em caixas de banco, com dispositivo para autenticar",
         36745,
         111
        ],
        [
         "85434000",
         "Eletrificadores de cercas",
         36217,
         14
        ],
        [
         "28419015",
         "Titanatos de lantânio ou de neodímio",
         36101,
         10150
        ],
        [
         "37025412",
         "Outros filmes, para fotografia a cores (policromo), de largura igual a 35 mm, exceto para diapositivos, de 12 exposições (0,5 m de comprimento), de 24 exposições (1,0 m de comprimento) ou de 36 exposições (1,5 m de comprimento)",
         35836,
         157
        ],
        [
         "51122020",
         "Outros, combinados, principal ou unicamente, com filamentos sintéticos ou artificiais, de pelos finos",
         35768,
         110
        ],
        [
         "44083992",
         "Folhas para folheados (incluindo as obtidas por corte de madeira estratificada), folhas para compensados ou para madeiras estratificadas semelhantes e outras madeiras, etc..., de espessura <= 6 mm, de pau-marfim",
         35674,
         114915
        ],
        [
         "29215919",
         "Benzidina, seus outros derivados e sais",
         34710,
         268
        ],
        [
         "60049030",
         "Outros tecidos de malha de largura superior a 30 cm,que contenham, em peso, 5 % ou mais de fios de elastômeros ou de fios de borracha, exceto os da posição 60.01, de fibras sintéticas",
         34681,
         2668
        ],
        [
         "29141910",
         "Forona",
         34456,
         15661
        ],
        [
         "48045200",
         "Outros papéis e cartões Kraft de peso igual ou superior a 225 g/m2, branqueados uniformemente na massa e em que mais de 95 %, em peso, do conteúdo total de fibras seja constituído por fibras de madeira obtidas por processo químico, em rolos ou em folhas",
         34415,
         34110
        ],
        [
         "44011200",
         "Lenha em qualquer forma, de não coníferas",
         34236,
         1525
        ],
        [
         "93039010",
         "Outras armas de fogo Lançadores do tipo utilizado com cartuchos dos itens 9306.21.10, 9306.21.20 ou 9306.21.30",
         34073,
         393
        ],
        [
         "28342930",
         "Nitrato de alumínio",
         33612,
         7173
        ],
        [
         "29163400",
         "Ácido fenilacético e seus sais",
         32825,
         678
        ],
        [
         "29182921",
         "Ácido p-hidroxibenzóico",
         32317,
         18
        ],
        [
         "32071030",
         "Outros pigmentos, opacificantes/cores, preparados e preparações à base de zircônio ou seus sais",
         32224,
         201
        ],
        [
         "29307000",
         "Sulfeto de bis(2-hidroxietila) (tiodiglicol (DCI))",
         32160,
         5522
        ],
        [
         "29349122",
         "Cloxazolam",
         32090,
         10
        ],
        [
         "84631010",
         "Bancas para estirar tubos de metais ou ceramais (cermets)",
         31973,
         3293
        ],
        [
         "28352940",
         "Fosfato de cromo",
         30961,
         768
        ],
        [
         "30032073",
         "Medicamento com ciclosporina a, exceto em doses",
         30930,
         20
        ],
        [
         "48025510",
         "Papel fibra de peso igual ou superior a 40 g/m2, mas não superior a 150 g/m2, em rolos, De largura não superior a 15 cm",
         30915,
         4480
        ],
        [
         "28372019",
         "Outros ferrocianetos",
         30620,
         194
        ],
        [
         "29209029",
         "Outros sulfitos de ésteres de acidos inorgânicos",
         30489,
         1401
        ],
        [
         "90072020",
         "Projetores para filmes, largura >= 35 mm, mas <= 70 mm",
         30449,
         745
        ],
        [
         "27050000",
         "Gás de hulha, gás de água, gás pobre (gás de ar) e gases semelhantes, exceto gases de petróleo e outros hidrocarbonetos gasosos",
         30210,
         281
        ],
        [
         "29400011",
         "Galactose",
         29949,
         100
        ],
        [
         "71103900",
         "Ródio em formas semimanufaturadas",
         29687,
         0
        ],
        [
         "29034800",
         "1,1,1,3,3-Pentafluorobutano (HFC-365mfc) e 1,1,1,2,2,3,4,5,5,5-decafluoropentano (HFC-43-10mee)",
         29232,
         1062
        ],
        [
         "29163122",
         "Sais de amônio do ácido benzóico",
         28972,
         2359
        ],
        [
         "32030012",
         "Fisetina (matéria corante)",
         28857,
         123
        ],
        [
         "48026110",
         "Outros papéis e cartões, em que mais de 10 %, em peso, do conteúdo total de fibras seja constituído por fibras obtidas por processo mecânico ou químico-mecânico, em rolos, de largura não superior a 15 cm",
         28649,
         1128
        ],
        [
         "58013100",
         "Veludos e pelúcias obtidos por trama, não cortados, de fibras sintéticas ou artificiais",
         28526,
         6835
        ],
        [
         "81052090",
         "Mates de cobalto e outros produtos intermediários metálicos",
         28337,
         399
        ],
        [
         "28521014",
         "Cloreto de mercúrio ii (cloreto mercúrico), em outro modo",
         27946,
         147
        ],
        [
         "28352910",
         "Fosfato de ferro",
         27373,
         13003
        ],
        [
         "29339115",
         "Clorodiazepóxido",
         27210,
         150
        ],
        [
         "90158010",
         "Molinetes hidrométricos",
         26898,
         20
        ],
        [
         "72255010",
         "Outros laminados planos, simplesmente laminados a frio, de aços de corte rápido, de largura igual ou superior a 600 mm",
         26621,
         4560
        ],
        [
         "28013000",
         "Fluor e bromo",
         26614,
         163
        ],
        [
         "85414123",
         "\"Diodos \"\"laser\"\" com comprimento de onda de 1300 mm ou 1500 mm\"",
         26494,
         49
        ],
        [
         "29242959",
         "Outras metoxibenzamidas, seus derivados e sais",
         26494,
         0
        ],
        [
         "29397940",
         "Tiocolquicósido",
         26438,
         2
        ],
        [
         "75089010",
         "Cilindros ocos de seção variável, obtidos por centrifugação, dos tipos utilizados em reformadores estequiométricos de gás natural",
         26392,
         5
        ],
        [
         "57011020",
         "Tapete de pelos finos, de pontos nodados ou enrolados, mesmo confeccionados",
         26279,
         868
        ],
        [
         "85198110",
         "Aparelhos de reprodução de som, com sistema de leitura óptica por laser (leitores de discos compactos)",
         26187,
         180
        ],
        [
         "60063330",
         "Outros tecidos de malha, de fibras sintéticas, de fios de diversas cores, acrílicos ou modacrílicos",
         26112,
         3288
        ],
        [
         "71042100",
         "Diamantes sintéticos/reconstituídos, em bruto ou simplesmente serradas ou desbastadas",
         25861,
         19
        ],
        [
         "94054090",
         "Outros aparelhos elétricos de iluminação, de outras matérias",
         25702,
         6137
        ],
        [
         "85221000",
         "Fonocaptores, para aparelhos de gravação/reprodução",
         24907,
         47
        ],
        [
         "32029012",
         "Produtos tanantes, à base de sais de titânio",
         24894,
         6720
        ],
        [
         "85241200",
         "Módulos de visualização de tela (ecrã) plana, mesmo que incorporem telas sensíveis ao toque (ecrãs tácteis), sem controladores (drivers) nem circuitos de controle, de diodos emissores de luz orgânicos (OLED)",
         24836,
         855
        ],
        [
         "55134919",
         "Outros tecidos < 85% de fibras descontínuas de poliéster combinada com algodão",
         24549,
         1822
        ],
        [
         "28416910",
         "Manganitos",
         23711,
         1759
        ],
        [
         "91089000",
         "Outros maquinismos de pequeno volume para relógios, montados",
         23597,
         247
        ],
        [
         "29362939",
         "Outros derivados da vitamina h, não misturados",
         23330,
         60
        ],
        [
         "70119000",
         "Outras ampolas/invólucros, abertos, de vidro, suas partes",
         23188,
         118
        ],
        [
         "71082000",
         "Ouro (incluindo o ouro platinado), em formas brutas ou semimanufaturadas, para uso monetário",
         22918,
         5
        ],
        [
         "29215932",
         "Ácido 4,4'-diaminodifenilamino-2-sulfônico e seus sais",
         22839,
         4325
        ],
        [
         "31022910",
         "Sulfonitrato de amônio",
         22697,
         60000
        ],
        [
         "15121120",
         "Óleo de cártamo, em bruto",
         22580,
         6840
        ],
        [
         "29395910",
         "Teofilina",
         22576,
         16
        ],
        [
         "29094950",
         "Álcool fenoxibenzílico",
         22488,
         8062
        ],
        [
         "29221979",
         "Outras propafenonas e seus sais",
         22449,
         1
        ],
        [
         "52062400",
         "Fios simples de algodão, de fibras penteadas, que contenham menos de 85 %, em peso, de algodão, não acondicionados para venda a retalho, de título < 192,31 decitex mas não inferior a 125 decitex (número métrico superior a 52 mas não superior a 80)",
         22261,
         6390
        ],
        [
         "44187400",
         "Outros painéis montados para revestimento de pisos (pavimentos), para pisos (pavimentos) em mosaico",
         21957,
         13376
        ],
        [
         "85423911",
         "Circuito integrado híbrido, de espessura de camada inferior ou igual a 1 micrômetro (mícron) com frequência de operação superior ou igual a 800 MHz",
         21929,
         42
        ],
        [
         "28419042",
         "Estanato de bismuto",
         21871,
         227
        ],
        [
         "32065021",
         "Halofosfatos de cálcio, etc, sem substância radioativa, utilizado em luminóforos",
         21844,
         871
        ],
        [
         "28273960",
         "Cloreto de lítio",
         21736,
         600
        ],
        [
         "84433235",
         "Impressoras a laser, LED (Diodos Emissores de Luz) ou LCS (Sistema de Cristal Líquido), policromáticas, com velocidade de impressão inferior ou igual a 20 páginas por minuto (ppm)",
         21439,
         196
        ],
        [
         "28353930",
         "Pirofosfato de zinco",
         21178,
         3000
        ],
        [
         "30039093",
         "Medicamento contendo dicoflenaco resinato, exceto em doses",
         21148,
         300
        ],
        [
         "44072930",
         "Madeira de pau-marfim, serrada ou fendida longitudinalmente, cortada transversalmente ou desenrolada, mesmo aplainada, lixada ou unida pelas extremidades, de espessura superior a 6 mm",
         21117,
         58880
        ],
        [
         "37039010",
         "Papel para fotocomposição, sensibilizado, não impressionado",
         21100,
         864
        ],
        [
         "32065019",
         "Outros produtos inorgânicos utilizados em luminóforos, com substância radioativa",
         20602,
         175
        ],
        [
         "90069110",
         "Corpos para aparelhos fotográficos",
         20003,
         1271
        ],
        [
         "72052920",
         "Pós de ferro revestido com resina termoplástica, com um teor de ferro superior ou igual a 98 %, em peso",
         19997,
         6807
        ],
        [
         "29062920",
         "Dicofol",
         19928,
         6025
        ],
        [
         "51123020",
         "Outros, combinados, principal ou unicamente, com fibras sintéticas ou artificiais descontínuas, de pelos finos",
         19886,
         1238
        ],
        [
         "45020000",
         "Cortiça natural, sem a crosta ou simplesmente esquadriada, ou em cubos, chapas, folhas ou tiras, de forma quadrada ou retangular (incluindo os esboços com arestas vivas, para rolhas)",
         19813,
         1100
        ],
        [
         "29280042",
         "Derivados da fenilidrazina",
         19703,
         89
        ],
        [
         "56049010",
         "Imitações de categute constituídas por fios de seda",
         19530,
         44
        ],
        [
         "84454031",
         "Meadeiras com controle de comprimento ou peso e atador automático, de matérias têxteis,",
         19468,
         206
        ],
        [
         "29153951",
         "Acetato de benzestrol",
         19323,
         8060
        ],
        [
         "29221993",
         "\"Clembuterol (\"\"clenbuterol\"\") e seu cloridrato\"",
         19082,
         2
        ],
        [
         "48101910",
         "Outros papéis para escrita, etc, fibra <= 10%, em tiras de largura não superior a 15 cm ou em folhas em que nenhum lado exceda 360 mm, quando não dobradas",
         19046,
         24830
        ],
        [
         "37025510",
         "Filmes para foto a cores, sensibilizado, não impressionado, ee largura igual a 35 mm e comprimento superior a 30 m, em rolos",
         18879,
         498
        ],
        [
         "44039400",
         "Madeira em bruto, mesmo descascada, desalburnada ou esquadriada, de faia (Fagus spp.), outras",
         18681,
         13700
        ],
        [
         "29055910",
         "Hidrato de cloral",
         18404,
         3050
        ],
        [
         "74031900",
         "Outros produtos de cobre refinado, em formas brutas",
         18200,
         600
        ],
        [
         "90089000",
         "Partes e acessórios para aparelhos de projeção fixa, etc.",
         18101,
         1740
        ],
        [
         "29241991",
         "N,N'-Dimetilureia",
         17963,
         800
        ],
        [
         "37029600",
         "Outros filmes sensibilizados, não impressionados, de largura não superior a 35 mm e comprimento não superior a 30 m",
         17899,
         194
        ],
        [
         "29039914",
         "Triclorobenzenos",
         17569,
         186
        ],
        [
         "29419069",
         "Outros polienos e seus sais",
         17543,
         542
        ],
        [
         "29372939",
         "Ciproterona e outros derivados deste produto",
         17494,
         0
        ],
        [
         "81039100",
         "Cadinhos de tântalo",
         17359,
         23
        ],
        [
         "84433251",
         "Traçadores gráficos por meio de penas",
         17309,
         152
        ],
        [
         "50071090",
         "Outros tecidos de bourrette de seda",
         17305,
         105
        ],
        [
         "30043914",
         "Medicamento contendo corticotropina (ACTH), em doses",
         17117,
         18
        ],
        [
         "29362390",
         "Outros derivados da vitamina B2, não misturados",
         17050,
         0
        ],
        [
         "28249090",
         "Outros óxidos de chumbo",
         16638,
         4302
        ],
        [
         "38249973",
         "Preparações à base de carbeto de tungstênio (volfrâmio) com níquel como aglomerante; brometo de hidrogênio em solução",
         16630,
         137
        ],
        [
         "29242911",
         "Acetanilida",
         16611,
         78
        ],
        [
         "71041000",
         "Quartzo piezoelétrico",
         16514,
         19
        ],
        [
         "85255023",
         "Aparelho de televisão, em banda UHF, com potência de saída superior a 10 kW",
         16230,
         72
        ],
        [
         "84709010",
         "Máquinas de franquear correspondência",
         16124,
         188
        ],
        [
         "29339183",
         "Triazolam",
         16019,
         0
        ],
        [
         "56031440",
         "Falsos tecidos de raiom viscose, de peso superior a 150 g/m2",
         15922,
         1116
        ],
        [
         "84863000",
         "Máquinas e aparelhos para a fabricação de dispositivos de visualização de tela plana",
         15744,
         1635
        ],
        [
         "84485940",
         "Partes e acessórios de máquinas para fabricar guipuras, rendas, etc.",
         15631,
         112
        ],
        [
         "28521022",
         "Timerosal",
         15405,
         11
        ],
        [
         "29400013",
         "Ramnose",
         15334,
         75
        ],
        [
         "55095200",
         "Fio de fibras de poliésteres, combinadas, principal ou unicamente, com lã ou pelos finos",
         15333,
         1693
        ],
        [
         "85176192",
         "Outros aparelhos para emissão, transmissão ou recepção de voz, imagens ou outros dados, digitais, de frequência superior a 23 GHz",
         15011,
         56
        ],
        [
         "85271200",
         "Rádios toca-fitas de bolso",
         14917,
         69
        ],
        [
         "28521021",
         "Acetato de mercúrio",
         14701,
         42
        ],
        [
         "93062110",
         "Cartuchos que contenham produtos químicos ou oleorresina de Capsicum, com fins irritantes",
         14698,
         40
        ],
        [
         "29394100",
         "Efedrina e seus sais",
         14368,
         0
        ],
        [
         "29371100",
         "Somatotropina, seus derivados e análogos estruturais",
         14020,
         0
        ],
        [
         "28332790",
         "Outros sulfatos de bário",
         13965,
         256
        ],
        [
         "84433930",
         "Aparelhos de fotocópia, por sistema óptico",
         13662,
         2047
        ],
        [
         "91101190",
         "Maquinismos completos, de pequeno volume, não montados ou parcialmente montados (chablons), para outros relógios",
         13554,
         1218
        ],
        [
         "29034700",
         "Outros derivados peralogenados dos hidrocarbonetos acíclicos, contendo dois halogênios diferentes",
         13150,
         1000
        ],
        [
         "29223929",
         "Ketamina e outros sais de ketamina",
         13107,
         0
        ],
        [
         "55103019",
         "Outros fios de fibras artificiais descontínuas, combinados, principal ou unicamente, com algodão, obtidos a partir de fibras de celulose, de outros materiais",
         12922,
         2232
        ],
        [
         "28274911",
         "Oxicloretos de bismuto",
         12738,
         237
        ],
        [
         "30033999",
         "Outros medicamentos contendo hormônios, não apresentados em doses",
         12714,
         7
        ],
        [
         "29400023",
         "Bromolactobionato de cálcio",
         12521,
         350
        ],
        [
         "28046100",
         "Silício, que contenham, em peso, pelo menos 99,99 % de silício",
         12346,
         143
        ],
        [
         "85406090",
         "Outros tubos catódicos",
         12323,
         11
        ],
        [
         "48101382",
         "Papéis e cartões baritados, sem fibras obtidas por processo mecânico ou químico-mecânico ou em que a percentagem destas fibras não seja superior a 10 %, em peso, do conteúdo total de fibras, em rolos, de peso superior a 150 g/m2",
         12272,
         757
        ],
        [
         "55070000",
         "Fibras artificiais descontínuas, cardadas, penteadas ou transformadas de outro modo para fiação",
         12203,
         1172
        ],
        [
         "60059010",
         "Tecidos de malha-urdidura (incluindo os fabricados em teares para galões), exceto os das posições 60.01 a 60.04, de lã ou pelos finos",
         12107,
         111
        ],
        [
         "29223910",
         "Aminoantraquinonas e seus sais",
         12062,
         2000
        ],
        [
         "55163100",
         "Tecidos que contenham menos de 85 %, em peso, de fibras artificiais descontínuas, combinadas, principal ou unicamente, com lã ou pelos finos, crus ou branqueados",
         11968,
         818
        ],
        [
         "54024510",
         "Fio simples de aramidas, sem torção ou com torção não superior a 50 voltas por metro",
         11821,
         2571
        ],
        [
         "81032000",
         "Tântalo em formas brutas, incluindo as barras simplesmente obtidas por sinterização; pós",
         11773,
         17
        ],
        [
         "29339149",
         "Sais de loflazepato de etila, lorazepam, etc.",
         11704,
         0
        ],
        [
         "58043010",
         "Renda de algodão, de fabricação manual",
         11555,
         485
        ],
        [
         "29043500",
         "Outros sais do ácido perfluoroctano sulfônico",
         11496,
         63
        ],
        [
         "85176253",
         "Terminais de texto que operem com código de transmissão Baudot, providos de teclado alfanumérico e visor, mesmo com telefone incorporado",
         11375,
         111
        ],
        [
         "29039110",
         "Clorobenzeno",
         11328,
         8647
        ],
        [
         "91144000",
         "Platinas e pontes para artigos de relojoaria",
         11310,
         0
        ],
        [
         "29039939",
         "Outros derivados halogenados, unicamente com fluor/cloro",
         11266,
         1350
        ],
        [
         "85143200",
         "Fornos de plasma e fornos de arco a vácuo",
         11228,
         1127
        ],
        [
         "90171010",
         "Mesas e máquinas de desenhar, automáticas",
         11217,
         1868
        ],
        [
         "29314912",
         "Difenilfosfonato(4,4'-bis((dimetoxifosfinil)metil)difenila)",
         11073,
         7500
        ],
        [
         "29199020",
         "Ésteres fosfóricos e sais de tricresila",
         10938,
         1540
        ],
        [
         "91081190",
         "Maquinismo montado para outros relógios, etc",
         10844,
         3
        ],
        [
         "29089912",
         "p-Nitrofenol e seus sais",
         10751,
         208
        ],
        [
         "29335992",
         "2-aminopirimidina",
         10722,
         101
        ],
        [
         "44072700",
         "Madeira de Sapelli, serrada ou fendida longitudinalmente, cortada transversalmente ou desenrolada, mesmo aplainada, lixada ou unida pelas extremidades, de espessura superior a 6 mm",
         10685,
         7024
        ],
        [
         "29299029",
         "Outros N,N-Dialquilfosforoamidatos e seus derivados",
         10615,
         500
        ],
        [
         "93062190",
         "Outros cartuchos",
         10598,
         130
        ],
        [
         "29309069",
         "Outros fosforoamidotioatos, seus derivados e sais",
         10596,
         230
        ],
        [
         "84561290",
         "Outras máquinas-ferramentas que trabalhem por eliminação de qualquer matéria, que operem por outro feixe de luz ou de fótons",
         10448,
         280
        ],
        [
         "30021231",
         "Soroalbumina, exceto a humana",
         10421,
         2
        ],
        [
         "29349200",
         null,
         10360,
         2
        ],
        [
         "38279000",
         "Outras misturas com derivados peralogenados, etc",
         10293,
         54
        ],
        [
         "84513091",
         "Prensas para passar roupa, de peso inferior ou igual a 14 kg",
         10251,
         1649
        ],
        [
         "51032000",
         "Outros desperdícios de lã ou de pelos finos",
         10177,
         9986
        ],
        [
         "60063430",
         "Outros tecidos de malha, de fibras sintéticas, estampados, acrílicos ou modacrílicos",
         10162,
         200
        ],
        [
         "29142220",
         "Metilcicloexanonas",
         10153,
         1440
        ],
        [
         "29391121",
         "Buprenorfina e seus sais",
         10103,
         1
        ],
        [
         "84561219",
         "Máquinas-ferramentas que trabalhem por eliminação de qualquer matéria, que operem por outro feixe de luz ou de fótons, de comando numérico, para corte de outras chapas",
         10080,
         168
        ],
        [
         "60052400",
         "Tecidos de malha-urdidura (incluindo os fabricados em teares para galões), exceto os das posições 60.01 a 60.04, de algodão, estampados",
         10016,
         689
        ],
        [
         "29199030",
         "Ésteres fosfóricos e sais de trifenila",
         9812,
         650
        ],
        [
         "29242995",
         "Buclosamida",
         9759,
         250
        ],
        [
         "48026992",
         "Outros papéis e cartões Kraft, em que mais de 10 %, em peso, do conteúdo total de fibras seja constituído por fibras obtidas por processo mecânico ou químico-mecânico",
         9632,
         4875
        ],
        [
         "29332911",
         "2-metil-5-nitroimidazol",
         9568,
         0
        ],
        [
         "29329500",
         "Tetraidrocanabinóis (todos os isômeros)",
         9480,
         0
        ],
        [
         "84433928",
         "Outras máquinas copiadoras eletrostáticas, por processo indireto",
         9404,
         1100
        ],
        [
         "84451120",
         "Cardas para fibras do Capítulo 53",
         9323,
         1025
        ],
        [
         "88052100",
         "Simuladores de combate aéreo e suas partes",
         9246,
         24
        ],
        [
         "29042059",
         "Outros derivados nitrados do benzeno",
         8899,
         1080
        ],
        [
         "53109000",
         "Outros tecidos de juta ou outras fibras têxteis liberianas",
         8868,
         1191
        ],
        [
         "28273992",
         "Cloreto de césio",
         8717,
         22
        ],
        [
         "29303019",
         "Outros monossulfetos de tiourama",
         8703,
         1402
        ],
        [
         "38273210",
         "Preparações que contenham clorodifluormetano e clorotetrafluoretano",
         8693,
         1090
        ],
        [
         "29349923",
         "Timidina",
         8690,
         0
        ],
        [
         "34029023",
         "Soluções ou emulsões hidroalcoólicas de sulfonatos de perfluoralquiltrimetilamônio e de perfluoralquilacrilamida",
         8687,
         1728
        ],
        [
         "84451110",
         "Cardas para lã",
         8165,
         125
        ],
        [
         "30049092",
         "Medicamento contendo disofenol/crisarobina, etc, em doses",
         8108,
         5
        ],
        [
         "28112910",
         "Dióxido de enxofre",
         8042,
         8
        ],
        [
         "44079400",
         "Madeira de cerejeira (Prunus spp.), serrada ou fendida longitudinalmente, cortada transversalmente ou desenrolada, mesmo aplainada, lixada ou unida pelas extremidades, de espessura superior a 6 mm",
         7907,
         1142
        ],
        [
         "54012012",
         "Linhas para costurar, de raiom viscose, de alta tenacidade, acondicionadas para venda a retalho",
         7854,
         904
        ],
        [
         "28332910",
         "Sulfato de antimônio",
         7764,
         27000
        ],
        [
         "47073000",
         "Papéis ou cartões, obtidos principalmente a partir de pasta mecânica (por exemplo, jornais, periódicos e impressos semelhantes), praa reciclar",
         7735,
         23853
        ],
        [
         "29339952",
         "Oxifendazol",
         7704,
         125
        ],
        [
         "28257090",
         "Outros óxidos e hidróxidos de molibdênio",
         7626,
         43
        ],
        [
         "76052110",
         "Fios de liga de alumínio, com a maior dimensão da seção transversal > 7 mm, com um teor, em peso, de alumínio >=  98,45 %, e de magnésio e silício, considerados individualmente, >= 0,45 % e <= 0,55 % e uma resistividade elétrica <= 0,0328 ohm.mm2/m",
         7609,
         1014
        ],
        [
         "29333329",
         "Sais de bezitramida ou de bromazepam",
         7588,
         0
        ],
        [
         "62041100",
         "Tailleurs, de uso feminino, de lã ou de pelos finos",
         7536,
         35
        ],
        [
         "79011199",
         "Outras formas brutas de zinco não ligado, que contenha, em peso, 99,99 % ou mais de zinco",
         7497,
         1000
        ],
        [
         "84485921",
         "Partes e acessórios de teares retilíneos manuais, para fabricação de malhas",
         7385,
         134
        ],
        [
         "29026000",
         "Etilbenzeno",
         7375,
         31
        ],
        [
         "29339159",
         "Sais de mazindol, medazepam ou midazolam",
         7053,
         0
        ],
        [
         "28342110",
         "Nitrato de potássio, com teor de KNO3 inferior ou igual a 98 %, em peso",
         6966,
         150
        ],
        [
         "90059010",
         "Partes e acessórios de binóculos",
         6932,
         3
        ],
        [
         "38089911",
         "Rodenticidas apresentados em formas ou embalagens exclusivamente para uso direto em aplicações domissanitárias, que contenham bromometano (brometo de metila) ou bromoclorometano",
         6903,
         2782
        ],
        [
         "70111021",
         "Bulbos de diâmetro inferior ou igual a 90 mm, de vidro, para lâmpadas de incandescência",
         6900,
         3231
        ],
        [
         "44079500",
         "Madeira de freixo (Fraxinus spp.), serrada ou fendida longitudinalmente, cortada transversalmente ou desenrolada, mesmo aplainada, lixada ou unida pelas extremidades, de espessura superior a 6 mm",
         6876,
         2550
        ],
        [
         "68159913",
         "Obras de pedras eletrofundidas, com um teor, em peso, de óxido de zircônio (ZrO2) superior ou igual a 50 % mesmo com um conteúdo de alumina inferior a 45 %",
         6814,
         173
        ],
        [
         "28299012",
         "Bromatos de potássio",
         6795,
         64
        ],
        [
         "29221912",
         "2,4-Diclorofenoxiacetato de triisopropanolamina",
         6659,
         2215
        ],
        [
         "84454039",
         "Outras meadeiras de matérias têxteis",
         6534,
         211
        ],
        [
         "28299039",
         "Outros iodatos",
         6442,
         1923
        ],
        [
         "51053100",
         "Pelos finos, cardados ou penteados, de cabra de Caxemira",
         6412,
         80
        ],
        [
         "60041093",
         "Tecidos de malha de largura superior a 30 cm, que contenham, em peso, 5 % ou mais de fios de elastômeros, mas que não contenham fios de borracha, exceto os da posição 60.01, de outras matérias têxteis, de fios de diversas cores",
         6412,
         44
        ],
        [
         "84717019",
         "Outras unidades de discos magnéticos",
         6406,
         44
        ],
        [
         "29372339",
         "Derivados e sais do estriol",
         6371,
         0
        ],
        [
         "29334911",
         "Ácido 2,3-quinolinodicarboxílico",
         6308,
         1
        ],
        [
         "29042051",
         "Nitrobenzeno",
         6209,
         2076
        ],
        [
         "29349952",
         "Tetramisol",
         6200,
         225
        ],
        [
         "07123200",
         "Orelhas-de-judas (Auricularia spp.), secos, mesmo cortados, etc.",
         6175,
         950
        ],
        [
         "28092030",
         "Ácido pirofosfórico",
         6094,
         500
        ],
        [
         "84483240",
         "Partes e acessórios de máquinas para preparação da seda",
         6000,
         15
        ],
        [
         "52041911",
         "Outras linhas para costurar, de algodão cru, de título inferior ou igual a 5.000 decitex por fio simples, de dois cabos",
         5979,
         67
        ],
        [
         "28469020",
         "Cloretos dos demais metais das terras raras",
         5933,
         70
        ],
        [
         "29372370",
         "Linestrenol",
         5814,
         0
        ],
        [
         "03019999",
         "Outros peixes vivos",
         5813,
         12
        ],
        [
         "29359095",
         "Bumetanida",
         5800,
         1
        ],
        [
         "28273994",
         "Cloreto de estrôncio",
         5588,
         301
        ],
        [
         "29332924",
         "Nitrato de isoconazol",
         5582,
         101
        ],
        [
         "84472010",
         "Teares retilíneos, para malhas, manuais",
         5565,
         360
        ],
        [
         "37024290",
         "Outros filmes, sensibilizados, não impressionados, em rolos, de largura superior a 610 mm e comprimento superior a 200 m, exceto para fotografia a cores (policromo)",
         5547,
         314
        ],
        [
         "90105020",
         "Aparelhos para revelação automática de chapas de fotopolímeros com suporte metálico",
         5538,
         37
        ],
        [
         "29211132",
         "Cloridrato de trimetilamina",
         5494,
         110
        ],
        [
         "29121923",
         "Bergamal (3,7-dimetil-2-metileno-6-octenal)",
         5470,
         100
        ],
        [
         "90101010",
         "Cubas e cubetas, de operação automática e programáveis, para revelação de filmes",
         5388,
         10
        ],
        [
         "29339139",
         "Sais de fludiazepam, flunitrazepam, etc.",
         5288,
         0
        ],
        [
         "44189100",
         "Outras obras de marcenaria e peças de carpintaria para construções, incluindo os painéis celulares, os painéis montados para revestimento de pisos (pavimentos) e as fasquias para telhados (shingles e shakes), de bambu",
         5256,
         2500
        ],
        [
         "29396919",
         "Outros derivados da ergometrina (DCI) e seus sais",
         5182,
         0
        ],
        [
         "28419089",
         "Outros aluminatos",
         5181,
         50
        ],
        [
         "29146920",
         "Menadiona",
         5146,
         4
        ],
        [
         "29109010",
         "Óxido de estireno",
         5129,
         545
        ],
        [
         "29214221",
         "3, 4-dicloroanilina e seus sais",
         5064,
         12
        ],
        [
         "52062500",
         "Fios simples de algodão, de fibras penteadas, que contenham menos de 85 %, em peso, de algodão, não acondicionados para venda a retalho, de título inferior a 125 decitex (número métrico superior a 80)",
         5020,
         210
        ],
        [
         "29224932",
         "Sais do ácido iminodiacético",
         4990,
         336
        ],
        [
         "29321910",
         "Ranitidina e seus sais",
         4873,
         56
        ],
        [
         "29215929",
         "Outros diaminodifenilmetanos",
         4800,
         1600
        ],
        [
         "55103090",
         "Outros fios de fibras artificiais descontínuas, combinados, principal ou unicamente, com algodão, obtidos a partir de fibras que não sejam de celulose",
         4770,
         651
        ],
        [
         "08084000",
         "Marmelos, frescos",
         4747,
         4704
        ],
        [
         "84723090",
         "Outras máquinas para selecionar, dobrar, envelopar ou cintar correspondência, máquinas para abrir, fechar ou lacrar correspondência e máquinas para colar ou obliterar selos",
         4725,
         16
        ],
        [
         "71189000",
         "Outras moedas",
         4704,
         485
        ],
        [
         "29391152",
         "Hidrocodona e seus sais",
         4699,
         0
        ],
        [
         "72272000",
         "Fio-máquina de outras ligas de aço, de aços silício-manganês",
         4696,
         5014
        ],
        [
         "73045111",
         "Tubos capilares de diâmetro exterior inferior ou igual a 3 mm e diâmetro interior inferior ou igual a 0,2 mm",
         4628,
         19
        ],
        [
         "29391192",
         "Tebaína e seus sais",
         4613,
         0
        ],
        [
         "29339163",
         "Nordazepam",
         4490,
         0
        ],
        [
         "52053500",
         "Fios de algodão retorcidos ou retorcidos múltiplos, de fibras não penteadas, que contenham pelo menos 85 %, em peso, de algodão, não acondicionados para venda a retalho, de título < 125 decitex por fio simples (número métrico > 80, por fio simples)",
         4481,
         18
        ],
        [
         "81124900",
         "Obras e outros produtos de rênio",
         4474,
         3
        ],
        [
         "39119013",
         "Polietersulfonas (PES) e seus copolímeros, com carga, em formas primárias",
         4419,
         200
        ],
        [
         "29024200",
         "M-xileno",
         4415,
         20
        ],
        [
         "29333982",
         "Cloridrato de mepivacaína",
         4382,
         5
        ],
        [
         "29411039",
         "Outras penicilinas V, derivados e sais",
         4379,
         2
        ],
        [
         "29221600",
         "Perfluoroctanossulfonato de dietanolamônio",
         4351,
         960
        ],
        [
         "28521029",
         "Outros compostos orgânicos de mercúrio",
         4285,
         7
        ],
        [
         "28419060",
         "Antimoniatos",
         4274,
         6
        ],
        [
         "29333363",
         "Fentanil",
         4171,
         0
        ],
        [
         "37029800",
         "Outros filmes sensibilizados, não impressionados, de largura superior a 35 mm",
         4066,
         6
        ],
        [
         "29400029",
         "Outros sais, derivados halogenados, sulfonados, etc, do ácido lactobiônico",
         4046,
         0
        ],
        [
         "81101020",
         "Antimônio em pós",
         4017,
         0
        ],
        [
         "29163910",
         "Cloreto de 4-cloro-alfa-(1-metiletil) benzenoacetila",
         4006,
         92
        ],
        [
         "29049930",
         "Cloreto de p-toluenossulfonila (cloreto de tosila)",
         3976,
         16
        ],
        [
         "63062910",
         "Tendas, de algodão",
         3852,
         383
        ],
        [
         "29349924",
         "Furazolidona",
         3820,
         200
        ],
        [
         "28332510",
         "Sulfato cuproso",
         3798,
         1053
        ],
        [
         "29359091",
         "Cloramina-B e cloramina-T",
         3747,
         27
        ],
        [
         "28273950",
         "Cloreto de antimônio",
         3710,
         17
        ],
        [
         "29036910",
         "Iodoetano",
         3618,
         24
        ],
        [
         "85406010",
         "Tubos de visualização de dados gráficos, em cores, com uma tela de espaçamento entre os pontos superior ou igual a 0,4 mm",
         3603,
         4
        ],
        [
         "29081912",
         "Diclorofenóis e seus sais",
         3584,
         25
        ],
        [
         "57025010",
         "Tapetes revestidos para pavimento, não aveludado, não confeccionado, de lã ou de pelos finos",
         3576,
         108
        ],
        [
         "29032100",
         "Cloreto de vinila (cloroetileno)",
         3528,
         253
        ],
        [
         "29089929",
         "Outros derivados nitroalogenados",
         3527,
         172
        ],
        [
         "29241949",
         "Crotonamidas e outros derivados deste produto",
         3525,
         400
        ],
        [
         "29332923",
         "Cloridrato de clonidina",
         3451,
         0
        ],
        [
         "55152200",
         "Tecido de fibras descontínuas acrílicas ou modacrílicas, combinadas, principal ou unicamente, com lã ou pelos finos",
         3409,
         85
        ],
        [
         "29039915",
         "Cloronaftalenos",
         3341,
         36
        ],
        [
         "29400012",
         "Arabinose",
         3315,
         0
        ],
        [
         "48101481",
         "Papel metalizado,sem fibra obtida por processo mecânico ou químico-mecânico ou em que a percentagem destas fibras < 10 %,em peso,do conteúdo total de fibras,de peso > 150 g/m2,em folhas em que um dos lados < 435 mm e o outro <  297 mm,quando não dobradas",
         3239,
         1501
        ],
        [
         "60054300",
         "Tecidos de malha-urdidura (incluindo os fabricados em teares para galões), exceto os das posições 60.01 a 60.04, de fibras artificiais, de fios de diversas cores",
         3166,
         55
        ],
        [
         "28521011",
         "Óxidos de mercúrio, inorgânicos",
         3096,
         14
        ],
        [
         "29333933",
         "Acido isonicotínico",
         3075,
         19
        ],
        [
         "29339129",
         "Sais de delorazepam, diazepam ou estazolam",
         3047,
         0
        ],
        [
         "84451924",
         "Abridoras de fibras de lã",
         3036,
         7144
        ],
        [
         "26171000",
         "Minérios de antimônio e seus concentrados",
         2994,
         0
        ],
        [
         "03061910",
         "Krill (Euphausia superba), congelado",
         2975,
         530
        ],
        [
         "81121900",
         "Obras de berílio",
         2966,
         3
        ],
        [
         "29027000",
         "Cumeno",
         2898,
         210
        ],
        [
         "39072949",
         "Outros Poli(epicloridrina) (PECH) e seus copolímeros, não classificados em códigos anteriores",
         2896,
         494
        ],
        [
         "84483911",
         "Partes e acessórios de máquinas de filatórios intermitentes (selfatinas), para preparação de matérias têxteis",
         2880,
         11
        ],
        [
         "85271990",
         "Outros aparelhos receptores de radiodifusão, à pilha/elétricos, etc",
         2837,
         1196
        ],
        [
         "29211924",
         "Diisopropilamina e seus sais",
         2746,
         178
        ],
        [
         "29419079",
         "Outros poliéteres e seus sais",
         2740,
         10
        ],
        [
         "29051992",
         "Isononanol",
         2725,
         281
        ],
        [
         "70151010",
         "Vidro para lentes corretivas, fotocromático, não trabalhado opticamente",
         2719,
         88
        ],
        [
         "26050000",
         "Minérios de cobalto e seus concentrados",
         2706,
         15
        ],
        [
         "38249913",
         "Produtos intermediários da fabricação de antibióticos ou de vitaminas ou de outros produtos da posição 29.36, da fabricação da primicina amônica",
         2656,
         20
        ],
        [
         "29349932",
         "Cloridrato de prazosina",
         2594,
         5
        ],
        [
         "29183020",
         "Butirilacetato de metila",
         2539,
         40
        ],
        [
         "95084000",
         "Teatros ambulantes",
         2495,
         1735
        ],
        [
         "52041120",
         "Linhas para costurar, não acondicionadas para venda a retalho, que contenham pelo menos 85 %, em peso, de algodão, de algodão cru, de título superior a 5.000 decitex por fio simples",
         2485,
         500
        ],
        [
         "29419072",
         "Narasina",
         2475,
         0
        ],
        [
         "29051923",
         "Etilato de sódio",
         2450,
         14
        ],
        [
         "38249933",
         "Misturas e preparações para borracha ou plástico e outras misturas e preparações para endurecer resinas sintéticas, colas, pinturas ou usos similares, que contenham polietilenoaminas e dietilenotriaminas, próprias para a coagulação do látex",
         2392,
         5
        ],
        [
         "09082200",
         "Macis, triturado ou em pó",
         2343,
         100
        ],
        [
         "29215939",
         "Outras diaminodifenilaminas, seus derivados e seus sais",
         2340,
         225
        ],
        [
         "84659592",
         "Outras máquinas-ferramentas para escatelar madeira, cortiça, osso, etc.",
         2322,
         456
        ],
        [
         "51053900",
         "Outros pelos finos, cardados ou penteados",
         2296,
         300
        ],
        [
         "55109013",
         "Outros fios de fibras artificiais descontínuas, obtidos a partir de fibras de celulose, de liocel",
         2268,
         139
        ],
        [
         "84729091",
         "Máquinas para imprimir endereços ou para estampar placas de endereços",
         2210,
         13
        ],
        [
         "29349944",
         "Ácido 7-aminodesacetoxicefalosporânico",
         2203,
         0
        ],
        [
         "29241100",
         "Meprobamato (DCI)",
         2150,
         0
        ],
        [
         "85409140",
         "Painel de vidro, máscara de sombra e blindagem interna, reunidos, para tubos tricromáticos",
         2125,
         41
        ],
        [
         "29339992",
         "Ácido nalidíxico",
         2124,
         0
        ],
        [
         "29389010",
         "Deslanosídio",
         1990,
         0
        ],
        [
         "73170030",
         "Pontas ou dentes para máquinas têxteis, de ferro fundido, ferro ou aço",
         1982,
         28
        ],
        [
         "29349170",
         "Sufentanila e seus sais",
         1895,
         0
        ],
        [
         "84733034",
         "Mecanismos bobinadores para unidades de fitas magnéticas (magnetic tape transporter)",
         1882,
         66
        ],
        [
         "48026299",
         "Outros papéis e cartões, em que mais de 10 %, em peso, do conteúdo total de fibras seja constituído por fibras obtidas por processo mecânico ou químico-mecânico, em folhas em que um lado < 435 mm e o outro < 297 mm, quando não dobradas",
         1873,
         92
        ],
        [
         "39119011",
         "Politerpenos modificados quimicamente, exceto com fenóis, com carga, em formas primárias",
         1843,
         325
        ],
        [
         "29214660",
         "Fentermina e seus sais",
         1804,
         0
        ],
        [
         "29372239",
         "Fluorcortolona e outros derivados",
         1797,
         0
        ],
        [
         "29349942",
         "Ácido 6-aminopenicilânico",
         1758,
         0
        ],
        [
         "29394520",
         "Metanfetamina e seus sais",
         1731,
         0
        ],
        [
         "28469030",
         "Gadopentetato de dimeglumina",
         1709,
         4
        ],
        [
         "32030013",
         "Morina (matéria corante)",
         1686,
         5
        ],
        [
         "41071990",
         "Couros e peles inteiros de equídeos, preparados após curtimenta",
         1684,
         31
        ],
        [
         "29189929",
         "Outros ácidos fenoxibutanóicos, seus sais e seus ésteres; derivados destes produtos",
         1653,
         61
        ],
        [
         "29372322",
         "DL-Norgestrel",
         1639,
         0
        ],
        [
         "27082000",
         "Coque de breu obtido a partir do alcatrão de hulha ou de outros alcatrões minerais",
         1571,
         60
        ],
        [
         "29339911",
         "Pirazinamida",
         1515,
         0
        ],
        [
         "44170020",
         "Formas, alargadeiras e esticadores para calçados, de madeira",
         1438,
         393
        ],
        [
         "29039918",
         "Bifenilas policloradas (PCB); terfenilas policloradas (PCT)",
         1413,
         0
        ],
        [
         "29049912",
         "1-Cloro-2,4-dinitrobenzeno",
         1374,
         1
        ],
        [
         "29031120",
         "Cloroetano (cloreto de etila)",
         1371,
         8
        ],
        [
         "38249943",
         "Misturas à base de trimetil-3,9-dietildecano",
         1334,
         6
        ],
        [
         "29391161",
         "Morfina",
         1325,
         0
        ],
        [
         "29321950",
         "Diacetato de 5-nitrofurfurilideno (NFDA)",
         1324,
         6
        ],
        [
         "44032100",
         "Madeira em bruto, mesmo descascada, desalburnada ou esquadriada, de pinheiro (Pinus spp.), cuja maior dimensão da seção transversal é igual ou superior a 15 cm",
         1289,
         28180
        ],
        [
         "91111000",
         "Caixas de relógios, de metais preciosos ou de metais folheados ou chapeados de metais preciosos (plaquê)",
         1282,
         0
        ],
        [
         "63063090",
         "Velas para embarcações, para pranchas a vela ou para carros a vela, de outras matérias têxteis",
         1269,
         137
        ],
        [
         "84479010",
         "Máquinas para fabricação de redes, tules ou filós",
         1257,
         360
        ],
        [
         "29130010",
         "Tricloroacetaldeído",
         1232,
         19
        ],
        [
         "29400092",
         "Frutose-1,6-difosfato de cálcio ou de sódio",
         1231,
         0
        ],
        [
         "29335935",
         "6-mercaptopurina",
         1208,
         0
        ],
        [
         "29309094",
         "Dimetiltiofosforamida",
         1203,
         5
        ],
        [
         "55052000",
         "Desperdícios de fibras artificiais (incluindo os desperdícios da penteação, os de fios e os fiapos)",
         1132,
         214
        ],
        [
         "29124920",
         "3-Hidroxibenzaldeído",
         1128,
         3
        ],
        [
         "70159030",
         "Vidro para os demais óculos",
         1126,
         1
        ],
        [
         "29333984",
         "Dicloreto de paraquat",
         1121,
         0
        ],
        [
         "52041931",
         "Linhas para costurar, de algodão, não acondicionadas para venda a retalho, de algodão branqueado ou colorido, de título inferior ou igual a 5.000 decitex por fio simples, de dois cabos",
         1086,
         5
        ],
        [
         "51113010",
         "Tecido de lã, cardada, feltrados, com trama combinada exclusivamente com fibras sintéticas e urdidura exclusivamente de algodão, de peso superior ou igual a 600 g/m2, próprios para fabricação de bolas de tênis",
         1076,
         6
        ],
        [
         "29309031",
         "2-(Etiltio)etanol, com uma concentração superior ou igual a 98 %, em peso",
         1076,
         11
        ],
        [
         "29414019",
         "Outros ésteres do cloranfenicol",
         1075,
         0
        ],
        [
         "29397290",
         "Ésteres e outros derivados de cocaína e ecgonina",
         1069,
         0
        ],
        [
         "84733099",
         "Outras partes e acessórios para máquinas automáticas de processamento de dados",
         1060,
         365
        ],
        [
         "78060020",
         "Tubos e acessórios (uniões, luvas, etc) chumbo",
         1051,
         0
        ],
        [
         "39119012",
         "Polieterimidas (PEI) e seus copolímeros, com carga, em formas primárias",
         1042,
         75
        ],
        [
         "68114000",
         "Obras de fibrocimento, cimento-celulose ou produtos semelhantes, que contenham amianto",
         1024,
         3
        ],
        [
         "28419070",
         "Zincatos",
         1020,
         25
        ],
        [
         "29341020",
         "Cloridrato de tiazolidina",
         1000,
         1
        ],
        [
         "29036200",
         "Dibrometo de etileno (ISO) (1,2-dibromoetano)",
         983,
         3
        ],
        [
         "15122100",
         "Óleo de algodão, em bruto, mesmo desprovido de gossipol",
         965,
         25
        ],
        [
         "48059210",
         "Papel com fibras de vidro, de peso superior a 150 g/m2, mas inferior a 225 g/m2",
         910,
         84
        ],
        [
         "64019910",
         "Outros calçados cobrindo o joelho, sola exterior de borracha/plástico",
         891,
         290
        ],
        [
         "93069020",
         "Outras granadas, que produzem efeitos fumígenos, de iluminação, de som ou de identificação mediante tintas ou corantes",
         878,
         38
        ],
        [
         "74031200",
         "Barras para obtenção de fios (wire-bars), de cobre refinado, em formas brutas",
         878,
         3
        ],
        [
         "81123100",
         "Háfnio (céltio) em formas brutas; desperdícios e resíduos, e sucata; pós",
         864,
         0
        ],
        [
         "29093021",
         "Oxifluorfeno",
         856,
         18
        ],
        [
         "81121200",
         "Berílio em formas brutas, e berílio em pós",
         856,
         0
        ],
        [
         "61032910",
         "Conjuntos de malha, de uso masculino, de lã ou de pelos finos",
         855,
         22
        ],
        [
         "29397210",
         "Cocaína e seus sais",
         850,
         0
        ],
        [
         "97052200",
         null,
         841,
         30
        ],
        [
         "30039088",
         "Medicamento contendo topotecan, uracil, etc, exceto em doses",
         826,
         0
        ],
        [
         "28529000",
         "Outros compostos de mercúrio",
         819,
         6
        ],
        [
         "48010020",
         "Papel de jornal, em folhas, mas que nenhum lado exceda 360 mm, quando não dobradas",
         814,
         49
        ],
        [
         "38249974",
         "Preparações à base de hidróxido de níquel ou de cádmio, de óxido de cádmio ou de óxido ferroso férrico, próprios para a fabricação de acumuladores alcalinos",
         798,
         23
        ],
        [
         "29156021",
         "Acido piválico",
         762,
         2
        ],
        [
         "29333912",
         "Droperidol",
         758,
         0
        ],
        [
         "29224300",
         "Ácido antranilico e seus sais",
         732,
         100
        ],
        [
         "29309023",
         "4-Metil-3-tiosemicarbazida",
         725,
         0
        ],
        [
         "29280041",
         "Fenilidrazina",
         701,
         3
        ],
        [
         "29372110",
         "Cortisona",
         687,
         0
        ],
        [
         "29189950",
         "Ácido 3-(2-cloro-alfa, alfa, alfa-trifluor-p-toliloxi)benzóico",
         687,
         0
        ],
        [
         "91129000",
         "Partes para caixas e semelhantes para aparelhos de relojoaria",
         655,
         7
        ],
        [
         "44072960",
         "Madeira serrada ou fendida longitudinalmente, cortada transversalmente ou desenrolada, mesmo aplainada, lixada ou unida pelas extremidades, de espessura superior a 6 mm, de cabreúva Parda (Myrocarpus spp.)",
         651,
         9320
        ],
        [
         "29308030",
         "Metamidofós",
         635,
         0
        ],
        [
         "85409130",
         "Canhões eletrônicos para tubos catódicos",
         608,
         20
        ],
        [
         "29037800",
         "Outros derivados peralogenados",
         567,
         0
        ],
        [
         "03091000",
         null,
         555,
         1
        ],
        [
         "28273991",
         "Cloreto de cádmio",
         542,
         0
        ],
        [
         "29029030",
         "Antraceno",
         535,
         0
        ],
        [
         "29202400",
         "Fosfito de trietila",
         511,
         4
        ],
        [
         "20084010",
         "Pêras, preparadas ou conservadas em água edulcorada, incluindo os xaropes",
         509,
         92
        ],
        [
         "29309054",
         "Dimetoato",
         496,
         0
        ],
        [
         "28299029",
         "Outros perbromatos",
         492,
         18
        ],
        [
         "61041910",
         "Tailleurs de malha, de uso feminino, de lã ou de pelos finos",
         490,
         1
        ],
        [
         "29031920",
         "1,1,2-Tricloroetano",
         482,
         1
        ],
        [
         "29333994",
         "4,4'-Bipiridina",
         460,
         2
        ],
        [
         "28273970",
         "Cloreto de bismuto",
         458,
         0
        ],
        [
         "37025411",
         "Outros filmes, para fotografia a cores (policromo), de largura igual a 35 mm, exceto para diapositivos, em bobinas (filmpacks)",
         453,
         3
        ],
        [
         "29349941",
         "Tiofeno",
         438,
         5
        ],
        [
         "29333993",
         "3-Cianopiridina",
         433,
         0
        ],
        [
         "29211200",
         "Cloridrato de 2-cloroetil(N,N-dimetilamina)",
         391,
         1
        ],
        [
         "30024113",
         "Vacina contra a hepatite B, exceto em doses",
         390,
         0
        ],
        [
         "29349927",
         "Estavudina",
         387,
         0
        ],
        [
         "48025591",
         "Papel de desenho, sem fibra obtida por processo mecânico, de peso igual ou superior a 40 g/m2, mas não superior a 150 g/m2, em rolos",
         381,
         39
        ],
        [
         "55134990",
         "Outros tecidos < 85% de fibras descontínuas sintéticas combinadas com algodão",
         371,
         2
        ],
        [
         "29224931",
         "Ácido iminodiacético",
         364,
         0
        ],
        [
         "52064300",
         "Fios retorcidos ou retorcidos múltiplos de algodão, de fibras penteadas, que contenham menos de 85 %, em peso, de algodão, não acondicionados para venda a retalho, de título < 232,56 decitex mas não inferior a 192,31 decitex (número métrico superior a 43",
         360,
         11
        ],
        [
         "28332920",
         "Sulfato de lítio",
         349,
         2
        ],
        [
         "29181922",
         "Ácido quenodeoxicólico",
         349,
         0
        ],
        [
         "75051221",
         "Perfis ocos de ligas de níquel",
         344,
         4
        ],
        [
         "29393020",
         "Sais da cafeína",
         338,
         0
        ],
        [
         "29315911",
         "Ácido clodrônico e seu sal dissódico",
         337,
         0
        ],
        [
         "29333319",
         "Sais de alfentanil ou de anileridina",
         337,
         0
        ],
        [
         "48025692",
         "Papel de desenho, de peso igual ou superior a 40 g/m2, mas não superior a 150 g/m2, em folhas em que um lado não seja superior a 435 mm e o outro não seja superior a 297 mm, quando não dobradas",
         335,
         112
        ],
        [
         "28273940",
         "Cloreto de zircônio",
         335,
         1
        ],
        [
         "28439019",
         "Dexormaplatina; enloplatina; iproplatina; lobaplatina; miboplatina; ormaplatina; sebriplatina e zeniplatina, apresentadas de outra forma",
         327,
         0
        ],
        [
         "29215135",
         "N-Fenil-p-fenilenodiamina (4-aminodifenilamina) e seus sais",
         323,
         15
        ],
        [
         "52052100",
         "Fios de algodão simples, de fibras penteadas, de título igual ou superior a 714,29 decitex (número métrico não superior a 14)",
         323,
         93
        ],
        [
         "29339181",
         "Temazepam",
         314,
         0
        ],
        [
         "29339151",
         "Mazindol",
         304,
         0
        ],
        [
         "29359096",
         "Sulfaguanidina",
         303,
         0
        ],
        [
         "29093013",
         "Éter dibenzílico (eter benzílico)",
         303,
         7
        ],
        [
         "28256010",
         "Óxidos de germanio",
         301,
         0
        ],
        [
         "29335330",
         "Ciclobarbital e seus sais",
         284,
         0
        ],
        [
         "28415011",
         "Cromato de amônio; dicromato de amônio",
         282,
         25
        ],
        [
         "28469010",
         "Óxido de praseodímio",
         278,
         0
        ],
        [
         "29214322",
         "Trifluralina",
         275,
         0
        ],
        [
         "29396300",
         "Ácido lisérgico e seus sais",
         275,
         0
        ],
        [
         "29339951",
         "Benomil",
         269,
         0
        ],
        [
         "44072950",
         "Madeira serrada ou fendida longitudinalmente, cortada transversalmente ou desenrolada, mesmo aplainada, lixada ou unida pelas extremidades, de espessura superior a 6 mm, de canafístula (Peltophorum vogelianum)",
         269,
         2600
        ],
        [
         "28372022",
         "Ferricianeto de ferro ii (ferricianeto ferroso)",
         265,
         3
        ],
        [
         "28416920",
         "Manganatos",
         265,
         0
        ],
        [
         "85176221",
         "Centrais automáticas públicas, para comutação eletrônica, incluindo as de trânsito",
         260,
         4
        ],
        [
         "29333381",
         "Petidina",
         259,
         0
        ],
        [
         "28291990",
         "Outros cloratos",
         251,
         1
        ],
        [
         "29329600",
         "Carbofurano (ISO)",
         248,
         0
        ],
        [
         "71104900",
         "Irídio, ósmio e rutênio, em formas semimanufaturadas",
         247,
         0
        ],
        [
         "28539012",
         "Fosfetos, de constituição química definida ou não, de magnésio",
         241,
         2
        ],
        [
         "29081929",
         "Outros derivados halogenados e seus sais, com bromo",
         232,
         0
        ],
        [
         "68128000",
         "Obras de crocidolita (amianto) ou em fibras",
         204,
         1
        ],
        [
         "39139040",
         "Proteínas endurecidas, em formas primárias",
         202,
         0
        ],
        [
         "50030090",
         "Outros desperdícios de seda",
         202,
         0
        ],
        [
         "29308010",
         "Aldicarb",
         200,
         0
        ],
        [
         "29081914",
         "Triclorofenóis e seus sais",
         195,
         1
        ],
        [
         "29252940",
         "Isetionato de pentamidina",
         195,
         0
        ],
        [
         "29163930",
         "Ácido 4-cloro-3-nitrobenzóico",
         194,
         25
        ],
        [
         "29339934",
         "Molinate (hexaidroazepin-1-carbotioato de s-e",
         193,
         0
        ],
        [
         "29339172",
         "Pirovalerona",
         193,
         0
        ],
        [
         "48101482",
         "Papel baritado, sem fibra obtida por processo mecânico ou químico-mecânico ou em que a percentagem destas fibras < 10 %,em peso,do conteúdo total de fibras,de peso > 150 g/m2,em folhas em que um dos lados < 435 mm e o outro <  297 mm,quando não dobradas",
         190,
         7
        ],
        [
         "29081100",
         "Pentaclorofenol (ISO) e seus sais",
         186,
         0
        ],
        [
         "84129010",
         "Partes de propulsores à reação",
         184,
         0
        ],
        [
         "29224952",
         "Cloridrato do cloreto de d(-)alfa-aminobenzenoacetila",
         184,
         0
        ],
        [
         "29181700",
         "Ácido fenilglicólico (ácido mandélico), seus sais e ésteres",
         182,
         6
        ],
        [
         "29252100",
         "Clordimeforme",
         180,
         0
        ],
        [
         "29038110",
         "Lindano",
         173,
         0
        ],
        [
         "28051920",
         "Bário",
         169,
         0
        ],
        [
         "52041140",
         "Linhas para costurar, não acondicionadas para venda a retalho, que contenham pelo menos 85 %, em peso, de algodão, de algodão branqueado ou colorido, de título superior a 5.000 decitex por fio simples",
         169,
         58
        ],
        [
         "29419011",
         "Rifamicina s",
         164,
         0
        ],
        [
         "29242500",
         "Alaclor (ISO)",
         162,
         0
        ],
        [
         "37025499",
         "Outros filmes para foto a cores, não impressionado, de largura superior a 16 mm, mas não superior a 35 mm, e comprimento não superior a 30 m, em rolos",
         161,
         1
        ],
        [
         "29269025",
         "Fenvalerato",
         161,
         0
        ],
        [
         "29214610",
         "Anfetamina e seus sais",
         160,
         0
        ],
        [
         "03079100",
         "Outros moluscos, invertebrados aquáticos, vivos, frescos, refrigerados",
         160,
         5
        ],
        [
         "29124930",
         "3,4,5-Trimetoxibenzaldeído",
         159,
         0
        ],
        [
         "54034200",
         "Fio de acetato de celulose, retorcido ou retorcido múltiplo",
         154,
         9
        ],
        [
         "29147100",
         "Clordecona (ISO)",
         152,
         0
        ],
        [
         "30021216",
         "Polivalentes",
         139,
         0
        ],
        [
         "29349129",
         "Sais de clotiazepam, cloxazolam, dextromoramida",
         135,
         0
        ],
        [
         "29042020",
         "Nitropropanos",
         131,
         0
        ],
        [
         "85409110",
         "Bobinas de deflexão (yokes), para tubos catódicos",
         125,
         0
        ],
        [
         "29339996",
         "Hidrazida maleica e seus sais",
         124,
         0
        ],
        [
         "29203000",
         "Endossulfan (ISO)",
         123,
         0
        ],
        [
         "29104000",
         "Dieldrin",
         120,
         0
        ],
        [
         "53072090",
         "Fios de outras fibras têxteis liberianas, retorcidos ou retorcidos múltiplos",
         118,
         60
        ],
        [
         "69091920",
         "Outros guias de agulhas para cabeças de impressão, de outras cerâmicas",
         117,
         0
        ],
        [
         "12079190",
         "Outras sementes de dormideira ou papoula, mesmo trituradas",
         114,
         4
        ],
        [
         "29189100",
         "Ácido 2, 4, 5-triclorofenoxiacético",
         112,
         0
        ],
        [
         "29081915",
         "Tetraclorofenóis e seus sais",
         110,
         0
        ],
        [
         "29145020",
         "1,8-Diidroxi-3-metil-9-antrona e sua forma enólica (crisarobina ou chrysarobin)",
         107,
         1
        ],
        [
         "29201120",
         "Paration-metila (metil paration)",
         105,
         0
        ],
        [
         "29201110",
         "Paration (etil paration)",
         101,
         0
        ],
        [
         "28415016",
         "Cromato de chumbo",
         91,
         0
        ],
        [
         "29038210",
         "Aldrin",
         88,
         0
        ],
        [
         "29391151",
         "Heroina e seus sais",
         86,
         0
        ],
        [
         "29089200",
         "4,6-dinitro-o-cresol (dnoc (iso)) e seus sais",
         86,
         0
        ],
        [
         "28419013",
         "Titanatos de cálcio ou de estrôncio",
         85,
         0
        ],
        [
         "48101982",
         "Outros papéis baritados (revestidos de óxido ou sulfato de bário), de peso superior a 150 g/m2, fibra <= 10%",
         84,
         3
        ],
        [
         "29039220",
         "DDT",
         80,
         0
        ],
        [
         "29336916",
         "Anilazina",
         76,
         0
        ],
        [
         "29339945",
         "Buflomedil e seus derivados; sais destes produtos",
         70,
         0
        ],
        [
         "93062130",
         "Outros cartuchos, com um ou mais projéteis de elastômeros",
         69,
         2
        ],
        [
         "29339963",
         "Triazofos (fósforotioato de o, o-dietila o-(1",
         66,
         0
        ],
        [
         "38271190",
         null,
         64,
         0
        ],
        [
         "29339200",
         "Azinfós metil (ISO)",
         63,
         0
        ],
        [
         "29302024",
         "Metam sódio",
         62,
         0
        ],
        [
         "56039130",
         "Outros falsos tecidos de raiom viscose, de peso não superior a 25 g/m2",
         62,
         20
        ],
        [
         "29214323",
         "4-Cloro-2-toluidina",
         62,
         0
        ],
        [
         "28062000",
         "Ácido clorossulfúrico",
         61,
         0
        ],
        [
         "56031140",
         "Falsos tecidos de raiom viscose, mesmo impregnados, revestidos, recobertos ou estratificados, de peso não superior a 25 g/m2",
         60,
         2
        ],
        [
         "29141940",
         "Pseudoiononas",
         49,
         0
        ],
        [
         "29211931",
         "Diisobutilamina e seus sais",
         48,
         1
        ],
        [
         "29319062",
         "Cloreto de dietialumínio",
         42,
         0
        ],
        [
         "29241220",
         "Fosfamidona",
         40,
         0
        ],
        [
         "73242100",
         "Banheiras de ferro fundido, mesmo esmaltadas",
         37,
         8
        ],
        [
         "48109910",
         "Outros papéis e cartões revestidos de caulim, em tiras ou rolos de largura não superior a 15 cm ou em folhas em que nenhum lado exceda 360 mm, quando não dobradas",
         37,
         3
        ],
        [
         "29214922",
         "Pendimetalina",
         34,
         0
        ],
        [
         "29242961",
         "Propanil",
         33,
         0
        ],
        [
         "28443000",
         "Urânio empobrecido em U235 e seus compostos; tório e seus compostos; ligas, dispersões (incluindo os ceramais (cermets)), produtos cerâmicos e misturas que contenham urânio empobrecido em U235, tório ou compostos destes produtos",
         31,
         0
        ],
        [
         "28419014",
         "Titanato de magnésio",
         28,
         0
        ],
        [
         "29339991",
         "Azinfos etílico",
         27,
         0
        ],
        [
         "28121300",
         "Tricloreto de fósforo",
         26,
         5
        ],
        [
         "84529094",
         "Corpos moldados por fundição",
         25,
         0
        ],
        [
         "37013010",
         "Outras chapas e filmes cuja dimensão de pelo menos um dos lados seja superior a 255 mm, para fotografia a cores (policromo)",
         23,
         7
        ],
        [
         "28161020",
         "Peróxido de magnésio",
         23,
         0
        ],
        [
         "29349914",
         "Anidrido isatóico (2h-3, 1-benzoxazina-2, 4-(1h",
         22,
         0
        ],
        [
         "28371919",
         "Outros cianetos",
         22,
         0
        ],
        [
         "29039921",
         "Bromobenzeno",
         15,
         0
        ],
        [
         "44079600",
         "Madeira serrada ou fendida longitudinalmente, cortada transversalmente ou desenrolada, mesmo aplainada, lixada ou unida pelas extremidades, de espessura superior a 6 mm, de bétula (vidoeiro) (Betula spp.)",
         15,
         12
        ],
        [
         "52051500",
         "Fios de algodão simples, de fibras não penteadas, de título inferior a 125 decitex (número métrico superior a 80), não acondicionados para venda a retalho",
         14,
         0
        ],
        [
         "52041940",
         "Linhas para costurar, de algodão, não acondicionadas para venda a retalho, de algodão branqueado ou colorido, de título superior a 5.000 decitex por fio simples",
         9,
         0
        ],
        [
         "29141922",
         "Acetonilacetona",
         5,
         0
        ],
        [
         "28121400",
         "Pentacloreto de fósforo",
         4,
         0
        ],
        [
         "29242945",
         "Iodamida",
         3,
         0
        ]
       ],
       "datasetInfos": [],
       "dbfsResultPath": null,
       "isJsonSchema": true,
       "metadata": {},
       "overflow": false,
       "plotOptions": {
        "customPlotOptions": {},
        "displayType": "table",
        "pivotAggregation": null,
        "pivotColumns": null,
        "xColumns": null,
        "yColumns": null
       },
       "removedWidgets": [],
       "schema": [
        {
         "metadata": "{}",
         "name": "CO_NCM",
         "type": "\"string\""
        },
        {
         "metadata": "{}",
         "name": "NO_NCM_POR",
         "type": "\"string\""
        },
        {
         "metadata": "{}",
         "name": "SUM_CIF",
         "type": "\"long\""
        },
        {
         "metadata": "{}",
         "name": "SUM_KG",
         "type": "\"long\""
        }
       ],
       "type": "table"
      }
     },
     "output_type": "display_data"
    }
   ],
   "source": [
    "%sql\n",
    "--Produtos que são apenas importados\n",
    "\n",
    "SELECT DISTINCT\n",
    "    imp.CO_NCM,\n",
    "    imp.NO_NCM_POR,\n",
    "    sum(imp.VL_CIF) AS SUM_CIF,\n",
    "    sum(imp.KG_LIQUIDO) AS SUM_KG\n",
    "FROM\n",
    "    gold.BD_importacao imp\n",
    "WHERE\n",
    "    imp.CO_NCM NOT IN (SELECT DISTINCT exp.CO_NCM FROM gold.BD_exportacao exp)\n",
    "GROUP BY ALL\n",
    "ORDER BY SUM_CIF DESC;"
   ]
  },
  {
   "cell_type": "code",
   "execution_count": 0,
   "metadata": {
    "application/vnd.databricks.v1+cell": {
     "cellMetadata": {
      "byteLimit": 2048000,
      "implicitDf": true,
      "rowLimit": 10000
     },
     "inputWidgets": {},
     "nuid": "1e3a9963-0625-4c01-bf4d-497941445bb4",
     "showTitle": true,
     "tableResultSettingsMap": {},
     "title": "Produtos que são apenas exportados"
    }
   },
   "outputs": [
    {
     "output_type": "display_data",
     "data": {
      "text/html": [
       "<style scoped>\n",
       "  .table-result-container {\n",
       "    max-height: 300px;\n",
       "    overflow: auto;\n",
       "  }\n",
       "  table, th, td {\n",
       "    border: 1px solid black;\n",
       "    border-collapse: collapse;\n",
       "  }\n",
       "  th, td {\n",
       "    padding: 5px;\n",
       "  }\n",
       "  th {\n",
       "    text-align: left;\n",
       "  }\n",
       "</style><div class='table-result-container'><table class='table-result'><thead style='background-color: white'><tr><th>CO_NCM</th><th>NO_NCM_POR</th><th>SUM_KG</th></tr></thead><tbody><tr><td>26011210</td><td>Minérios de ferro e seus concentrados, exceto as piritas de ferro ustuladas (cinzas de piritas), aglomerados por processo de peletização, de diâmetro superior ou igual a 8mm e inferior ou igual a 18mm</td><td>26124836972</td></tr><tr><td>23040090</td><td>Bagaços e outros resíduos sólidos, da extração do óleo de soja</td><td>17657150092</td></tr><tr><td>26060011</td><td>Bauxita não calcinada (minério de alumínio)</td><td>5240519373</td></tr><tr><td>20091200</td><td>Suco (sumo) de laranja, não fermentados, sem adição de álcool, com ou sem adição de açúcar ou de outros edulcorantes, não congelado, com valor Brix não superior a 20</td><td>1884552692</td></tr><tr><td>02071220</td><td>Carnes de galos/galinhas, não cortadas em pedaços, congeladas, sem miudezas</td><td>1033173866</td></tr><tr><td>44039800</td><td>Madeira em bruto, mesmo descascada, desalburnada ou esquadriada, de eucalipto (Eucalyptus spp.)</td><td>937781524</td></tr><tr><td>01022990</td><td>Outros bovinos vivos</td><td>348416682</td></tr><tr><td>02071422</td><td>Peitos desossados de galinha, comestíveis, congelados</td><td>330504204</td></tr><tr><td>20091100</td><td>Suco (sumo) de laranja, não fermentados, sem adição de álcool, com ou sem adição de açúcar ou de outros edulcorantes, congelado</td><td>300248778</td></tr><tr><td>44034200</td><td>Madeira em bruto, mesmo descascada, desalburnada ou esquadriada, de teca</td><td>269713871</td></tr><tr><td>08071900</td><td>Melões frescos</td><td>243398711</td></tr><tr><td>20091900</td><td>Outros sucos de laranjas, não fermentados, sem adição de álcool, com ou sem adição de açúcar ou de outros edulcorantes</td><td>235690009</td></tr><tr><td>02071423</td><td>Coxas com sobrecoxas desossadas de galinha, comestíveis, congelados</td><td>234314045</td></tr><tr><td>02071424</td><td>Carne mecanicamente separada de galinha, desossada, comestível, congelada</td><td>175414342</td></tr><tr><td>25249000</td><td>Outras formas de amianto</td><td>163563500</td></tr><tr><td>02071413</td><td>Asas não desossadas de galinha, comestíveis, congelados</td><td>161437023</td></tr><tr><td>26169000</td><td>Minérios de outros metais preciosos e seus concentrados</td><td>150715165</td></tr><tr><td>02109911</td><td>Carnes de galos e de galinhas</td><td>150168443</td></tr><tr><td>29012410</td><td>Buta-1, 3-dieno não saturado</td><td>141239642</td></tr><tr><td>02071412</td><td>Coxas com sobrecoxas não desossadas de galinha, comestíveis, congelados</td><td>139740501</td></tr><tr><td>08071100</td><td>Melancias frescas</td><td>132556048</td></tr><tr><td>02071434</td><td>Pés e patas de galinha, comestíveis, congelados</td><td>118088585</td></tr><tr><td>15079011</td><td>Óleo de soja, refinado, em recipientes com capacidade inferior ou igual a 5 litros</td><td>110442135</td></tr><tr><td>05040090</td><td>Bexigas e estômagos, de animais, exceto peixes, frescas, etc.</td><td>108134041</td></tr><tr><td>07133590</td><td>Feijão-fradinho, exceto para semeadura</td><td>88671363</td></tr><tr><td>02071419</td><td>Outros pedaços e miudezas não desossados, comestíveis de galos/galinhas, congelados</td><td>88385876</td></tr><tr><td>16023220</td><td>Preparações e conservas de galos e galinhas, com conteúdo de carne ou de miudezas superior ou igual a 57 %, em peso, cozidas</td><td>87845255</td></tr><tr><td>23011010</td><td>Farinhas, pós e pellets, de carnes; torresmos, impróprios para alimentação humana</td><td>68792667</td></tr><tr><td>02072700</td><td>Carnes de peruas/perus, em pedaços e miudezas, congeladas</td><td>58032242</td></tr><tr><td>26070000</td><td>Minérios de chumbo e seus concentrados</td><td>55203907</td></tr><tr><td>20098921</td><td>Água de coco (Cocos nucifera) com valor Brix não superior a 7,4</td><td>52708132</td></tr><tr><td>02032200</td><td>Pernas, pás e pedaços não desossados de suíno, congelados</td><td>51822457</td></tr><tr><td>02071421</td><td>Peitos, coxas e sobrecoxas, formando uma só peça, desossados de galinha, comestíveis, congelados</td><td>48743422</td></tr><tr><td>44032200</td><td>Madeira em bruto, mesmo descascada, desalburnada ou esquadriada, de pinheiro (Pinus spp.)</td><td>44916459</td></tr><tr><td>08072000</td><td>Mamões (papaias) frescos</td><td>43985501</td></tr><tr><td>04090000</td><td>Mel natural</td><td>37930740</td></tr><tr><td>12072900</td><td>Sementes de algodão, exceto para semeadura</td><td>36065250</td></tr><tr><td>20093100</td><td>Suco (sumo) de qualquer outro fruto cítrico, com valor Brix não superior a 20</td><td>28134413</td></tr><tr><td>14042010</td><td>Línteres de algodão, em bruto</td><td>27140514</td></tr><tr><td>25161100</td><td>Granito em bruto ou desbastado</td><td>26730739</td></tr><tr><td>02071439</td><td>Outras miudezas de galinha, comestíveis, congelados</td><td>24938547</td></tr><tr><td>02071432</td><td>Moelas de galinha, comestíveis, congelados</td><td>23865096</td></tr><tr><td>47031900</td><td>Pastas químicas de madeira, à soda ou ao sulfato, exceto pastas para dissolução, cruas, de não coníferas</td><td>20633043</td></tr><tr><td>15029000</td><td>Gorduras ovinas ou caprinas</td><td>19229386</td></tr><tr><td>02071411</td><td>Peitos não desossados de galinha, comestíveis, congelados</td><td>18164145</td></tr><tr><td>01029000</td><td>Outros animais vivos da espécie bovina</td><td>16439196</td></tr><tr><td>02099000</td><td>Outros toucinhos e gorduras</td><td>16302002</td></tr><tr><td>02062100</td><td>Línguas de bovino, congeladas</td><td>16228069</td></tr><tr><td>93062100</td><td>Cartuchos para espingardas ou carabinas de cano liso</td><td>15642003</td></tr><tr><td>85492900</td><td>Outros desperdícios e resíduos do tipo utilizado principalmente para a recuperação de metais preciosos, não classificados em códigos anteriores</td><td>12393680</td></tr><tr><td>02071431</td><td>Fígados de galinha, comestíveis, congelados</td><td>11217030</td></tr><tr><td>15012000</td><td>Outras gorduras de porco</td><td>11162286</td></tr><tr><td>02064100</td><td>Fígados de suíno, congelados</td><td>10580787</td></tr><tr><td>04072100</td><td>Outros ovos frescos de aves da espécie Gallus domesticus</td><td>10558503</td></tr><tr><td>11042300</td><td>Outros grãos trabalhados (por exemplo, descascados, em pérolas, cortados ou partidos), de milho</td><td>10510204</td></tr><tr><td>02071210</td><td>Carnes de galos/galinhas, não cortadas em pedaços, congeladas, com miudezas</td><td>10339562</td></tr><tr><td>23033000</td><td>Borras e desperdícios da indústria da cerveja e das destilarias</td><td>9435920</td></tr><tr><td>02071429</td><td>Outros pedaços desossados, comestíveis de galos/galinhas, congelados</td><td>9277801</td></tr><tr><td>27109900</td><td>Outros resíduos de óleos</td><td>8892747</td></tr><tr><td>48025693</td><td>Papel Kraft, de peso igual ou superior a 40 g/m2, mas não superior a 150 g/m2, em folhas em que um lado não seja superior a 435 mm e o outro não seja superior a 297 mm, quando não dobradas</td><td>8730708</td></tr><tr><td>04029900</td><td>Outros leites, cremes de leite, concentrados, adocicados</td><td>8395073</td></tr><tr><td>69051000</td><td>Telhas de cerâmica</td><td>7894632</td></tr><tr><td>07143000</td><td>Inhames (Dioscorea spp.)</td><td>7643724</td></tr><tr><td>20094900</td><td>Outros sucos de abacaxi</td><td>7008416</td></tr><tr><td>16023210</td><td>Preparações e conservas de galos e galinhas, com conteúdo de carne ou de miudezas superior ou igual a 57 %, em peso, não cozidas</td><td>6825529</td></tr><tr><td>02031900</td><td>Outras carnes de suíno, frescas ou refrigeradas</td><td>6599715</td></tr><tr><td>51011110</td><td>Lã suja, incluindo a lã lavada a dorso, não cardada nem penteada, de tosquia, de finura superior ou igual 22,05 micrômetros (mícrons) mas inferior ou igual a 32,6 micrômetros (mícrons)</td><td>6347209</td></tr><tr><td>05069000</td><td>Outros ossos e núcleos córneos, em bruto, desengordurado, etc.</td><td>5984379</td></tr><tr><td>08012100</td><td>Castanha-do-pará, fresca ou seca, com casca</td><td>5724601</td></tr><tr><td>04015029</td><td>Outros cremes de leite, com um teor, em peso, de matérias gordas, superior a 10 %, não concentrados nem adicionados de açúcar ou de outros edulcorantes</td><td>5568949</td></tr><tr><td>03032300</td><td>Tilápias (oreochromis spp.), congeladas</td><td>5427947</td></tr><tr><td>02032100</td><td>Carcaças e meias-carcaças de suíno, congeladas</td><td>5178816</td></tr><tr><td>03043100</td><td>Filés de tilápias (frescos, refrigerados ou conelados)</td><td>4756318</td></tr><tr><td>03038932</td><td>Pargo (Lutjanus purpureus), congelado</td><td>3769314</td></tr><tr><td>16023100</td><td>Preparações alimentícias e conservas, de peruas e de perus</td><td>3624128</td></tr><tr><td>48025892</td><td>Papel Kraft, sem fibras obtidas por processo mecânico ou químico-mecânico ou em que a percentagem destas fibras < 10 %, em peso, do conteúdo total de fibras, de peso > 150 g/m2</td><td>3462413</td></tr><tr><td>68118100</td><td>Chapas onduladas de fibrocimento, cimento-celulose, ou produtos semelhantes, que não contenham amianto</td><td>3430103</td></tr><tr><td>23064100</td><td>Torta de sementes de nabo silvestre ou de colza, com baixo teor de ácido erúcico</td><td>3391978</td></tr><tr><td>02074200</td><td>Carnes de patos, não cortadas em pedaços, congeladas</td><td>3184847</td></tr><tr><td>87163100</td><td>Reboques-cisternas para transporte de mercadorias</td><td>3087761</td></tr><tr><td>07099919</td><td>Milho doce, frescos ou refrigerados, exceto para semeadura</td><td>2976103</td></tr><tr><td>10081090</td><td>Trigo mourisco, exceto para semeadura</td><td>2784900</td></tr><tr><td>44129100</td><td>Madeira compensada (contraplacada), madeira folheada, e madeiras estratificadas semelhantes com, pelo menos, uma camada exterior de madeira tropical</td><td>2715154</td></tr><tr><td>02072500</td><td>Carnes de peruas/perus, não cortadas em pedaços, congeladas</td><td>2404879</td></tr><tr><td>16029000</td><td>Outras preparações alimentícias e conservas, de carnes, miudezas, incluindo as preparações de sangue de quaisquer animais</td><td>2353569</td></tr><tr><td>02050000</td><td>Carnes de animais das espécies cavalar, asinina e muar, frescas, refrigeradas ou congeladas.</td><td>2352494</td></tr><tr><td>03061110</td><td>Lagostas (Palinurus spp., Panulirus spp., Jasus spp.) inteiras, congeladas</td><td>2339517</td></tr><tr><td>04012010</td><td>Leite UHT (Ultra High Temperature), com um teor, em peso, de matérias gordas, superior a 1 %, mas não superior a 6 %, não concentrados nem adicionados de açúcar ou de outros edulcorantes</td><td>2266848</td></tr><tr><td>04089900</td><td>Outros ovos de aves, sem casca, frescos, cozidos em água, etc</td><td>2262609</td></tr><tr><td>48025791</td><td>Papel para impressão de papel-moeda, de peso igual ou superior a 40 g/m2, mas não superior a 150 g/m2</td><td>2227540</td></tr><tr><td>44071300</td><td>Madeira serrada ou fendida longitudinalmente, cortada transversalmente ou desenrolada, mesmo aplainada, lixada ou unida pelas extremidades, de espessura superior a 6 mm, de S-P-F (espruce (pícea) (Picea spp.), pinheiro (Pinus spp.) e abeto (Abies spp.))</td><td>2187351</td></tr><tr><td>12129300</td><td>Cana-de-açúcar, fresca, regrigerada, congelada ou seca</td><td>2052535</td></tr><tr><td>15011000</td><td>Banha de porco</td><td>1875280</td></tr><tr><td>41015030</td><td>Couros e peles em bruto, de bovinos, inteiros, de peso unitário superior a 16 kg, divididos, sem o lado flor</td><td>1865335</td></tr><tr><td>07133990</td><td>Outros feijões (Vigna ou Phaseolus), secos, em grãos</td><td>1705270</td></tr><tr><td>08042010</td><td>Figos frescos</td><td>1608724</td></tr><tr><td>04015021</td><td>Creme de leite UHT (Ultra High Temperature), com um teor, em peso, de matérias gordas, superior a 10 %, não concentrados nem adicionados de açúcar ou de outros edulcorantes</td><td>1588708</td></tr><tr><td>39122021</td><td>Nitrato de celulose, sem carga, em álcool, teor n/volat>=65%</td><td>1514930</td></tr><tr><td>04081900</td><td>Gemas de ovos, frescas, cozidas em água ou vapor, etc.</td><td>1430384</td></tr><tr><td>09011190</td><td>Café não torrado, não descafeinado, exceto em grão</td><td>1407816</td></tr><tr><td>23070000</td><td>Borras de vinho; tártaro em bruto</td><td>1345689</td></tr><tr><td>87042320</td><td>Veículos automóveis com motor diesel, caixa bascular, carga > 20 toneladas</td><td>1345051</td></tr><tr><td>03024700</td><td>Espadarte (Xiphias gladius), frescos ou refrigerados</td><td>1255273</td></tr><tr><td>04011010</td><td>Leite UHT (Ultra High Temperature), com um teor, em peso, de matérias gordas, não superior a 1 %, não concentrados nem adicionados de açúcar ou de outros edulcorantes</td><td>1227694</td></tr><tr><td>03061190</td><td>Outras lagostas (Palinurus spp., Panulirus spp., Jasus spp.), congeladas, exceto as inteiras</td><td>1178968</td></tr><tr><td>02022020</td><td>Quartos traseiros não desossados de bovino, congelados</td><td>991581</td></tr><tr><td>20098912</td><td>Suco de acerola (Malpighia spp.), com adição de açúcar e outros edulcorantes ou não</td><td>966363</td></tr><tr><td>51011190</td><td>Outras lãs de tosquia, suja, incluindo a lã lavada a dorso, não cardada nem penteada</td><td>962681</td></tr><tr><td>08109012</td><td>Anonas e outras frutas do gênero Annona </td><td>911372</td></tr><tr><td>41044120</td><td>Outros couros e peles de bovinos (incluindo os búfalos), curtidos ao vegetal, para solas, no estado seco (crust)</td><td>891736</td></tr><tr><td>19012000</td><td>Misturas e pastas para a preparação de produtos de padaria, pastelaria e da indústria de bolachas e biscoitos, da posição 19.05</td><td>874455</td></tr><tr><td>27101251</td><td>Gasolinas para aviação</td><td>869942</td></tr><tr><td>02022010</td><td>Quartos dianteiros não desossados de bovino, congelados</td><td>851939</td></tr><tr><td>08026100</td><td>Nozes de macadâmia, com casca, frescas ou secas</td><td>723071</td></tr><tr><td>08011900</td><td>Cocos frescos</td><td>681202</td></tr><tr><td>03023400</td><td>Albacoras-bandolim (patudos) frescos, refrigerados</td><td>659833</td></tr><tr><td>03057200</td><td>Cabeças, caudas e bexigas natatórias, de peixes</td><td>624443</td></tr><tr><td>03025900</td><td>Outros peixes das famílias bregmacerotidae, gadidae, etc.</td><td>609186</td></tr><tr><td>08045010</td><td>Goiabas frescas ou secas</td><td>589620</td></tr><tr><td>07069000</td><td>Beterrabas, rabanetes e outras raízes, frescas, refrigeradas</td><td>580192</td></tr><tr><td>41041990</td><td>Couros/peles, equídeos, úmidos</td><td>566736</td></tr><tr><td>14049010</td><td>Matérias vegetais das espécies principalmente utilizadas na fabricação de vassouras, escovas, pincéis e artigos semelhantes (por exemplo, sorgo, piaçaba, raiz de grama, tampico), mesmo torcidas ou em feixes</td><td>553761</td></tr><tr><td>38030010</td><td>Tall oil, mesmo refinado, em bruto</td><td>501202</td></tr><tr><td>07099990</td><td>Outros produtos hortícolas, frescos ou refrigerados</td><td>481667</td></tr><tr><td>03034200</td><td>Albacora-laje (Thunnus albacares), congeladas, exceto filés, etc</td><td>478913</td></tr><tr><td>05040019</td><td>Tripas de outros animais (exceto peixes), frescos, refrigerados, congelados, salgados ou em salmoura, secos ou defumados</td><td>471321</td></tr><tr><td>41019010</td><td>Outros couros e peles, de bovino, incluindo dorsos, meios-dorsos e flancos, divididos, sem dividir</td><td>466540</td></tr><tr><td>85235290</td><td>Outros cartões inteligentes</td><td>439228</td></tr><tr><td>44072910</td><td>Madeira de cedro, serrada ou fendida longitudinalmente, cortada transversalmente ou desenrolada, mesmo aplainada, lixada ou unida pelas extremidades, de espessura superior a 6 mm</td><td>430871</td></tr><tr><td>03033900</td><td>Outros peixes chatos, congelados, exceto filés, outras carnes, etc</td><td>411720</td></tr><tr><td>08129000</td><td>Outras frutas conservadas transitoriamente (por exemplo, com gás sulfuroso ou água salgada, sulfurada ou adicionada de outras substâncias destinadas a assegurar transitoriamente a sua conservação), mas impróprias para alimentação nesse estado</td><td>410035</td></tr><tr><td>04032000</td><td>Iogurte</td><td>405073</td></tr><tr><td>04079000</td><td>Ovos de outras aves, não para incubação ou não frescos</td><td>393220</td></tr><tr><td>03027100</td><td>Tilápias (oreochromis spp.), frescas ou refrigeradas</td><td>373934</td></tr><tr><td>03023200</td><td>Albacoras/atuns barbatana amarela, frescas/refrigerado, exceto filés</td><td>362532</td></tr><tr><td>44072100</td><td>Madeira de mahogany (Mogno) (Swietenia spp.), serrada ou fendida longitudinalmente, cortada transversalmente ou desenrolada, mesmo aplainada, lixada ou unida pelas extremidades, de espessura superior a 6 mm</td><td>361646</td></tr><tr><td>08011200</td><td>Cocos na casca interna (endocarpo)</td><td>353937</td></tr><tr><td>03038200</td><td>Raias (rajidae), congeladas</td><td>347670</td></tr><tr><td>41041910</td><td>Couros e peles inteiros, de bovinos (incluindo os búfalos), de superfície unitária não superior a 2,6 m2, simplesmente curtidos ao cromo (wet-blue), no estado úmido</td><td>346990</td></tr><tr><td>87042390</td><td>Outros veículos automóveis motor diesel, carga > 20 toneladas</td><td>330755</td></tr><tr><td>02069000</td><td>Miudezas comestíveis, de ovino, caprino, etc, congeladas</td><td>329943</td></tr><tr><td>01039200</td><td>Outros suínos vivos, de peso igual ou superior a 50kg</td><td>323880</td></tr><tr><td>03024290</td><td>Outras anchovas, frescas ou refrigeradas</td><td>322779</td></tr><tr><td>41019030</td><td>Outros couros e peles, de bovino, incluindo dorsos, meios-dorsos e flancos, divididos, sem o lado flor</td><td>322633</td></tr><tr><td>78020000</td><td>Desperdícios e resíduos, de chumbo</td><td>319877</td></tr><tr><td>15019000</td><td>Gordura de aves</td><td>310446</td></tr><tr><td>07133290</td><td>Outros feijões adzuki (Phaseolus ou Vigna angularis), secos, em grãos</td><td>280667</td></tr><tr><td>41012000</td><td>Couros e peles em bruto, inteiros, não divididos, de peso unitário não superior a 8 kg quando secos, a 10 kg quando salgados a seco e a 16 kg quando frescos, salgados a úmido ou conservados de outro modo</td><td>280259</td></tr><tr><td>03038963</td><td>Pacu (Piaractus mesopotamicus), congelado, exceto filés, outras carnes, etc.</td><td>275993</td></tr><tr><td>17011300</td><td>Açúcar de cana mencionado na nota 2 da posição 1701</td><td>272862</td></tr><tr><td>26209990</td><td>Cinzas e resíduos, contendo outros metais</td><td>267457</td></tr><tr><td>03039110</td><td>Fígados, ovas e gônadas masculinas, ovas de tainhas (Mugil spp.) </td><td>263536</td></tr><tr><td>44042000</td><td>Arcos de madeira; estacas fendidas; estacas aguçadas, não serradas longitudinalmente; madeira simplesmente desbastada ou arredondada, não torneada, não recurvada nem trabalhada de qualquer outro modo, para fabricação de bengalas, etc... de não coníferas</td><td>257600</td></tr><tr><td>85491900</td><td>Outros desperdícios e resíduos, e sucata, de pilhas, de baterias de pilhas e de acumuladores, elétricos; outras pilhas, baterias de pilhas e acumuladores, elétricos, inservíveis, não classificados em códigos anteriores</td><td>251153</td></tr><tr><td>72045000</td><td>Desperdícios de ferro ou aço em lingotes</td><td>249100</td></tr><tr><td>15132120</td><td>Óleo de babaçu, em bruto</td><td>246600</td></tr><tr><td>07041000</td><td>Couve-flor e brócolis, frescos ou refrigerados</td><td>244271</td></tr><tr><td>29419083</td><td>Virgíniamicinas e seus sais</td><td>240974</td></tr><tr><td>20094100</td><td>Suco (sumo) de abacaxi (ananás), com valor Brix não superior a 20</td><td>239294</td></tr><tr><td>11042200</td><td>Outros grãos trabalhados (por exemplo, descascados, em pérolas, cortados ou partidos), de aveia</td><td>234632</td></tr><tr><td>07141000</td><td>Raízes de mandioca, frescas, refrigeradas, congeladas ou secas</td><td>228381</td></tr><tr><td>05100010</td><td>Pâncreas de bovinos, utilizadas na preparação de produtos farmacêuticos, frescas, refrigeradas, congeladas ou provisoriamente conservadas de outro modo</td><td>220835</td></tr><tr><td>35021900</td><td>Outras ovalbuminas</td><td>215159</td></tr><tr><td>51011900</td><td>Outras lãs sujas, não cardadas nem penteadas</td><td>212373</td></tr><tr><td>07070000</td><td>Pepinos e pepininhos (cornichons), frescos ou refrigerados</td><td>210288</td></tr><tr><td>23050000</td><td>Tortas e outros resíduos sólidos, mesmo triturados ou em pellets, da extração do óleo de amendoim</td><td>206095</td></tr><tr><td>02061000</td><td>Miudezas comestíveis de bovino, frescas ou refrigeradas</td><td>195101</td></tr><tr><td>07093000</td><td>Berinjelas frescas ou refrigeradas</td><td>192033</td></tr><tr><td>44119390</td><td>Outros painéis de fibras madeira de média densidade (denominados MDF), com densidade superior a 0,5 g/cm3 mas não superior a 0,8 g/cm3</td><td>191544</td></tr><tr><td>26020010</td><td>Minérios de manganês e seus concentrados, incluindo os minérios de manganês ferruginosos e seus concentrados, de teor em manganês de 20 % ou mais, em peso, sobre o produto seco, aglomerados</td><td>189850</td></tr><tr><td>80020000</td><td>Desperdícios e resíduos, de estanho</td><td>187238</td></tr><tr><td>79020000</td><td>Desperdícios e resíduos, de zinco</td><td>183433</td></tr><tr><td>03034300</td><td>Bonito-listrado, congelados, exceto filés, fígados, ovas e sêmen</td><td>180618</td></tr><tr><td>03038952</td><td>Tilápias (Tilapia spp., Sarotherodon spp., Danakilia spp.; seus híbridos), congeladas, exceto filés, outras carnes, etc</td><td>180549</td></tr><tr><td>04081100</td><td>Gemas de ovos, secas</td><td>179857</td></tr><tr><td>84101300</td><td>Turbinas e rodas hidráulicas, de potência superior a 10.000 kW</td><td>176991</td></tr><tr><td>02031100</td><td>Carcaças e meias-carcaças de suíno, frescas ou refrigeradas</td><td>174885</td></tr><tr><td>07051900</td><td>Outras alfaces frescas ou refrigeradas</td><td>168124</td></tr><tr><td>03028944</td><td>Tambaqui (Colossoma macropomum)</td><td>162907</td></tr><tr><td>40122000</td><td>Pneumáticos usados de borracha</td><td>161430</td></tr><tr><td>38089326</td><td>Herbicida à base de trifluralina</td><td>160643</td></tr><tr><td>15132911</td><td>Outros óleos de amêndoa de palma (palmiste) (coconote) de coco mbocaya (Acrocomia totai)</td><td>156740</td></tr><tr><td>05071000</td><td>Marfim; pó e desperdícios de marfim</td><td>151400</td></tr><tr><td>02101200</td><td>Barrigas e peitos, entremeados, de suíno, salgados, etc.</td><td>149362</td></tr><tr><td>19011020</td><td>Farinha láctea, para alimentação de crianças, acondicionadas para venda a retalho</td><td>142705</td></tr><tr><td>08026200</td><td>Nozes de macadâmia, sem casca, frescas ou secas</td><td>140883</td></tr><tr><td>16023900</td><td>Preparações alimentícias e conservas, de outras aves</td><td>134124</td></tr><tr><td>07089000</td><td>Outros legumes de vagem, frescos ou refrigerados</td><td>133542</td></tr><tr><td>10082910</td><td>Milheto (Pennisetum glaucum), exceto para semeadura</td><td>133000</td></tr><tr><td>20079921</td><td>Purês de açaí (Euterpe oleracea)</td><td>128653</td></tr><tr><td>44119310</td><td>Painéis de fibras madeira de média densidade (denominados MDF), com densidade superior a 0,5 g/cm3 mas não superior a 0,8 g/cm3, não trabalhados mecanicamente nem recobertos à superfície</td><td>126235</td></tr><tr><td>03038933</td><td>Peixe-sapo (Lophius gastrophysus), congelado</td><td>126036</td></tr><tr><td>25253000</td><td>Desperdícios de mica</td><td>120000</td></tr><tr><td>04072900</td><td>Ovos frescos de outras aves</td><td>118888</td></tr><tr><td>03024400</td><td>Cavalinhas, frescas ou refrigeradas</td><td>118104</td></tr><tr><td>03063100</td><td>Lagostas (Palinurus spp., Panulirus spp., Jasus spp.), vivas, frescos ou refrigerados</td><td>117461</td></tr><tr><td>03032900</td><td>Outros salmonídeos congelados, exceto filés, outras carnes, etc</td><td>112498</td></tr><tr><td>02071100</td><td>Carnes de galos/galinhas, não cortadas em pedaços, frescas/refrigeradas</td><td>112429</td></tr><tr><td>02012010</td><td>Quartos dianteiros não desossadados de bovino, frescos/refrigerados</td><td>109535</td></tr><tr><td>41041121</td><td>Couros e peles inteiros, de bovinos (incluindo os búfalos), de superfície unitária não superior a 2,6 m2, simplesmente curtidos ao cromo (wet-blue), divididos, com o lado flor, no estado úmido</td><td>109533</td></tr><tr><td>08031000</td><td>Bananas-da-terra, frescas ou secas</td><td>108622</td></tr><tr><td>20079924</td><td>Purês de goiaba (Psidium guajava)</td><td>94037</td></tr><tr><td>89033300</td><td>Barcos a motor, exceto os infláveis, não equipados com motor fora de borda, de comprimento superior a 24 m</td><td>92960</td></tr><tr><td>04011090</td><td>Outros leites e cremes, com um teor, em peso, de matérias gordas, não superior a 1 %, não concentrados nem adicionados de açúcar ou de outros edulcorantes</td><td>88207</td></tr><tr><td>26203000</td><td>Cinzas e resíduos que contenham principalmente cobre</td><td>86582</td></tr><tr><td>38254900</td><td>Outros resíduos de solventes orgânicos</td><td>86560</td></tr><tr><td>03046100</td><td>Filés de tilápias (Oreochromis spp.), congelados</td><td>83209</td></tr><tr><td>08101000</td><td>Morangos frescos</td><td>81923</td></tr><tr><td>41041113</td><td>Outros couros e peles de bovinos (incluindo os búfalos), com pré-curtimenta vegetal, plena flor, não divididos</td><td>76763</td></tr><tr><td>74031300</td><td>Palanquilhas (billets) de cobre refinado, em formas brutas</td><td>75688</td></tr><tr><td>03036990</td><td>Outros peixes congelados, exceto filé e outras carnes</td><td>74523</td></tr><tr><td>03048910</td><td>Filé de pargo (Lutjanus purpureus)</td><td>74425</td></tr><tr><td>03025400</td><td>Merluzas e abroteas (Merluccius spp., Urophycis spp.), fresco ou refrigerado</td><td>73237</td></tr><tr><td>87042230</td><td>Veículos automóveis frigoríficos, etc, com motor diesel, 5 toneladas < carga <= 20 toneladas</td><td>72488</td></tr><tr><td>23099030</td><td>Bolachas e biscoitos, dos tipos utilizados na alimentação de animais</td><td>70415</td></tr><tr><td>28419022</td><td>Ferrito de estrôncio</td><td>67000</td></tr><tr><td>03048930</td><td>Filé de garoupa (Acanthistius spp.), congelados</td><td>64509</td></tr><tr><td>23023010</td><td>Farelo de trigo</td><td>63979</td></tr><tr><td>03038964</td><td>Tambaqui (Colossoma macropomum) congelado, exceto filés, outras carnes, etc</td><td>63083</td></tr><tr><td>43022000</td><td>Cabeças, caudas, patas e outras partes, desperdícios e aparas, não reunidos (não montados)</td><td>60035</td></tr><tr><td>02071300</td><td>Pedaços e miudezas, de galos/galinhas, frescos/refrigerados</td><td>58197</td></tr><tr><td>07136090</td><td>Feijão-guando (Cajanus cajan), exceto para semeadura</td><td>56961</td></tr><tr><td>15152910</td><td>Óleo de milho, refinado, em recipientes com capacidade inferior ou igual a 5 litros</td><td>56907</td></tr><tr><td>03028922</td><td>Garoupas (acanthistius spp.), fresco ou refrigerado</td><td>56772</td></tr><tr><td>44031200</td><td>Madeira em bruto, mesmo descascada, desalburnada ou esquadriada, tratada com tinta, creosoto ou outros agentes de conservação, de não coníferas</td><td>56090</td></tr><tr><td>08109011</td><td>Carambolas (Averrhoa carambola)</td><td>54786</td></tr><tr><td>04109000</td><td>Produtos comestíveis de origem animal, não especificados nem compreendidos noutras posições</td><td>54575</td></tr><tr><td>02071200</td><td>Carnes de galos/galinhas, não cortadas em pedaços, congeladas</td><td>54471</td></tr><tr><td>12072100</td><td>Sementes de algodão, para semeadura</td><td>50900</td></tr><tr><td>07099911</td><td>Milho doce, frescos ou refrigerados, para semeadura</td><td>50510</td></tr><tr><td>71081210</td><td>Bulhão dourado (bullion doré), em formas brutas, para uso não monetário</td><td>48299</td></tr><tr><td>30042011</td><td>Medicamento contendo cloranfenicol/seu palmitato, etc, em doses</td><td>46779</td></tr><tr><td>25112000</td><td>Carbonato de bário natural (witherita)</td><td>46000</td></tr><tr><td>30042071</td><td>Medicamento contendo vancomicina, em doses</td><td>45209</td></tr><tr><td>44081091</td><td>Folhas para folheados (incluindo as obtidas por corte de madeira estratificada), folhas para compensados ou para madeiras estratificadas semelhantes e outras madeiras, etc..., de espessura <= 6 mm, de pinho brasil (Araucaria angustifolia)</td><td>43335</td></tr><tr><td>07052900</td><td>Outras chicórias, frescas ou refrigeradas</td><td>43193</td></tr><tr><td>27139000</td><td>Outros resíduos dos óleos de petróleo ou de minerais betuminosos</td><td>43092</td></tr><tr><td>07097000</td><td>Espinafres, espinafres-da-nova-zelândia e espinafres gigantes, frescos ou refrigerados</td><td>42911</td></tr><tr><td>08109014</td><td>Lechias (Litchi chinensis)</td><td>35189</td></tr><tr><td>06023000</td><td>Rododendros e azaleias, enxertados ou não</td><td>35119</td></tr><tr><td>25183000</td><td>Aglomerados de dolomita</td><td>35100</td></tr><tr><td>87042330</td><td>Veículos automóveis frigoríficos com motor diesel, capacidade de carga maior que 20 toneladas</td><td>34954</td></tr><tr><td>44031100</td><td>Madeira em bruto, mesmo descascada, desalburnada ou esquadriada, tratada com tinta, creosoto ou outros agentes de conservação, de coníferas</td><td>33300</td></tr><tr><td>03023900</td><td>Outros atuns frescos, refrigerados, exceto filés, outras carnes, etc.</td><td>31463</td></tr><tr><td>44125100</td><td>Madeira compensada (contraplacada), madeira folheada, e madeiras estratificadas semelhantes, com alma aglomerada, alveolada ou lamelada, com, pelo menos, uma camada exterior de madeira tropical</td><td>31399</td></tr><tr><td>03044920</td><td>Filé de garoupa (Acanthistius spp), fresco/refrigerado</td><td>30903</td></tr><tr><td>07094000</td><td>Aipo fresco ou refrigerado, exceto aipo-rabano</td><td>30276</td></tr><tr><td>38089296</td><td>Fungicida à base de thiram</td><td>29160</td></tr><tr><td>10029000</td><td>Centeio, exceto para semeadura</td><td>28019</td></tr><tr><td>29110010</td><td>Dimetilacetal do 2-nitrobenzaldeído</td><td>28000</td></tr><tr><td>20079925</td><td>Purês de manga (Mangifera indica)</td><td>27093</td></tr><tr><td>02031200</td><td>Pernas, pás e respectivos pedaços, não desossados, de suíno, frescos ou refrigerados.</td><td>26789</td></tr><tr><td>03035700</td><td>Espadarte (Xiphias galdius), congelado</td><td>25423</td></tr><tr><td>41044990</td><td>Couros/peles equídeos, no estado seco (crust)</td><td>25201</td></tr><tr><td>07042000</td><td>Couve-de-bruxelas, fresca ou refrigerada</td><td>25077</td></tr><tr><td>05061000</td><td>Osseína e ossos acidulados</td><td>24177</td></tr><tr><td>15132920</td><td>Outros óleos de babaçu</td><td>23951</td></tr><tr><td>34021900</td><td>Outros agentes orgânicos de superfície</td><td>23100</td></tr><tr><td>26219010</td><td>Cinzas de origem vegetal</td><td>22719</td></tr><tr><td>02063000</td><td>Miudezas comestíveis de suíno, frescas ou refrigeradas</td><td>22131</td></tr><tr><td>93059090</td><td>Partes e acessórios para outras armas</td><td>21934</td></tr><tr><td>12024100</td><td>Amendoins com casca, não torrados, nem cozidos</td><td>21607</td></tr><tr><td>44188900</td><td>Outros produtos de madeira para engenharia estrutural, não classificados em códigos anteriores</td><td>21578</td></tr><tr><td>03022900</td><td>Outros peixes chatos, frescos, refrigerados, exceto filés, etc.</td><td>21510</td></tr><tr><td>26139010</td><td>Molibdenita não ustulada (minérios de molibdênio)</td><td>20600</td></tr><tr><td>41041122</td><td>Outros couros e peles inteiros, de bovinos (incluindo os búfalos), de superfície unitária não superior a 2,6 m2, divididos, com o lado flor, no estado úmido</td><td>19910</td></tr><tr><td>87042220</td><td>Veículo automóvel com motor diesel, caixa basculante 5 toneladas < carga <= 20 toneladas</td><td>19306</td></tr><tr><td>60041044</td><td>Tecidos de malha de largura superior a 30 cm, que contenham, em peso, 5 % ou mais de fios de elastômeros, mas que não contenham fios de borracha, exceto os da posição 60.01, de fibras artificiais, estampados</td><td>18890</td></tr><tr><td>30042031</td><td>Medicamento contendo rifamicina sv sódica, em doses</td><td>18091</td></tr><tr><td>41044190</td><td>Couros e peles de equídeos, secos, pena flor</td><td>18066</td></tr><tr><td>02072400</td><td>Carnes de peruas/perus, não cortadas em pedaços, frescas/refrigeradas</td><td>17389</td></tr><tr><td>15219011</td><td>Cera de abelha, em bruto</td><td>16200</td></tr><tr><td>11032000</td><td>Pellets de cereais</td><td>16200</td></tr><tr><td>03034900</td><td>Outros atuns congelados, exceto filés, outras carnes, fígados, etc</td><td>14936</td></tr><tr><td>68029310</td><td>Esferas para moinho, de granito</td><td>14786</td></tr><tr><td>52053400</td><td>Fios de algodão retorcidos ou retorcidos múltiplos, de fibras não penteadas, que contenham pelo menos 85 %, em peso, de algodão, de título < 192,31 decitex mas > 125 decitex, por fio simples (número métrico > 52 mas < 80, por fio simples)</td><td>14581</td></tr><tr><td>03039100</td><td>Fígados, ovas e gônadas masculinas, congelado</td><td>14512</td></tr><tr><td>89080000</td><td>Embarcações e outras estruturas flutuantes, a serem desmanteladas</td><td>14365</td></tr><tr><td>30045020</td><td>Medicamento contendo ácido nicotínico/seu sal sódico, etc, em doses</td><td>13754</td></tr><tr><td>30024260</td><td>Vacina veterinária, contra a febre aftosa</td><td>13461</td></tr><tr><td>07031011</td><td>Cebolas, frescas ou refrigeradas, para semeadura</td><td>13198</td></tr><tr><td>84431110</td><td>Máquinas e aparelhos de impressão, por ofsete, alimentados por bobinas, para impressão multicolor de jornais, de largura superior ou igual a 900 mm, com unidades de impressão em configuração torre e dispositivos automáticos de emendar bobinas</td><td>12970</td></tr><tr><td>52115200</td><td>Tecidos de algodão que contenham menos de 85 %,em peso, de algodão,combinados, principal ou unicamente, com fibras sintéticas ou artificiais, peso > 200 g/m2, estampados,em ponto sarjado, incluindo o diagonal, cuja relação de textura não seja superior a 4</td><td>12923</td></tr><tr><td>04014021</td><td>Creme de leite UHT (Ultra High Temperature), com um teor, em peso, de matérias gordas, superior a 6 %, mas não superior a 10 %, não concentrados nem adicionados de açúcar ou de outros edulcorantes</td><td>12826</td></tr><tr><td>30024240</td><td>Vacina veterinária, contra a cinomose</td><td>12713</td></tr><tr><td>49021000</td><td>Jornais e publicações periódicas, impressos, mesmo ilustrados ou que contenham publicidade, que se publiquem pelo menos quatro vezes por semana</td><td>12706</td></tr><tr><td>03028910</td><td>Pargo (Lutjanus purpureus), frescos ou refrigerados</td><td>12170</td></tr><tr><td>30049072</td><td>Medicamento contendo sulfadiazina/seu sal sódico, etc, em doses</td><td>12162</td></tr><tr><td>21069040</td><td>Misturas à base de ascorbato de sódio e glucose próprias para embutidos</td><td>11950</td></tr><tr><td>03031900</td><td>Outros tipos de salmões, congelados</td><td>11786</td></tr><tr><td>03031100</td><td>Salmões vermelhos congelados</td><td>11716</td></tr><tr><td>44182000</td><td>Portas e respectivos caixilhos, alizares e soleiras, de madeira</td><td>11476</td></tr><tr><td>53013000</td><td>Estopas e desperdícios de linho</td><td>10851</td></tr><tr><td>10011100</td><td>Trigo duro, para semeadura</td><td>10388</td></tr><tr><td>08109015</td><td>Maracujás (Passiflora edulis)</td><td>10300</td></tr><tr><td>08045030</td><td>Mangostões frescos ou secos</td><td>10179</td></tr><tr><td>29332110</td><td>Iprodiona</td><td>10000</td></tr><tr><td>96121019</td><td>Outras fitas impressoras de plástico</td><td>9635</td></tr><tr><td>93040010</td><td>Recipientes do tipo aerossol que contenham produtos químicos ou oleorresina de Capsicum, com fins irritantes</td><td>9453</td></tr><tr><td>51071011</td><td>Fios de lã penteada, não acondicionados para venda a retalho, que contenham pelo menos 85 %, em peso, de lã, retorcidos ou retorcidos múltiplos, de dois cabos, de título inferior ou igual a 184,58 decitex por cabo</td><td>9233</td></tr><tr><td>04012090</td><td>Outros leites e cremes, com um teor, em peso, de matérias gordas, superior a 1 %, mas não superior a 6 %, não concentrados nem adicionados de açúcar ou de outros edulcorantes</td><td>8797</td></tr><tr><td>03069500</td><td>Camarões</td><td>8635</td></tr><tr><td>04022130</td><td>Creme de leite, em pó, com um teor, em peso, de matérias gordas, superior a 1,5 %, sem adição de açúcar ou de outros edulcorantes</td><td>8585</td></tr><tr><td>03028500</td><td>Pargos ou sargos (sparidae), fresco ou refrigerado</td><td>8333</td></tr><tr><td>03024600</td><td>Bijupira (Rachycentron canadum), fresco ou refrigerado</td><td>8322</td></tr><tr><td>03038953</td><td>Surubins (congelados), exceto filés, outras carnes, etc</td><td>8211</td></tr><tr><td>60011010</td><td>\"Tecidos de malha denominados de \"\"felpa longa\"\" ou \"\"pelo comprido\"\", de algodão\"</td><td>8158</td></tr><tr><td>01022110</td><td>Bovinos reprodutores raça pura, prenhe ou com cria ao pé</td><td>8000</td></tr><tr><td>03034100</td><td>Atuns-brancos ou germões, congelados, exceto filés, etc.</td><td>7989</td></tr><tr><td>07039010</td><td>Alhos-porros e outros produtos hortícolas aliáceos, frescos ou refrigerados, para semeadura</td><td>7695</td></tr><tr><td>07082000</td><td>Feijões (vigna, phaseolus spp) frescos ou refrigerados</td><td>7674</td></tr><tr><td>03063990</td><td>Outros, incluindo as farinhas, pós e pellets de crustáceos, próprios para alimentação humana</td><td>7330</td></tr><tr><td>30049096</td><td>Complexo de ferro dextrana</td><td>7260</td></tr><tr><td>94032000</td><td>Outros móveis de metal</td><td>7052</td></tr><tr><td>30032092</td><td>Medicamento contendo fumarato de tiamulina, exceto em doses</td><td>6925</td></tr><tr><td>07095100</td><td>Cogumelos frescos ou refrigerados</td><td>6757</td></tr><tr><td>02041000</td><td>Carcaças e meias-carcaças de cordeiro, frescas ou refrigeradas</td><td>6679</td></tr><tr><td>08029100</td><td>Pinhões, com casca</td><td>6381</td></tr><tr><td>34011110</td><td>Sabões medicinais, em barras, pedaços, figura moldada, etc.</td><td>6362</td></tr><tr><td>42060000</td><td>Obras de tripa, de baudruches, de bexiga ou de tendões</td><td>6319</td></tr><tr><td>84286000</td><td>Teleféricos (incluindo as telecadeiras e os telesquis); mecanismos de tração para funiculares</td><td>6194</td></tr><tr><td>03073900</td><td>Mexilhões (Mytilus spp., Perna spp.), congelados, secos, salgados, etc</td><td>6067</td></tr><tr><td>02081000</td><td>Carnes/miudezas, de coelhos/lebres, frescas/refrigeradas/congeladas</td><td>6065</td></tr><tr><td>07032010</td><td>Alhos, frescos ou refrigerados, para semeadura</td><td>5947</td></tr><tr><td>30039087</td><td>Medicamento com cloridrato de tizanidina, etc, exceto em doses</td><td>5929</td></tr><tr><td>86063000</td><td>Vagões de descarga automática, exceto os da subposição 8606.10, para transporte de mercadorias sobre vias férreas</td><td>5640</td></tr><tr><td>81033000</td><td>Desperdícios e resíduos de tântalo</td><td>5550</td></tr><tr><td>03061690</td><td>Camarões de água fria, que não inteiros, congelados</td><td>5514</td></tr><tr><td>03034600</td><td>Atum azul do Sul (Thunnus maccoyii), congelado, exceto filés, fígados, ovas e sêmen</td><td>5440</td></tr><tr><td>24012020</td><td>Tabaco não manufaturado, total ou parcialmente destalado, em folhas secas ou fermentadas tipo capeiro</td><td>5216</td></tr><tr><td>30021212</td><td>Antitetânico</td><td>5061</td></tr><tr><td>87059010</td><td>Caminhões para perfilagem de pocos petroliferos</td><td>5000</td></tr><tr><td>03023300</td><td>Bonitos-listrados, etc, frescos, refrigerados, exceto filés, etc.</td><td>4715</td></tr><tr><td>30049073</td><td>Medicamento contendo ketazolam/sulpirida, etc, em doses</td><td>4689</td></tr><tr><td>07081000</td><td>Ervilhas (Pisum sativum), frescas ou refrigeradas</td><td>4601</td></tr><tr><td>06024000</td><td>Roseiras, enxertadas ou não</td><td>4580</td></tr><tr><td>03061610</td><td>Camarões de água fria (pandalus spp.) inteiros, congelados</td><td>4556</td></tr><tr><td>30049023</td><td>Medicamento contendo ácido glucônico/sais/ésteres, em doses</td><td>4547</td></tr><tr><td>04014029</td><td>Outros cremes de leite, com um teor, em peso, de matérias gordas, superior a 6 %, mas não superior a 10 %, não concentrados nem adicionados de açúcar ou de outros edulcorantes</td><td>4186</td></tr><tr><td>03029900</td><td>Cabeças, caudas, bexigas-natatórias e outros subprodutos comestíveis de peixes</td><td>3943</td></tr><tr><td>03043900</td><td>Files/outras carnes de outros peixes, frescos, refrigerados ou congelados</td><td>3854</td></tr><tr><td>02012020</td><td>Quartos traseiros não desossados de bovino, frescos/refrigados</td><td>3823</td></tr><tr><td>48103110</td><td>Papel e cartão Kraft, exceto dos tipos utilizados para escrita, impressão ou outras finalidades gráficas, branqueado uniformemente na massa e em que mais de 95 %, em peso, do conteúdo total de fibras seja constituído por fibras de madeira obtidas etc...</td><td>3761</td></tr><tr><td>03038942</td><td>Garoupas (acanthistius spp.), congeladas</td><td>3644</td></tr><tr><td>52041112</td><td>Linhas para costurar, não acondicionadas para venda a retalho, que contenham pelo menos 85 %, em peso, de algodão, de algodão cru, de título inferior ou igual a 5.000 decitex por fio simples, de três ou mais cabos</td><td>3624</td></tr><tr><td>03048600</td><td>Filés de arenques (Clupea harengus, Clupea pallasii), congelados</td><td>3550</td></tr><tr><td>03019991</td><td>Outros peixes tilápias, vivos</td><td>3500</td></tr><tr><td>03028933</td><td>Surubins (pseudoplatystoma spp.), frescos ou refrigerados</td><td>3296</td></tr><tr><td>27141000</td><td>Xistos e areias betuminosos</td><td>3263</td></tr><tr><td>03038962</td><td>Dourada (Brachyplatystoma flavicans), congeladas, exceto filés, outras carnes, etc.</td><td>3253</td></tr><tr><td>94014010</td><td>Assentos (exceto de jardim ou de acampamento) transformáveis em camas, de madeira</td><td>3214</td></tr><tr><td>38247810</td><td>Preparações que contenham tetrafluoretano e pentafluoretano</td><td>3200</td></tr><tr><td>03024990</td><td>Outros peixes frescos ou refrigerados, exceto os filés de peixes e outra carne de peixes da posição 03.04</td><td>3135</td></tr><tr><td>03028938</td><td>Pescadas (cynocion spp.), fresca ou refrigerada</td><td>3089</td></tr><tr><td>20079927</td><td>Purês de mamão (papaia) (Carica papaya L.)</td><td>3075</td></tr><tr><td>12129100</td><td>Beterraba sacarina, fresca, refrigerada, congelada, seca, em pó</td><td>3025</td></tr><tr><td>30043937</td><td>Medicamento contendo desogestrel, em doses</td><td>3010</td></tr><tr><td>03033300</td><td>Linguados congelados, exceto filés, outras carnes, fígados, etc.</td><td>2990</td></tr><tr><td>02042300</td><td>Carnes desossadas de ovino, frescas ou refrigeradas</td><td>2924</td></tr><tr><td>12077090</td><td>Sementes de melão, exceto para semeadura</td><td>2837</td></tr><tr><td>03023100</td><td>Atuns-brancos ou germões, frescos/refrigerados, exceto filés, etc</td><td>2789</td></tr><tr><td>88026000</td><td>Veículos espaciais (incluindo os satélites) e seus veículos de lançamento, e veículos suborbitais</td><td>2724</td></tr><tr><td>07136010</td><td>Feijão-guando (Cajanus cajan), para semeadura</td><td>2689</td></tr><tr><td>03038400</td><td>Robalos (dicentrarchus spp.), congelados</td><td>2646</td></tr><tr><td>03072900</td><td>Vieiras e outros mariscos dos gêneros Pecten, Chlamys ou Placopecten, congelados, secos, etc</td><td>2615</td></tr><tr><td>30039077</td><td>Medicamento contendo nicarbazina/norfloxacina, etc, exceto em doses</td><td>2600</td></tr><tr><td>71151000</td><td>Telas ou grades catalisadoras, de platina</td><td>2522</td></tr><tr><td>38089411</td><td>Desinfetantes, apresentados em formas ou embalagens exclusivamente para uso direto em aplicações domissanitárias, que contenham bromometano (brometo de metila) ou bromoclorometano</td><td>2452</td></tr><tr><td>03045900</td><td>Outros filés de peixes, frescos ou refrigerados</td><td>2421</td></tr><tr><td>87033110</td><td>Automóveis com motor diesel, cm3 <= 1500, até 6 passageiros</td><td>2400</td></tr><tr><td>30039059</td><td>Medicamento contendo outros compostos de função carboxiamida, etc, exceto em doses</td><td>2395</td></tr><tr><td>02076000</td><td>Carnes de galinhas dangola (pintadas)</td><td>2393</td></tr><tr><td>04052000</td><td>Pasta de espalhar (pasta de barrar) de produtos provenientes do leite</td><td>2385</td></tr><tr><td>02042200</td><td>Outras peças não desossadas de ovino, frescas ou refrigeradas</td><td>2379</td></tr><tr><td>03021900</td><td>Outros salmonídeos frescos, refrigerados, exceto filés, etc.</td><td>2318</td></tr><tr><td>02091019</td><td>Outros toucinhos de porco</td><td>2266</td></tr><tr><td>02089000</td><td>Carnes e miudezas, de outros animais, frescas/refrigeradas/congeladas</td><td>2249</td></tr><tr><td>55011100</td><td>Cabos de filamentos sintéticos, de aramidas</td><td>2209</td></tr><tr><td>16023290</td><td>Outras preparações e conservas de galos e galinhas</td><td>2207</td></tr><tr><td>84621011</td><td>Máquinas-ferramentas para estampar metais, de comando numérico</td><td>2120</td></tr><tr><td>10061091</td><td>Arroz com casca (arroz paddy), parboilizado</td><td>2050</td></tr><tr><td>84336021</td><td>Máquinas para limpar ou selecionar ovos, com capacidade superior ou igual a 250.000 ovos por hora</td><td>2035</td></tr><tr><td>03052090</td><td>Outros fígados, ovas e semen, de peixes, secos, defumados, etc.</td><td>1927</td></tr><tr><td>02045000</td><td>Carnes de caprino, frescas, refrigeradas ou congeladas</td><td>1882</td></tr><tr><td>07099200</td><td>Azeitonas, frescas ou refrigeradas</td><td>1860</td></tr><tr><td>38040012</td><td>Lixívias residuais da fabricação de pastas de celulose, à soda ou ao sulfato</td><td>1807</td></tr><tr><td>06031500</td><td>Lírios (lilium spp.)</td><td>1805</td></tr><tr><td>55144900</td><td>Outros tecidos de fibra sintética < 85% com algodão, peso > 170 g/m2, estampado</td><td>1796</td></tr><tr><td>02021000</td><td>Carcaças e meias-carcaças de bovino, congeladas</td><td>1777</td></tr><tr><td>31039019</td><td>Outros hidrogenos-ortofosfatos de cálcio</td><td>1728</td></tr><tr><td>41079290</td><td>Couros e peles de equídeos, inlcuindo as tiras, preparados, divididos, com o lado flor</td><td>1682</td></tr><tr><td>03072100</td><td>Vieiras e outros mariscos dos gêneros Pecten, Chlamys ou Placopecten, vivos, frescos ou refrigerados</td><td>1681</td></tr><tr><td>29241911</td><td>2-Cloro-N-metilacetoacetamida</td><td>1680</td></tr><tr><td>02042100</td><td>Carcaças e meias-carcaças de ovino, frescas ou refrigeradas</td><td>1635</td></tr><tr><td>30039047</td><td>Medicamento contendo diclofenaco de sódio, etc, exceto em doses</td><td>1613</td></tr><tr><td>03063910</td><td>Lagosta de água doce (Cherax quadricarinatus), vivo, fresco ou refrigerado</td><td>1520</td></tr><tr><td>30019020</td><td>Pedaços de pericárdio de origem bovina ou suína</td><td>1483</td></tr><tr><td>41071190</td><td>Couros e peles inteiros, de equídeos, plena flor, não divididos</td><td>1401</td></tr><tr><td>87029000</td><td>Outros veículos automóveis para transporte de dez pessoas ou mais, incluindo o motorista</td><td>1297</td></tr><tr><td>03063600</td><td>Outros camarões, vivos, frescos ou refrigerados</td><td>1203</td></tr><tr><td>03038111</td><td>Tubarão-azul (prionace glauca) inteiro, congelado</td><td>1193</td></tr><tr><td>03079900</td><td>Outros moluscos, invertebrados aquáticos, congelados, secos</td><td>1187</td></tr><tr><td>41015020</td><td>Couros e peles em bruto, de bovinos, inteiros, de peso unitário superior a 16 kg, divididos, com o lado flor</td><td>1153</td></tr><tr><td>71123010</td><td>Cinzas que contenham ouro, mas que não contenham outros metais preciosos</td><td>1099</td></tr><tr><td>03027300</td><td>Carpas (Cyprinus carpio, Carassius carassius, etc)</td><td>1084</td></tr><tr><td>04022930</td><td>Creme de leite, em pó, etc. com um teor, em peso, de matérias gordas, superior a 1,5 %, adocicado</td><td>1078</td></tr><tr><td>03061500</td><td>Lagosta norueguesa (nephrops norvegicus)</td><td>1074</td></tr><tr><td>64051020</td><td>Calçados de couro reconstituído, sola exterior de couro</td><td>1070</td></tr><tr><td>30049065</td><td>Medicamento contendo fenitoína/seu sal sódico, etc, em doses</td><td>1070</td></tr><tr><td>01062000</td><td>Répteis (incluindo as serpentes e as tartarugas marinhas)</td><td>1004</td></tr><tr><td>03027290</td><td>Outros bagres frescos ou refrigerados</td><td>985</td></tr><tr><td>03028942</td><td>Dourada (Brachyplatystoma flavicans), fresco ou refrigerado</td><td>933</td></tr><tr><td>03024300</td><td>Sardinhas (sardina pilchardus, etc), anchoveta, fresca ou refrigerada</td><td>924</td></tr><tr><td>08109013</td><td>Jacas (Artocarpus heterophyllus)</td><td>906</td></tr><tr><td>71123020</td><td>Cinzas que contenham platina, mas que não contenham outros metais preciosos</td><td>898</td></tr><tr><td>44140000</td><td>Molduras de madeira para quadros, fotografias, espelhos ou objetos semelhantes</td><td>886</td></tr><tr><td>01022911</td><td>Outros bovinos para reprodução, prenhe ou com cria ao pé</td><td>882</td></tr><tr><td>30039053</td><td>Medicamento contendo lidocaína/seu cloridrato, etc, exceto em doses</td><td>864</td></tr><tr><td>03024210</td><td>Anchoita (Engraulis anchoita), frescas ou refrigeradas</td><td>840</td></tr><tr><td>03044600</td><td>Filés de merluza negra e merluza antártica</td><td>833</td></tr><tr><td>71123090</td><td>Cinzas contendo outros metais preciosos, seus compostos</td><td>831</td></tr><tr><td>29033911</td><td>1,1,1,2-Tetrafluoroetano</td><td>798</td></tr><tr><td>72015000</td><td>Ligas de ferro fundido bruto; ferro spiegel (especular)</td><td>790</td></tr><tr><td>08013100</td><td>Castanha de caju, fresca ou seca, com casca</td><td>772</td></tr><tr><td>30039051</td><td>Medicamento contendo metoclopramida, etc, exceto em doses</td><td>763</td></tr><tr><td>84781010</td><td>Batedoras-separadoras automáticas de talos e folhas de tabaco</td><td>751</td></tr><tr><td>03056300</td><td>Anchovas salgadas, não secas, não defumadas e em salmoura</td><td>733</td></tr><tr><td>03038945</td><td>Peixes-rei (atherina spp.), congelados</td><td>721</td></tr><tr><td>03073100</td><td>Mexilhões (Mytilus spp., Perna spp.), vivos, frescos, refrigerados</td><td>715</td></tr><tr><td>89011000</td><td>Transatlânticos, barcos de excursão e embarcações semelhantes principalmente concebidas para o transporte de pessoas; ferryboats</td><td>656</td></tr><tr><td>03027900</td><td>Perca-do-nilo, peixe cabeça-de-serpente, fresco ou refrigerado</td><td>653</td></tr><tr><td>16055200</td><td>Preparações e conservas, de vieiras e outros mariscos</td><td>649</td></tr><tr><td>07133110</td><td>Feijões (vigna mungo ou radiata) secos, para semeadura</td><td>631</td></tr><tr><td>38259000</td><td>Outros produtos residuais das indústrias químicas, etc.</td><td>630</td></tr><tr><td>03073200</td><td>Mexilhões (Mytilus spp., Perna spp.), congelados</td><td>610</td></tr><tr><td>04014010</td><td>Leite, com um teor, em peso, de matérias gordas, superior a 6 %, mas não superior a 10 %, não concentrados nem adicionados de açúcar ou de outros edulcorantes</td><td>605</td></tr><tr><td>02109990</td><td>Carnes de outros animais, salgadas, secas, etc.</td><td>600</td></tr><tr><td>04015010</td><td>Leite, com um teor, em peso, de matérias gordas, superior a 10 %, não concentrados nem adicionados de açúcar ou de outros edulcorantes</td><td>590</td></tr><tr><td>41069200</td><td>Couros e peles de outros animais, no estado seco (crust)</td><td>587</td></tr><tr><td>03049229</td><td>Outras partes de peixes merluza antártica (Dissostichus mawsoni) frescos/refrigerados/congelados</td><td>577</td></tr><tr><td>04059090</td><td>Outras matérias gordas provenientes do leite</td><td>575</td></tr><tr><td>03045100</td><td>Filés de tilápia, bagre, carpa, enguias, fresco ou refrigerado</td><td>573</td></tr><tr><td>06029081</td><td>Mudas de cana-de-açúcar</td><td>555</td></tr><tr><td>07133210</td><td>Feijão-adzuki (Phaseolus ou Vigna angularis), seco, para semeadura</td><td>540</td></tr><tr><td>19051000</td><td>Pão denominado knäckebrot</td><td>534</td></tr><tr><td>04022910</td><td>Leite integral, em pó, etc, com um teor, em peso, de matérias gordas, superior a 1,5 %, adocicado</td><td>527</td></tr><tr><td>03034500</td><td>Atuns azuis (Thunnus thynnus, Thunnus orientalis), congelados, exceto filés, fígados, ovas e sêmen</td><td>518</td></tr><tr><td>03024500</td><td>Chicharros (trachurus spp.), frescos ou refrigerados</td><td>491</td></tr><tr><td>16041430</td><td>Preparações e conservas, de bonitos-cachorros, inteiros ou em pedaços, exceto peixes picados</td><td>480</td></tr><tr><td>43019000</td><td>Cabeças, caudas, patas e outras partes utilizáveis na indústria de peles</td><td>480</td></tr><tr><td>04101000</td><td>Insetos comestíveis, não classificados em códigos anteriores</td><td>476</td></tr><tr><td>87119000</td><td>Outras motocicletas/ciclos, com motor auxiliar, carros laterais</td><td>472</td></tr><tr><td>03046900</td><td>Filé de peixe cabeça-de-serpente, congelado</td><td>469</td></tr><tr><td>41063190</td><td>Outros couros e peles de suínos, no estado úmido (incluindo wet-blue)</td><td>459</td></tr><tr><td>03049300</td><td>Outras carnes de tilápias, bagres, carpas, enguias, congeladas</td><td>458</td></tr><tr><td>06031300</td><td>Orquídeas e seus botões, cortadas para buquês, ornamentais frescos</td><td>455</td></tr><tr><td>41041111</td><td>Couros e peles inteiros, de bovinos (incluindo os búfalos), de superfície unitária não superior a 2,6 m2, simplesmente curtidos ao cromo (wet-blue), plena flor, não divididos, no estado úmido</td><td>445</td></tr><tr><td>94039010</td><td>Partes para móveis, de madeira</td><td>441</td></tr><tr><td>01022919</td><td>Outros bovinos para reprodução</td><td>441</td></tr><tr><td>25309030</td><td>Minerais de metais das terras raras</td><td>431</td></tr><tr><td>02109940</td><td>Outras miudezas comestíveis</td><td>419</td></tr><tr><td>03022100</td><td>Linguados-gigantes, frescos, refrig.exceto filés, etc.</td><td>410</td></tr><tr><td>03044500</td><td>Filés e outras carnes de espadarte (Xyphias gladius)</td><td>404</td></tr><tr><td>03032410</td><td>Bagre (Ictalurus puntactus) congelado</td><td>401</td></tr><tr><td>03028943</td><td>Pacu (Piaractus mesopotamicus), fr. ou refrig.</td><td>390</td></tr><tr><td>07133321</td><td>Feijão comum, branco, seco, para semeadura</td><td>374</td></tr><tr><td>84705011</td><td>Caixas registradoras, eletrônicas, com capacidade de comunicação com computador, etc</td><td>371</td></tr><tr><td>86069100</td><td>Vagões cobertos e fechados, para transporte de mercadorias sobre vias férreas</td><td>354</td></tr><tr><td>16052900</td><td>Preparações e conservas de camarões, exceto não acondicionadas em recipientes hermeticamente fechados</td><td>336</td></tr><tr><td>03022300</td><td>Linguados frescos, refrigerados, exceto filés, outras carnes, etc.</td><td>325</td></tr><tr><td>02072600</td><td>Carnes de peruas/perus, em pedaços, miudezas, frescas/refrigeradas</td><td>318</td></tr><tr><td>03075100</td><td>Polvos (Octopus spp) vivos, frescos ou refrigerados</td><td>306</td></tr><tr><td>03034400</td><td>Albacora-bandolim (Thunnus obesus), congelados, exceto filés, fígados, ovas e sêmen</td><td>300</td></tr><tr><td>30032019</td><td>Medicamento contendo anfenicóis/outros derivados, exceto em doses</td><td>300</td></tr><tr><td>02074400</td><td>Outras carnes de patos, frescas ou refrigeradas</td><td>296</td></tr><tr><td>30033939</td><td>Medicamento contendo outros estrogênios/progestogênios, exceto em doses</td><td>294</td></tr><tr><td>38256900</td><td>Outros resíduos das industrias químicas/conexas</td><td>290</td></tr><tr><td>30039076</td><td>Medicamento contendo ácido 2-(2 metil-3 cloroanilina) nicotínico, exceto em doses</td><td>287</td></tr><tr><td>71141900</td><td>Artefatos de ourivesaria, de outros metais preciosos, mesmo revestidos, folheados ou chapeados de metais preciosos (plaquê)</td><td>286</td></tr><tr><td>02074100</td><td>Carnes de patos, nãoo cortada em pedaços, frescas ou refrigeradas</td><td>283</td></tr><tr><td>16054000</td><td>Preparações e conservas, de outros crustáceos</td><td>259</td></tr><tr><td>30041014</td><td>Medicamento contendo penicilina g potássica, em doses</td><td>257</td></tr><tr><td>12129400</td><td>Raízes de chicória, fresca, refrigerada, congelada ou seca</td><td>256</td></tr><tr><td>03024910</td><td>Espadins, marlins, veleiros (Istiophoridae), frescos ou refrigerados</td><td>255</td></tr><tr><td>03046210</td><td>Filés de bagre (Ictalarus puntactus), congelados</td><td>250</td></tr><tr><td>30069200</td><td>Desperdícios farmacêuticos</td><td>246</td></tr><tr><td>38220090</td><td>Outros reagentes de diagnóstico ou de laboratório</td><td>245</td></tr><tr><td>07132010</td><td>Grão-de-bico, seco, para semeadura</td><td>244</td></tr><tr><td>16041100</td><td>Preparações e conservas, de salmões, inteiros ou em pedaços, exceto peixes picados</td><td>243</td></tr><tr><td>30049058</td><td>Medicamento contendo etoposidio, em doses</td><td>236</td></tr><tr><td>07099100</td><td>Alcachofras, frescas ou refrigeradas</td><td>233</td></tr><tr><td>03043210</td><td>Filés de bagre (Ictalurus puntactus), frescos, refrigerados ou congelados</td><td>222</td></tr><tr><td>03023600</td><td>Atuns do sul frescos ou refrigerados</td><td>220</td></tr><tr><td>03057100</td><td>Barbatanas de tubarão</td><td>216</td></tr><tr><td>02011000</td><td>Carcaças e meias carcaças de bovino, frescas ou refrigeradas</td><td>211</td></tr><tr><td>20079922</td><td>Purês de acerola (Malpighia spp.)</td><td>209</td></tr><tr><td>03061990</td><td>Outros crustáceos congelados, inclusive farinhas, etc, para alimentação humana</td><td>208</td></tr><tr><td>30032069</td><td>Medicamento contendo aminoglicosídios/outros derivados, exceto em doses</td><td>202</td></tr><tr><td>52064100</td><td>Fios retorcidos ou retorcidos múltiplos de algodão, de fibras penteadas, que contenham menos de 85 %, em peso, de algodão, não acondicionados para venda a retalho, de título igual ou superior a 714,29 decitex (número métrico não superior a 14)</td><td>200</td></tr><tr><td>29038300</td><td>Mirex (ISO)</td><td>200</td></tr><tr><td>04031000</td><td>Iogurte</td><td>196</td></tr><tr><td>28444090</td><td>Outros elementos, isotopos e compostos, radioativos, etc.</td><td>186</td></tr><tr><td>40121100</td><td>Pneumáticos recauchutados, dos tipos utilizados em automóveis de passageiros (incluindo os veículos de uso misto (station wagons) e os automóveis de corrida)</td><td>181</td></tr><tr><td>03035920</td><td>Anchoita (Engraulis anchoita), congelado</td><td>180</td></tr><tr><td>22059000</td><td>Outros vermutes e vinhos de uvas frescas, aromatizados</td><td>176</td></tr><tr><td>03028937</td><td>Pirarucu (Arapaima gigas), fresco ou refrigerado</td><td>172</td></tr><tr><td>06029083</td><td>Mudas de café</td><td>170</td></tr><tr><td>61041990</td><td>Tailleurs de malha, de uso feminino, de outras matérias têxteis</td><td>169</td></tr><tr><td>30039073</td><td>Medicamento contendo oxifendazol/albendazol, etc, exceto em doses</td><td>167</td></tr><tr><td>24039910</td><td>Extratos e molhos, de tabaco, manufaturados</td><td>166</td></tr><tr><td>03027400</td><td>Enguias (anguilla spp.), frescas ou refrigeradas</td><td>161</td></tr><tr><td>30044100</td><td>Medicamentos que contenham efedrina ou seus sais, apresentados em doses (incluindo os destinados a serem administrados por via percutânea) ou acondicionados para venda a retalho</td><td>160</td></tr><tr><td>94039090</td><td>Partes para móveis, de outras matérias</td><td>160</td></tr><tr><td>03025500</td><td>Merluza-do-alasca (Theragra chalcogramma), fresca ou refrigerada</td><td>155</td></tr><tr><td>08109017</td><td>Tamarindos (Tamarindus indica)</td><td>154</td></tr><tr><td>94052000</td><td>Abajures de cabeceira, de escritório e lampadários de interior, elétricos</td><td>154</td></tr><tr><td>07133490</td><td>Feijão-bambara (Vigna subterranea ou Voandzeia subterranea), exceto para semeadura</td><td>150</td></tr><tr><td>16041390</td><td>Preparações e conservas, de sardinelas, espadilhas, inteiras ou em pedaços</td><td>149</td></tr><tr><td>03074900</td><td>Outras sépias (Chocos) (Chocos e chopos); lulas (potas e lulas)</td><td>147</td></tr><tr><td>38255000</td><td>Resíduos de soluções decapantes para metais, de fluidos hidráulicos, de fluidos para freios e de fluidos anticongelantes</td><td>136</td></tr><tr><td>52041932</td><td>Linhas para costurar, de algodão, não acondicionadas para venda a retalho, de algodão branqueado ou colorido, de título inferior ou igual a 5.000 decitex por fio simples, de três ou mais cabos</td><td>134</td></tr><tr><td>01019000</td><td>Animais espécie asinina/muar, exceto reprodutores de raça pura</td><td>131</td></tr><tr><td>07095200</td><td>Trufas frescas ou refrigeradas</td><td>130</td></tr><tr><td>38140010</td><td>Solventes e diluentes orgânicos compostos, não especificados nem compreendidos noutras posições; preparações concebidas para remover tintas ou vernizes, que contenham clorofluorcarbonetos do metano, do etano ou do propano (CFC), mesmo que contenham HCFC</td><td>129</td></tr><tr><td>03071200</td><td>Ostras, congeladas</td><td>127</td></tr><tr><td>60024010</td><td>Tecidos de malha de largura não superior a 30 cm, que contenham, em peso, 5 % ou mais de fios de elastômeros, mas que não contenham fios de borracha, exceto os da posição 60.01, de algodão</td><td>125</td></tr><tr><td>94019090</td><td>Partes para assentos, de outras matérias</td><td>124</td></tr><tr><td>20092100</td><td>Suco (sumo) de toranja e de pomelo, com valor Brix não superior a 20</td><td>123</td></tr><tr><td>41019020</td><td>Outros couros e peles, de bovino, incluindo dorsos, meios-dorsos e flancos, divididos, com o lado flor</td><td>120</td></tr><tr><td>03038113</td><td>Tubarão-azul em pedaços, com pele, congelado</td><td>120</td></tr><tr><td>26201900</td><td>Outras cinzas e resíduos contendo zinco</td><td>120</td></tr><tr><td>03054300</td><td>Truta defumada, mesmo em filés</td><td>120</td></tr><tr><td>16055100</td><td>Preparações e conservas, de ostras</td><td>119</td></tr><tr><td>02091029</td><td>Outras gorduras de porco</td><td>118</td></tr><tr><td>10039090</td><td>Outras cevadas, exceto em grão</td><td>118</td></tr><tr><td>85393132</td><td>Tubos com fósforo em halofosfato e que contenham mais de 10 mg de mercúrio</td><td>117</td></tr><tr><td>03077900</td><td>Ameijoas, berbigões e arcas (famílias Arcidae, Arcticidae, Cardiidae, Donacidae, Hiatellidae, Mactridae, Mesodesmatidae, Myidae, Semelidae, Solecurtidae, Solenidae, Tridacnidae e Veneridae), em outras formas</td><td>117</td></tr><tr><td>03079200</td><td>Outros moluscos, incluindo as farinhas, pós e pellets, próprios para alimentação humana, congelados</td><td>114</td></tr><tr><td>07133311</td><td>Feijão comum ((Phaseolus vulgaris), preto, seco, para semeadura</td><td>114</td></tr><tr><td>52051400</td><td>Fios de algodão simples, de fibras não penteadas, de título inferior a 192,31 decitex mas não inferior a 125 decitex (número métrico superior a 52 mas não superior a 80), não acondicionados para venda a retalho</td><td>110</td></tr><tr><td>97011000</td><td>Quadros, pinturas e desenhos, feitos inteiramente a mão</td><td>108</td></tr><tr><td>30049091</td><td>Medicamento contendo extrato de polen, em doses</td><td>108</td></tr><tr><td>03045200</td><td>Filé e outras carnes de salmonídeos, fresco ou refrigerado</td><td>106</td></tr><tr><td>03057900</td><td>Outros desperdicios comestiveis, de peixes</td><td>102</td></tr><tr><td>12116000</td><td>Casca de cerejeira africana (Prunus africana)</td><td>100</td></tr><tr><td>97031000</td><td>Produções originais de arte estatuária ou de escultura, de quaisquer matérias, com mais de 100 anos</td><td>100</td></tr><tr><td>03028935</td><td>Piaus (leporinus spp.), fresco ou refrigerado</td><td>100</td></tr><tr><td>40121900</td><td>Outros pneumáticos  recauchutados</td><td>88</td></tr><tr><td>07134010</td><td>Lentilhas secas, para semeadura</td><td>87</td></tr><tr><td>60041091</td><td>Tecidos de malha de largura superior a 30 cm, que contenham, em peso, 5 % ou mais de fios de elastômeros, mas que não contenham fios de borracha, exceto os da posição 60.01, de outras matérias têxteis, crus ou branqueados</td><td>87</td></tr><tr><td>38089120</td><td>Inseticidas apresentados de outro modo, contendo bromometano (brometo de metila) ou bromoclorometano</td><td>86</td></tr><tr><td>08028000</td><td>Nozes de areca (nozes de bétele), frescas ou secas</td><td>85</td></tr><tr><td>44101992</td><td>Outros painéis de madeiras recobertos na superfície com papel impregnado de melamina</td><td>83</td></tr><tr><td>01039100</td><td>Outros suínos vivos, de peso inferior a 50 kg</td><td>82</td></tr><tr><td>60063130</td><td>Outros tecidos de malha, de fibras sintéticas, crus ou branqueados, acrílicos ou modacrílicos</td><td>81</td></tr><tr><td>03069990</td><td>Outros crustáceos, incluindo as farinhas, pós e pellets de crustáceos, próprios para alimentação humana</td><td>81</td></tr><tr><td>03028921</td><td>Cherne-poveiro (Polypirion americanus), fresco ou refrigerado</td><td>80</td></tr><tr><td>03075900</td><td>Polvos (Octopus spp.) em outra forma que não vivos, frescos, refrigerados ou congelados</td><td>77</td></tr><tr><td>27109120</td><td>Outros resíduos de óleos que contenham terfenilas policloradas (PCT) ou bifenilas polibromadas (PBB), mesmo que também contenham bifenilas policloradas (PCB) numa concentração inferior a 50 mg/kg</td><td>77</td></tr><tr><td>03035910</td><td>Espadins, marlins, veleiros (Istiophoridae), congelados</td><td>75</td></tr><tr><td>01059900</td><td>Patos, gansos, perus, peruas e pintadas, vivos, de peso >185 g</td><td>73</td></tr><tr><td>16052100</td><td>Preparações e conservas de camarões, não acondicionados em recipientes hermeticamente fechados</td><td>72</td></tr><tr><td>03038965</td><td>Tambacu (hibrido de tambaqui e pacu), congelado, exceto filé, etc</td><td>70</td></tr><tr><td>23066000</td><td>\"Tortas e outros resíduos sólidos, de nozes ou de \"\"palmiste\"\"\"</td><td>68</td></tr><tr><td>06031400</td><td>Crisântemos e seus botões, cortados para buquês, ornamentais frescos</td><td>61</td></tr><tr><td>88022022</td><td>Aviões e outros veículos aéreos, de peso não superior a 2.000 kg, vazios, a turboélice, multimotores</td><td>60</td></tr><tr><td>85359000</td><td>Outros aparelhos para interrupção, etc, de circuitos elétricos, para uma tensão superior a 1.000 V</td><td>60</td></tr><tr><td>12074010</td><td>Sementes de gergelim, para semeadura</td><td>57</td></tr><tr><td>43018000</td><td>Peles com pelo em bruto, de outros animais, inteiras, com ou sem cabeça, cauda ou patas</td><td>55</td></tr><tr><td>30049074</td><td>Medicamento contendo ftalilsulfatiazol/bumetanida, etc, em doses</td><td>55</td></tr><tr><td>27012000</td><td>Briquetes, bolas em aglomerados, etc, obtidos da hulha</td><td>54</td></tr><tr><td>04029100</td><td>Outros leites, cremes de leite, concentrados, sem adição de açúcar ou de outros edulcorantes</td><td>53</td></tr><tr><td>23063010</td><td>Tortas, farinhas e pellets, de sementes de girassol</td><td>53</td></tr><tr><td>09096220</td><td>Sementes de badiana (anis-estrelado), trituradas ou em pó</td><td>52</td></tr><tr><td>03054910</td><td>Bacalhaus (gadus) defumados, mesmo em filés</td><td>51</td></tr><tr><td>03028400</td><td>Robalos (Dicentrarchus spp.), fresco ou refrigerado</td><td>50</td></tr><tr><td>03028100</td><td>Cação e outros tubarões, frescos ou refrigerados</td><td>50</td></tr><tr><td>03028936</td><td>Tainhas (mugil spp), fresco ou refrigerado</td><td>50</td></tr><tr><td>03025100</td><td>Bacalhau-do-Atlântico, da-Groelândia e do-Pacífico, fresco ou refrigerado</td><td>48</td></tr><tr><td>15094000</td><td>Outros azeites de oliva (oliveira) virgens</td><td>47</td></tr><tr><td>52105910</td><td>Tecidos de algodão que contenham menos de 85 %, em peso, de algodão, combinados,principal ou unicamente, com fibras sintéticas ou artificiais, peso < 200 g/m2, estampados,em ponto sarjado,incluindo o diagonal, cuja relação de textura não seja superior a 4</td><td>46</td></tr><tr><td>03035500</td><td>Chicharros (trachurus spp.), congelados</td><td>45</td></tr><tr><td>35030011</td><td>Gelatinas e seus derivados, de osseína, com grau de pureza superior ou igual a 99,98 %, em peso</td><td>41</td></tr><tr><td>03069100</td><td>Lagostas (Palinurus spp., Panulirus spp., Jasus spp.)</td><td>41</td></tr><tr><td>85064090</td><td>Outras pilhas e baterias de pilhas, de óxido de praa</td><td>40</td></tr><tr><td>52041131</td><td>Linhas para costurar, não acondicionadas para venda a retalho, que contenham pelo menos 85 %, em peso, de algodão, de algodão branqueado ou colorido, de título inferior ou igual a 5.000 decitex por fio simples, de dois cabos</td><td>39</td></tr><tr><td>30049042</td><td>Medicamento contendo atenolol/prilocaína, etc, em doses</td><td>37</td></tr><tr><td>10081010</td><td>Trigo mourisco para semeadura</td><td>37</td></tr><tr><td>03049219</td><td>Outros peixes marlongas-negras, frescos/refrigerados/congelados</td><td>36</td></tr><tr><td>01013000</td><td>Animais espécie asinina/muar, reprodutores de raça pura</td><td>36</td></tr><tr><td>07144000</td><td>Taros (Colocasia spp.)</td><td>35</td></tr><tr><td>03027210</td><td>Bagre (Ictalurus puntactus), fresco ou refrigerado</td><td>35</td></tr><tr><td>03045500</td><td>Filés de merluza negra e merluza antártica, fresco ou refrigerado</td><td>31</td></tr><tr><td>07095400</td><td>Shitake (Lentinus edodes), frescos ou refrigerados</td><td>31</td></tr><tr><td>03028931</td><td>Curimatas (prochilodus spp.), fresco ou refrigerado</td><td>30</td></tr><tr><td>88032000</td><td>Trens de aterrissagem e suas partes, para veículos aéreos, etc.</td><td>30</td></tr><tr><td>02068000</td><td>Miudezas comestíveis, de ovino, etc, frescas/refrigeradas</td><td>30</td></tr><tr><td>29037712</td><td>Diclorodifluorometano</td><td>29</td></tr><tr><td>03036910</td><td>Merluza rosada (Macruronus megellanicus), congelada</td><td>28</td></tr><tr><td>38089319</td><td>Outros herbicidas apresentados em formas ou embalagens exclusivamente para uso direto em aplicações domissanitárias</td><td>26</td></tr><tr><td>03038961</td><td>Piramutaba (Brachyplatystoma vaillantii), congelado, exceto  filés, outras carnes, etc</td><td>25</td></tr><tr><td>03044300</td><td>Filés de peixes chatos (pleuronectidae, soleidae, etc)</td><td>24</td></tr><tr><td>48102210</td><td>Papel cuchê leve (L.W.C. - lightweight coated), em tiras ou rolos de largura não superior a 15 cm ou em folhas em que nenhum lado exceda 360 mm, quando não dobradas</td><td>23</td></tr><tr><td>44201000</td><td>Estatuetas e outros objetos de ornamentação, de madeira</td><td>23</td></tr><tr><td>41062190</td><td>Outros couros e peles de caprinos, curtidos</td><td>23</td></tr><tr><td>41033000</td><td>Couros e peles, de suínos, em bruto</td><td>21</td></tr><tr><td>12059090</td><td>Outras sementes de nabo silvestre, exceto para semeadura</td><td>21</td></tr><tr><td>97012200</td><td>Mosaicos, feitos inteiramente à mão, com mais de 100 anos</td><td>21</td></tr><tr><td>03063400</td><td>Lagosta norueguesa (Lagostim) (Nephrops norvegicus), viva, frescos ou refrigerados</td><td>20</td></tr><tr><td>01023990</td><td>Outros búfalos</td><td>20</td></tr><tr><td>38256100</td><td>Resíduos das indústrias químicas contendo constituinte orgânico</td><td>20</td></tr><tr><td>07145000</td><td>Mangaritos (Xanthosomo spp.)</td><td>20</td></tr><tr><td>03028924</td><td>Peixes-rei (atherina spp.), fresco ou refrigerado</td><td>19</td></tr><tr><td>60029010</td><td>Outros tecidos de malha de algodão, largura <=30cm</td><td>18</td></tr><tr><td>10085010</td><td>Quinoa (Chenopodium quinoa), para semeadura</td><td>18</td></tr><tr><td>20029090</td><td>Outros tomates preparados ou conservados, exceto em vinagre ou em ácido acético</td><td>18</td></tr><tr><td>85192000</td><td>Aparelhos que funcionem por introdução de moedas, papéis-moeda, cartões de banco, fichas ou por outros meios de pagamento</td><td>18</td></tr><tr><td>16041200</td><td>Preparações e conservas, de arenques, inteiros ou em pedaços, exceto peixes picados:</td><td>17</td></tr><tr><td>48025691</td><td>Papel para impressão de papel-moeda, de peso igual ou superior a 40 g/m2, mas não superior a 150 g/m2, em folhas em que um lado não seja superior a 435 mm e o outro não seja superior a 297 mm, quando não dobradas</td><td>17</td></tr><tr><td>53029000</td><td>Cânhamo trabalhado de outra forma, mas não fiado, estopas, desperdícios</td><td>17</td></tr><tr><td>07133910</td><td>Outros feijões (Vigna ou Phaseolus), secos, para semeadura</td><td>15</td></tr><tr><td>24029000</td><td>Charutos, cigarrilhas e cigarros, de sucedâneos do tabaco</td><td>15</td></tr><tr><td>03019190</td><td>Outras trutas (Salmo trutta e Oncorhynchus), vivas</td><td>15</td></tr><tr><td>51130020</td><td>Tecidos de crina</td><td>14</td></tr><tr><td>03011110</td><td>Aruana (Osteoglossum bicirrhosum)</td><td>14</td></tr><tr><td>01064900</td><td>Outros insetos</td><td>14</td></tr><tr><td>84733092</td><td>Tela para microcomputadores portáteis, policromática</td><td>14</td></tr><tr><td>03063300</td><td>Caranguejos vivos, frescos ou refrigerados</td><td>13</td></tr><tr><td>03063500</td><td>Camarões de água fria (Pandalus spp., Crangon crangon), vivos, frescos ou refrigerados</td><td>13</td></tr><tr><td>30039071</td><td>Medicamento contendo terfenadina/talniflumato, etc, exceto em doses</td><td>12</td></tr><tr><td>53011000</td><td>Linho em bruto ou macerado</td><td>12</td></tr><tr><td>30044920</td><td>Pilocarpina, seu nitrato ou seu cloridrato, apresentados em doses (incluindo os destinados a serem administrados por via percutânea) ou acondicionados para venda a retalho</td><td>12</td></tr><tr><td>58012100</td><td>Veludos e pelúcias obtidos por trama, não cortados, de algodão</td><td>12</td></tr><tr><td>23069010</td><td>Tortas, resíduos, etc, de germe de milho</td><td>12</td></tr><tr><td>85393913</td><td>Tubos fluorescentes de cátodo frio ou de eletrodo externo, para telas eletrônicas, de comprimento superior a 1.500 mm e que contenham mais de 13 mg de mercúrio</td><td>11</td></tr><tr><td>15091000</td><td>Azeite de oliva, virgem</td><td>11</td></tr><tr><td>16055900</td><td>Preparações e conservas, de outros moluscos</td><td>10</td></tr><tr><td>37025590</td><td>Filmes para foto a cores, sensibilizado, não impressionado, de largura superior a 16 mm, mas não superior a 35 mm, e comprimento superior a 30 m, em rolos</td><td>10</td></tr><tr><td>97030000</td><td>Produções originais de arte estatuária ou de escultura, de quaisquer matérias</td><td>10</td></tr><tr><td>07133510</td><td>Feijão-fradinho (Vigna unguiculata), para semeadura</td><td>10</td></tr><tr><td>03056100</td><td>Arenques (Clupea harengus, Clupea pallasii) salgados, não secos, não defumados e em salmoura</td><td>9</td></tr><tr><td>62081900</td><td>Combinações e anáguas, de uso feminino, de outras matérias têxteis</td><td>9</td></tr><tr><td>44124100</td><td>Madeira microlaminada (microlamelada) colada (LVL), com, pelo menos, uma camada exterior de madeira tropical</td><td>9</td></tr><tr><td>30039095</td><td>Medicamento contendo propofol, busulfano, mitotano, exceto em doses</td><td>9</td></tr><tr><td>03069400</td><td>Lagosta norueguesa (Lagostim) (Nephrops norvegicus)</td><td>8</td></tr><tr><td>29353000</td><td>N-Etil-N-(2-hidroxietil)perfluoroctano sulfonamida</td><td>8</td></tr><tr><td>30039014</td><td>Medicamento contendo vitamina a1 (retinol), etc, exceto em doses</td><td>8</td></tr><tr><td>29037790</td><td>Outros derivados peralogenados dos hidrocarbonetos acíclicos, com fluor e bromo</td><td>7</td></tr><tr><td>38253000</td><td>Resíduos clínicos</td><td>7</td></tr><tr><td>84717012</td><td>Unidades de discos magnéticos, para discos rígidos</td><td>7</td></tr><tr><td>03029190</td><td>Outros fígados, ovas e gônadas masculinas, frescos ou refrigerados</td><td>6</td></tr><tr><td>71021000</td><td>Diamantes, mesmo trabalhados, mas não montados nem engastados, não selecionados</td><td>6</td></tr><tr><td>03032600</td><td>Enguias congeladas (anguilla spp.), congeladas</td><td>6</td></tr><tr><td>25102090</td><td>Fosfatos aluminocálcicos, naturais, cré fosfatado, moídos</td><td>6</td></tr><tr><td>85063010</td><td>Pilhas e baterias de pilhas, de óxido de mercúrio, com volume exterior não superior a 300 cm3</td><td>6</td></tr><tr><td>38089331</td><td>Inibidores de germinação, que contenham bromometano (brometo de metila) ou bromoclorometano</td><td>6</td></tr><tr><td>38089194</td><td>Inseticida à base de dissulfoton ou de endossulfan, apresentado de outro modo</td><td>6</td></tr><tr><td>84762900</td><td>Outras máquinas automáticas de venda de bebidas</td><td>6</td></tr><tr><td>16056100</td><td>Preparações e conservas, de pepinos-do-mar</td><td>6</td></tr><tr><td>23063090</td><td>Outros resíduos sólidos, do girassol</td><td>5</td></tr><tr><td>91112010</td><td>Caixas para relógios de metais comuns, mesmo dourados ou prateados, de latão, em esboço</td><td>5</td></tr><tr><td>44011100</td><td>Lenha em qualquer forma, de coníferas</td><td>5</td></tr><tr><td>08092100</td><td>Cerejas-ácidas (Prunus cerasus), frescas</td><td>5</td></tr><tr><td>22042920</td><td>Mostos</td><td>5</td></tr><tr><td>38140020</td><td>Solventes e diluentes orgânicos compostos, não especificados nem compreendidos noutras posições; preparações concebidas para remover tintas ou vernizes, que contenham HCFC, mas que não contenham CFC</td><td>5</td></tr><tr><td>34021190</td><td>Outros agentes orgânicos de superfície, aniônicos</td><td>5</td></tr><tr><td>30049075</td><td>Medicamento contendo enantato de flufenazina, etc, em doses</td><td>4</td></tr><tr><td>30039057</td><td>Medicamento contendo clorexidina/seus sais, etc, exceto em doses</td><td>4</td></tr><tr><td>90189061</td><td>Aparelhos para medida da pressão arterial que contenham mercúrio</td><td>4</td></tr><tr><td>12040010</td><td>Sementes de linho (linhaça) para semeadura</td><td>4</td></tr><tr><td>90251111</td><td>Termômetros clínicos que contenham mercúrio</td><td>4</td></tr><tr><td>51130012</td><td>Tecidos de pelos grosseiros, que contenham menos de 85 %, em peso, de pelos grosseiros e que contenham algodão</td><td>4</td></tr><tr><td>45011000</td><td>Cortiça natural, em bruto ou simplesmente preparada</td><td>4</td></tr><tr><td>13021400</td><td>Sucos e extratos, de piretro ou de raízes com rotenona</td><td>3</td></tr><tr><td>02085000</td><td>Carnes de répteis, congeladas, frescas, refrigeradas</td><td>3</td></tr><tr><td>39239000</td><td>Outros artigos de transporte ou de embalagem, de plásticos</td><td>3</td></tr><tr><td>01064100</td><td>Abelhas</td><td>2</td></tr><tr><td>26201100</td><td>Mates de galvanização (contendo zinco)</td><td>2</td></tr><tr><td>03081900</td><td>Pepinos-do-mar (Stichopus japonicus, Holothurioidea), em outras formas</td><td>2</td></tr><tr><td>30033929</td><td>Medicamento contendo outros hormônios polipeptídicos, etc, exceto em doses</td><td>2</td></tr><tr><td>85491100</td><td>Desperdícios/resíduos de acumuladores elétricos de chumbo, etc</td><td>2</td></tr><tr><td>38248900</td><td>Mercadorias mencionadas na Nota de subposições 3 do presente Capítulo, que contenham parafinas cloradas de cadeia curta</td><td>2</td></tr><tr><td>29035990</td><td>Outros derivados halogenados dos hidrocarbonetos ciclânicos, etc.</td><td>2</td></tr><tr><td>85491200</td><td>Outros desperdícios e resíduos, e sucata, de pilhas, de baterias de pilhas e de acumuladores, elétricos, que contenham chumbo, cádmio ou mercúrio</td><td>2</td></tr><tr><td>30039012</td><td>Medicamento contendo ácido nicotínico, etc, exceto em doses</td><td>2</td></tr><tr><td>85409120</td><td>Núcleos de pó ferromagnético para bobinas de deflexão (yokes)</td><td>2</td></tr><tr><td>30049033</td><td>Medicamento contendo clembuterol ou seu cloridrato, em doses</td><td>1</td></tr><tr><td>30049057</td><td>Medicamento contendo carbocisteína ou sulfiram, em doses</td><td>1</td></tr><tr><td>84451910</td><td>Máquinas para preparação da seda</td><td>1</td></tr><tr><td>90283029</td><td>Outros contadores bifásicos de eletricidade</td><td>1</td></tr><tr><td>07095300</td><td>Cogumelos do gênero Cantharellus</td><td>1</td></tr><tr><td>37069000</td><td>Outros filmes cinematográficos impressos e revelados</td><td>1</td></tr><tr><td>44185000</td><td>Fasquias para telhados (shingles e shakes), de madeira</td><td>1</td></tr><tr><td>52041920</td><td>Outras linhas para costurar, de algodão cru, de título inferior ou igual a 5.000 decitex por fio simples</td><td>1</td></tr><tr><td>03052010</td><td>Ovas de tainhas (Mugil spp.) de peixes, secos, defumados, etc.</td><td>1</td></tr><tr><td>87043230</td><td>Veículos automóveis frigoríficos, etc, com motor a explosão, carga > 5 toneladas</td><td>1</td></tr><tr><td>48024010</td><td>Papel próprio para fabricação de papéis de parede, em tiras ou rolos de largura não superior a 15 cm</td><td>1</td></tr><tr><td>09082100</td><td>Macis, não triturado nem em pó</td><td>1</td></tr><tr><td>86039000</td><td>Outras litorinas, mesmo para circulação urbana, exceto as da posição 86.04</td><td>1</td></tr><tr><td>30032079</td><td>Medicamento contendo polipeptídios/outros derivados, exceto em doses</td><td>1</td></tr><tr><td>85211081</td><td>\"Aparelhos videofônicos de gravação ou de reprodução, em cassete, de largura de fita igual a 12,65 mm (1/2\"\")\"</td><td>1</td></tr><tr><td>58030010</td><td>Tecidos em ponto de gaze, exceto os artefatos da posição 58.06, de algodão</td><td>1</td></tr><tr><td>41062110</td><td>Couros e peles, depilados, de caprinos, no estado úmido (incluindo wet-blue), com pré-curtimenta vegetal</td><td>1</td></tr><tr><td>84717021</td><td>Unidades de discos ópticos, para leitura de dados</td><td>1</td></tr><tr><td>85258012</td><td>Câmeras de televisão, com sensor de imagem a semicondutor tipo CCD, de mais de 490 x 580 elementos de imagem (pixels) ativos, sensíveis a intensidades de iluminação inferiores a 0,20 lux</td><td>1</td></tr><tr><td>04022920</td><td>Leite parcialmente desnatado, em pó, com um teor, em peso, de matérias gordas, superior a 1,5 %, adocicado</td><td>1</td></tr><tr><td>30044940</td><td>Codeína ou seus sais, apresentados em doses (incluindo os destinados a serem administrados por via percutânea) ou acondicionados para venda a retalho</td><td>0</td></tr><tr><td>30039074</td><td>Medicamento contendo triazolam/alprazolam, etc, exceto em doses</td><td>0</td></tr><tr><td>30039086</td><td>Medicamento contendo furosemida/clortalidona, etc, exceto em doses</td><td>0</td></tr><tr><td>30032061</td><td>Medicamento contendo sulfato de gentamicina, exceto em doses</td><td>0</td></tr><tr><td>71023100</td><td>Diamantes não industriais, em bruto ou simplesmente serrados, clivados ou desbastados</td><td>0</td></tr><tr><td>29396911</td><td>Maleato de metilergometrina</td><td>0</td></tr><tr><td>53071090</td><td>Fios de outras fibras têxteis liberianas, simples</td><td>0</td></tr><tr><td>30032031</td><td>Medicamento contendo rifamicina sv sódica, exceto em doses</td><td>0</td></tr><tr><td>30039045</td><td>Medicamento contendo levodopa/alfa-metildopa, exceto em doses</td><td>0</td></tr><tr><td>30032049</td><td>Medicamento contendo lincosamidas/outs.derivs.exceto em doses</td><td>0</td></tr><tr><td>62011300</td><td>Sobretudos, impermeáveis, japonas, gabões, capas e semelhantes, de uso masculino, de fibras sintéticas ou artificiais</td><td>0</td></tr><tr><td>38249914</td><td>Senduramicina sódica, da fabricação da senduramicina</td><td>0</td></tr><tr><td>74199990</td><td>Aparelhos para cozinhar/aquecer, de cobre, não elétrico, uso doméstico</td><td>0</td></tr><tr><td>28433010</td><td>Sulfeto de ouro em dispersão de gelatina</td><td>0</td></tr><tr><td>30021900</td><td>Outros antissoros, outras frações do sangue e produtos imunológicos, mesmo modificados ou obtidos por via biotecnológica</td><td>0</td></tr></tbody></table></div>"
      ]
     },
     "metadata": {
      "application/vnd.databricks.v1+output": {
       "addedWidgets": {},
       "aggData": [],
       "aggError": "",
       "aggOverflow": false,
       "aggSchema": [],
       "aggSeriesLimitReached": false,
       "aggType": "",
       "arguments": {},
       "columnCustomDisplayInfos": {},
       "data": [
        [
         "26011210",
         "Minérios de ferro e seus concentrados, exceto as piritas de ferro ustuladas (cinzas de piritas), aglomerados por processo de peletização, de diâmetro superior ou igual a 8mm e inferior ou igual a 18mm",
         26124836972
        ],
        [
         "23040090",
         "Bagaços e outros resíduos sólidos, da extração do óleo de soja",
         17657150092
        ],
        [
         "26060011",
         "Bauxita não calcinada (minério de alumínio)",
         5240519373
        ],
        [
         "20091200",
         "Suco (sumo) de laranja, não fermentados, sem adição de álcool, com ou sem adição de açúcar ou de outros edulcorantes, não congelado, com valor Brix não superior a 20",
         1884552692
        ],
        [
         "02071220",
         "Carnes de galos/galinhas, não cortadas em pedaços, congeladas, sem miudezas",
         1033173866
        ],
        [
         "44039800",
         "Madeira em bruto, mesmo descascada, desalburnada ou esquadriada, de eucalipto (Eucalyptus spp.)",
         937781524
        ],
        [
         "01022990",
         "Outros bovinos vivos",
         348416682
        ],
        [
         "02071422",
         "Peitos desossados de galinha, comestíveis, congelados",
         330504204
        ],
        [
         "20091100",
         "Suco (sumo) de laranja, não fermentados, sem adição de álcool, com ou sem adição de açúcar ou de outros edulcorantes, congelado",
         300248778
        ],
        [
         "44034200",
         "Madeira em bruto, mesmo descascada, desalburnada ou esquadriada, de teca",
         269713871
        ],
        [
         "08071900",
         "Melões frescos",
         243398711
        ],
        [
         "20091900",
         "Outros sucos de laranjas, não fermentados, sem adição de álcool, com ou sem adição de açúcar ou de outros edulcorantes",
         235690009
        ],
        [
         "02071423",
         "Coxas com sobrecoxas desossadas de galinha, comestíveis, congelados",
         234314045
        ],
        [
         "02071424",
         "Carne mecanicamente separada de galinha, desossada, comestível, congelada",
         175414342
        ],
        [
         "25249000",
         "Outras formas de amianto",
         163563500
        ],
        [
         "02071413",
         "Asas não desossadas de galinha, comestíveis, congelados",
         161437023
        ],
        [
         "26169000",
         "Minérios de outros metais preciosos e seus concentrados",
         150715165
        ],
        [
         "02109911",
         "Carnes de galos e de galinhas",
         150168443
        ],
        [
         "29012410",
         "Buta-1, 3-dieno não saturado",
         141239642
        ],
        [
         "02071412",
         "Coxas com sobrecoxas não desossadas de galinha, comestíveis, congelados",
         139740501
        ],
        [
         "08071100",
         "Melancias frescas",
         132556048
        ],
        [
         "02071434",
         "Pés e patas de galinha, comestíveis, congelados",
         118088585
        ],
        [
         "15079011",
         "Óleo de soja, refinado, em recipientes com capacidade inferior ou igual a 5 litros",
         110442135
        ],
        [
         "05040090",
         "Bexigas e estômagos, de animais, exceto peixes, frescas, etc.",
         108134041
        ],
        [
         "07133590",
         "Feijão-fradinho, exceto para semeadura",
         88671363
        ],
        [
         "02071419",
         "Outros pedaços e miudezas não desossados, comestíveis de galos/galinhas, congelados",
         88385876
        ],
        [
         "16023220",
         "Preparações e conservas de galos e galinhas, com conteúdo de carne ou de miudezas superior ou igual a 57 %, em peso, cozidas",
         87845255
        ],
        [
         "23011010",
         "Farinhas, pós e pellets, de carnes; torresmos, impróprios para alimentação humana",
         68792667
        ],
        [
         "02072700",
         "Carnes de peruas/perus, em pedaços e miudezas, congeladas",
         58032242
        ],
        [
         "26070000",
         "Minérios de chumbo e seus concentrados",
         55203907
        ],
        [
         "20098921",
         "Água de coco (Cocos nucifera) com valor Brix não superior a 7,4",
         52708132
        ],
        [
         "02032200",
         "Pernas, pás e pedaços não desossados de suíno, congelados",
         51822457
        ],
        [
         "02071421",
         "Peitos, coxas e sobrecoxas, formando uma só peça, desossados de galinha, comestíveis, congelados",
         48743422
        ],
        [
         "44032200",
         "Madeira em bruto, mesmo descascada, desalburnada ou esquadriada, de pinheiro (Pinus spp.)",
         44916459
        ],
        [
         "08072000",
         "Mamões (papaias) frescos",
         43985501
        ],
        [
         "04090000",
         "Mel natural",
         37930740
        ],
        [
         "12072900",
         "Sementes de algodão, exceto para semeadura",
         36065250
        ],
        [
         "20093100",
         "Suco (sumo) de qualquer outro fruto cítrico, com valor Brix não superior a 20",
         28134413
        ],
        [
         "14042010",
         "Línteres de algodão, em bruto",
         27140514
        ],
        [
         "25161100",
         "Granito em bruto ou desbastado",
         26730739
        ],
        [
         "02071439",
         "Outras miudezas de galinha, comestíveis, congelados",
         24938547
        ],
        [
         "02071432",
         "Moelas de galinha, comestíveis, congelados",
         23865096
        ],
        [
         "47031900",
         "Pastas químicas de madeira, à soda ou ao sulfato, exceto pastas para dissolução, cruas, de não coníferas",
         20633043
        ],
        [
         "15029000",
         "Gorduras ovinas ou caprinas",
         19229386
        ],
        [
         "02071411",
         "Peitos não desossados de galinha, comestíveis, congelados",
         18164145
        ],
        [
         "01029000",
         "Outros animais vivos da espécie bovina",
         16439196
        ],
        [
         "02099000",
         "Outros toucinhos e gorduras",
         16302002
        ],
        [
         "02062100",
         "Línguas de bovino, congeladas",
         16228069
        ],
        [
         "93062100",
         "Cartuchos para espingardas ou carabinas de cano liso",
         15642003
        ],
        [
         "85492900",
         "Outros desperdícios e resíduos do tipo utilizado principalmente para a recuperação de metais preciosos, não classificados em códigos anteriores",
         12393680
        ],
        [
         "02071431",
         "Fígados de galinha, comestíveis, congelados",
         11217030
        ],
        [
         "15012000",
         "Outras gorduras de porco",
         11162286
        ],
        [
         "02064100",
         "Fígados de suíno, congelados",
         10580787
        ],
        [
         "04072100",
         "Outros ovos frescos de aves da espécie Gallus domesticus",
         10558503
        ],
        [
         "11042300",
         "Outros grãos trabalhados (por exemplo, descascados, em pérolas, cortados ou partidos), de milho",
         10510204
        ],
        [
         "02071210",
         "Carnes de galos/galinhas, não cortadas em pedaços, congeladas, com miudezas",
         10339562
        ],
        [
         "23033000",
         "Borras e desperdícios da indústria da cerveja e das destilarias",
         9435920
        ],
        [
         "02071429",
         "Outros pedaços desossados, comestíveis de galos/galinhas, congelados",
         9277801
        ],
        [
         "27109900",
         "Outros resíduos de óleos",
         8892747
        ],
        [
         "48025693",
         "Papel Kraft, de peso igual ou superior a 40 g/m2, mas não superior a 150 g/m2, em folhas em que um lado não seja superior a 435 mm e o outro não seja superior a 297 mm, quando não dobradas",
         8730708
        ],
        [
         "04029900",
         "Outros leites, cremes de leite, concentrados, adocicados",
         8395073
        ],
        [
         "69051000",
         "Telhas de cerâmica",
         7894632
        ],
        [
         "07143000",
         "Inhames (Dioscorea spp.)",
         7643724
        ],
        [
         "20094900",
         "Outros sucos de abacaxi",
         7008416
        ],
        [
         "16023210",
         "Preparações e conservas de galos e galinhas, com conteúdo de carne ou de miudezas superior ou igual a 57 %, em peso, não cozidas",
         6825529
        ],
        [
         "02031900",
         "Outras carnes de suíno, frescas ou refrigeradas",
         6599715
        ],
        [
         "51011110",
         "Lã suja, incluindo a lã lavada a dorso, não cardada nem penteada, de tosquia, de finura superior ou igual 22,05 micrômetros (mícrons) mas inferior ou igual a 32,6 micrômetros (mícrons)",
         6347209
        ],
        [
         "05069000",
         "Outros ossos e núcleos córneos, em bruto, desengordurado, etc.",
         5984379
        ],
        [
         "08012100",
         "Castanha-do-pará, fresca ou seca, com casca",
         5724601
        ],
        [
         "04015029",
         "Outros cremes de leite, com um teor, em peso, de matérias gordas, superior a 10 %, não concentrados nem adicionados de açúcar ou de outros edulcorantes",
         5568949
        ],
        [
         "03032300",
         "Tilápias (oreochromis spp.), congeladas",
         5427947
        ],
        [
         "02032100",
         "Carcaças e meias-carcaças de suíno, congeladas",
         5178816
        ],
        [
         "03043100",
         "Filés de tilápias (frescos, refrigerados ou conelados)",
         4756318
        ],
        [
         "03038932",
         "Pargo (Lutjanus purpureus), congelado",
         3769314
        ],
        [
         "16023100",
         "Preparações alimentícias e conservas, de peruas e de perus",
         3624128
        ],
        [
         "48025892",
         "Papel Kraft, sem fibras obtidas por processo mecânico ou químico-mecânico ou em que a percentagem destas fibras < 10 %, em peso, do conteúdo total de fibras, de peso > 150 g/m2",
         3462413
        ],
        [
         "68118100",
         "Chapas onduladas de fibrocimento, cimento-celulose, ou produtos semelhantes, que não contenham amianto",
         3430103
        ],
        [
         "23064100",
         "Torta de sementes de nabo silvestre ou de colza, com baixo teor de ácido erúcico",
         3391978
        ],
        [
         "02074200",
         "Carnes de patos, não cortadas em pedaços, congeladas",
         3184847
        ],
        [
         "87163100",
         "Reboques-cisternas para transporte de mercadorias",
         3087761
        ],
        [
         "07099919",
         "Milho doce, frescos ou refrigerados, exceto para semeadura",
         2976103
        ],
        [
         "10081090",
         "Trigo mourisco, exceto para semeadura",
         2784900
        ],
        [
         "44129100",
         "Madeira compensada (contraplacada), madeira folheada, e madeiras estratificadas semelhantes com, pelo menos, uma camada exterior de madeira tropical",
         2715154
        ],
        [
         "02072500",
         "Carnes de peruas/perus, não cortadas em pedaços, congeladas",
         2404879
        ],
        [
         "16029000",
         "Outras preparações alimentícias e conservas, de carnes, miudezas, incluindo as preparações de sangue de quaisquer animais",
         2353569
        ],
        [
         "02050000",
         "Carnes de animais das espécies cavalar, asinina e muar, frescas, refrigeradas ou congeladas.",
         2352494
        ],
        [
         "03061110",
         "Lagostas (Palinurus spp., Panulirus spp., Jasus spp.) inteiras, congeladas",
         2339517
        ],
        [
         "04012010",
         "Leite UHT (Ultra High Temperature), com um teor, em peso, de matérias gordas, superior a 1 %, mas não superior a 6 %, não concentrados nem adicionados de açúcar ou de outros edulcorantes",
         2266848
        ],
        [
         "04089900",
         "Outros ovos de aves, sem casca, frescos, cozidos em água, etc",
         2262609
        ],
        [
         "48025791",
         "Papel para impressão de papel-moeda, de peso igual ou superior a 40 g/m2, mas não superior a 150 g/m2",
         2227540
        ],
        [
         "44071300",
         "Madeira serrada ou fendida longitudinalmente, cortada transversalmente ou desenrolada, mesmo aplainada, lixada ou unida pelas extremidades, de espessura superior a 6 mm, de S-P-F (espruce (pícea) (Picea spp.), pinheiro (Pinus spp.) e abeto (Abies spp.))",
         2187351
        ],
        [
         "12129300",
         "Cana-de-açúcar, fresca, regrigerada, congelada ou seca",
         2052535
        ],
        [
         "15011000",
         "Banha de porco",
         1875280
        ],
        [
         "41015030",
         "Couros e peles em bruto, de bovinos, inteiros, de peso unitário superior a 16 kg, divididos, sem o lado flor",
         1865335
        ],
        [
         "07133990",
         "Outros feijões (Vigna ou Phaseolus), secos, em grãos",
         1705270
        ],
        [
         "08042010",
         "Figos frescos",
         1608724
        ],
        [
         "04015021",
         "Creme de leite UHT (Ultra High Temperature), com um teor, em peso, de matérias gordas, superior a 10 %, não concentrados nem adicionados de açúcar ou de outros edulcorantes",
         1588708
        ],
        [
         "39122021",
         "Nitrato de celulose, sem carga, em álcool, teor n/volat>=65%",
         1514930
        ],
        [
         "04081900",
         "Gemas de ovos, frescas, cozidas em água ou vapor, etc.",
         1430384
        ],
        [
         "09011190",
         "Café não torrado, não descafeinado, exceto em grão",
         1407816
        ],
        [
         "23070000",
         "Borras de vinho; tártaro em bruto",
         1345689
        ],
        [
         "87042320",
         "Veículos automóveis com motor diesel, caixa bascular, carga > 20 toneladas",
         1345051
        ],
        [
         "03024700",
         "Espadarte (Xiphias gladius), frescos ou refrigerados",
         1255273
        ],
        [
         "04011010",
         "Leite UHT (Ultra High Temperature), com um teor, em peso, de matérias gordas, não superior a 1 %, não concentrados nem adicionados de açúcar ou de outros edulcorantes",
         1227694
        ],
        [
         "03061190",
         "Outras lagostas (Palinurus spp., Panulirus spp., Jasus spp.), congeladas, exceto as inteiras",
         1178968
        ],
        [
         "02022020",
         "Quartos traseiros não desossados de bovino, congelados",
         991581
        ],
        [
         "20098912",
         "Suco de acerola (Malpighia spp.), com adição de açúcar e outros edulcorantes ou não",
         966363
        ],
        [
         "51011190",
         "Outras lãs de tosquia, suja, incluindo a lã lavada a dorso, não cardada nem penteada",
         962681
        ],
        [
         "08109012",
         "Anonas e outras frutas do gênero Annona ",
         911372
        ],
        [
         "41044120",
         "Outros couros e peles de bovinos (incluindo os búfalos), curtidos ao vegetal, para solas, no estado seco (crust)",
         891736
        ],
        [
         "19012000",
         "Misturas e pastas para a preparação de produtos de padaria, pastelaria e da indústria de bolachas e biscoitos, da posição 19.05",
         874455
        ],
        [
         "27101251",
         "Gasolinas para aviação",
         869942
        ],
        [
         "02022010",
         "Quartos dianteiros não desossados de bovino, congelados",
         851939
        ],
        [
         "08026100",
         "Nozes de macadâmia, com casca, frescas ou secas",
         723071
        ],
        [
         "08011900",
         "Cocos frescos",
         681202
        ],
        [
         "03023400",
         "Albacoras-bandolim (patudos) frescos, refrigerados",
         659833
        ],
        [
         "03057200",
         "Cabeças, caudas e bexigas natatórias, de peixes",
         624443
        ],
        [
         "03025900",
         "Outros peixes das famílias bregmacerotidae, gadidae, etc.",
         609186
        ],
        [
         "08045010",
         "Goiabas frescas ou secas",
         589620
        ],
        [
         "07069000",
         "Beterrabas, rabanetes e outras raízes, frescas, refrigeradas",
         580192
        ],
        [
         "41041990",
         "Couros/peles, equídeos, úmidos",
         566736
        ],
        [
         "14049010",
         "Matérias vegetais das espécies principalmente utilizadas na fabricação de vassouras, escovas, pincéis e artigos semelhantes (por exemplo, sorgo, piaçaba, raiz de grama, tampico), mesmo torcidas ou em feixes",
         553761
        ],
        [
         "38030010",
         "Tall oil, mesmo refinado, em bruto",
         501202
        ],
        [
         "07099990",
         "Outros produtos hortícolas, frescos ou refrigerados",
         481667
        ],
        [
         "03034200",
         "Albacora-laje (Thunnus albacares), congeladas, exceto filés, etc",
         478913
        ],
        [
         "05040019",
         "Tripas de outros animais (exceto peixes), frescos, refrigerados, congelados, salgados ou em salmoura, secos ou defumados",
         471321
        ],
        [
         "41019010",
         "Outros couros e peles, de bovino, incluindo dorsos, meios-dorsos e flancos, divididos, sem dividir",
         466540
        ],
        [
         "85235290",
         "Outros cartões inteligentes",
         439228
        ],
        [
         "44072910",
         "Madeira de cedro, serrada ou fendida longitudinalmente, cortada transversalmente ou desenrolada, mesmo aplainada, lixada ou unida pelas extremidades, de espessura superior a 6 mm",
         430871
        ],
        [
         "03033900",
         "Outros peixes chatos, congelados, exceto filés, outras carnes, etc",
         411720
        ],
        [
         "08129000",
         "Outras frutas conservadas transitoriamente (por exemplo, com gás sulfuroso ou água salgada, sulfurada ou adicionada de outras substâncias destinadas a assegurar transitoriamente a sua conservação), mas impróprias para alimentação nesse estado",
         410035
        ],
        [
         "04032000",
         "Iogurte",
         405073
        ],
        [
         "04079000",
         "Ovos de outras aves, não para incubação ou não frescos",
         393220
        ],
        [
         "03027100",
         "Tilápias (oreochromis spp.), frescas ou refrigeradas",
         373934
        ],
        [
         "03023200",
         "Albacoras/atuns barbatana amarela, frescas/refrigerado, exceto filés",
         362532
        ],
        [
         "44072100",
         "Madeira de mahogany (Mogno) (Swietenia spp.), serrada ou fendida longitudinalmente, cortada transversalmente ou desenrolada, mesmo aplainada, lixada ou unida pelas extremidades, de espessura superior a 6 mm",
         361646
        ],
        [
         "08011200",
         "Cocos na casca interna (endocarpo)",
         353937
        ],
        [
         "03038200",
         "Raias (rajidae), congeladas",
         347670
        ],
        [
         "41041910",
         "Couros e peles inteiros, de bovinos (incluindo os búfalos), de superfície unitária não superior a 2,6 m2, simplesmente curtidos ao cromo (wet-blue), no estado úmido",
         346990
        ],
        [
         "87042390",
         "Outros veículos automóveis motor diesel, carga > 20 toneladas",
         330755
        ],
        [
         "02069000",
         "Miudezas comestíveis, de ovino, caprino, etc, congeladas",
         329943
        ],
        [
         "01039200",
         "Outros suínos vivos, de peso igual ou superior a 50kg",
         323880
        ],
        [
         "03024290",
         "Outras anchovas, frescas ou refrigeradas",
         322779
        ],
        [
         "41019030",
         "Outros couros e peles, de bovino, incluindo dorsos, meios-dorsos e flancos, divididos, sem o lado flor",
         322633
        ],
        [
         "78020000",
         "Desperdícios e resíduos, de chumbo",
         319877
        ],
        [
         "15019000",
         "Gordura de aves",
         310446
        ],
        [
         "07133290",
         "Outros feijões adzuki (Phaseolus ou Vigna angularis), secos, em grãos",
         280667
        ],
        [
         "41012000",
         "Couros e peles em bruto, inteiros, não divididos, de peso unitário não superior a 8 kg quando secos, a 10 kg quando salgados a seco e a 16 kg quando frescos, salgados a úmido ou conservados de outro modo",
         280259
        ],
        [
         "03038963",
         "Pacu (Piaractus mesopotamicus), congelado, exceto filés, outras carnes, etc.",
         275993
        ],
        [
         "17011300",
         "Açúcar de cana mencionado na nota 2 da posição 1701",
         272862
        ],
        [
         "26209990",
         "Cinzas e resíduos, contendo outros metais",
         267457
        ],
        [
         "03039110",
         "Fígados, ovas e gônadas masculinas, ovas de tainhas (Mugil spp.) ",
         263536
        ],
        [
         "44042000",
         "Arcos de madeira; estacas fendidas; estacas aguçadas, não serradas longitudinalmente; madeira simplesmente desbastada ou arredondada, não torneada, não recurvada nem trabalhada de qualquer outro modo, para fabricação de bengalas, etc... de não coníferas",
         257600
        ],
        [
         "85491900",
         "Outros desperdícios e resíduos, e sucata, de pilhas, de baterias de pilhas e de acumuladores, elétricos; outras pilhas, baterias de pilhas e acumuladores, elétricos, inservíveis, não classificados em códigos anteriores",
         251153
        ],
        [
         "72045000",
         "Desperdícios de ferro ou aço em lingotes",
         249100
        ],
        [
         "15132120",
         "Óleo de babaçu, em bruto",
         246600
        ],
        [
         "07041000",
         "Couve-flor e brócolis, frescos ou refrigerados",
         244271
        ],
        [
         "29419083",
         "Virgíniamicinas e seus sais",
         240974
        ],
        [
         "20094100",
         "Suco (sumo) de abacaxi (ananás), com valor Brix não superior a 20",
         239294
        ],
        [
         "11042200",
         "Outros grãos trabalhados (por exemplo, descascados, em pérolas, cortados ou partidos), de aveia",
         234632
        ],
        [
         "07141000",
         "Raízes de mandioca, frescas, refrigeradas, congeladas ou secas",
         228381
        ],
        [
         "05100010",
         "Pâncreas de bovinos, utilizadas na preparação de produtos farmacêuticos, frescas, refrigeradas, congeladas ou provisoriamente conservadas de outro modo",
         220835
        ],
        [
         "35021900",
         "Outras ovalbuminas",
         215159
        ],
        [
         "51011900",
         "Outras lãs sujas, não cardadas nem penteadas",
         212373
        ],
        [
         "07070000",
         "Pepinos e pepininhos (cornichons), frescos ou refrigerados",
         210288
        ],
        [
         "23050000",
         "Tortas e outros resíduos sólidos, mesmo triturados ou em pellets, da extração do óleo de amendoim",
         206095
        ],
        [
         "02061000",
         "Miudezas comestíveis de bovino, frescas ou refrigeradas",
         195101
        ],
        [
         "07093000",
         "Berinjelas frescas ou refrigeradas",
         192033
        ],
        [
         "44119390",
         "Outros painéis de fibras madeira de média densidade (denominados MDF), com densidade superior a 0,5 g/cm3 mas não superior a 0,8 g/cm3",
         191544
        ],
        [
         "26020010",
         "Minérios de manganês e seus concentrados, incluindo os minérios de manganês ferruginosos e seus concentrados, de teor em manganês de 20 % ou mais, em peso, sobre o produto seco, aglomerados",
         189850
        ],
        [
         "80020000",
         "Desperdícios e resíduos, de estanho",
         187238
        ],
        [
         "79020000",
         "Desperdícios e resíduos, de zinco",
         183433
        ],
        [
         "03034300",
         "Bonito-listrado, congelados, exceto filés, fígados, ovas e sêmen",
         180618
        ],
        [
         "03038952",
         "Tilápias (Tilapia spp., Sarotherodon spp., Danakilia spp.; seus híbridos), congeladas, exceto filés, outras carnes, etc",
         180549
        ],
        [
         "04081100",
         "Gemas de ovos, secas",
         179857
        ],
        [
         "84101300",
         "Turbinas e rodas hidráulicas, de potência superior a 10.000 kW",
         176991
        ],
        [
         "02031100",
         "Carcaças e meias-carcaças de suíno, frescas ou refrigeradas",
         174885
        ],
        [
         "07051900",
         "Outras alfaces frescas ou refrigeradas",
         168124
        ],
        [
         "03028944",
         "Tambaqui (Colossoma macropomum)",
         162907
        ],
        [
         "40122000",
         "Pneumáticos usados de borracha",
         161430
        ],
        [
         "38089326",
         "Herbicida à base de trifluralina",
         160643
        ],
        [
         "15132911",
         "Outros óleos de amêndoa de palma (palmiste) (coconote) de coco mbocaya (Acrocomia totai)",
         156740
        ],
        [
         "05071000",
         "Marfim; pó e desperdícios de marfim",
         151400
        ],
        [
         "02101200",
         "Barrigas e peitos, entremeados, de suíno, salgados, etc.",
         149362
        ],
        [
         "19011020",
         "Farinha láctea, para alimentação de crianças, acondicionadas para venda a retalho",
         142705
        ],
        [
         "08026200",
         "Nozes de macadâmia, sem casca, frescas ou secas",
         140883
        ],
        [
         "16023900",
         "Preparações alimentícias e conservas, de outras aves",
         134124
        ],
        [
         "07089000",
         "Outros legumes de vagem, frescos ou refrigerados",
         133542
        ],
        [
         "10082910",
         "Milheto (Pennisetum glaucum), exceto para semeadura",
         133000
        ],
        [
         "20079921",
         "Purês de açaí (Euterpe oleracea)",
         128653
        ],
        [
         "44119310",
         "Painéis de fibras madeira de média densidade (denominados MDF), com densidade superior a 0,5 g/cm3 mas não superior a 0,8 g/cm3, não trabalhados mecanicamente nem recobertos à superfície",
         126235
        ],
        [
         "03038933",
         "Peixe-sapo (Lophius gastrophysus), congelado",
         126036
        ],
        [
         "25253000",
         "Desperdícios de mica",
         120000
        ],
        [
         "04072900",
         "Ovos frescos de outras aves",
         118888
        ],
        [
         "03024400",
         "Cavalinhas, frescas ou refrigeradas",
         118104
        ],
        [
         "03063100",
         "Lagostas (Palinurus spp., Panulirus spp., Jasus spp.), vivas, frescos ou refrigerados",
         117461
        ],
        [
         "03032900",
         "Outros salmonídeos congelados, exceto filés, outras carnes, etc",
         112498
        ],
        [
         "02071100",
         "Carnes de galos/galinhas, não cortadas em pedaços, frescas/refrigeradas",
         112429
        ],
        [
         "02012010",
         "Quartos dianteiros não desossadados de bovino, frescos/refrigerados",
         109535
        ],
        [
         "41041121",
         "Couros e peles inteiros, de bovinos (incluindo os búfalos), de superfície unitária não superior a 2,6 m2, simplesmente curtidos ao cromo (wet-blue), divididos, com o lado flor, no estado úmido",
         109533
        ],
        [
         "08031000",
         "Bananas-da-terra, frescas ou secas",
         108622
        ],
        [
         "20079924",
         "Purês de goiaba (Psidium guajava)",
         94037
        ],
        [
         "89033300",
         "Barcos a motor, exceto os infláveis, não equipados com motor fora de borda, de comprimento superior a 24 m",
         92960
        ],
        [
         "04011090",
         "Outros leites e cremes, com um teor, em peso, de matérias gordas, não superior a 1 %, não concentrados nem adicionados de açúcar ou de outros edulcorantes",
         88207
        ],
        [
         "26203000",
         "Cinzas e resíduos que contenham principalmente cobre",
         86582
        ],
        [
         "38254900",
         "Outros resíduos de solventes orgânicos",
         86560
        ],
        [
         "03046100",
         "Filés de tilápias (Oreochromis spp.), congelados",
         83209
        ],
        [
         "08101000",
         "Morangos frescos",
         81923
        ],
        [
         "41041113",
         "Outros couros e peles de bovinos (incluindo os búfalos), com pré-curtimenta vegetal, plena flor, não divididos",
         76763
        ],
        [
         "74031300",
         "Palanquilhas (billets) de cobre refinado, em formas brutas",
         75688
        ],
        [
         "03036990",
         "Outros peixes congelados, exceto filé e outras carnes",
         74523
        ],
        [
         "03048910",
         "Filé de pargo (Lutjanus purpureus)",
         74425
        ],
        [
         "03025400",
         "Merluzas e abroteas (Merluccius spp., Urophycis spp.), fresco ou refrigerado",
         73237
        ],
        [
         "87042230",
         "Veículos automóveis frigoríficos, etc, com motor diesel, 5 toneladas < carga <= 20 toneladas",
         72488
        ],
        [
         "23099030",
         "Bolachas e biscoitos, dos tipos utilizados na alimentação de animais",
         70415
        ],
        [
         "28419022",
         "Ferrito de estrôncio",
         67000
        ],
        [
         "03048930",
         "Filé de garoupa (Acanthistius spp.), congelados",
         64509
        ],
        [
         "23023010",
         "Farelo de trigo",
         63979
        ],
        [
         "03038964",
         "Tambaqui (Colossoma macropomum) congelado, exceto filés, outras carnes, etc",
         63083
        ],
        [
         "43022000",
         "Cabeças, caudas, patas e outras partes, desperdícios e aparas, não reunidos (não montados)",
         60035
        ],
        [
         "02071300",
         "Pedaços e miudezas, de galos/galinhas, frescos/refrigerados",
         58197
        ],
        [
         "07136090",
         "Feijão-guando (Cajanus cajan), exceto para semeadura",
         56961
        ],
        [
         "15152910",
         "Óleo de milho, refinado, em recipientes com capacidade inferior ou igual a 5 litros",
         56907
        ],
        [
         "03028922",
         "Garoupas (acanthistius spp.), fresco ou refrigerado",
         56772
        ],
        [
         "44031200",
         "Madeira em bruto, mesmo descascada, desalburnada ou esquadriada, tratada com tinta, creosoto ou outros agentes de conservação, de não coníferas",
         56090
        ],
        [
         "08109011",
         "Carambolas (Averrhoa carambola)",
         54786
        ],
        [
         "04109000",
         "Produtos comestíveis de origem animal, não especificados nem compreendidos noutras posições",
         54575
        ],
        [
         "02071200",
         "Carnes de galos/galinhas, não cortadas em pedaços, congeladas",
         54471
        ],
        [
         "12072100",
         "Sementes de algodão, para semeadura",
         50900
        ],
        [
         "07099911",
         "Milho doce, frescos ou refrigerados, para semeadura",
         50510
        ],
        [
         "71081210",
         "Bulhão dourado (bullion doré), em formas brutas, para uso não monetário",
         48299
        ],
        [
         "30042011",
         "Medicamento contendo cloranfenicol/seu palmitato, etc, em doses",
         46779
        ],
        [
         "25112000",
         "Carbonato de bário natural (witherita)",
         46000
        ],
        [
         "30042071",
         "Medicamento contendo vancomicina, em doses",
         45209
        ],
        [
         "44081091",
         "Folhas para folheados (incluindo as obtidas por corte de madeira estratificada), folhas para compensados ou para madeiras estratificadas semelhantes e outras madeiras, etc..., de espessura <= 6 mm, de pinho brasil (Araucaria angustifolia)",
         43335
        ],
        [
         "07052900",
         "Outras chicórias, frescas ou refrigeradas",
         43193
        ],
        [
         "27139000",
         "Outros resíduos dos óleos de petróleo ou de minerais betuminosos",
         43092
        ],
        [
         "07097000",
         "Espinafres, espinafres-da-nova-zelândia e espinafres gigantes, frescos ou refrigerados",
         42911
        ],
        [
         "08109014",
         "Lechias (Litchi chinensis)",
         35189
        ],
        [
         "06023000",
         "Rododendros e azaleias, enxertados ou não",
         35119
        ],
        [
         "25183000",
         "Aglomerados de dolomita",
         35100
        ],
        [
         "87042330",
         "Veículos automóveis frigoríficos com motor diesel, capacidade de carga maior que 20 toneladas",
         34954
        ],
        [
         "44031100",
         "Madeira em bruto, mesmo descascada, desalburnada ou esquadriada, tratada com tinta, creosoto ou outros agentes de conservação, de coníferas",
         33300
        ],
        [
         "03023900",
         "Outros atuns frescos, refrigerados, exceto filés, outras carnes, etc.",
         31463
        ],
        [
         "44125100",
         "Madeira compensada (contraplacada), madeira folheada, e madeiras estratificadas semelhantes, com alma aglomerada, alveolada ou lamelada, com, pelo menos, uma camada exterior de madeira tropical",
         31399
        ],
        [
         "03044920",
         "Filé de garoupa (Acanthistius spp), fresco/refrigerado",
         30903
        ],
        [
         "07094000",
         "Aipo fresco ou refrigerado, exceto aipo-rabano",
         30276
        ],
        [
         "38089296",
         "Fungicida à base de thiram",
         29160
        ],
        [
         "10029000",
         "Centeio, exceto para semeadura",
         28019
        ],
        [
         "29110010",
         "Dimetilacetal do 2-nitrobenzaldeído",
         28000
        ],
        [
         "20079925",
         "Purês de manga (Mangifera indica)",
         27093
        ],
        [
         "02031200",
         "Pernas, pás e respectivos pedaços, não desossados, de suíno, frescos ou refrigerados.",
         26789
        ],
        [
         "03035700",
         "Espadarte (Xiphias galdius), congelado",
         25423
        ],
        [
         "41044990",
         "Couros/peles equídeos, no estado seco (crust)",
         25201
        ],
        [
         "07042000",
         "Couve-de-bruxelas, fresca ou refrigerada",
         25077
        ],
        [
         "05061000",
         "Osseína e ossos acidulados",
         24177
        ],
        [
         "15132920",
         "Outros óleos de babaçu",
         23951
        ],
        [
         "34021900",
         "Outros agentes orgânicos de superfície",
         23100
        ],
        [
         "26219010",
         "Cinzas de origem vegetal",
         22719
        ],
        [
         "02063000",
         "Miudezas comestíveis de suíno, frescas ou refrigeradas",
         22131
        ],
        [
         "93059090",
         "Partes e acessórios para outras armas",
         21934
        ],
        [
         "12024100",
         "Amendoins com casca, não torrados, nem cozidos",
         21607
        ],
        [
         "44188900",
         "Outros produtos de madeira para engenharia estrutural, não classificados em códigos anteriores",
         21578
        ],
        [
         "03022900",
         "Outros peixes chatos, frescos, refrigerados, exceto filés, etc.",
         21510
        ],
        [
         "26139010",
         "Molibdenita não ustulada (minérios de molibdênio)",
         20600
        ],
        [
         "41041122",
         "Outros couros e peles inteiros, de bovinos (incluindo os búfalos), de superfície unitária não superior a 2,6 m2, divididos, com o lado flor, no estado úmido",
         19910
        ],
        [
         "87042220",
         "Veículo automóvel com motor diesel, caixa basculante 5 toneladas < carga <= 20 toneladas",
         19306
        ],
        [
         "60041044",
         "Tecidos de malha de largura superior a 30 cm, que contenham, em peso, 5 % ou mais de fios de elastômeros, mas que não contenham fios de borracha, exceto os da posição 60.01, de fibras artificiais, estampados",
         18890
        ],
        [
         "30042031",
         "Medicamento contendo rifamicina sv sódica, em doses",
         18091
        ],
        [
         "41044190",
         "Couros e peles de equídeos, secos, pena flor",
         18066
        ],
        [
         "02072400",
         "Carnes de peruas/perus, não cortadas em pedaços, frescas/refrigeradas",
         17389
        ],
        [
         "15219011",
         "Cera de abelha, em bruto",
         16200
        ],
        [
         "11032000",
         "Pellets de cereais",
         16200
        ],
        [
         "03034900",
         "Outros atuns congelados, exceto filés, outras carnes, fígados, etc",
         14936
        ],
        [
         "68029310",
         "Esferas para moinho, de granito",
         14786
        ],
        [
         "52053400",
         "Fios de algodão retorcidos ou retorcidos múltiplos, de fibras não penteadas, que contenham pelo menos 85 %, em peso, de algodão, de título < 192,31 decitex mas > 125 decitex, por fio simples (número métrico > 52 mas < 80, por fio simples)",
         14581
        ],
        [
         "03039100",
         "Fígados, ovas e gônadas masculinas, congelado",
         14512
        ],
        [
         "89080000",
         "Embarcações e outras estruturas flutuantes, a serem desmanteladas",
         14365
        ],
        [
         "30045020",
         "Medicamento contendo ácido nicotínico/seu sal sódico, etc, em doses",
         13754
        ],
        [
         "30024260",
         "Vacina veterinária, contra a febre aftosa",
         13461
        ],
        [
         "07031011",
         "Cebolas, frescas ou refrigeradas, para semeadura",
         13198
        ],
        [
         "84431110",
         "Máquinas e aparelhos de impressão, por ofsete, alimentados por bobinas, para impressão multicolor de jornais, de largura superior ou igual a 900 mm, com unidades de impressão em configuração torre e dispositivos automáticos de emendar bobinas",
         12970
        ],
        [
         "52115200",
         "Tecidos de algodão que contenham menos de 85 %,em peso, de algodão,combinados, principal ou unicamente, com fibras sintéticas ou artificiais, peso > 200 g/m2, estampados,em ponto sarjado, incluindo o diagonal, cuja relação de textura não seja superior a 4",
         12923
        ],
        [
         "04014021",
         "Creme de leite UHT (Ultra High Temperature), com um teor, em peso, de matérias gordas, superior a 6 %, mas não superior a 10 %, não concentrados nem adicionados de açúcar ou de outros edulcorantes",
         12826
        ],
        [
         "30024240",
         "Vacina veterinária, contra a cinomose",
         12713
        ],
        [
         "49021000",
         "Jornais e publicações periódicas, impressos, mesmo ilustrados ou que contenham publicidade, que se publiquem pelo menos quatro vezes por semana",
         12706
        ],
        [
         "03028910",
         "Pargo (Lutjanus purpureus), frescos ou refrigerados",
         12170
        ],
        [
         "30049072",
         "Medicamento contendo sulfadiazina/seu sal sódico, etc, em doses",
         12162
        ],
        [
         "21069040",
         "Misturas à base de ascorbato de sódio e glucose próprias para embutidos",
         11950
        ],
        [
         "03031900",
         "Outros tipos de salmões, congelados",
         11786
        ],
        [
         "03031100",
         "Salmões vermelhos congelados",
         11716
        ],
        [
         "44182000",
         "Portas e respectivos caixilhos, alizares e soleiras, de madeira",
         11476
        ],
        [
         "53013000",
         "Estopas e desperdícios de linho",
         10851
        ],
        [
         "10011100",
         "Trigo duro, para semeadura",
         10388
        ],
        [
         "08109015",
         "Maracujás (Passiflora edulis)",
         10300
        ],
        [
         "08045030",
         "Mangostões frescos ou secos",
         10179
        ],
        [
         "29332110",
         "Iprodiona",
         10000
        ],
        [
         "96121019",
         "Outras fitas impressoras de plástico",
         9635
        ],
        [
         "93040010",
         "Recipientes do tipo aerossol que contenham produtos químicos ou oleorresina de Capsicum, com fins irritantes",
         9453
        ],
        [
         "51071011",
         "Fios de lã penteada, não acondicionados para venda a retalho, que contenham pelo menos 85 %, em peso, de lã, retorcidos ou retorcidos múltiplos, de dois cabos, de título inferior ou igual a 184,58 decitex por cabo",
         9233
        ],
        [
         "04012090",
         "Outros leites e cremes, com um teor, em peso, de matérias gordas, superior a 1 %, mas não superior a 6 %, não concentrados nem adicionados de açúcar ou de outros edulcorantes",
         8797
        ],
        [
         "03069500",
         "Camarões",
         8635
        ],
        [
         "04022130",
         "Creme de leite, em pó, com um teor, em peso, de matérias gordas, superior a 1,5 %, sem adição de açúcar ou de outros edulcorantes",
         8585
        ],
        [
         "03028500",
         "Pargos ou sargos (sparidae), fresco ou refrigerado",
         8333
        ],
        [
         "03024600",
         "Bijupira (Rachycentron canadum), fresco ou refrigerado",
         8322
        ],
        [
         "03038953",
         "Surubins (congelados), exceto filés, outras carnes, etc",
         8211
        ],
        [
         "60011010",
         "\"Tecidos de malha denominados de \"\"felpa longa\"\" ou \"\"pelo comprido\"\", de algodão\"",
         8158
        ],
        [
         "01022110",
         "Bovinos reprodutores raça pura, prenhe ou com cria ao pé",
         8000
        ],
        [
         "03034100",
         "Atuns-brancos ou germões, congelados, exceto filés, etc.",
         7989
        ],
        [
         "07039010",
         "Alhos-porros e outros produtos hortícolas aliáceos, frescos ou refrigerados, para semeadura",
         7695
        ],
        [
         "07082000",
         "Feijões (vigna, phaseolus spp) frescos ou refrigerados",
         7674
        ],
        [
         "03063990",
         "Outros, incluindo as farinhas, pós e pellets de crustáceos, próprios para alimentação humana",
         7330
        ],
        [
         "30049096",
         "Complexo de ferro dextrana",
         7260
        ],
        [
         "94032000",
         "Outros móveis de metal",
         7052
        ],
        [
         "30032092",
         "Medicamento contendo fumarato de tiamulina, exceto em doses",
         6925
        ],
        [
         "07095100",
         "Cogumelos frescos ou refrigerados",
         6757
        ],
        [
         "02041000",
         "Carcaças e meias-carcaças de cordeiro, frescas ou refrigeradas",
         6679
        ],
        [
         "08029100",
         "Pinhões, com casca",
         6381
        ],
        [
         "34011110",
         "Sabões medicinais, em barras, pedaços, figura moldada, etc.",
         6362
        ],
        [
         "42060000",
         "Obras de tripa, de baudruches, de bexiga ou de tendões",
         6319
        ],
        [
         "84286000",
         "Teleféricos (incluindo as telecadeiras e os telesquis); mecanismos de tração para funiculares",
         6194
        ],
        [
         "03073900",
         "Mexilhões (Mytilus spp., Perna spp.), congelados, secos, salgados, etc",
         6067
        ],
        [
         "02081000",
         "Carnes/miudezas, de coelhos/lebres, frescas/refrigeradas/congeladas",
         6065
        ],
        [
         "07032010",
         "Alhos, frescos ou refrigerados, para semeadura",
         5947
        ],
        [
         "30039087",
         "Medicamento com cloridrato de tizanidina, etc, exceto em doses",
         5929
        ],
        [
         "86063000",
         "Vagões de descarga automática, exceto os da subposição 8606.10, para transporte de mercadorias sobre vias férreas",
         5640
        ],
        [
         "81033000",
         "Desperdícios e resíduos de tântalo",
         5550
        ],
        [
         "03061690",
         "Camarões de água fria, que não inteiros, congelados",
         5514
        ],
        [
         "03034600",
         "Atum azul do Sul (Thunnus maccoyii), congelado, exceto filés, fígados, ovas e sêmen",
         5440
        ],
        [
         "24012020",
         "Tabaco não manufaturado, total ou parcialmente destalado, em folhas secas ou fermentadas tipo capeiro",
         5216
        ],
        [
         "30021212",
         "Antitetânico",
         5061
        ],
        [
         "87059010",
         "Caminhões para perfilagem de pocos petroliferos",
         5000
        ],
        [
         "03023300",
         "Bonitos-listrados, etc, frescos, refrigerados, exceto filés, etc.",
         4715
        ],
        [
         "30049073",
         "Medicamento contendo ketazolam/sulpirida, etc, em doses",
         4689
        ],
        [
         "07081000",
         "Ervilhas (Pisum sativum), frescas ou refrigeradas",
         4601
        ],
        [
         "06024000",
         "Roseiras, enxertadas ou não",
         4580
        ],
        [
         "03061610",
         "Camarões de água fria (pandalus spp.) inteiros, congelados",
         4556
        ],
        [
         "30049023",
         "Medicamento contendo ácido glucônico/sais/ésteres, em doses",
         4547
        ],
        [
         "04014029",
         "Outros cremes de leite, com um teor, em peso, de matérias gordas, superior a 6 %, mas não superior a 10 %, não concentrados nem adicionados de açúcar ou de outros edulcorantes",
         4186
        ],
        [
         "03029900",
         "Cabeças, caudas, bexigas-natatórias e outros subprodutos comestíveis de peixes",
         3943
        ],
        [
         "03043900",
         "Files/outras carnes de outros peixes, frescos, refrigerados ou congelados",
         3854
        ],
        [
         "02012020",
         "Quartos traseiros não desossados de bovino, frescos/refrigados",
         3823
        ],
        [
         "48103110",
         "Papel e cartão Kraft, exceto dos tipos utilizados para escrita, impressão ou outras finalidades gráficas, branqueado uniformemente na massa e em que mais de 95 %, em peso, do conteúdo total de fibras seja constituído por fibras de madeira obtidas etc...",
         3761
        ],
        [
         "03038942",
         "Garoupas (acanthistius spp.), congeladas",
         3644
        ],
        [
         "52041112",
         "Linhas para costurar, não acondicionadas para venda a retalho, que contenham pelo menos 85 %, em peso, de algodão, de algodão cru, de título inferior ou igual a 5.000 decitex por fio simples, de três ou mais cabos",
         3624
        ],
        [
         "03048600",
         "Filés de arenques (Clupea harengus, Clupea pallasii), congelados",
         3550
        ],
        [
         "03019991",
         "Outros peixes tilápias, vivos",
         3500
        ],
        [
         "03028933",
         "Surubins (pseudoplatystoma spp.), frescos ou refrigerados",
         3296
        ],
        [
         "27141000",
         "Xistos e areias betuminosos",
         3263
        ],
        [
         "03038962",
         "Dourada (Brachyplatystoma flavicans), congeladas, exceto filés, outras carnes, etc.",
         3253
        ],
        [
         "94014010",
         "Assentos (exceto de jardim ou de acampamento) transformáveis em camas, de madeira",
         3214
        ],
        [
         "38247810",
         "Preparações que contenham tetrafluoretano e pentafluoretano",
         3200
        ],
        [
         "03024990",
         "Outros peixes frescos ou refrigerados, exceto os filés de peixes e outra carne de peixes da posição 03.04",
         3135
        ],
        [
         "03028938",
         "Pescadas (cynocion spp.), fresca ou refrigerada",
         3089
        ],
        [
         "20079927",
         "Purês de mamão (papaia) (Carica papaya L.)",
         3075
        ],
        [
         "12129100",
         "Beterraba sacarina, fresca, refrigerada, congelada, seca, em pó",
         3025
        ],
        [
         "30043937",
         "Medicamento contendo desogestrel, em doses",
         3010
        ],
        [
         "03033300",
         "Linguados congelados, exceto filés, outras carnes, fígados, etc.",
         2990
        ],
        [
         "02042300",
         "Carnes desossadas de ovino, frescas ou refrigeradas",
         2924
        ],
        [
         "12077090",
         "Sementes de melão, exceto para semeadura",
         2837
        ],
        [
         "03023100",
         "Atuns-brancos ou germões, frescos/refrigerados, exceto filés, etc",
         2789
        ],
        [
         "88026000",
         "Veículos espaciais (incluindo os satélites) e seus veículos de lançamento, e veículos suborbitais",
         2724
        ],
        [
         "07136010",
         "Feijão-guando (Cajanus cajan), para semeadura",
         2689
        ],
        [
         "03038400",
         "Robalos (dicentrarchus spp.), congelados",
         2646
        ],
        [
         "03072900",
         "Vieiras e outros mariscos dos gêneros Pecten, Chlamys ou Placopecten, congelados, secos, etc",
         2615
        ],
        [
         "30039077",
         "Medicamento contendo nicarbazina/norfloxacina, etc, exceto em doses",
         2600
        ],
        [
         "71151000",
         "Telas ou grades catalisadoras, de platina",
         2522
        ],
        [
         "38089411",
         "Desinfetantes, apresentados em formas ou embalagens exclusivamente para uso direto em aplicações domissanitárias, que contenham bromometano (brometo de metila) ou bromoclorometano",
         2452
        ],
        [
         "03045900",
         "Outros filés de peixes, frescos ou refrigerados",
         2421
        ],
        [
         "87033110",
         "Automóveis com motor diesel, cm3 <= 1500, até 6 passageiros",
         2400
        ],
        [
         "30039059",
         "Medicamento contendo outros compostos de função carboxiamida, etc, exceto em doses",
         2395
        ],
        [
         "02076000",
         "Carnes de galinhas dangola (pintadas)",
         2393
        ],
        [
         "04052000",
         "Pasta de espalhar (pasta de barrar) de produtos provenientes do leite",
         2385
        ],
        [
         "02042200",
         "Outras peças não desossadas de ovino, frescas ou refrigeradas",
         2379
        ],
        [
         "03021900",
         "Outros salmonídeos frescos, refrigerados, exceto filés, etc.",
         2318
        ],
        [
         "02091019",
         "Outros toucinhos de porco",
         2266
        ],
        [
         "02089000",
         "Carnes e miudezas, de outros animais, frescas/refrigeradas/congeladas",
         2249
        ],
        [
         "55011100",
         "Cabos de filamentos sintéticos, de aramidas",
         2209
        ],
        [
         "16023290",
         "Outras preparações e conservas de galos e galinhas",
         2207
        ],
        [
         "84621011",
         "Máquinas-ferramentas para estampar metais, de comando numérico",
         2120
        ],
        [
         "10061091",
         "Arroz com casca (arroz paddy), parboilizado",
         2050
        ],
        [
         "84336021",
         "Máquinas para limpar ou selecionar ovos, com capacidade superior ou igual a 250.000 ovos por hora",
         2035
        ],
        [
         "03052090",
         "Outros fígados, ovas e semen, de peixes, secos, defumados, etc.",
         1927
        ],
        [
         "02045000",
         "Carnes de caprino, frescas, refrigeradas ou congeladas",
         1882
        ],
        [
         "07099200",
         "Azeitonas, frescas ou refrigeradas",
         1860
        ],
        [
         "38040012",
         "Lixívias residuais da fabricação de pastas de celulose, à soda ou ao sulfato",
         1807
        ],
        [
         "06031500",
         "Lírios (lilium spp.)",
         1805
        ],
        [
         "55144900",
         "Outros tecidos de fibra sintética < 85% com algodão, peso > 170 g/m2, estampado",
         1796
        ],
        [
         "02021000",
         "Carcaças e meias-carcaças de bovino, congeladas",
         1777
        ],
        [
         "31039019",
         "Outros hidrogenos-ortofosfatos de cálcio",
         1728
        ],
        [
         "41079290",
         "Couros e peles de equídeos, inlcuindo as tiras, preparados, divididos, com o lado flor",
         1682
        ],
        [
         "03072100",
         "Vieiras e outros mariscos dos gêneros Pecten, Chlamys ou Placopecten, vivos, frescos ou refrigerados",
         1681
        ],
        [
         "29241911",
         "2-Cloro-N-metilacetoacetamida",
         1680
        ],
        [
         "02042100",
         "Carcaças e meias-carcaças de ovino, frescas ou refrigeradas",
         1635
        ],
        [
         "30039047",
         "Medicamento contendo diclofenaco de sódio, etc, exceto em doses",
         1613
        ],
        [
         "03063910",
         "Lagosta de água doce (Cherax quadricarinatus), vivo, fresco ou refrigerado",
         1520
        ],
        [
         "30019020",
         "Pedaços de pericárdio de origem bovina ou suína",
         1483
        ],
        [
         "41071190",
         "Couros e peles inteiros, de equídeos, plena flor, não divididos",
         1401
        ],
        [
         "87029000",
         "Outros veículos automóveis para transporte de dez pessoas ou mais, incluindo o motorista",
         1297
        ],
        [
         "03063600",
         "Outros camarões, vivos, frescos ou refrigerados",
         1203
        ],
        [
         "03038111",
         "Tubarão-azul (prionace glauca) inteiro, congelado",
         1193
        ],
        [
         "03079900",
         "Outros moluscos, invertebrados aquáticos, congelados, secos",
         1187
        ],
        [
         "41015020",
         "Couros e peles em bruto, de bovinos, inteiros, de peso unitário superior a 16 kg, divididos, com o lado flor",
         1153
        ],
        [
         "71123010",
         "Cinzas que contenham ouro, mas que não contenham outros metais preciosos",
         1099
        ],
        [
         "03027300",
         "Carpas (Cyprinus carpio, Carassius carassius, etc)",
         1084
        ],
        [
         "04022930",
         "Creme de leite, em pó, etc. com um teor, em peso, de matérias gordas, superior a 1,5 %, adocicado",
         1078
        ],
        [
         "03061500",
         "Lagosta norueguesa (nephrops norvegicus)",
         1074
        ],
        [
         "64051020",
         "Calçados de couro reconstituído, sola exterior de couro",
         1070
        ],
        [
         "30049065",
         "Medicamento contendo fenitoína/seu sal sódico, etc, em doses",
         1070
        ],
        [
         "01062000",
         "Répteis (incluindo as serpentes e as tartarugas marinhas)",
         1004
        ],
        [
         "03027290",
         "Outros bagres frescos ou refrigerados",
         985
        ],
        [
         "03028942",
         "Dourada (Brachyplatystoma flavicans), fresco ou refrigerado",
         933
        ],
        [
         "03024300",
         "Sardinhas (sardina pilchardus, etc), anchoveta, fresca ou refrigerada",
         924
        ],
        [
         "08109013",
         "Jacas (Artocarpus heterophyllus)",
         906
        ],
        [
         "71123020",
         "Cinzas que contenham platina, mas que não contenham outros metais preciosos",
         898
        ],
        [
         "44140000",
         "Molduras de madeira para quadros, fotografias, espelhos ou objetos semelhantes",
         886
        ],
        [
         "01022911",
         "Outros bovinos para reprodução, prenhe ou com cria ao pé",
         882
        ],
        [
         "30039053",
         "Medicamento contendo lidocaína/seu cloridrato, etc, exceto em doses",
         864
        ],
        [
         "03024210",
         "Anchoita (Engraulis anchoita), frescas ou refrigeradas",
         840
        ],
        [
         "03044600",
         "Filés de merluza negra e merluza antártica",
         833
        ],
        [
         "71123090",
         "Cinzas contendo outros metais preciosos, seus compostos",
         831
        ],
        [
         "29033911",
         "1,1,1,2-Tetrafluoroetano",
         798
        ],
        [
         "72015000",
         "Ligas de ferro fundido bruto; ferro spiegel (especular)",
         790
        ],
        [
         "08013100",
         "Castanha de caju, fresca ou seca, com casca",
         772
        ],
        [
         "30039051",
         "Medicamento contendo metoclopramida, etc, exceto em doses",
         763
        ],
        [
         "84781010",
         "Batedoras-separadoras automáticas de talos e folhas de tabaco",
         751
        ],
        [
         "03056300",
         "Anchovas salgadas, não secas, não defumadas e em salmoura",
         733
        ],
        [
         "03038945",
         "Peixes-rei (atherina spp.), congelados",
         721
        ],
        [
         "03073100",
         "Mexilhões (Mytilus spp., Perna spp.), vivos, frescos, refrigerados",
         715
        ],
        [
         "89011000",
         "Transatlânticos, barcos de excursão e embarcações semelhantes principalmente concebidas para o transporte de pessoas; ferryboats",
         656
        ],
        [
         "03027900",
         "Perca-do-nilo, peixe cabeça-de-serpente, fresco ou refrigerado",
         653
        ],
        [
         "16055200",
         "Preparações e conservas, de vieiras e outros mariscos",
         649
        ],
        [
         "07133110",
         "Feijões (vigna mungo ou radiata) secos, para semeadura",
         631
        ],
        [
         "38259000",
         "Outros produtos residuais das indústrias químicas, etc.",
         630
        ],
        [
         "03073200",
         "Mexilhões (Mytilus spp., Perna spp.), congelados",
         610
        ],
        [
         "04014010",
         "Leite, com um teor, em peso, de matérias gordas, superior a 6 %, mas não superior a 10 %, não concentrados nem adicionados de açúcar ou de outros edulcorantes",
         605
        ],
        [
         "02109990",
         "Carnes de outros animais, salgadas, secas, etc.",
         600
        ],
        [
         "04015010",
         "Leite, com um teor, em peso, de matérias gordas, superior a 10 %, não concentrados nem adicionados de açúcar ou de outros edulcorantes",
         590
        ],
        [
         "41069200",
         "Couros e peles de outros animais, no estado seco (crust)",
         587
        ],
        [
         "03049229",
         "Outras partes de peixes merluza antártica (Dissostichus mawsoni) frescos/refrigerados/congelados",
         577
        ],
        [
         "04059090",
         "Outras matérias gordas provenientes do leite",
         575
        ],
        [
         "03045100",
         "Filés de tilápia, bagre, carpa, enguias, fresco ou refrigerado",
         573
        ],
        [
         "06029081",
         "Mudas de cana-de-açúcar",
         555
        ],
        [
         "07133210",
         "Feijão-adzuki (Phaseolus ou Vigna angularis), seco, para semeadura",
         540
        ],
        [
         "19051000",
         "Pão denominado knäckebrot",
         534
        ],
        [
         "04022910",
         "Leite integral, em pó, etc, com um teor, em peso, de matérias gordas, superior a 1,5 %, adocicado",
         527
        ],
        [
         "03034500",
         "Atuns azuis (Thunnus thynnus, Thunnus orientalis), congelados, exceto filés, fígados, ovas e sêmen",
         518
        ],
        [
         "03024500",
         "Chicharros (trachurus spp.), frescos ou refrigerados",
         491
        ],
        [
         "16041430",
         "Preparações e conservas, de bonitos-cachorros, inteiros ou em pedaços, exceto peixes picados",
         480
        ],
        [
         "43019000",
         "Cabeças, caudas, patas e outras partes utilizáveis na indústria de peles",
         480
        ],
        [
         "04101000",
         "Insetos comestíveis, não classificados em códigos anteriores",
         476
        ],
        [
         "87119000",
         "Outras motocicletas/ciclos, com motor auxiliar, carros laterais",
         472
        ],
        [
         "03046900",
         "Filé de peixe cabeça-de-serpente, congelado",
         469
        ],
        [
         "41063190",
         "Outros couros e peles de suínos, no estado úmido (incluindo wet-blue)",
         459
        ],
        [
         "03049300",
         "Outras carnes de tilápias, bagres, carpas, enguias, congeladas",
         458
        ],
        [
         "06031300",
         "Orquídeas e seus botões, cortadas para buquês, ornamentais frescos",
         455
        ],
        [
         "41041111",
         "Couros e peles inteiros, de bovinos (incluindo os búfalos), de superfície unitária não superior a 2,6 m2, simplesmente curtidos ao cromo (wet-blue), plena flor, não divididos, no estado úmido",
         445
        ],
        [
         "94039010",
         "Partes para móveis, de madeira",
         441
        ],
        [
         "01022919",
         "Outros bovinos para reprodução",
         441
        ],
        [
         "25309030",
         "Minerais de metais das terras raras",
         431
        ],
        [
         "02109940",
         "Outras miudezas comestíveis",
         419
        ],
        [
         "03022100",
         "Linguados-gigantes, frescos, refrig.exceto filés, etc.",
         410
        ],
        [
         "03044500",
         "Filés e outras carnes de espadarte (Xyphias gladius)",
         404
        ],
        [
         "03032410",
         "Bagre (Ictalurus puntactus) congelado",
         401
        ],
        [
         "03028943",
         "Pacu (Piaractus mesopotamicus), fr. ou refrig.",
         390
        ],
        [
         "07133321",
         "Feijão comum, branco, seco, para semeadura",
         374
        ],
        [
         "84705011",
         "Caixas registradoras, eletrônicas, com capacidade de comunicação com computador, etc",
         371
        ],
        [
         "86069100",
         "Vagões cobertos e fechados, para transporte de mercadorias sobre vias férreas",
         354
        ],
        [
         "16052900",
         "Preparações e conservas de camarões, exceto não acondicionadas em recipientes hermeticamente fechados",
         336
        ],
        [
         "03022300",
         "Linguados frescos, refrigerados, exceto filés, outras carnes, etc.",
         325
        ],
        [
         "02072600",
         "Carnes de peruas/perus, em pedaços, miudezas, frescas/refrigeradas",
         318
        ],
        [
         "03075100",
         "Polvos (Octopus spp) vivos, frescos ou refrigerados",
         306
        ],
        [
         "03034400",
         "Albacora-bandolim (Thunnus obesus), congelados, exceto filés, fígados, ovas e sêmen",
         300
        ],
        [
         "30032019",
         "Medicamento contendo anfenicóis/outros derivados, exceto em doses",
         300
        ],
        [
         "02074400",
         "Outras carnes de patos, frescas ou refrigeradas",
         296
        ],
        [
         "30033939",
         "Medicamento contendo outros estrogênios/progestogênios, exceto em doses",
         294
        ],
        [
         "38256900",
         "Outros resíduos das industrias químicas/conexas",
         290
        ],
        [
         "30039076",
         "Medicamento contendo ácido 2-(2 metil-3 cloroanilina) nicotínico, exceto em doses",
         287
        ],
        [
         "71141900",
         "Artefatos de ourivesaria, de outros metais preciosos, mesmo revestidos, folheados ou chapeados de metais preciosos (plaquê)",
         286
        ],
        [
         "02074100",
         "Carnes de patos, nãoo cortada em pedaços, frescas ou refrigeradas",
         283
        ],
        [
         "16054000",
         "Preparações e conservas, de outros crustáceos",
         259
        ],
        [
         "30041014",
         "Medicamento contendo penicilina g potássica, em doses",
         257
        ],
        [
         "12129400",
         "Raízes de chicória, fresca, refrigerada, congelada ou seca",
         256
        ],
        [
         "03024910",
         "Espadins, marlins, veleiros (Istiophoridae), frescos ou refrigerados",
         255
        ],
        [
         "03046210",
         "Filés de bagre (Ictalarus puntactus), congelados",
         250
        ],
        [
         "30069200",
         "Desperdícios farmacêuticos",
         246
        ],
        [
         "38220090",
         "Outros reagentes de diagnóstico ou de laboratório",
         245
        ],
        [
         "07132010",
         "Grão-de-bico, seco, para semeadura",
         244
        ],
        [
         "16041100",
         "Preparações e conservas, de salmões, inteiros ou em pedaços, exceto peixes picados",
         243
        ],
        [
         "30049058",
         "Medicamento contendo etoposidio, em doses",
         236
        ],
        [
         "07099100",
         "Alcachofras, frescas ou refrigeradas",
         233
        ],
        [
         "03043210",
         "Filés de bagre (Ictalurus puntactus), frescos, refrigerados ou congelados",
         222
        ],
        [
         "03023600",
         "Atuns do sul frescos ou refrigerados",
         220
        ],
        [
         "03057100",
         "Barbatanas de tubarão",
         216
        ],
        [
         "02011000",
         "Carcaças e meias carcaças de bovino, frescas ou refrigeradas",
         211
        ],
        [
         "20079922",
         "Purês de acerola (Malpighia spp.)",
         209
        ],
        [
         "03061990",
         "Outros crustáceos congelados, inclusive farinhas, etc, para alimentação humana",
         208
        ],
        [
         "30032069",
         "Medicamento contendo aminoglicosídios/outros derivados, exceto em doses",
         202
        ],
        [
         "52064100",
         "Fios retorcidos ou retorcidos múltiplos de algodão, de fibras penteadas, que contenham menos de 85 %, em peso, de algodão, não acondicionados para venda a retalho, de título igual ou superior a 714,29 decitex (número métrico não superior a 14)",
         200
        ],
        [
         "29038300",
         "Mirex (ISO)",
         200
        ],
        [
         "04031000",
         "Iogurte",
         196
        ],
        [
         "28444090",
         "Outros elementos, isotopos e compostos, radioativos, etc.",
         186
        ],
        [
         "40121100",
         "Pneumáticos recauchutados, dos tipos utilizados em automóveis de passageiros (incluindo os veículos de uso misto (station wagons) e os automóveis de corrida)",
         181
        ],
        [
         "03035920",
         "Anchoita (Engraulis anchoita), congelado",
         180
        ],
        [
         "22059000",
         "Outros vermutes e vinhos de uvas frescas, aromatizados",
         176
        ],
        [
         "03028937",
         "Pirarucu (Arapaima gigas), fresco ou refrigerado",
         172
        ],
        [
         "06029083",
         "Mudas de café",
         170
        ],
        [
         "61041990",
         "Tailleurs de malha, de uso feminino, de outras matérias têxteis",
         169
        ],
        [
         "30039073",
         "Medicamento contendo oxifendazol/albendazol, etc, exceto em doses",
         167
        ],
        [
         "24039910",
         "Extratos e molhos, de tabaco, manufaturados",
         166
        ],
        [
         "03027400",
         "Enguias (anguilla spp.), frescas ou refrigeradas",
         161
        ],
        [
         "30044100",
         "Medicamentos que contenham efedrina ou seus sais, apresentados em doses (incluindo os destinados a serem administrados por via percutânea) ou acondicionados para venda a retalho",
         160
        ],
        [
         "94039090",
         "Partes para móveis, de outras matérias",
         160
        ],
        [
         "03025500",
         "Merluza-do-alasca (Theragra chalcogramma), fresca ou refrigerada",
         155
        ],
        [
         "08109017",
         "Tamarindos (Tamarindus indica)",
         154
        ],
        [
         "94052000",
         "Abajures de cabeceira, de escritório e lampadários de interior, elétricos",
         154
        ],
        [
         "07133490",
         "Feijão-bambara (Vigna subterranea ou Voandzeia subterranea), exceto para semeadura",
         150
        ],
        [
         "16041390",
         "Preparações e conservas, de sardinelas, espadilhas, inteiras ou em pedaços",
         149
        ],
        [
         "03074900",
         "Outras sépias (Chocos) (Chocos e chopos); lulas (potas e lulas)",
         147
        ],
        [
         "38255000",
         "Resíduos de soluções decapantes para metais, de fluidos hidráulicos, de fluidos para freios e de fluidos anticongelantes",
         136
        ],
        [
         "52041932",
         "Linhas para costurar, de algodão, não acondicionadas para venda a retalho, de algodão branqueado ou colorido, de título inferior ou igual a 5.000 decitex por fio simples, de três ou mais cabos",
         134
        ],
        [
         "01019000",
         "Animais espécie asinina/muar, exceto reprodutores de raça pura",
         131
        ],
        [
         "07095200",
         "Trufas frescas ou refrigeradas",
         130
        ],
        [
         "38140010",
         "Solventes e diluentes orgânicos compostos, não especificados nem compreendidos noutras posições; preparações concebidas para remover tintas ou vernizes, que contenham clorofluorcarbonetos do metano, do etano ou do propano (CFC), mesmo que contenham HCFC",
         129
        ],
        [
         "03071200",
         "Ostras, congeladas",
         127
        ],
        [
         "60024010",
         "Tecidos de malha de largura não superior a 30 cm, que contenham, em peso, 5 % ou mais de fios de elastômeros, mas que não contenham fios de borracha, exceto os da posição 60.01, de algodão",
         125
        ],
        [
         "94019090",
         "Partes para assentos, de outras matérias",
         124
        ],
        [
         "20092100",
         "Suco (sumo) de toranja e de pomelo, com valor Brix não superior a 20",
         123
        ],
        [
         "41019020",
         "Outros couros e peles, de bovino, incluindo dorsos, meios-dorsos e flancos, divididos, com o lado flor",
         120
        ],
        [
         "03038113",
         "Tubarão-azul em pedaços, com pele, congelado",
         120
        ],
        [
         "26201900",
         "Outras cinzas e resíduos contendo zinco",
         120
        ],
        [
         "03054300",
         "Truta defumada, mesmo em filés",
         120
        ],
        [
         "16055100",
         "Preparações e conservas, de ostras",
         119
        ],
        [
         "02091029",
         "Outras gorduras de porco",
         118
        ],
        [
         "10039090",
         "Outras cevadas, exceto em grão",
         118
        ],
        [
         "85393132",
         "Tubos com fósforo em halofosfato e que contenham mais de 10 mg de mercúrio",
         117
        ],
        [
         "03077900",
         "Ameijoas, berbigões e arcas (famílias Arcidae, Arcticidae, Cardiidae, Donacidae, Hiatellidae, Mactridae, Mesodesmatidae, Myidae, Semelidae, Solecurtidae, Solenidae, Tridacnidae e Veneridae), em outras formas",
         117
        ],
        [
         "03079200",
         "Outros moluscos, incluindo as farinhas, pós e pellets, próprios para alimentação humana, congelados",
         114
        ],
        [
         "07133311",
         "Feijão comum ((Phaseolus vulgaris), preto, seco, para semeadura",
         114
        ],
        [
         "52051400",
         "Fios de algodão simples, de fibras não penteadas, de título inferior a 192,31 decitex mas não inferior a 125 decitex (número métrico superior a 52 mas não superior a 80), não acondicionados para venda a retalho",
         110
        ],
        [
         "97011000",
         "Quadros, pinturas e desenhos, feitos inteiramente a mão",
         108
        ],
        [
         "30049091",
         "Medicamento contendo extrato de polen, em doses",
         108
        ],
        [
         "03045200",
         "Filé e outras carnes de salmonídeos, fresco ou refrigerado",
         106
        ],
        [
         "03057900",
         "Outros desperdicios comestiveis, de peixes",
         102
        ],
        [
         "12116000",
         "Casca de cerejeira africana (Prunus africana)",
         100
        ],
        [
         "97031000",
         "Produções originais de arte estatuária ou de escultura, de quaisquer matérias, com mais de 100 anos",
         100
        ],
        [
         "03028935",
         "Piaus (leporinus spp.), fresco ou refrigerado",
         100
        ],
        [
         "40121900",
         "Outros pneumáticos  recauchutados",
         88
        ],
        [
         "07134010",
         "Lentilhas secas, para semeadura",
         87
        ],
        [
         "60041091",
         "Tecidos de malha de largura superior a 30 cm, que contenham, em peso, 5 % ou mais de fios de elastômeros, mas que não contenham fios de borracha, exceto os da posição 60.01, de outras matérias têxteis, crus ou branqueados",
         87
        ],
        [
         "38089120",
         "Inseticidas apresentados de outro modo, contendo bromometano (brometo de metila) ou bromoclorometano",
         86
        ],
        [
         "08028000",
         "Nozes de areca (nozes de bétele), frescas ou secas",
         85
        ],
        [
         "44101992",
         "Outros painéis de madeiras recobertos na superfície com papel impregnado de melamina",
         83
        ],
        [
         "01039100",
         "Outros suínos vivos, de peso inferior a 50 kg",
         82
        ],
        [
         "60063130",
         "Outros tecidos de malha, de fibras sintéticas, crus ou branqueados, acrílicos ou modacrílicos",
         81
        ],
        [
         "03069990",
         "Outros crustáceos, incluindo as farinhas, pós e pellets de crustáceos, próprios para alimentação humana",
         81
        ],
        [
         "03028921",
         "Cherne-poveiro (Polypirion americanus), fresco ou refrigerado",
         80
        ],
        [
         "03075900",
         "Polvos (Octopus spp.) em outra forma que não vivos, frescos, refrigerados ou congelados",
         77
        ],
        [
         "27109120",
         "Outros resíduos de óleos que contenham terfenilas policloradas (PCT) ou bifenilas polibromadas (PBB), mesmo que também contenham bifenilas policloradas (PCB) numa concentração inferior a 50 mg/kg",
         77
        ],
        [
         "03035910",
         "Espadins, marlins, veleiros (Istiophoridae), congelados",
         75
        ],
        [
         "01059900",
         "Patos, gansos, perus, peruas e pintadas, vivos, de peso >185 g",
         73
        ],
        [
         "16052100",
         "Preparações e conservas de camarões, não acondicionados em recipientes hermeticamente fechados",
         72
        ],
        [
         "03038965",
         "Tambacu (hibrido de tambaqui e pacu), congelado, exceto filé, etc",
         70
        ],
        [
         "23066000",
         "\"Tortas e outros resíduos sólidos, de nozes ou de \"\"palmiste\"\"\"",
         68
        ],
        [
         "06031400",
         "Crisântemos e seus botões, cortados para buquês, ornamentais frescos",
         61
        ],
        [
         "88022022",
         "Aviões e outros veículos aéreos, de peso não superior a 2.000 kg, vazios, a turboélice, multimotores",
         60
        ],
        [
         "85359000",
         "Outros aparelhos para interrupção, etc, de circuitos elétricos, para uma tensão superior a 1.000 V",
         60
        ],
        [
         "12074010",
         "Sementes de gergelim, para semeadura",
         57
        ],
        [
         "43018000",
         "Peles com pelo em bruto, de outros animais, inteiras, com ou sem cabeça, cauda ou patas",
         55
        ],
        [
         "30049074",
         "Medicamento contendo ftalilsulfatiazol/bumetanida, etc, em doses",
         55
        ],
        [
         "27012000",
         "Briquetes, bolas em aglomerados, etc, obtidos da hulha",
         54
        ],
        [
         "04029100",
         "Outros leites, cremes de leite, concentrados, sem adição de açúcar ou de outros edulcorantes",
         53
        ],
        [
         "23063010",
         "Tortas, farinhas e pellets, de sementes de girassol",
         53
        ],
        [
         "09096220",
         "Sementes de badiana (anis-estrelado), trituradas ou em pó",
         52
        ],
        [
         "03054910",
         "Bacalhaus (gadus) defumados, mesmo em filés",
         51
        ],
        [
         "03028400",
         "Robalos (Dicentrarchus spp.), fresco ou refrigerado",
         50
        ],
        [
         "03028100",
         "Cação e outros tubarões, frescos ou refrigerados",
         50
        ],
        [
         "03028936",
         "Tainhas (mugil spp), fresco ou refrigerado",
         50
        ],
        [
         "03025100",
         "Bacalhau-do-Atlântico, da-Groelândia e do-Pacífico, fresco ou refrigerado",
         48
        ],
        [
         "15094000",
         "Outros azeites de oliva (oliveira) virgens",
         47
        ],
        [
         "52105910",
         "Tecidos de algodão que contenham menos de 85 %, em peso, de algodão, combinados,principal ou unicamente, com fibras sintéticas ou artificiais, peso < 200 g/m2, estampados,em ponto sarjado,incluindo o diagonal, cuja relação de textura não seja superior a 4",
         46
        ],
        [
         "03035500",
         "Chicharros (trachurus spp.), congelados",
         45
        ],
        [
         "35030011",
         "Gelatinas e seus derivados, de osseína, com grau de pureza superior ou igual a 99,98 %, em peso",
         41
        ],
        [
         "03069100",
         "Lagostas (Palinurus spp., Panulirus spp., Jasus spp.)",
         41
        ],
        [
         "85064090",
         "Outras pilhas e baterias de pilhas, de óxido de praa",
         40
        ],
        [
         "52041131",
         "Linhas para costurar, não acondicionadas para venda a retalho, que contenham pelo menos 85 %, em peso, de algodão, de algodão branqueado ou colorido, de título inferior ou igual a 5.000 decitex por fio simples, de dois cabos",
         39
        ],
        [
         "30049042",
         "Medicamento contendo atenolol/prilocaína, etc, em doses",
         37
        ],
        [
         "10081010",
         "Trigo mourisco para semeadura",
         37
        ],
        [
         "03049219",
         "Outros peixes marlongas-negras, frescos/refrigerados/congelados",
         36
        ],
        [
         "01013000",
         "Animais espécie asinina/muar, reprodutores de raça pura",
         36
        ],
        [
         "07144000",
         "Taros (Colocasia spp.)",
         35
        ],
        [
         "03027210",
         "Bagre (Ictalurus puntactus), fresco ou refrigerado",
         35
        ],
        [
         "03045500",
         "Filés de merluza negra e merluza antártica, fresco ou refrigerado",
         31
        ],
        [
         "07095400",
         "Shitake (Lentinus edodes), frescos ou refrigerados",
         31
        ],
        [
         "03028931",
         "Curimatas (prochilodus spp.), fresco ou refrigerado",
         30
        ],
        [
         "88032000",
         "Trens de aterrissagem e suas partes, para veículos aéreos, etc.",
         30
        ],
        [
         "02068000",
         "Miudezas comestíveis, de ovino, etc, frescas/refrigeradas",
         30
        ],
        [
         "29037712",
         "Diclorodifluorometano",
         29
        ],
        [
         "03036910",
         "Merluza rosada (Macruronus megellanicus), congelada",
         28
        ],
        [
         "38089319",
         "Outros herbicidas apresentados em formas ou embalagens exclusivamente para uso direto em aplicações domissanitárias",
         26
        ],
        [
         "03038961",
         "Piramutaba (Brachyplatystoma vaillantii), congelado, exceto  filés, outras carnes, etc",
         25
        ],
        [
         "03044300",
         "Filés de peixes chatos (pleuronectidae, soleidae, etc)",
         24
        ],
        [
         "48102210",
         "Papel cuchê leve (L.W.C. - lightweight coated), em tiras ou rolos de largura não superior a 15 cm ou em folhas em que nenhum lado exceda 360 mm, quando não dobradas",
         23
        ],
        [
         "44201000",
         "Estatuetas e outros objetos de ornamentação, de madeira",
         23
        ],
        [
         "41062190",
         "Outros couros e peles de caprinos, curtidos",
         23
        ],
        [
         "41033000",
         "Couros e peles, de suínos, em bruto",
         21
        ],
        [
         "12059090",
         "Outras sementes de nabo silvestre, exceto para semeadura",
         21
        ],
        [
         "97012200",
         "Mosaicos, feitos inteiramente à mão, com mais de 100 anos",
         21
        ],
        [
         "03063400",
         "Lagosta norueguesa (Lagostim) (Nephrops norvegicus), viva, frescos ou refrigerados",
         20
        ],
        [
         "01023990",
         "Outros búfalos",
         20
        ],
        [
         "38256100",
         "Resíduos das indústrias químicas contendo constituinte orgânico",
         20
        ],
        [
         "07145000",
         "Mangaritos (Xanthosomo spp.)",
         20
        ],
        [
         "03028924",
         "Peixes-rei (atherina spp.), fresco ou refrigerado",
         19
        ],
        [
         "60029010",
         "Outros tecidos de malha de algodão, largura <=30cm",
         18
        ],
        [
         "10085010",
         "Quinoa (Chenopodium quinoa), para semeadura",
         18
        ],
        [
         "20029090",
         "Outros tomates preparados ou conservados, exceto em vinagre ou em ácido acético",
         18
        ],
        [
         "85192000",
         "Aparelhos que funcionem por introdução de moedas, papéis-moeda, cartões de banco, fichas ou por outros meios de pagamento",
         18
        ],
        [
         "16041200",
         "Preparações e conservas, de arenques, inteiros ou em pedaços, exceto peixes picados:",
         17
        ],
        [
         "48025691",
         "Papel para impressão de papel-moeda, de peso igual ou superior a 40 g/m2, mas não superior a 150 g/m2, em folhas em que um lado não seja superior a 435 mm e o outro não seja superior a 297 mm, quando não dobradas",
         17
        ],
        [
         "53029000",
         "Cânhamo trabalhado de outra forma, mas não fiado, estopas, desperdícios",
         17
        ],
        [
         "07133910",
         "Outros feijões (Vigna ou Phaseolus), secos, para semeadura",
         15
        ],
        [
         "24029000",
         "Charutos, cigarrilhas e cigarros, de sucedâneos do tabaco",
         15
        ],
        [
         "03019190",
         "Outras trutas (Salmo trutta e Oncorhynchus), vivas",
         15
        ],
        [
         "51130020",
         "Tecidos de crina",
         14
        ],
        [
         "03011110",
         "Aruana (Osteoglossum bicirrhosum)",
         14
        ],
        [
         "01064900",
         "Outros insetos",
         14
        ],
        [
         "84733092",
         "Tela para microcomputadores portáteis, policromática",
         14
        ],
        [
         "03063300",
         "Caranguejos vivos, frescos ou refrigerados",
         13
        ],
        [
         "03063500",
         "Camarões de água fria (Pandalus spp., Crangon crangon), vivos, frescos ou refrigerados",
         13
        ],
        [
         "30039071",
         "Medicamento contendo terfenadina/talniflumato, etc, exceto em doses",
         12
        ],
        [
         "53011000",
         "Linho em bruto ou macerado",
         12
        ],
        [
         "30044920",
         "Pilocarpina, seu nitrato ou seu cloridrato, apresentados em doses (incluindo os destinados a serem administrados por via percutânea) ou acondicionados para venda a retalho",
         12
        ],
        [
         "58012100",
         "Veludos e pelúcias obtidos por trama, não cortados, de algodão",
         12
        ],
        [
         "23069010",
         "Tortas, resíduos, etc, de germe de milho",
         12
        ],
        [
         "85393913",
         "Tubos fluorescentes de cátodo frio ou de eletrodo externo, para telas eletrônicas, de comprimento superior a 1.500 mm e que contenham mais de 13 mg de mercúrio",
         11
        ],
        [
         "15091000",
         "Azeite de oliva, virgem",
         11
        ],
        [
         "16055900",
         "Preparações e conservas, de outros moluscos",
         10
        ],
        [
         "37025590",
         "Filmes para foto a cores, sensibilizado, não impressionado, de largura superior a 16 mm, mas não superior a 35 mm, e comprimento superior a 30 m, em rolos",
         10
        ],
        [
         "97030000",
         "Produções originais de arte estatuária ou de escultura, de quaisquer matérias",
         10
        ],
        [
         "07133510",
         "Feijão-fradinho (Vigna unguiculata), para semeadura",
         10
        ],
        [
         "03056100",
         "Arenques (Clupea harengus, Clupea pallasii) salgados, não secos, não defumados e em salmoura",
         9
        ],
        [
         "62081900",
         "Combinações e anáguas, de uso feminino, de outras matérias têxteis",
         9
        ],
        [
         "44124100",
         "Madeira microlaminada (microlamelada) colada (LVL), com, pelo menos, uma camada exterior de madeira tropical",
         9
        ],
        [
         "30039095",
         "Medicamento contendo propofol, busulfano, mitotano, exceto em doses",
         9
        ],
        [
         "03069400",
         "Lagosta norueguesa (Lagostim) (Nephrops norvegicus)",
         8
        ],
        [
         "29353000",
         "N-Etil-N-(2-hidroxietil)perfluoroctano sulfonamida",
         8
        ],
        [
         "30039014",
         "Medicamento contendo vitamina a1 (retinol), etc, exceto em doses",
         8
        ],
        [
         "29037790",
         "Outros derivados peralogenados dos hidrocarbonetos acíclicos, com fluor e bromo",
         7
        ],
        [
         "38253000",
         "Resíduos clínicos",
         7
        ],
        [
         "84717012",
         "Unidades de discos magnéticos, para discos rígidos",
         7
        ],
        [
         "03029190",
         "Outros fígados, ovas e gônadas masculinas, frescos ou refrigerados",
         6
        ],
        [
         "71021000",
         "Diamantes, mesmo trabalhados, mas não montados nem engastados, não selecionados",
         6
        ],
        [
         "03032600",
         "Enguias congeladas (anguilla spp.), congeladas",
         6
        ],
        [
         "25102090",
         "Fosfatos aluminocálcicos, naturais, cré fosfatado, moídos",
         6
        ],
        [
         "85063010",
         "Pilhas e baterias de pilhas, de óxido de mercúrio, com volume exterior não superior a 300 cm3",
         6
        ],
        [
         "38089331",
         "Inibidores de germinação, que contenham bromometano (brometo de metila) ou bromoclorometano",
         6
        ],
        [
         "38089194",
         "Inseticida à base de dissulfoton ou de endossulfan, apresentado de outro modo",
         6
        ],
        [
         "84762900",
         "Outras máquinas automáticas de venda de bebidas",
         6
        ],
        [
         "16056100",
         "Preparações e conservas, de pepinos-do-mar",
         6
        ],
        [
         "23063090",
         "Outros resíduos sólidos, do girassol",
         5
        ],
        [
         "91112010",
         "Caixas para relógios de metais comuns, mesmo dourados ou prateados, de latão, em esboço",
         5
        ],
        [
         "44011100",
         "Lenha em qualquer forma, de coníferas",
         5
        ],
        [
         "08092100",
         "Cerejas-ácidas (Prunus cerasus), frescas",
         5
        ],
        [
         "22042920",
         "Mostos",
         5
        ],
        [
         "38140020",
         "Solventes e diluentes orgânicos compostos, não especificados nem compreendidos noutras posições; preparações concebidas para remover tintas ou vernizes, que contenham HCFC, mas que não contenham CFC",
         5
        ],
        [
         "34021190",
         "Outros agentes orgânicos de superfície, aniônicos",
         5
        ],
        [
         "30049075",
         "Medicamento contendo enantato de flufenazina, etc, em doses",
         4
        ],
        [
         "30039057",
         "Medicamento contendo clorexidina/seus sais, etc, exceto em doses",
         4
        ],
        [
         "90189061",
         "Aparelhos para medida da pressão arterial que contenham mercúrio",
         4
        ],
        [
         "12040010",
         "Sementes de linho (linhaça) para semeadura",
         4
        ],
        [
         "90251111",
         "Termômetros clínicos que contenham mercúrio",
         4
        ],
        [
         "51130012",
         "Tecidos de pelos grosseiros, que contenham menos de 85 %, em peso, de pelos grosseiros e que contenham algodão",
         4
        ],
        [
         "45011000",
         "Cortiça natural, em bruto ou simplesmente preparada",
         4
        ],
        [
         "13021400",
         "Sucos e extratos, de piretro ou de raízes com rotenona",
         3
        ],
        [
         "02085000",
         "Carnes de répteis, congeladas, frescas, refrigeradas",
         3
        ],
        [
         "39239000",
         "Outros artigos de transporte ou de embalagem, de plásticos",
         3
        ],
        [
         "01064100",
         "Abelhas",
         2
        ],
        [
         "26201100",
         "Mates de galvanização (contendo zinco)",
         2
        ],
        [
         "03081900",
         "Pepinos-do-mar (Stichopus japonicus, Holothurioidea), em outras formas",
         2
        ],
        [
         "30033929",
         "Medicamento contendo outros hormônios polipeptídicos, etc, exceto em doses",
         2
        ],
        [
         "85491100",
         "Desperdícios/resíduos de acumuladores elétricos de chumbo, etc",
         2
        ],
        [
         "38248900",
         "Mercadorias mencionadas na Nota de subposições 3 do presente Capítulo, que contenham parafinas cloradas de cadeia curta",
         2
        ],
        [
         "29035990",
         "Outros derivados halogenados dos hidrocarbonetos ciclânicos, etc.",
         2
        ],
        [
         "85491200",
         "Outros desperdícios e resíduos, e sucata, de pilhas, de baterias de pilhas e de acumuladores, elétricos, que contenham chumbo, cádmio ou mercúrio",
         2
        ],
        [
         "30039012",
         "Medicamento contendo ácido nicotínico, etc, exceto em doses",
         2
        ],
        [
         "85409120",
         "Núcleos de pó ferromagnético para bobinas de deflexão (yokes)",
         2
        ],
        [
         "30049033",
         "Medicamento contendo clembuterol ou seu cloridrato, em doses",
         1
        ],
        [
         "30049057",
         "Medicamento contendo carbocisteína ou sulfiram, em doses",
         1
        ],
        [
         "84451910",
         "Máquinas para preparação da seda",
         1
        ],
        [
         "90283029",
         "Outros contadores bifásicos de eletricidade",
         1
        ],
        [
         "07095300",
         "Cogumelos do gênero Cantharellus",
         1
        ],
        [
         "37069000",
         "Outros filmes cinematográficos impressos e revelados",
         1
        ],
        [
         "44185000",
         "Fasquias para telhados (shingles e shakes), de madeira",
         1
        ],
        [
         "52041920",
         "Outras linhas para costurar, de algodão cru, de título inferior ou igual a 5.000 decitex por fio simples",
         1
        ],
        [
         "03052010",
         "Ovas de tainhas (Mugil spp.) de peixes, secos, defumados, etc.",
         1
        ],
        [
         "87043230",
         "Veículos automóveis frigoríficos, etc, com motor a explosão, carga > 5 toneladas",
         1
        ],
        [
         "48024010",
         "Papel próprio para fabricação de papéis de parede, em tiras ou rolos de largura não superior a 15 cm",
         1
        ],
        [
         "09082100",
         "Macis, não triturado nem em pó",
         1
        ],
        [
         "86039000",
         "Outras litorinas, mesmo para circulação urbana, exceto as da posição 86.04",
         1
        ],
        [
         "30032079",
         "Medicamento contendo polipeptídios/outros derivados, exceto em doses",
         1
        ],
        [
         "85211081",
         "\"Aparelhos videofônicos de gravação ou de reprodução, em cassete, de largura de fita igual a 12,65 mm (1/2\"\")\"",
         1
        ],
        [
         "58030010",
         "Tecidos em ponto de gaze, exceto os artefatos da posição 58.06, de algodão",
         1
        ],
        [
         "41062110",
         "Couros e peles, depilados, de caprinos, no estado úmido (incluindo wet-blue), com pré-curtimenta vegetal",
         1
        ],
        [
         "84717021",
         "Unidades de discos ópticos, para leitura de dados",
         1
        ],
        [
         "85258012",
         "Câmeras de televisão, com sensor de imagem a semicondutor tipo CCD, de mais de 490 x 580 elementos de imagem (pixels) ativos, sensíveis a intensidades de iluminação inferiores a 0,20 lux",
         1
        ],
        [
         "04022920",
         "Leite parcialmente desnatado, em pó, com um teor, em peso, de matérias gordas, superior a 1,5 %, adocicado",
         1
        ],
        [
         "30044940",
         "Codeína ou seus sais, apresentados em doses (incluindo os destinados a serem administrados por via percutânea) ou acondicionados para venda a retalho",
         0
        ],
        [
         "30039074",
         "Medicamento contendo triazolam/alprazolam, etc, exceto em doses",
         0
        ],
        [
         "30039086",
         "Medicamento contendo furosemida/clortalidona, etc, exceto em doses",
         0
        ],
        [
         "30032061",
         "Medicamento contendo sulfato de gentamicina, exceto em doses",
         0
        ],
        [
         "71023100",
         "Diamantes não industriais, em bruto ou simplesmente serrados, clivados ou desbastados",
         0
        ],
        [
         "29396911",
         "Maleato de metilergometrina",
         0
        ],
        [
         "53071090",
         "Fios de outras fibras têxteis liberianas, simples",
         0
        ],
        [
         "30032031",
         "Medicamento contendo rifamicina sv sódica, exceto em doses",
         0
        ],
        [
         "30039045",
         "Medicamento contendo levodopa/alfa-metildopa, exceto em doses",
         0
        ],
        [
         "30032049",
         "Medicamento contendo lincosamidas/outs.derivs.exceto em doses",
         0
        ],
        [
         "62011300",
         "Sobretudos, impermeáveis, japonas, gabões, capas e semelhantes, de uso masculino, de fibras sintéticas ou artificiais",
         0
        ],
        [
         "38249914",
         "Senduramicina sódica, da fabricação da senduramicina",
         0
        ],
        [
         "74199990",
         "Aparelhos para cozinhar/aquecer, de cobre, não elétrico, uso doméstico",
         0
        ],
        [
         "28433010",
         "Sulfeto de ouro em dispersão de gelatina",
         0
        ],
        [
         "30021900",
         "Outros antissoros, outras frações do sangue e produtos imunológicos, mesmo modificados ou obtidos por via biotecnológica",
         0
        ]
       ],
       "datasetInfos": [],
       "dbfsResultPath": null,
       "isJsonSchema": true,
       "metadata": {},
       "overflow": false,
       "plotOptions": {
        "customPlotOptions": {},
        "displayType": "table",
        "pivotAggregation": null,
        "pivotColumns": null,
        "xColumns": null,
        "yColumns": null
       },
       "removedWidgets": [],
       "schema": [
        {
         "metadata": "{}",
         "name": "CO_NCM",
         "type": "\"string\""
        },
        {
         "metadata": "{}",
         "name": "NO_NCM_POR",
         "type": "\"string\""
        },
        {
         "metadata": "{}",
         "name": "SUM_KG",
         "type": "\"long\""
        }
       ],
       "type": "table"
      }
     },
     "output_type": "display_data"
    }
   ],
   "source": [
    "%sql\n",
    "--Produtos que são apenas exportados\n",
    "\n",
    "SELECT DISTINCT\n",
    "    exp.CO_NCM,\n",
    "    exp.NO_NCM_POR,\n",
    "    sum(exp.KG_LIQUIDO) AS SUM_KG\n",
    "FROM\n",
    "    gold.BD_exportacao exp\n",
    "WHERE\n",
    "    exp.CO_NCM NOT IN (SELECT DISTINCT imp.CO_NCM FROM gold.BD_importacao imp)\n",
    "GROUP BY ALL\n",
    "ORDER BY SUM_KG DESC;"
   ]
  },
  {
   "cell_type": "code",
   "execution_count": 0,
   "metadata": {
    "application/vnd.databricks.v1+cell": {
     "cellMetadata": {
      "byteLimit": 2048000,
      "implicitDf": true,
      "rowLimit": 10000
     },
     "inputWidgets": {},
     "nuid": "6833924e-5f0d-4882-9d9d-9926965f0993",
     "showTitle": true,
     "tableResultSettingsMap": {},
     "title": "Top 10 países com a balança comercial positiva"
    }
   },
   "outputs": [
    {
     "output_type": "display_data",
     "data": {
      "text/html": [
       "<style scoped>\n",
       "  .table-result-container {\n",
       "    max-height: 300px;\n",
       "    overflow: auto;\n",
       "  }\n",
       "  table, th, td {\n",
       "    border: 1px solid black;\n",
       "    border-collapse: collapse;\n",
       "  }\n",
       "  th, td {\n",
       "    padding: 5px;\n",
       "  }\n",
       "  th {\n",
       "    text-align: left;\n",
       "  }\n",
       "</style><div class='table-result-container'><table class='table-result'><thead style='background-color: white'><tr><th>pais</th><th>balanca_comercial</th></tr></thead><tbody><tr><td>China</td><td>25122029554</td></tr><tr><td>Países Baixos (Holanda)</td><td>9321488371</td></tr><tr><td>Singapura</td><td>7034383689</td></tr><tr><td>Espanha</td><td>5800339755</td></tr><tr><td>Emirados Árabes Unidos</td><td>3607384124</td></tr><tr><td>Canadá</td><td>3292555651</td></tr><tr><td>Irã</td><td>2991704759</td></tr><tr><td>Egito</td><td>2958357679</td></tr><tr><td>Malásia</td><td>2646641201</td></tr><tr><td>Turquia</td><td>2461469149</td></tr></tbody></table></div>"
      ]
     },
     "metadata": {
      "application/vnd.databricks.v1+output": {
       "addedWidgets": {},
       "aggData": [],
       "aggError": "",
       "aggOverflow": false,
       "aggSchema": [],
       "aggSeriesLimitReached": false,
       "aggType": "",
       "arguments": {},
       "columnCustomDisplayInfos": {},
       "data": [
        [
         "China",
         25122029554
        ],
        [
         "Países Baixos (Holanda)",
         9321488371
        ],
        [
         "Singapura",
         7034383689
        ],
        [
         "Espanha",
         5800339755
        ],
        [
         "Emirados Árabes Unidos",
         3607384124
        ],
        [
         "Canadá",
         3292555651
        ],
        [
         "Irã",
         2991704759
        ],
        [
         "Egito",
         2958357679
        ],
        [
         "Malásia",
         2646641201
        ],
        [
         "Turquia",
         2461469149
        ]
       ],
       "datasetInfos": [],
       "dbfsResultPath": null,
       "isJsonSchema": true,
       "metadata": {},
       "overflow": false,
       "plotOptions": {
        "customPlotOptions": {},
        "displayType": "table",
        "pivotAggregation": null,
        "pivotColumns": null,
        "xColumns": null,
        "yColumns": null
       },
       "removedWidgets": [],
       "schema": [
        {
         "metadata": "{}",
         "name": "pais",
         "type": "\"string\""
        },
        {
         "metadata": "{}",
         "name": "balanca_comercial",
         "type": "\"long\""
        }
       ],
       "type": "table"
      }
     },
     "output_type": "display_data"
    }
   ],
   "source": [
    "%sql\n",
    "--Top 10 países com a balança comercial positiva\n",
    "\n",
    "SELECT\n",
    "    COALESCE(imp_mensal.NO_PAIS, exp_mensal.NO_PAIS) AS pais,\n",
    "    COALESCE(exp_mensal.total_exportado, 0) - COALESCE(imp_mensal.total_importado, 0) AS balanca_comercial\n",
    "FROM\n",
    "    (SELECT NO_PAIS, SUM(VL_CIF) AS total_importado FROM gold.BD_importacao GROUP BY 1) AS imp_mensal\n",
    "FULL OUTER JOIN\n",
    "    (SELECT NO_PAIS, SUM(VL_FOB) AS total_exportado FROM gold.BD_exportacao GROUP BY 1) AS exp_mensal\n",
    "ON imp_mensal.NO_PAIS = exp_mensal.NO_PAIS\n",
    "ORDER BY balanca_comercial DESC\n",
    "LIMIT 10;"
   ]
  },
  {
   "cell_type": "code",
   "execution_count": 0,
   "metadata": {
    "application/vnd.databricks.v1+cell": {
     "cellMetadata": {
      "byteLimit": 2048000,
      "implicitDf": true,
      "rowLimit": 10000
     },
     "inputWidgets": {},
     "nuid": "f730de5a-861c-4d11-962b-303811402ebe",
     "showTitle": true,
     "tableResultSettingsMap": {},
     "title": "Top 10 países com a balança comercial negativa"
    }
   },
   "outputs": [
    {
     "output_type": "display_data",
     "data": {
      "text/html": [
       "<style scoped>\n",
       "  .table-result-container {\n",
       "    max-height: 300px;\n",
       "    overflow: auto;\n",
       "  }\n",
       "  table, th, td {\n",
       "    border: 1px solid black;\n",
       "    border-collapse: collapse;\n",
       "  }\n",
       "  th, td {\n",
       "    padding: 5px;\n",
       "  }\n",
       "  th {\n",
       "    text-align: left;\n",
       "  }\n",
       "</style><div class='table-result-container'><table class='table-result'><thead style='background-color: white'><tr><th>pais</th><th>balanca_comercial</th></tr></thead><tbody><tr><td>Rússia</td><td>-10758580216</td></tr><tr><td>Alemanha</td><td>-8343449945</td></tr><tr><td>França</td><td>-3356428378</td></tr><tr><td>Itália</td><td>-2128737721</td></tr><tr><td>Estados Unidos</td><td>-2115046757</td></tr><tr><td>Índia</td><td>-1994021013</td></tr><tr><td>Suíça</td><td>-1824293109</td></tr><tr><td>Suécia</td><td>-1566769512</td></tr><tr><td>Áustria</td><td>-1370061630</td></tr><tr><td>Dinamarca</td><td>-1174694140</td></tr></tbody></table></div>"
      ]
     },
     "metadata": {
      "application/vnd.databricks.v1+output": {
       "addedWidgets": {},
       "aggData": [],
       "aggError": "",
       "aggOverflow": false,
       "aggSchema": [],
       "aggSeriesLimitReached": false,
       "aggType": "",
       "arguments": {},
       "columnCustomDisplayInfos": {},
       "data": [
        [
         "Rússia",
         -10758580216
        ],
        [
         "Alemanha",
         -8343449945
        ],
        [
         "França",
         -3356428378
        ],
        [
         "Itália",
         -2128737721
        ],
        [
         "Estados Unidos",
         -2115046757
        ],
        [
         "Índia",
         -1994021013
        ],
        [
         "Suíça",
         -1824293109
        ],
        [
         "Suécia",
         -1566769512
        ],
        [
         "Áustria",
         -1370061630
        ],
        [
         "Dinamarca",
         -1174694140
        ]
       ],
       "datasetInfos": [],
       "dbfsResultPath": null,
       "isJsonSchema": true,
       "metadata": {},
       "overflow": false,
       "plotOptions": {
        "customPlotOptions": {},
        "displayType": "table",
        "pivotAggregation": null,
        "pivotColumns": null,
        "xColumns": null,
        "yColumns": null
       },
       "removedWidgets": [],
       "schema": [
        {
         "metadata": "{}",
         "name": "pais",
         "type": "\"string\""
        },
        {
         "metadata": "{}",
         "name": "balanca_comercial",
         "type": "\"long\""
        }
       ],
       "type": "table"
      }
     },
     "output_type": "display_data"
    }
   ],
   "source": [
    "%sql\n",
    "--Top 10 países com a balança comercial negativa\n",
    "\n",
    "SELECT\n",
    "    COALESCE(imp_mensal.NO_PAIS, exp_mensal.NO_PAIS) AS pais,\n",
    "    COALESCE(exp_mensal.total_exportado, 0) - COALESCE(imp_mensal.total_importado, 0) AS balanca_comercial\n",
    "FROM\n",
    "    (SELECT NO_PAIS, SUM(VL_CIF) AS total_importado FROM gold.BD_importacao GROUP BY 1) AS imp_mensal\n",
    "FULL OUTER JOIN\n",
    "    (SELECT NO_PAIS, SUM(VL_FOB) AS total_exportado FROM gold.BD_exportacao GROUP BY 1) AS exp_mensal\n",
    "ON imp_mensal.NO_PAIS = exp_mensal.NO_PAIS\n",
    "ORDER BY balanca_comercial ASC\n",
    "LIMIT 10;"
   ]
  },
  {
   "cell_type": "code",
   "execution_count": 0,
   "metadata": {
    "application/vnd.databricks.v1+cell": {
     "cellMetadata": {
      "byteLimit": 2048000,
      "implicitDf": true,
      "rowLimit": 10000
     },
     "inputWidgets": {},
     "nuid": "8aa87f6c-be9e-4b9f-b555-dd6ce55c5c94",
     "showTitle": true,
     "tableResultSettingsMap": {},
     "title": "Produtos importados do país com maior deficit"
    }
   },
   "outputs": [
    {
     "output_type": "display_data",
     "data": {
      "text/html": [
       "<style scoped>\n",
       "  .table-result-container {\n",
       "    max-height: 300px;\n",
       "    overflow: auto;\n",
       "  }\n",
       "  table, th, td {\n",
       "    border: 1px solid black;\n",
       "    border-collapse: collapse;\n",
       "  }\n",
       "  th, td {\n",
       "    padding: 5px;\n",
       "  }\n",
       "  th {\n",
       "    text-align: left;\n",
       "  }\n",
       "</style><div class='table-result-container'><table class='table-result'><thead style='background-color: white'><tr><th>produto</th><th>valor_total_importado</th><th>kg_total_importado</th></tr></thead><tbody><tr><td>Gasóleo (óleo diesel)</td><td>5968345995</td><td>7871058421</td></tr><tr><td>Outros cloretos de potássio</td><td>1597389991</td><td>5411140069</td></tr><tr><td>Diidrogeno-ortofosfato de amônio (fosfato monoamônico ou monoamoniacal), mesmo misturado com hidrogeno-ortofosfato de diamônio (fosfato diamônico ou diamoniacal)</td><td>1338096754</td><td>2233706359</td></tr><tr><td>Ureia, mesmo em solução aquosa, com teor de nitrogênio (azoto) superior a 45 %, em peso, calculado sobre o produto anidro no estado seco</td><td>550087825</td><td>1506625105</td></tr><tr><td>Outras naftas, exceto para petroquímica</td><td>489344805</td><td>634824391</td></tr><tr><td>Outras gasolinas, exceto para aviação</td><td>435523910</td><td>587096620</td></tr><tr><td>Outros produtos semimanufaturados de ferro ou aço não ligado, de seção transversal retangular, que contenham, em peso, menos de 0,25 % de carbono</td><td>364253648</td><td>664943380</td></tr><tr><td>Adubos (fertilizantes) minerais ou químicos, que contenham os três elementos fertilizantes: nitrogênio (azoto), fósforo e potássio</td><td>315201699</td><td>908380175</td></tr><tr><td>Nitrato de amônio, mesmo em solução aquosa</td><td>272432306</td><td>1076513675</td></tr><tr><td>Outros trigos e misturas de trigo com centeio, exceto para semeadura</td><td>188087450</td><td>711577536</td></tr></tbody></table></div>"
      ]
     },
     "metadata": {
      "application/vnd.databricks.v1+output": {
       "addedWidgets": {},
       "aggData": [],
       "aggError": "",
       "aggOverflow": false,
       "aggSchema": [],
       "aggSeriesLimitReached": false,
       "aggType": "",
       "arguments": {},
       "columnCustomDisplayInfos": {},
       "data": [
        [
         "Gasóleo (óleo diesel)",
         5968345995,
         7871058421
        ],
        [
         "Outros cloretos de potássio",
         1597389991,
         5411140069
        ],
        [
         "Diidrogeno-ortofosfato de amônio (fosfato monoamônico ou monoamoniacal), mesmo misturado com hidrogeno-ortofosfato de diamônio (fosfato diamônico ou diamoniacal)",
         1338096754,
         2233706359
        ],
        [
         "Ureia, mesmo em solução aquosa, com teor de nitrogênio (azoto) superior a 45 %, em peso, calculado sobre o produto anidro no estado seco",
         550087825,
         1506625105
        ],
        [
         "Outras naftas, exceto para petroquímica",
         489344805,
         634824391
        ],
        [
         "Outras gasolinas, exceto para aviação",
         435523910,
         587096620
        ],
        [
         "Outros produtos semimanufaturados de ferro ou aço não ligado, de seção transversal retangular, que contenham, em peso, menos de 0,25 % de carbono",
         364253648,
         664943380
        ],
        [
         "Adubos (fertilizantes) minerais ou químicos, que contenham os três elementos fertilizantes: nitrogênio (azoto), fósforo e potássio",
         315201699,
         908380175
        ],
        [
         "Nitrato de amônio, mesmo em solução aquosa",
         272432306,
         1076513675
        ],
        [
         "Outros trigos e misturas de trigo com centeio, exceto para semeadura",
         188087450,
         711577536
        ]
       ],
       "datasetInfos": [],
       "dbfsResultPath": null,
       "isJsonSchema": true,
       "metadata": {},
       "overflow": false,
       "plotOptions": {
        "customPlotOptions": {},
        "displayType": "table",
        "pivotAggregation": null,
        "pivotColumns": null,
        "xColumns": null,
        "yColumns": null
       },
       "removedWidgets": [],
       "schema": [
        {
         "metadata": "{}",
         "name": "produto",
         "type": "\"string\""
        },
        {
         "metadata": "{}",
         "name": "valor_total_importado",
         "type": "\"long\""
        },
        {
         "metadata": "{}",
         "name": "kg_total_importado",
         "type": "\"long\""
        }
       ],
       "type": "table"
      }
     },
     "output_type": "display_data"
    }
   ],
   "source": [
    "%sql\n",
    "--Produtos importados do país com maior deficit\n",
    "\n",
    "SELECT\n",
    "    NO_NCM_POR AS produto,\n",
    "    SUM(VL_CIF) AS valor_total_importado,\n",
    "    SUM(KG_LIQUIDO) AS kg_total_importado\n",
    "FROM gold.BD_importacao\n",
    "WHERE NO_PAIS = \"Rússia\"\n",
    "GROUP BY NO_NCM_POR\n",
    "ORDER BY valor_total_importado DESC\n",
    "LIMIT 10;"
   ]
  }
 ],
 "metadata": {
  "application/vnd.databricks.v1+notebook": {
   "computePreferences": null,
   "dashboards": [],
   "environmentMetadata": null,
   "inputWidgetPreferences": null,
   "language": "python",
   "notebookMetadata": {
    "mostRecentlyExecutedCommandWithImplicitDF": {
     "commandId": 1463932168416110,
     "dataframes": [
      "_sqldf"
     ]
    },
    "pythonIndentUnit": 4
   },
   "notebookName": "Codigo MVP Engenharia de dados",
   "widgets": {}
  }
 },
 "nbformat": 4,
 "nbformat_minor": 0
}